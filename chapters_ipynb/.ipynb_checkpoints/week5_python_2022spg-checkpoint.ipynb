{
 "cells": [
  {
   "cell_type": "markdown",
   "metadata": {},
   "source": [
    "# Lesson 5: Fitting models to data"
   ]
  },
  {
   "cell_type": "markdown",
   "metadata": {},
   "source": [
    "## Recap\n",
    "\n",
    "We're way past the point of no return in becoming meaningful users of computers!  Just check out this non-exhaustive list of basic skills that we've covered:\n",
    "- basic mathematical operations\n",
    "- iteration and recursion with loop control structures `for` and `while`\n",
    "- keeping track of variables outside of loops (i.e., counting and summing)\n",
    "- function definition and using functions *inside* of loops\n",
    "- conditionals with `if`, `else`, and `elif`\n",
    "- types: `int`, `float`, `string`\n",
    "- containers such as `list` and `dict`\n",
    "- randm number generation\n",
    "- accessing and iterating over elements in lists and dicts\n",
    "- file I/O\n",
    "- basic (and semi-advanced) data visualization: histograms, scatter plots, higher-dimensions in 2-d\n",
    "\n",
    "**Wow**, that's a LOT of stuff.  \n",
    "\n",
    "***\n",
    "\n",
    "## Motivation\n",
    "\n",
    "In this lesson we'll cover an extremely powerful and potentially opaque tool: curve fitting.  Before we look at how it works, let's consider some applications.\n",
    "\n",
    "- Measurement of the temperature of the cosmic microwave background (CMB) radiation by COBE, evidence for the Big Bang.  [Nice description here, fit is in the middle of the page](https://www.astro.ucla.edu/~wright/CMB.html#:~:text=The%20CMB%20has%20the%20spectrum,opaque%20and%20non%2Dreflective%20object.)\n",
    "- Hubble's diagram, more evidence of the Big Bang (ca. 1929)!  [Nice article here with modern measurements.](https://www.pnas.org/doi/10.1073/pnas.2536799100#fig3)\n",
    "- Discovery of the Higgs Boson by CMS and ATLAS experiments (2012).  [Nice description here.](http://scholarpedia.org/article/The_Higgs_Boson_discovery)  [High-res graphs with fits here.](http://www.scholarpedia.org/article/File:Fig_10_ATLAS_CMS_gg_combined.png)\n",
    "- White House CEA modeling predicts Covid-19 deaths go to 0 by 15 May 2020.  [Source.](https://twitter.com/WhiteHouseCEA45/status/1257680258364555264?ref_src=twsrc%5Etfw%7Ctwcamp%5Etweetembed%7Ctwterm%5E1257680258364555264%7Ctwgr%5E%7Ctwcon%5Es1_&ref_url=https%3A%2F%2Fwww.vox.com%2F2020%2F5%2F8%2F21250641%2Fkevin-hassett-cubic-model-smoothing)  [Business Insider commentary.](https://www.businessinsider.com/trump-advisor-kevin-hassett-excel-function-cubic-model-coronavirus-2020-5)  [Vox commentary.](https://www.vox.com/2020/5/8/21250641/kevin-hassett-cubic-model-smoothing)"
   ]
  },
  {
   "cell_type": "markdown",
   "metadata": {},
   "source": [
    "* * *\n",
    "\n",
    "## Fitting/model optimization as an idea\n",
    "\n",
    "In Lesson 4 we discussed how data visualization can help help us to turn data into understanding.  \"Understanding\" in this sense means something like a *qualitative understanding* of the data.  \n",
    "\n",
    "Today, we'll look at a method for turning data into quantitative results: fitting functions to data, sometimes called \"model optimization\".  This is an indispensible skill/technique in the physical sciences, and it's something that you've probably done many times using Excel or Logger Pro.  \n",
    "\n",
    "Here is the basic idea: Often in the physical sciences, we have data that we believe should be described by some quantitative model.  For example, the data might be vertical position *vs* time measurements for a projectile, and we might assume that this data is described by one of the kinematic equations: \n",
    "\n",
    "$$\n",
    "  y(t) = \\frac{1}{2}a_{y}\\;t^2 + v_{0y}\\;t + y_0\n",
    "$$ \n",
    "\n",
    "This function is our *model* and it is typically the consequence of some underlying physical law (in this case, N2L).  The goal of *fitting the model to the data* is to determine the values of the physical parameters in the model that make the model *best characterize the data*.  For the kinematic model above, this means determining the optimal values of $a_y$, $v_{0y}$, and $y_0$.  We call these the \"fit parameters\" because they are the quantities that we will vary in order to fit the model to the data.  \n",
    "\n",
    "When we fit the model to the data, we should get optimal values for the fit parameters and their associated uncertainties.  These are the derived measurements of physical quanties -- the results of our analysis!  If we continue with the projectile example, these results might include a measurement of the local acceleration due to gravity (and associated uncertainty).\n",
    "\n",
    "If you've done fitting in Excel or LoggerPro, you know that there's a toolkit for doing this that proves a handfull of functions/models that the software is decent at fitting -- these are functions like polynomials, exponentials, *etc.*  These tools built into Excel are pretty weak, though.  What if we need a function that Excel doesn't offer?  What the heck does $R^2$ mean?  What if my data has non-uniform uncertainties?  How do I know the uncertainty on the fit parameter values?\n",
    "\n",
    "Python (and other languages) have modules or libraries that do fitting, as well.  These modules are *much* more powerful and general than what you'll find in Excel, but this power comes at the cost of having to learn some new syntax and concepts. \n",
    "\n",
    "***"
   ]
  },
  {
   "cell_type": "markdown",
   "metadata": {},
   "source": [
    "## Fitting bivariate data, the basics\n",
    "\n",
    "Let's get started with the simplest meaningful fitting exercise: fitting a linear model to bivariate data.  The file `spring_stretch.csv` contains stretch distance ($x$) and spring force ($F$) data for the stretching of a spring.  We want to use this data to measure the spring constant.  For a spring that obeys Hooke's Law, the two variables are related by \n",
    "\n",
    "$$\n",
    "  F_x = k x\n",
    "$$ \n",
    "\n",
    "where $k$ is the spring constant.  Let's look at the data first:"
   ]
  },
  {
   "cell_type": "code",
   "execution_count": 18,
   "metadata": {},
   "outputs": [
    {
     "data": {
      "image/png": "[encoded data removed]",
      "text/plain": [
       "<Figure size 648x288 with 1 Axes>"
      ]
     },
     "metadata": {
      "needs_background": "light"
     },
     "output_type": "display_data"
    }
   ],
   "source": [
    "# from rich import print # if you're able to install rich, I recommend doing so!\n",
    "import numpy as np\n",
    "import matplotlib.pyplot as plt\n",
    "fil = open('data_files/spring_stretch.csv','r')\n",
    "xs, fs, = [], []\n",
    "\n",
    "lin = fil.readline()\n",
    "lin = fil.readline()\n",
    "while len(lin) > 1:\n",
    "    lin_arr = lin.split(',')\n",
    "    xs.append(float(lin_arr[0]))\n",
    "    fs.append(float(lin_arr[1]))\n",
    "    lin = fil.readline()\n",
    "fil.close()\n",
    "\n",
    "fig = plt.figure(figsize=(9,4))\n",
    "plt.plot(xs, fs, 'o')\n",
    "plt.xlabel('stretch (cm)')\n",
    "plt.ylabel('spring force (N)')\n",
    "plt.title('stretching a spring')\n",
    "plt.show()"
   ]
  },
  {
   "cell_type": "markdown",
   "metadata": {},
   "source": [
    "Ok, looks great.  Except for the point at $x \\approx 7.0$ cm, the data certainly *look* like they follow a linear trend.  We should expect that our linear model will work.  We now endeavour to fit a model to this data.  We first define a function that corresponds to our model:"
   ]
  },
  {
   "cell_type": "code",
   "execution_count": 2,
   "metadata": {},
   "outputs": [],
   "source": [
    "def linear_function(x, m, b):\n",
    "    return m * x + b"
   ]
  },
  {
   "cell_type": "markdown",
   "metadata": {},
   "source": [
    "Notice that the arguments of this function include both the independent variable ($x$) and the slope ($m$) and intercept ($b$).  We have to make the latter two arguments becuase the fitting code will **vary** their values and determine how the function changes (so they're variables in a way).\n",
    "\n",
    "The `scipy` (scientific python) `optimize` module contains the `curve_fit` function that we will use to... ya know, fit the curve to the data:"
   ]
  },
  {
   "cell_type": "code",
   "execution_count": 3,
   "metadata": {},
   "outputs": [],
   "source": [
    "from scipy.optimize import curve_fit\n",
    "\n",
    "spring_popt, pcov = curve_fit(linear_function, xs, fs, p0 = [3.4, 0])"
   ]
  },
  {
   "cell_type": "markdown",
   "metadata": {},
   "source": [
    "That's basically all there is to it!  The first three arguments of `curve_fit` are the function that we want to optimize and the two lists containing the data (independent and dependent variables).  The last argument, `p0`, is a set of initial guesses of the fit parameter values.  Our function has two fit parameters ($m$, $b$), so I supply a list of two values.  These values give `curve_fit` somewhere to begin its fitting process.  For simple models like this, the initial parameter values aren't super important, but for more complicated models/data, tuning these parameters can make or break the fit.\n",
    "\n",
    "When we call `curve_fit` it produces outputs -- I've stored these as `spring_popt` and `pcov`.  As such, `spring_popt` is a list of the **optimal parameter values**, *i.e.* the values of the model paramter that make the model best describe the data.  `pcov` is the **covariance matrix**, a complicated object that tells us about the uncertainties in the optimal fit parameter values (more on this below).\n",
    "\n",
    "We can print out `spring_popt` to see the optimal fit parameter values:"
   ]
  },
  {
   "cell_type": "code",
   "execution_count": 4,
   "metadata": {},
   "outputs": [
    {
     "data": {
      "text/html": [
       "<pre style=\"white-space:pre;overflow-x:auto;line-height:normal;font-family:Menlo,'DejaVu Sans Mono',consolas,'Courier New',monospace\"><span style=\"font-weight: bold\">[</span><span style=\"color: #008080; text-decoration-color: #008080; font-weight: bold\">3.16989</span>    <span style=\"color: #008080; text-decoration-color: #008080; font-weight: bold\">0.60664998</span><span style=\"font-weight: bold\">]</span>\n",
       "</pre>\n"
      ],
      "text/plain": [
       "\u001b[1m[\u001b[0m\u001b[1;36m3.16989\u001b[0m    \u001b[1;36m0.60664998\u001b[0m\u001b[1m]\u001b[0m\n"
      ]
     },
     "metadata": {},
     "output_type": "display_data"
    }
   ],
   "source": [
    "print(spring_popt)"
   ]
  },
  {
   "cell_type": "markdown",
   "metadata": {},
   "source": [
    "So, our optimal slope is $\\approx 3.170$ and the optimal vertical intercept is $\\approx 0.607$.  If we compare these to the HL model, we could conclude that the sprink has a spring constant of $k \\approx 3.170$ N/cm.  (Note that I'm being cagey about the equal signs for now...)\n",
    "\n",
    "Let's take a look at the optimized function plotted with the data.  We'll need to create a set of points to graph."
   ]
  },
  {
   "cell_type": "code",
   "execution_count": 5,
   "metadata": {},
   "outputs": [
    {
     "data": {
      "image/png": "[encoded data removed]",
      "text/plain": [
       "<Figure size 648x288 with 1 Axes>"
      ]
     },
     "metadata": {
      "needs_background": "light"
     },
     "output_type": "display_data"
    }
   ],
   "source": [
    "xrange = np.linspace(1, 9, 101)\n",
    "f_model = linear_function(xrange, spring_popt[0], spring_popt[1])\n",
    "\n",
    "fig = plt.figure(figsize=(9,4))\n",
    "plt.plot(xs, fs, 'o', label='data')\n",
    "plt.plot(xrange, f_model, '-r', label='fit function')\n",
    "plt.xlabel('stretch (cm)')\n",
    "plt.ylabel('spring force (N)')\n",
    "plt.title('stretching a spring')\n",
    "plt.legend()\n",
    "plt.show()"
   ]
  },
  {
   "cell_type": "markdown",
   "metadata": {},
   "source": [
    "#### Warm-up problem \n",
    "\n",
    "You may have noticed that `linear_function` isn't a perfect match for the Hooke's Law model -- the function contains a constant term, while HL does not!  Re-do the fit with a function that better matches Hooke's Law.  Make a graph of the data and the two optimized fit functions."
   ]
  },
  {
   "cell_type": "code",
   "execution_count": 6,
   "metadata": {},
   "outputs": [],
   "source": [
    "# warm-up code goes here!"
   ]
  },
  {
   "cell_type": "markdown",
   "metadata": {},
   "source": [
    "Most of what we'll do below is not much more complicated than this.  If you can wrap your mind around the basic pieces of fitting, everything else we'll do is just slight variations here and there.\n",
    "\n",
    "***\n",
    "\n",
    "## Fitting to binned 1-d data (histograms)\n",
    "\n",
    "Next, let's look at some one-dimensional data.  `heights.txt` is a simple data file that contains the height measurements (in cm) for members of some group of humans.  Let's read in the data and make a histogram to get a feel for the data."
   ]
  },
  {
   "cell_type": "code",
   "execution_count": 7,
   "metadata": {},
   "outputs": [
    {
     "data": {
      "image/png": "[encoded data removed]",
      "text/plain": [
       "<Figure size 648x288 with 1 Axes>"
      ]
     },
     "metadata": {
      "needs_background": "light"
     },
     "output_type": "display_data"
    }
   ],
   "source": [
    "fil = open('data_files/heights.txt','r')\n",
    "harr = []\n",
    "\n",
    "lin = fil.readline()\n",
    "while len(lin) > 1:\n",
    "    harr.append(float(lin))\n",
    "    lin = fil.readline()\n",
    "\n",
    "fig = plt.figure(figsize=(9,4))\n",
    "bin_values = plt.hist(harr,bins=110,range=[110,220])\n",
    "plt.xlabel('heights (cm)')\n",
    "plt.show()"
   ]
  },
  {
   "cell_type": "markdown",
   "metadata": {},
   "source": [
    "Cool!  So, as we would expect, the data appear to be distributed according to a gaussian (or bell curve), possibly with some \"funky stuff\" happening on the low-end (left) tail.  \n",
    "\n",
    "Notice that I set `bin_values` equal to the output of the histogramming step above.  We'll use this below.  This output is a list containing two lists!  The first list contains the numbers of events in each bin (I'll call them the \"occupancies\").  The second list contains the bin edge values.  Let's take a look:"
   ]
  },
  {
   "cell_type": "code",
   "execution_count": 8,
   "metadata": {},
   "outputs": [
    {
     "data": {
      "text/html": [
       "<pre style=\"white-space:pre;overflow-x:auto;line-height:normal;font-family:Menlo,'DejaVu Sans Mono',consolas,'Courier New',monospace\"><span style=\"font-weight: bold\">[</span>  <span style=\"color: #008080; text-decoration-color: #008080; font-weight: bold\">0</span>.   <span style=\"color: #008080; text-decoration-color: #008080; font-weight: bold\">0</span>.   <span style=\"color: #008080; text-decoration-color: #008080; font-weight: bold\">0</span>.   <span style=\"color: #008080; text-decoration-color: #008080; font-weight: bold\">1</span>.   <span style=\"color: #008080; text-decoration-color: #008080; font-weight: bold\">1</span>.   <span style=\"color: #008080; text-decoration-color: #008080; font-weight: bold\">0</span>.   <span style=\"color: #008080; text-decoration-color: #008080; font-weight: bold\">0</span>.   <span style=\"color: #008080; text-decoration-color: #008080; font-weight: bold\">2</span>.   <span style=\"color: #008080; text-decoration-color: #008080; font-weight: bold\">0</span>.   <span style=\"color: #008080; text-decoration-color: #008080; font-weight: bold\">0</span>.   <span style=\"color: #008080; text-decoration-color: #008080; font-weight: bold\">2</span>.   <span style=\"color: #008080; text-decoration-color: #008080; font-weight: bold\">2</span>.   <span style=\"color: #008080; text-decoration-color: #008080; font-weight: bold\">6</span>.   <span style=\"color: #008080; text-decoration-color: #008080; font-weight: bold\">8</span>.\n",
       "   <span style=\"color: #008080; text-decoration-color: #008080; font-weight: bold\">7</span>.  <span style=\"color: #008080; text-decoration-color: #008080; font-weight: bold\">11</span>.  <span style=\"color: #008080; text-decoration-color: #008080; font-weight: bold\">15</span>.  <span style=\"color: #008080; text-decoration-color: #008080; font-weight: bold\">19</span>.  <span style=\"color: #008080; text-decoration-color: #008080; font-weight: bold\">23</span>.  <span style=\"color: #008080; text-decoration-color: #008080; font-weight: bold\">28</span>.  <span style=\"color: #008080; text-decoration-color: #008080; font-weight: bold\">30</span>.  <span style=\"color: #008080; text-decoration-color: #008080; font-weight: bold\">27</span>.  <span style=\"color: #008080; text-decoration-color: #008080; font-weight: bold\">32</span>.  <span style=\"color: #008080; text-decoration-color: #008080; font-weight: bold\">57</span>.  <span style=\"color: #008080; text-decoration-color: #008080; font-weight: bold\">80</span>.  <span style=\"color: #008080; text-decoration-color: #008080; font-weight: bold\">61</span>.  <span style=\"color: #008080; text-decoration-color: #008080; font-weight: bold\">70</span>.  <span style=\"color: #008080; text-decoration-color: #008080; font-weight: bold\">81</span>.\n",
       "  <span style=\"color: #008080; text-decoration-color: #008080; font-weight: bold\">88</span>.  <span style=\"color: #008080; text-decoration-color: #008080; font-weight: bold\">79</span>.  <span style=\"color: #008080; text-decoration-color: #008080; font-weight: bold\">91</span>.  <span style=\"color: #008080; text-decoration-color: #008080; font-weight: bold\">83</span>. <span style=\"color: #008080; text-decoration-color: #008080; font-weight: bold\">102</span>. <span style=\"color: #008080; text-decoration-color: #008080; font-weight: bold\">102</span>. <span style=\"color: #008080; text-decoration-color: #008080; font-weight: bold\">121</span>.  <span style=\"color: #008080; text-decoration-color: #008080; font-weight: bold\">85</span>.  <span style=\"color: #008080; text-decoration-color: #008080; font-weight: bold\">87</span>.  <span style=\"color: #008080; text-decoration-color: #008080; font-weight: bold\">99</span>.  <span style=\"color: #008080; text-decoration-color: #008080; font-weight: bold\">98</span>.  <span style=\"color: #008080; text-decoration-color: #008080; font-weight: bold\">98</span>. <span style=\"color: #008080; text-decoration-color: #008080; font-weight: bold\">121</span>. <span style=\"color: #008080; text-decoration-color: #008080; font-weight: bold\">129</span>.\n",
       " <span style=\"color: #008080; text-decoration-color: #008080; font-weight: bold\">114</span>. <span style=\"color: #008080; text-decoration-color: #008080; font-weight: bold\">122</span>. <span style=\"color: #008080; text-decoration-color: #008080; font-weight: bold\">164</span>. <span style=\"color: #008080; text-decoration-color: #008080; font-weight: bold\">203</span>. <span style=\"color: #008080; text-decoration-color: #008080; font-weight: bold\">223</span>. <span style=\"color: #008080; text-decoration-color: #008080; font-weight: bold\">235</span>. <span style=\"color: #008080; text-decoration-color: #008080; font-weight: bold\">250</span>. <span style=\"color: #008080; text-decoration-color: #008080; font-weight: bold\">298</span>. <span style=\"color: #008080; text-decoration-color: #008080; font-weight: bold\">308</span>. <span style=\"color: #008080; text-decoration-color: #008080; font-weight: bold\">343</span>. <span style=\"color: #008080; text-decoration-color: #008080; font-weight: bold\">429</span>. <span style=\"color: #008080; text-decoration-color: #008080; font-weight: bold\">442</span>. <span style=\"color: #008080; text-decoration-color: #008080; font-weight: bold\">475</span>. <span style=\"color: #008080; text-decoration-color: #008080; font-weight: bold\">527</span>.\n",
       " <span style=\"color: #008080; text-decoration-color: #008080; font-weight: bold\">554</span>. <span style=\"color: #008080; text-decoration-color: #008080; font-weight: bold\">557</span>. <span style=\"color: #008080; text-decoration-color: #008080; font-weight: bold\">569</span>. <span style=\"color: #008080; text-decoration-color: #008080; font-weight: bold\">647</span>. <span style=\"color: #008080; text-decoration-color: #008080; font-weight: bold\">664</span>. <span style=\"color: #008080; text-decoration-color: #008080; font-weight: bold\">669</span>. <span style=\"color: #008080; text-decoration-color: #008080; font-weight: bold\">642</span>. <span style=\"color: #008080; text-decoration-color: #008080; font-weight: bold\">739</span>. <span style=\"color: #008080; text-decoration-color: #008080; font-weight: bold\">694</span>. <span style=\"color: #008080; text-decoration-color: #008080; font-weight: bold\">635</span>. <span style=\"color: #008080; text-decoration-color: #008080; font-weight: bold\">657</span>. <span style=\"color: #008080; text-decoration-color: #008080; font-weight: bold\">599</span>. <span style=\"color: #008080; text-decoration-color: #008080; font-weight: bold\">598</span>. <span style=\"color: #008080; text-decoration-color: #008080; font-weight: bold\">614</span>.\n",
       " <span style=\"color: #008080; text-decoration-color: #008080; font-weight: bold\">488</span>. <span style=\"color: #008080; text-decoration-color: #008080; font-weight: bold\">460</span>. <span style=\"color: #008080; text-decoration-color: #008080; font-weight: bold\">451</span>. <span style=\"color: #008080; text-decoration-color: #008080; font-weight: bold\">434</span>. <span style=\"color: #008080; text-decoration-color: #008080; font-weight: bold\">393</span>. <span style=\"color: #008080; text-decoration-color: #008080; font-weight: bold\">359</span>. <span style=\"color: #008080; text-decoration-color: #008080; font-weight: bold\">307</span>. <span style=\"color: #008080; text-decoration-color: #008080; font-weight: bold\">270</span>. <span style=\"color: #008080; text-decoration-color: #008080; font-weight: bold\">264</span>. <span style=\"color: #008080; text-decoration-color: #008080; font-weight: bold\">235</span>. <span style=\"color: #008080; text-decoration-color: #008080; font-weight: bold\">145</span>. <span style=\"color: #008080; text-decoration-color: #008080; font-weight: bold\">144</span>. <span style=\"color: #008080; text-decoration-color: #008080; font-weight: bold\">146</span>. <span style=\"color: #008080; text-decoration-color: #008080; font-weight: bold\">124</span>.\n",
       "  <span style=\"color: #008080; text-decoration-color: #008080; font-weight: bold\">83</span>.  <span style=\"color: #008080; text-decoration-color: #008080; font-weight: bold\">64</span>.  <span style=\"color: #008080; text-decoration-color: #008080; font-weight: bold\">61</span>.  <span style=\"color: #008080; text-decoration-color: #008080; font-weight: bold\">44</span>.  <span style=\"color: #008080; text-decoration-color: #008080; font-weight: bold\">33</span>.  <span style=\"color: #008080; text-decoration-color: #008080; font-weight: bold\">27</span>.  <span style=\"color: #008080; text-decoration-color: #008080; font-weight: bold\">25</span>.  <span style=\"color: #008080; text-decoration-color: #008080; font-weight: bold\">22</span>.  <span style=\"color: #008080; text-decoration-color: #008080; font-weight: bold\">13</span>.  <span style=\"color: #008080; text-decoration-color: #008080; font-weight: bold\">16</span>.  <span style=\"color: #008080; text-decoration-color: #008080; font-weight: bold\">11</span>.   <span style=\"color: #008080; text-decoration-color: #008080; font-weight: bold\">6</span>.   <span style=\"color: #008080; text-decoration-color: #008080; font-weight: bold\">6</span>.   <span style=\"color: #008080; text-decoration-color: #008080; font-weight: bold\">2</span>.\n",
       "   <span style=\"color: #008080; text-decoration-color: #008080; font-weight: bold\">1</span>.   <span style=\"color: #008080; text-decoration-color: #008080; font-weight: bold\">1</span>.   <span style=\"color: #008080; text-decoration-color: #008080; font-weight: bold\">2</span>.   <span style=\"color: #008080; text-decoration-color: #008080; font-weight: bold\">4</span>.   <span style=\"color: #008080; text-decoration-color: #008080; font-weight: bold\">0</span>.   <span style=\"color: #008080; text-decoration-color: #008080; font-weight: bold\">0</span>.   <span style=\"color: #008080; text-decoration-color: #008080; font-weight: bold\">2</span>.   <span style=\"color: #008080; text-decoration-color: #008080; font-weight: bold\">1</span>.   <span style=\"color: #008080; text-decoration-color: #008080; font-weight: bold\">0</span>.   <span style=\"color: #008080; text-decoration-color: #008080; font-weight: bold\">0</span>.   <span style=\"color: #008080; text-decoration-color: #008080; font-weight: bold\">0</span>.   <span style=\"color: #008080; text-decoration-color: #008080; font-weight: bold\">0</span>.<span style=\"font-weight: bold\">]</span>\n",
       "</pre>\n"
      ],
      "text/plain": [
       "\u001b[1m[\u001b[0m  \u001b[1;36m0\u001b[0m.   \u001b[1;36m0\u001b[0m.   \u001b[1;36m0\u001b[0m.   \u001b[1;36m1\u001b[0m.   \u001b[1;36m1\u001b[0m.   \u001b[1;36m0\u001b[0m.   \u001b[1;36m0\u001b[0m.   \u001b[1;36m2\u001b[0m.   \u001b[1;36m0\u001b[0m.   \u001b[1;36m0\u001b[0m.   \u001b[1;36m2\u001b[0m.   \u001b[1;36m2\u001b[0m.   \u001b[1;36m6\u001b[0m.   \u001b[1;36m8\u001b[0m.\n",
       "   \u001b[1;36m7\u001b[0m.  \u001b[1;36m11\u001b[0m.  \u001b[1;36m15\u001b[0m.  \u001b[1;36m19\u001b[0m.  \u001b[1;36m23\u001b[0m.  \u001b[1;36m28\u001b[0m.  \u001b[1;36m30\u001b[0m.  \u001b[1;36m27\u001b[0m.  \u001b[1;36m32\u001b[0m.  \u001b[1;36m57\u001b[0m.  \u001b[1;36m80\u001b[0m.  \u001b[1;36m61\u001b[0m.  \u001b[1;36m70\u001b[0m.  \u001b[1;36m81\u001b[0m.\n",
       "  \u001b[1;36m88\u001b[0m.  \u001b[1;36m79\u001b[0m.  \u001b[1;36m91\u001b[0m.  \u001b[1;36m83\u001b[0m. \u001b[1;36m102\u001b[0m. \u001b[1;36m102\u001b[0m. \u001b[1;36m121\u001b[0m.  \u001b[1;36m85\u001b[0m.  \u001b[1;36m87\u001b[0m.  \u001b[1;36m99\u001b[0m.  \u001b[1;36m98\u001b[0m.  \u001b[1;36m98\u001b[0m. \u001b[1;36m121\u001b[0m. \u001b[1;36m129\u001b[0m.\n",
       " \u001b[1;36m114\u001b[0m. \u001b[1;36m122\u001b[0m. \u001b[1;36m164\u001b[0m. \u001b[1;36m203\u001b[0m. \u001b[1;36m223\u001b[0m. \u001b[1;36m235\u001b[0m. \u001b[1;36m250\u001b[0m. \u001b[1;36m298\u001b[0m. \u001b[1;36m308\u001b[0m. \u001b[1;36m343\u001b[0m. \u001b[1;36m429\u001b[0m. \u001b[1;36m442\u001b[0m. \u001b[1;36m475\u001b[0m. \u001b[1;36m527\u001b[0m.\n",
       " \u001b[1;36m554\u001b[0m. \u001b[1;36m557\u001b[0m. \u001b[1;36m569\u001b[0m. \u001b[1;36m647\u001b[0m. \u001b[1;36m664\u001b[0m. \u001b[1;36m669\u001b[0m. \u001b[1;36m642\u001b[0m. \u001b[1;36m739\u001b[0m. \u001b[1;36m694\u001b[0m. \u001b[1;36m635\u001b[0m. \u001b[1;36m657\u001b[0m. \u001b[1;36m599\u001b[0m. \u001b[1;36m598\u001b[0m. \u001b[1;36m614\u001b[0m.\n",
       " \u001b[1;36m488\u001b[0m. \u001b[1;36m460\u001b[0m. \u001b[1;36m451\u001b[0m. \u001b[1;36m434\u001b[0m. \u001b[1;36m393\u001b[0m. \u001b[1;36m359\u001b[0m. \u001b[1;36m307\u001b[0m. \u001b[1;36m270\u001b[0m. \u001b[1;36m264\u001b[0m. \u001b[1;36m235\u001b[0m. \u001b[1;36m145\u001b[0m. \u001b[1;36m144\u001b[0m. \u001b[1;36m146\u001b[0m. \u001b[1;36m124\u001b[0m.\n",
       "  \u001b[1;36m83\u001b[0m.  \u001b[1;36m64\u001b[0m.  \u001b[1;36m61\u001b[0m.  \u001b[1;36m44\u001b[0m.  \u001b[1;36m33\u001b[0m.  \u001b[1;36m27\u001b[0m.  \u001b[1;36m25\u001b[0m.  \u001b[1;36m22\u001b[0m.  \u001b[1;36m13\u001b[0m.  \u001b[1;36m16\u001b[0m.  \u001b[1;36m11\u001b[0m.   \u001b[1;36m6\u001b[0m.   \u001b[1;36m6\u001b[0m.   \u001b[1;36m2\u001b[0m.\n",
       "   \u001b[1;36m1\u001b[0m.   \u001b[1;36m1\u001b[0m.   \u001b[1;36m2\u001b[0m.   \u001b[1;36m4\u001b[0m.   \u001b[1;36m0\u001b[0m.   \u001b[1;36m0\u001b[0m.   \u001b[1;36m2\u001b[0m.   \u001b[1;36m1\u001b[0m.   \u001b[1;36m0\u001b[0m.   \u001b[1;36m0\u001b[0m.   \u001b[1;36m0\u001b[0m.   \u001b[1;36m0\u001b[0m.\u001b[1m]\u001b[0m\n"
      ]
     },
     "metadata": {},
     "output_type": "display_data"
    },
    {
     "data": {
      "text/html": [
       "<pre style=\"white-space:pre;overflow-x:auto;line-height:normal;font-family:Menlo,'DejaVu Sans Mono',consolas,'Courier New',monospace\"><span style=\"font-weight: bold\">[</span><span style=\"color: #008080; text-decoration-color: #008080; font-weight: bold\">110</span>. <span style=\"color: #008080; text-decoration-color: #008080; font-weight: bold\">111</span>. <span style=\"color: #008080; text-decoration-color: #008080; font-weight: bold\">112</span>. <span style=\"color: #008080; text-decoration-color: #008080; font-weight: bold\">113</span>. <span style=\"color: #008080; text-decoration-color: #008080; font-weight: bold\">114</span>. <span style=\"color: #008080; text-decoration-color: #008080; font-weight: bold\">115</span>. <span style=\"color: #008080; text-decoration-color: #008080; font-weight: bold\">116</span>. <span style=\"color: #008080; text-decoration-color: #008080; font-weight: bold\">117</span>. <span style=\"color: #008080; text-decoration-color: #008080; font-weight: bold\">118</span>. <span style=\"color: #008080; text-decoration-color: #008080; font-weight: bold\">119</span>. <span style=\"color: #008080; text-decoration-color: #008080; font-weight: bold\">120</span>. <span style=\"color: #008080; text-decoration-color: #008080; font-weight: bold\">121</span>. <span style=\"color: #008080; text-decoration-color: #008080; font-weight: bold\">122</span>. <span style=\"color: #008080; text-decoration-color: #008080; font-weight: bold\">123</span>.\n",
       " <span style=\"color: #008080; text-decoration-color: #008080; font-weight: bold\">124</span>. <span style=\"color: #008080; text-decoration-color: #008080; font-weight: bold\">125</span>. <span style=\"color: #008080; text-decoration-color: #008080; font-weight: bold\">126</span>. <span style=\"color: #008080; text-decoration-color: #008080; font-weight: bold\">127</span>. <span style=\"color: #008080; text-decoration-color: #008080; font-weight: bold\">128</span>. <span style=\"color: #008080; text-decoration-color: #008080; font-weight: bold\">129</span>. <span style=\"color: #008080; text-decoration-color: #008080; font-weight: bold\">130</span>. <span style=\"color: #008080; text-decoration-color: #008080; font-weight: bold\">131</span>. <span style=\"color: #008080; text-decoration-color: #008080; font-weight: bold\">132</span>. <span style=\"color: #008080; text-decoration-color: #008080; font-weight: bold\">133</span>. <span style=\"color: #008080; text-decoration-color: #008080; font-weight: bold\">134</span>. <span style=\"color: #008080; text-decoration-color: #008080; font-weight: bold\">135</span>. <span style=\"color: #008080; text-decoration-color: #008080; font-weight: bold\">136</span>. <span style=\"color: #008080; text-decoration-color: #008080; font-weight: bold\">137</span>.\n",
       " <span style=\"color: #008080; text-decoration-color: #008080; font-weight: bold\">138</span>. <span style=\"color: #008080; text-decoration-color: #008080; font-weight: bold\">139</span>. <span style=\"color: #008080; text-decoration-color: #008080; font-weight: bold\">140</span>. <span style=\"color: #008080; text-decoration-color: #008080; font-weight: bold\">141</span>. <span style=\"color: #008080; text-decoration-color: #008080; font-weight: bold\">142</span>. <span style=\"color: #008080; text-decoration-color: #008080; font-weight: bold\">143</span>. <span style=\"color: #008080; text-decoration-color: #008080; font-weight: bold\">144</span>. <span style=\"color: #008080; text-decoration-color: #008080; font-weight: bold\">145</span>. <span style=\"color: #008080; text-decoration-color: #008080; font-weight: bold\">146</span>. <span style=\"color: #008080; text-decoration-color: #008080; font-weight: bold\">147</span>. <span style=\"color: #008080; text-decoration-color: #008080; font-weight: bold\">148</span>. <span style=\"color: #008080; text-decoration-color: #008080; font-weight: bold\">149</span>. <span style=\"color: #008080; text-decoration-color: #008080; font-weight: bold\">150</span>. <span style=\"color: #008080; text-decoration-color: #008080; font-weight: bold\">151</span>.\n",
       " <span style=\"color: #008080; text-decoration-color: #008080; font-weight: bold\">152</span>. <span style=\"color: #008080; text-decoration-color: #008080; font-weight: bold\">153</span>. <span style=\"color: #008080; text-decoration-color: #008080; font-weight: bold\">154</span>. <span style=\"color: #008080; text-decoration-color: #008080; font-weight: bold\">155</span>. <span style=\"color: #008080; text-decoration-color: #008080; font-weight: bold\">156</span>. <span style=\"color: #008080; text-decoration-color: #008080; font-weight: bold\">157</span>. <span style=\"color: #008080; text-decoration-color: #008080; font-weight: bold\">158</span>. <span style=\"color: #008080; text-decoration-color: #008080; font-weight: bold\">159</span>. <span style=\"color: #008080; text-decoration-color: #008080; font-weight: bold\">160</span>. <span style=\"color: #008080; text-decoration-color: #008080; font-weight: bold\">161</span>. <span style=\"color: #008080; text-decoration-color: #008080; font-weight: bold\">162</span>. <span style=\"color: #008080; text-decoration-color: #008080; font-weight: bold\">163</span>. <span style=\"color: #008080; text-decoration-color: #008080; font-weight: bold\">164</span>. <span style=\"color: #008080; text-decoration-color: #008080; font-weight: bold\">165</span>.\n",
       " <span style=\"color: #008080; text-decoration-color: #008080; font-weight: bold\">166</span>. <span style=\"color: #008080; text-decoration-color: #008080; font-weight: bold\">167</span>. <span style=\"color: #008080; text-decoration-color: #008080; font-weight: bold\">168</span>. <span style=\"color: #008080; text-decoration-color: #008080; font-weight: bold\">169</span>. <span style=\"color: #008080; text-decoration-color: #008080; font-weight: bold\">170</span>. <span style=\"color: #008080; text-decoration-color: #008080; font-weight: bold\">171</span>. <span style=\"color: #008080; text-decoration-color: #008080; font-weight: bold\">172</span>. <span style=\"color: #008080; text-decoration-color: #008080; font-weight: bold\">173</span>. <span style=\"color: #008080; text-decoration-color: #008080; font-weight: bold\">174</span>. <span style=\"color: #008080; text-decoration-color: #008080; font-weight: bold\">175</span>. <span style=\"color: #008080; text-decoration-color: #008080; font-weight: bold\">176</span>. <span style=\"color: #008080; text-decoration-color: #008080; font-weight: bold\">177</span>. <span style=\"color: #008080; text-decoration-color: #008080; font-weight: bold\">178</span>. <span style=\"color: #008080; text-decoration-color: #008080; font-weight: bold\">179</span>.\n",
       " <span style=\"color: #008080; text-decoration-color: #008080; font-weight: bold\">180</span>. <span style=\"color: #008080; text-decoration-color: #008080; font-weight: bold\">181</span>. <span style=\"color: #008080; text-decoration-color: #008080; font-weight: bold\">182</span>. <span style=\"color: #008080; text-decoration-color: #008080; font-weight: bold\">183</span>. <span style=\"color: #008080; text-decoration-color: #008080; font-weight: bold\">184</span>. <span style=\"color: #008080; text-decoration-color: #008080; font-weight: bold\">185</span>. <span style=\"color: #008080; text-decoration-color: #008080; font-weight: bold\">186</span>. <span style=\"color: #008080; text-decoration-color: #008080; font-weight: bold\">187</span>. <span style=\"color: #008080; text-decoration-color: #008080; font-weight: bold\">188</span>. <span style=\"color: #008080; text-decoration-color: #008080; font-weight: bold\">189</span>. <span style=\"color: #008080; text-decoration-color: #008080; font-weight: bold\">190</span>. <span style=\"color: #008080; text-decoration-color: #008080; font-weight: bold\">191</span>. <span style=\"color: #008080; text-decoration-color: #008080; font-weight: bold\">192</span>. <span style=\"color: #008080; text-decoration-color: #008080; font-weight: bold\">193</span>.\n",
       " <span style=\"color: #008080; text-decoration-color: #008080; font-weight: bold\">194</span>. <span style=\"color: #008080; text-decoration-color: #008080; font-weight: bold\">195</span>. <span style=\"color: #008080; text-decoration-color: #008080; font-weight: bold\">196</span>. <span style=\"color: #008080; text-decoration-color: #008080; font-weight: bold\">197</span>. <span style=\"color: #008080; text-decoration-color: #008080; font-weight: bold\">198</span>. <span style=\"color: #008080; text-decoration-color: #008080; font-weight: bold\">199</span>. <span style=\"color: #008080; text-decoration-color: #008080; font-weight: bold\">200</span>. <span style=\"color: #008080; text-decoration-color: #008080; font-weight: bold\">201</span>. <span style=\"color: #008080; text-decoration-color: #008080; font-weight: bold\">202</span>. <span style=\"color: #008080; text-decoration-color: #008080; font-weight: bold\">203</span>. <span style=\"color: #008080; text-decoration-color: #008080; font-weight: bold\">204</span>. <span style=\"color: #008080; text-decoration-color: #008080; font-weight: bold\">205</span>. <span style=\"color: #008080; text-decoration-color: #008080; font-weight: bold\">206</span>. <span style=\"color: #008080; text-decoration-color: #008080; font-weight: bold\">207</span>.\n",
       " <span style=\"color: #008080; text-decoration-color: #008080; font-weight: bold\">208</span>. <span style=\"color: #008080; text-decoration-color: #008080; font-weight: bold\">209</span>. <span style=\"color: #008080; text-decoration-color: #008080; font-weight: bold\">210</span>. <span style=\"color: #008080; text-decoration-color: #008080; font-weight: bold\">211</span>. <span style=\"color: #008080; text-decoration-color: #008080; font-weight: bold\">212</span>. <span style=\"color: #008080; text-decoration-color: #008080; font-weight: bold\">213</span>. <span style=\"color: #008080; text-decoration-color: #008080; font-weight: bold\">214</span>. <span style=\"color: #008080; text-decoration-color: #008080; font-weight: bold\">215</span>. <span style=\"color: #008080; text-decoration-color: #008080; font-weight: bold\">216</span>. <span style=\"color: #008080; text-decoration-color: #008080; font-weight: bold\">217</span>. <span style=\"color: #008080; text-decoration-color: #008080; font-weight: bold\">218</span>. <span style=\"color: #008080; text-decoration-color: #008080; font-weight: bold\">219</span>. <span style=\"color: #008080; text-decoration-color: #008080; font-weight: bold\">220</span>.<span style=\"font-weight: bold\">]</span>\n",
       "</pre>\n"
      ],
      "text/plain": [
       "\u001b[1m[\u001b[0m\u001b[1;36m110\u001b[0m. \u001b[1;36m111\u001b[0m. \u001b[1;36m112\u001b[0m. \u001b[1;36m113\u001b[0m. \u001b[1;36m114\u001b[0m. \u001b[1;36m115\u001b[0m. \u001b[1;36m116\u001b[0m. \u001b[1;36m117\u001b[0m. \u001b[1;36m118\u001b[0m. \u001b[1;36m119\u001b[0m. \u001b[1;36m120\u001b[0m. \u001b[1;36m121\u001b[0m. \u001b[1;36m122\u001b[0m. \u001b[1;36m123\u001b[0m.\n",
       " \u001b[1;36m124\u001b[0m. \u001b[1;36m125\u001b[0m. \u001b[1;36m126\u001b[0m. \u001b[1;36m127\u001b[0m. \u001b[1;36m128\u001b[0m. \u001b[1;36m129\u001b[0m. \u001b[1;36m130\u001b[0m. \u001b[1;36m131\u001b[0m. \u001b[1;36m132\u001b[0m. \u001b[1;36m133\u001b[0m. \u001b[1;36m134\u001b[0m. \u001b[1;36m135\u001b[0m. \u001b[1;36m136\u001b[0m. \u001b[1;36m137\u001b[0m.\n",
       " \u001b[1;36m138\u001b[0m. \u001b[1;36m139\u001b[0m. \u001b[1;36m140\u001b[0m. \u001b[1;36m141\u001b[0m. \u001b[1;36m142\u001b[0m. \u001b[1;36m143\u001b[0m. \u001b[1;36m144\u001b[0m. \u001b[1;36m145\u001b[0m. \u001b[1;36m146\u001b[0m. \u001b[1;36m147\u001b[0m. \u001b[1;36m148\u001b[0m. \u001b[1;36m149\u001b[0m. \u001b[1;36m150\u001b[0m. \u001b[1;36m151\u001b[0m.\n",
       " \u001b[1;36m152\u001b[0m. \u001b[1;36m153\u001b[0m. \u001b[1;36m154\u001b[0m. \u001b[1;36m155\u001b[0m. \u001b[1;36m156\u001b[0m. \u001b[1;36m157\u001b[0m. \u001b[1;36m158\u001b[0m. \u001b[1;36m159\u001b[0m. \u001b[1;36m160\u001b[0m. \u001b[1;36m161\u001b[0m. \u001b[1;36m162\u001b[0m. \u001b[1;36m163\u001b[0m. \u001b[1;36m164\u001b[0m. \u001b[1;36m165\u001b[0m.\n",
       " \u001b[1;36m166\u001b[0m. \u001b[1;36m167\u001b[0m. \u001b[1;36m168\u001b[0m. \u001b[1;36m169\u001b[0m. \u001b[1;36m170\u001b[0m. \u001b[1;36m171\u001b[0m. \u001b[1;36m172\u001b[0m. \u001b[1;36m173\u001b[0m. \u001b[1;36m174\u001b[0m. \u001b[1;36m175\u001b[0m. \u001b[1;36m176\u001b[0m. \u001b[1;36m177\u001b[0m. \u001b[1;36m178\u001b[0m. \u001b[1;36m179\u001b[0m.\n",
       " \u001b[1;36m180\u001b[0m. \u001b[1;36m181\u001b[0m. \u001b[1;36m182\u001b[0m. \u001b[1;36m183\u001b[0m. \u001b[1;36m184\u001b[0m. \u001b[1;36m185\u001b[0m. \u001b[1;36m186\u001b[0m. \u001b[1;36m187\u001b[0m. \u001b[1;36m188\u001b[0m. \u001b[1;36m189\u001b[0m. \u001b[1;36m190\u001b[0m. \u001b[1;36m191\u001b[0m. \u001b[1;36m192\u001b[0m. \u001b[1;36m193\u001b[0m.\n",
       " \u001b[1;36m194\u001b[0m. \u001b[1;36m195\u001b[0m. \u001b[1;36m196\u001b[0m. \u001b[1;36m197\u001b[0m. \u001b[1;36m198\u001b[0m. \u001b[1;36m199\u001b[0m. \u001b[1;36m200\u001b[0m. \u001b[1;36m201\u001b[0m. \u001b[1;36m202\u001b[0m. \u001b[1;36m203\u001b[0m. \u001b[1;36m204\u001b[0m. \u001b[1;36m205\u001b[0m. \u001b[1;36m206\u001b[0m. \u001b[1;36m207\u001b[0m.\n",
       " \u001b[1;36m208\u001b[0m. \u001b[1;36m209\u001b[0m. \u001b[1;36m210\u001b[0m. \u001b[1;36m211\u001b[0m. \u001b[1;36m212\u001b[0m. \u001b[1;36m213\u001b[0m. \u001b[1;36m214\u001b[0m. \u001b[1;36m215\u001b[0m. \u001b[1;36m216\u001b[0m. \u001b[1;36m217\u001b[0m. \u001b[1;36m218\u001b[0m. \u001b[1;36m219\u001b[0m. \u001b[1;36m220\u001b[0m.\u001b[1m]\u001b[0m\n"
      ]
     },
     "metadata": {},
     "output_type": "display_data"
    },
    {
     "data": {
      "text/html": [
       "<pre style=\"white-space:pre;overflow-x:auto;line-height:normal;font-family:Menlo,'DejaVu Sans Mono',consolas,'Courier New',monospace\">\n",
       "</pre>\n"
      ],
      "text/plain": [
       "\n"
      ]
     },
     "metadata": {},
     "output_type": "display_data"
    },
    {
     "data": {
      "text/html": [
       "<pre style=\"white-space:pre;overflow-x:auto;line-height:normal;font-family:Menlo,'DejaVu Sans Mono',consolas,'Courier New',monospace\">There are <span style=\"color: #008080; text-decoration-color: #008080; font-weight: bold\">110</span> elements in the occupanices list.\n",
       "</pre>\n"
      ],
      "text/plain": [
       "There are \u001b[1;36m110\u001b[0m elements in the occupanices list.\n"
      ]
     },
     "metadata": {},
     "output_type": "display_data"
    },
    {
     "data": {
      "text/html": [
       "<pre style=\"white-space:pre;overflow-x:auto;line-height:normal;font-family:Menlo,'DejaVu Sans Mono',consolas,'Courier New',monospace\">There are <span style=\"color: #008080; text-decoration-color: #008080; font-weight: bold\">111</span> elements in the edges list.\n",
       "</pre>\n"
      ],
      "text/plain": [
       "There are \u001b[1;36m111\u001b[0m elements in the edges list.\n"
      ]
     },
     "metadata": {},
     "output_type": "display_data"
    }
   ],
   "source": [
    "print(bin_values[0])\n",
    "print(bin_values[1])\n",
    "print()\n",
    "print('There are ' + str(len(bin_values[0])) + ' elements in the occupanices list.')\n",
    "print('There are ' + str(len(bin_values[1])) + ' elements in the edges list.')"
   ]
  },
  {
   "cell_type": "markdown",
   "metadata": {},
   "source": [
    "Take a good look at the values in these lists and compare to the histogram above.  Make sure that you understand this before moving on!\n",
    "\n",
    "Now, what we wish to do is fit a function to the histogram.  Even though the data was 1-dimensional, *binning* the data into a histogram creates a 2-d visualization.  We will fit a 1-d function to this 2-d information.  We'll treat the horizontal axis (heights) as the independent variable and the vertical axis (bin occupancies) as the dependent variable.\n",
    "\n",
    "OH SNAP!  The bin edges list has one more element than the bin occupancies array; we need to fix this in order to fit!  We'll use the bin edges list to create a list of the bin centers by averaging the left and right edges for each bin:"
   ]
  },
  {
   "cell_type": "code",
   "execution_count": 19,
   "metadata": {},
   "outputs": [
    {
     "data": {
      "text/html": [
       "<pre style=\"white-space:pre;overflow-x:auto;line-height:normal;font-family:Menlo,'DejaVu Sans Mono',consolas,'Courier New',monospace\"><span style=\"font-weight: bold\">[</span><span style=\"color: #008080; text-decoration-color: #008080; font-weight: bold\">110.5</span>, <span style=\"color: #008080; text-decoration-color: #008080; font-weight: bold\">111.5</span>, <span style=\"color: #008080; text-decoration-color: #008080; font-weight: bold\">112.5</span>, <span style=\"color: #008080; text-decoration-color: #008080; font-weight: bold\">113.5</span>, <span style=\"color: #008080; text-decoration-color: #008080; font-weight: bold\">114.5</span>, <span style=\"color: #008080; text-decoration-color: #008080; font-weight: bold\">115.5</span>, <span style=\"color: #008080; text-decoration-color: #008080; font-weight: bold\">116.5</span>, <span style=\"color: #008080; text-decoration-color: #008080; font-weight: bold\">117.5</span>, <span style=\"color: #008080; text-decoration-color: #008080; font-weight: bold\">118.5</span>, <span style=\"color: #008080; text-decoration-color: #008080; font-weight: bold\">119.5</span><span style=\"font-weight: bold\">]</span>\n",
       "</pre>\n"
      ],
      "text/plain": [
       "\u001b[1m[\u001b[0m\u001b[1;36m110.5\u001b[0m, \u001b[1;36m111.5\u001b[0m, \u001b[1;36m112.5\u001b[0m, \u001b[1;36m113.5\u001b[0m, \u001b[1;36m114.5\u001b[0m, \u001b[1;36m115.5\u001b[0m, \u001b[1;36m116.5\u001b[0m, \u001b[1;36m117.5\u001b[0m, \u001b[1;36m118.5\u001b[0m, \u001b[1;36m119.5\u001b[0m\u001b[1m]\u001b[0m\n"
      ]
     },
     "metadata": {},
     "output_type": "display_data"
    },
    {
     "data": {
      "text/html": [
       "<pre style=\"white-space:pre;overflow-x:auto;line-height:normal;font-family:Menlo,'DejaVu Sans Mono',consolas,'Courier New',monospace\"><span style=\"color: #008080; text-decoration-color: #008080; font-weight: bold\">110</span>\n",
       "</pre>\n"
      ],
      "text/plain": [
       "\u001b[1;36m110\u001b[0m\n"
      ]
     },
     "metadata": {},
     "output_type": "display_data"
    }
   ],
   "source": [
    "bin_occs = bin_values[0]\n",
    "bin_edges = bin_values[1]\n",
    "bin_centers = []\n",
    "for i in range(len(bin_occs)):\n",
    "    bin_centers.append(0.5*(bin_edges[i] + bin_edges[i+1]))\n",
    "    \n",
    "print(bin_centers[0:10])\n",
    "print(len(bin_centers))"
   ]
  },
  {
   "cell_type": "markdown",
   "metadata": {},
   "source": [
    "Make sure you understand what's going on in the loop in the previous cell!  It's compact, but you know how to read it.\n",
    "\n",
    "Let's visualize the bin center and occupancy data with a quick graph:"
   ]
  },
  {
   "cell_type": "code",
   "execution_count": 10,
   "metadata": {},
   "outputs": [
    {
     "data": {
      "image/png": "[encoded data removed]",
      "text/plain": [
       "<Figure size 648x288 with 1 Axes>"
      ]
     },
     "metadata": {
      "needs_background": "light"
     },
     "output_type": "display_data"
    }
   ],
   "source": [
    "fig = plt.figure(figsize=(9,4))\n",
    "plt.scatter(bin_centers, bin_occs)\n",
    "plt.xlabel('bin centers (cm)')\n",
    "plt.ylabel('bin occupancies')\n",
    "plt.show()"
   ]
  },
  {
   "cell_type": "markdown",
   "metadata": {},
   "source": [
    "If that just looks like the profile of our histogram from above... good eye!  It is.  We've just graphed the data in a way that is obviously 2-d.\n",
    "\n",
    "To *characterize* the data, we'll fit a gaussian function to the data using `curve_fit` from `scipy.optimize` again.  The *process* is exactly the same as it was above for the linear function, but we will need to change some of the details of the fit.\n",
    "  \n",
    "In this case, we suspect that the data can be described by a gaussian function with the following form:\n",
    "\n",
    "$$\n",
    "  g(h) = a \\exp \\left[ - \\frac{(h-\\mu)^2}{2\\sigma^2} \\right]\n",
    "$$\n",
    "\n",
    "Again, \"fitting\" means that we want to find the values of parameters $a$ (scale), $\\mu$ (mean), and $\\sigma$ (width) that make the gaussian a good description of the number of data in each of our bins as a function of the bin center ($h$).\n",
    "WE supply the functional form, but `scipy` finds the best values for the fit parameters $a$, $\\mu$, and $\\sigma$.\n",
    "\n",
    "Let's DO IT!"
   ]
  },
  {
   "cell_type": "code",
   "execution_count": 11,
   "metadata": {},
   "outputs": [
    {
     "data": {
      "text/html": [
       "<pre style=\"white-space:pre;overflow-x:auto;line-height:normal;font-family:Menlo,'DejaVu Sans Mono',consolas,'Courier New',monospace\"><span style=\"font-weight: bold\">[</span><span style=\"color: #008080; text-decoration-color: #008080; font-weight: bold\">662.10864542</span> <span style=\"color: #008080; text-decoration-color: #008080; font-weight: bold\">173.01077254</span>  <span style=\"color: #008080; text-decoration-color: #008080; font-weight: bold\">11.10796728</span><span style=\"font-weight: bold\">]</span>\n",
       "</pre>\n"
      ],
      "text/plain": [
       "\u001b[1m[\u001b[0m\u001b[1;36m662.10864542\u001b[0m \u001b[1;36m173.01077254\u001b[0m  \u001b[1;36m11.10796728\u001b[0m\u001b[1m]\u001b[0m\n"
      ]
     },
     "metadata": {},
     "output_type": "display_data"
    }
   ],
   "source": [
    "# first, we'll define our gaussian function\n",
    "def single_gauss(h, a, m, s):\n",
    "    return a * np.exp(-(h - m)**2 / 2.0 / s**2)\n",
    "\n",
    "# then we'll call curve fit.  Notice the initial parameter values supplied in p0\n",
    "gauss_popt, gauss_pcov = curve_fit(single_gauss, bin_centers, bin_occs, \n",
    "                                   p0=[500, 170, 20])\n",
    "\n",
    "print(gauss_popt)"
   ]
  },
  {
   "cell_type": "markdown",
   "metadata": {},
   "source": [
    "Just as above, `curve_fit` finds the optimal values of the fit parameters and returns these optimal values as the list which we call `popt`.  I printed out the optimal values at the end of the previous block.\n",
    "\n",
    "The last argument that I supplied to `curve_fit` is the array of starting values for the fit parameters.  I guessed these values by looking at the histogram.  These don't *need* to be supplied, but it makes `scipy`'s optimization job a lot easier to have some good starting values.\n",
    "\n",
    "Let's now plot the optimized fit function and *visually* inspect how good the fit is."
   ]
  },
  {
   "cell_type": "code",
   "execution_count": 12,
   "metadata": {},
   "outputs": [
    {
     "data": {
      "image/png": "[encoded data removed]",
      "text/plain": [
       "<Figure size 648x288 with 1 Axes>"
      ]
     },
     "metadata": {
      "needs_background": "light"
     },
     "output_type": "display_data"
    }
   ],
   "source": [
    "## use the function and the optimal parameter values to predict the bin occupancies\n",
    "fcn_vals = single_gauss(bin_centers, gauss_popt[0], gauss_popt[1], gauss_popt[2])\n",
    "\n",
    "fig = plt.figure(figsize=(9,4))\n",
    "plt.hist(harr, bins=110, range=[110,220])\n",
    "plt.xlabel('heights (cm)')\n",
    "\n",
    "plt.plot(bin_centers,fcn_vals,\"r-\") # plot the predictions as a red line\n",
    "plt.show()"
   ]
  },
  {
   "cell_type": "markdown",
   "metadata": {},
   "source": [
    "Wow!  That looks pretty... um... well, it looks *okay*.  That funky lower tail is bugging me.  Let's construct a more general function that is a sum of two gaussians to try to fit both contributions.  We can use the same procedure as before:"
   ]
  },
  {
   "cell_type": "code",
   "execution_count": 13,
   "metadata": {},
   "outputs": [
    {
     "data": {
      "text/html": [
       "<pre style=\"white-space:pre;overflow-x:auto;line-height:normal;font-family:Menlo,'DejaVu Sans Mono',consolas,'Courier New',monospace\"><span style=\"font-weight: bold\">[</span><span style=\"color: #008080; text-decoration-color: #008080; font-weight: bold\">674.71713648</span> <span style=\"color: #008080; text-decoration-color: #008080; font-weight: bold\">173.30245567</span>  <span style=\"color: #008080; text-decoration-color: #008080; font-weight: bold\">10.56013208</span>  <span style=\"color: #008080; text-decoration-color: #008080; font-weight: bold\">86.99174906</span> <span style=\"color: #008080; text-decoration-color: #008080; font-weight: bold\">141.52885412</span>\n",
       "   <span style=\"color: #008080; text-decoration-color: #008080; font-weight: bold\">7.78617893</span><span style=\"font-weight: bold\">]</span>\n",
       "</pre>\n"
      ],
      "text/plain": [
       "\u001b[1m[\u001b[0m\u001b[1;36m674.71713648\u001b[0m \u001b[1;36m173.30245567\u001b[0m  \u001b[1;36m10.56013208\u001b[0m  \u001b[1;36m86.99174906\u001b[0m \u001b[1;36m141.52885412\u001b[0m\n",
       "   \u001b[1;36m7.78617893\u001b[0m\u001b[1m]\u001b[0m\n"
      ]
     },
     "metadata": {},
     "output_type": "display_data"
    },
    {
     "data": {
      "image/png": "[encoded data removed]",
      "text/plain": [
       "<Figure size 648x288 with 1 Axes>"
      ]
     },
     "metadata": {
      "needs_background": "light"
     },
     "output_type": "display_data"
    }
   ],
   "source": [
    "# create a function that tis the sum of two gaussians...\n",
    "# more parameters means more freedom to fit the data\n",
    "def double_gauss(h, a1, m1, s1, a2, m2, s2):\n",
    "    g1 = a1 * np.exp(-(h - m1)**2 / 2.0 / s1**2)\n",
    "    g2 = a2 * np.exp(-(h - m2)**2 / 2.0 / s2**2)\n",
    "    return g1 + g2\n",
    "\n",
    "# fit the new function to the data\n",
    "# need to supply twice as many initial parameter values\n",
    "dgauss_popt, dgauss_pcov = curve_fit(double_gauss, bin_centers, bin_occs, \n",
    "                                     p0=[500, 170, 20, 100, 150, 10])\n",
    "\n",
    "print(dgauss_popt)\n",
    "\n",
    "# make predictions with the new function\n",
    "fcn2_vals = double_gauss(bin_centers, \n",
    "                         dgauss_popt[0], dgauss_popt[1], dgauss_popt[2], \n",
    "                         dgauss_popt[3], dgauss_popt[4], dgauss_popt[5])\n",
    "\n",
    "## let's plot them all together now!\n",
    "fig = plt.figure(figsize=(9,4))\n",
    "plt.hist(harr, bins=110, range=[110,220], alpha=0.4)\n",
    "plt.xlabel('heights (cm)')\n",
    "\n",
    "plt.plot(bin_centers,fcn_vals,\"r--\",linewidth=3) # plot the single-gaussian predictions\n",
    "plt.plot(bin_centers,fcn2_vals,\"g--\",linewidth=3) # plot the double-gaussian predictions\n",
    "plt.show()"
   ]
  },
  {
   "cell_type": "markdown",
   "metadata": {},
   "source": [
    "The green curve is our double-gaussian distribution.  NOW **THAT'S** A FIT.  WOO WOO.\n",
    "\n",
    "What can we learn from this?  Well, if this were REAL data, we would probably hypothesize that our population consists of two sub-populations: a larger group with mean height of 173.29 cm and a smaller group with mean height of 141.55 cm.  Maybe the population being catalogued here is all of the people at an ENORMOUS middle-school PTA meeting -- the taller group is adults and the shorter group is smaller number of middle-school kids who were dragged along for the ride.\n",
    "\n",
    "****\n",
    "\n",
    "## Gut check\n",
    "\n",
    "So.  Why in the WORLD would someone go to all of the trouble of writing code like this to do something that Excel or Mathematica or LoggerPro could do with just a few mouse clicks?  Here are some reasons that I think are important:\n",
    "\n",
    "#### 1. Power and flexibility\n",
    "\n",
    "The approach outlined above allows the user to fit *any* function to any dataset, and has many other built-in flexibilities.  It's POWERFUL.  This may not seem like a big deal, but as you work with more-sophisticated data, Excel and Logger Pro's built-in functions just won't cut it.  LoggerPro has no option for a sum of two gaussians.  Don't even ask about Excel.  In addition, you can do things like place bounds on the parameters (\"don't let the mean get bigger than 1.2\") and you can fit multiple subranges of the dataset.  These modules are designed by data scientists -- if you have a specific need, chances are good that a python developer thought of it a long time ago.\n",
    "\n",
    "#### 2. Modularity and scalability \n",
    "\n",
    "If you write the code once, you can apply it to *many* datasets very quickly.  Let's say that I now gave you thirty more datasets to fit as above.  You could simply put all of this code inside of a loop over the data file names and let this one program structure automate the fitting for all of the datasets.\n",
    "\n",
    "#### 3. Data uncertainties \n",
    "\n",
    "More sophisticated techniques like this allow you to handle uncertainties on your data points.  These experimental uncertainties affect fits!  If a single data point has a very small uncertainty, then the fit should \"feel\" obligated to match the fuction to that point as closely as the other points.  We'll demonstrate this later.\n",
    "\n",
    "#### 4. Parameter uncertainties\n",
    "\n",
    "The fitting techniques above provide quantites like the fit-parameter uncertainties.  This leads to a better scientific understanding of whatever you're studying.\n",
    "\n",
    "When you fit a function with, *e.g.*, Excel, the software tells you what the \"optimal\" values of the fit parameters are, but it does not give the uncertainties on these parameters.  What does this mean?  Well, when we fit data with a function, we're trying to determine the values of the fit parameters that make the function as close to the data points as possible.  In many cases \"as close as possible\" is ambiguous; if we change the value of the first parameter, the function may get farther from one data point but closer to another.  Thus, there's an inherent uncertainty in the value of the fit parameter returned by the fitting algorithm.  This is just like how we use an experimental uncertaintly to mean (roughly) \"we're confident of the value of this quantity to within $\\pm \\sigma$\".\n",
    "\n",
    "***\n",
    "\n",
    "## Extracting fit parameter uncertainties\n",
    "\n",
    "Here is how to extract these uncertainties.  First, I'll refit that double gaussian from the previous example.  Notice that there are two outputs from the `curve_fit` operation.  The first is the optimal values of the fit parameters (I call it `dgauss_popt`).  Let's look at the second, `dgauss_pcov`:"
   ]
  },
  {
   "cell_type": "code",
   "execution_count": 14,
   "metadata": {},
   "outputs": [
    {
     "data": {
      "text/html": [
       "<pre style=\"white-space:pre;overflow-x:auto;line-height:normal;font-family:Menlo,'DejaVu Sans Mono',consolas,'Courier New',monospace\"><span style=\"font-weight: bold\">[[</span> <span style=\"color: #008080; text-decoration-color: #008080; font-weight: bold\">2.03634223e+01</span>  <span style=\"color: #008080; text-decoration-color: #008080; font-weight: bold\">4.58130777e-02</span> <span style=\"color: #008080; text-decoration-color: #008080; font-weight: bold\">-2.64954830e-01</span>  <span style=\"color: #008080; text-decoration-color: #008080; font-weight: bold\">1.17724349e+00</span>\n",
       "   <span style=\"color: #008080; text-decoration-color: #008080; font-weight: bold\">5.10333369e-01</span>  <span style=\"color: #008080; text-decoration-color: #008080; font-weight: bold\">3.92992237e-01</span><span style=\"font-weight: bold\">]</span>\n",
       " <span style=\"font-weight: bold\">[</span> <span style=\"color: #008080; text-decoration-color: #008080; font-weight: bold\">4.58130777e-02</span>  <span style=\"color: #008080; text-decoration-color: #008080; font-weight: bold\">8.51766411e-03</span> <span style=\"color: #008080; text-decoration-color: #008080; font-weight: bold\">-2.93106841e-03</span> <span style=\"color: #008080; text-decoration-color: #008080; font-weight: bold\">-3.09644370e-02</span>\n",
       "   <span style=\"color: #008080; text-decoration-color: #008080; font-weight: bold\">2.13540804e-02</span>  <span style=\"color: #008080; text-decoration-color: #008080; font-weight: bold\">2.49982763e-02</span><span style=\"font-weight: bold\">]</span>\n",
       " <span style=\"font-weight: bold\">[</span><span style=\"color: #008080; text-decoration-color: #008080; font-weight: bold\">-2.64954830e-01</span> <span style=\"color: #008080; text-decoration-color: #008080; font-weight: bold\">-2.93106841e-03</span>  <span style=\"color: #008080; text-decoration-color: #008080; font-weight: bold\">1.02429806e-02</span> <span style=\"color: #008080; text-decoration-color: #008080; font-weight: bold\">-2.63147415e-03</span>\n",
       "  <span style=\"color: #008080; text-decoration-color: #008080; font-weight: bold\">-2.97455176e-02</span> <span style=\"color: #008080; text-decoration-color: #008080; font-weight: bold\">-3.01055857e-02</span><span style=\"font-weight: bold\">]</span>\n",
       " <span style=\"font-weight: bold\">[</span> <span style=\"color: #008080; text-decoration-color: #008080; font-weight: bold\">1.17724349e+00</span> <span style=\"color: #008080; text-decoration-color: #008080; font-weight: bold\">-3.09644370e-02</span> <span style=\"color: #008080; text-decoration-color: #008080; font-weight: bold\">-2.63147415e-03</span>  <span style=\"color: #008080; text-decoration-color: #008080; font-weight: bold\">2.63477605e+01</span>\n",
       "  <span style=\"color: #008080; text-decoration-color: #008080; font-weight: bold\">-6.07701354e-02</span> <span style=\"color: #008080; text-decoration-color: #008080; font-weight: bold\">-1.64357749e+00</span><span style=\"font-weight: bold\">]</span>\n",
       " <span style=\"font-weight: bold\">[</span> <span style=\"color: #008080; text-decoration-color: #008080; font-weight: bold\">5.10333369e-01</span>  <span style=\"color: #008080; text-decoration-color: #008080; font-weight: bold\">2.13540804e-02</span> <span style=\"color: #008080; text-decoration-color: #008080; font-weight: bold\">-2.97455176e-02</span> <span style=\"color: #008080; text-decoration-color: #008080; font-weight: bold\">-6.07701354e-02</span>\n",
       "   <span style=\"color: #008080; text-decoration-color: #008080; font-weight: bold\">3.90363597e-01</span>  <span style=\"color: #008080; text-decoration-color: #008080; font-weight: bold\">1.19844598e-01</span><span style=\"font-weight: bold\">]</span>\n",
       " <span style=\"font-weight: bold\">[</span> <span style=\"color: #008080; text-decoration-color: #008080; font-weight: bold\">3.92992237e-01</span>  <span style=\"color: #008080; text-decoration-color: #008080; font-weight: bold\">2.49982763e-02</span> <span style=\"color: #008080; text-decoration-color: #008080; font-weight: bold\">-3.01055857e-02</span> <span style=\"color: #008080; text-decoration-color: #008080; font-weight: bold\">-1.64357749e+00</span>\n",
       "   <span style=\"color: #008080; text-decoration-color: #008080; font-weight: bold\">1.19844598e-01</span>  <span style=\"color: #008080; text-decoration-color: #008080; font-weight: bold\">4.10415904e-01</span><span style=\"font-weight: bold\">]]</span>\n",
       "</pre>\n"
      ],
      "text/plain": [
       "\u001b[1m[\u001b[0m\u001b[1m[\u001b[0m \u001b[1;36m2.03634223e+01\u001b[0m  \u001b[1;36m4.58130777e-02\u001b[0m \u001b[1;36m-2.64954830e-01\u001b[0m  \u001b[1;36m1.17724349e+00\u001b[0m\n",
       "   \u001b[1;36m5.10333369e-01\u001b[0m  \u001b[1;36m3.92992237e-01\u001b[0m\u001b[1m]\u001b[0m\n",
       " \u001b[1m[\u001b[0m \u001b[1;36m4.58130777e-02\u001b[0m  \u001b[1;36m8.51766411e-03\u001b[0m \u001b[1;36m-2.93106841e-03\u001b[0m \u001b[1;36m-3.09644370e-02\u001b[0m\n",
       "   \u001b[1;36m2.13540804e-02\u001b[0m  \u001b[1;36m2.49982763e-02\u001b[0m\u001b[1m]\u001b[0m\n",
       " \u001b[1m[\u001b[0m\u001b[1;36m-2.64954830e-01\u001b[0m \u001b[1;36m-2.93106841e-03\u001b[0m  \u001b[1;36m1.02429806e-02\u001b[0m \u001b[1;36m-2.63147415e-03\u001b[0m\n",
       "  \u001b[1;36m-2.97455176e-02\u001b[0m \u001b[1;36m-3.01055857e-02\u001b[0m\u001b[1m]\u001b[0m\n",
       " \u001b[1m[\u001b[0m \u001b[1;36m1.17724349e+00\u001b[0m \u001b[1;36m-3.09644370e-02\u001b[0m \u001b[1;36m-2.63147415e-03\u001b[0m  \u001b[1;36m2.63477605e+01\u001b[0m\n",
       "  \u001b[1;36m-6.07701354e-02\u001b[0m \u001b[1;36m-1.64357749e+00\u001b[0m\u001b[1m]\u001b[0m\n",
       " \u001b[1m[\u001b[0m \u001b[1;36m5.10333369e-01\u001b[0m  \u001b[1;36m2.13540804e-02\u001b[0m \u001b[1;36m-2.97455176e-02\u001b[0m \u001b[1;36m-6.07701354e-02\u001b[0m\n",
       "   \u001b[1;36m3.90363597e-01\u001b[0m  \u001b[1;36m1.19844598e-01\u001b[0m\u001b[1m]\u001b[0m\n",
       " \u001b[1m[\u001b[0m \u001b[1;36m3.92992237e-01\u001b[0m  \u001b[1;36m2.49982763e-02\u001b[0m \u001b[1;36m-3.01055857e-02\u001b[0m \u001b[1;36m-1.64357749e+00\u001b[0m\n",
       "   \u001b[1;36m1.19844598e-01\u001b[0m  \u001b[1;36m4.10415904e-01\u001b[0m\u001b[1m]\u001b[0m\u001b[1m]\u001b[0m\n"
      ]
     },
     "metadata": {},
     "output_type": "display_data"
    }
   ],
   "source": [
    "dgauss_popt, dgauss_pcov = curve_fit(double_gauss, bin_centers, bin_occs, \n",
    "                                     p0=[500, 170, 20, 100, 150, 10])\n",
    "print(dgauss_pcov)"
   ]
  },
  {
   "cell_type": "markdown",
   "metadata": {},
   "source": [
    "Barf!  What is this?  This is a 6x6  (note that there are 6 fit parameters) matrix called the **covariance matrix**, and it stores all of the uncertainty information from the fit.  [The Wikipedia entry for covariance matrix](https://en.wikipedia.org/wiki/Covariance_matrix) is pretty deece!\n",
    "\n",
    "What you need to know is that the covariance matrix stores information about uncertainties in and correlations between the fit parameters.  The latter of these is not necessary for us right now.  However, the former is what we want.  The diagonal elements of the covariance matrix are the squares of the (1 standard deviation) parameter uncertainties!  So for fit parameter $p_i$,\n",
    "\n",
    "$$\n",
    "  \\sigma_i = \\sqrt{pcov2_{ii}}\n",
    "$$\n",
    "\n",
    "Said in words, the uncertainty of the $i^{th}$ fit parameter is the $(i,i)$ element of the covariance matrix (an element on the diagonal).  If you're comfortable with matrices, you might picture the covariance matrix as something like this:\n",
    "\n",
    "$$\n",
    "pcov2 = \\begin{bmatrix} \n",
    "    \\sigma^{2}_{11} & ? & ? & \\dots & ? \\\\\n",
    "    ? & \\sigma^{2}_{22} & ? & \\dots & ? \\\\\n",
    "    ? & ? & \\sigma^{2}_{33} & \\dots & ? \\\\\n",
    "    \\vdots & \\vdots & \\vdots & \\ddots & \\vdots \\\\ \n",
    "    ? & ? & ? & \\dots & \\sigma^{2}_{nn} \n",
    "    \\end{bmatrix}\n",
    "\\qquad\n",
    "$$\n",
    "\n",
    "Let's make a list of these uncertainties and the print out our extracted fit results.  Note that I've been carefult to not use the term \"results\" until we had these uncertainties!"
   ]
  },
  {
   "cell_type": "code",
   "execution_count": 15,
   "metadata": {},
   "outputs": [
    {
     "data": {
      "text/html": [
       "<pre style=\"white-space:pre;overflow-x:auto;line-height:normal;font-family:Menlo,'DejaVu Sans Mono',consolas,'Courier New',monospace\">fit parameter <span style=\"color: #008080; text-decoration-color: #008080; font-weight: bold\">0</span>:        <span style=\"color: #008080; text-decoration-color: #008080; font-weight: bold\">674.7171364793677</span>        +<span style=\"color: #800080; text-decoration-color: #800080\">/</span><span style=\"color: #ff00ff; text-decoration-color: #ff00ff\">-</span> <span style=\"color: #008080; text-decoration-color: #008080; font-weight: bold\">4.512584881190567</span>\n",
       "</pre>\n"
      ],
      "text/plain": [
       "fit parameter \u001b[1;36m0\u001b[0m:        \u001b[1;36m674.7171364793677\u001b[0m        +\u001b[35m/\u001b[0m\u001b[95m-\u001b[0m \u001b[1;36m4.512584881190567\u001b[0m\n"
      ]
     },
     "metadata": {},
     "output_type": "display_data"
    },
    {
     "data": {
      "text/html": [
       "<pre style=\"white-space:pre;overflow-x:auto;line-height:normal;font-family:Menlo,'DejaVu Sans Mono',consolas,'Courier New',monospace\">fit parameter <span style=\"color: #008080; text-decoration-color: #008080; font-weight: bold\">1</span>:        <span style=\"color: #008080; text-decoration-color: #008080; font-weight: bold\">173.3024556688</span>   +<span style=\"color: #800080; text-decoration-color: #800080\">/</span><span style=\"color: #ff00ff; text-decoration-color: #ff00ff\">-</span> <span style=\"color: #008080; text-decoration-color: #008080; font-weight: bold\">0.09229119192864041</span>\n",
       "</pre>\n"
      ],
      "text/plain": [
       "fit parameter \u001b[1;36m1\u001b[0m:        \u001b[1;36m173.3024556688\u001b[0m   +\u001b[35m/\u001b[0m\u001b[95m-\u001b[0m \u001b[1;36m0.09229119192864041\u001b[0m\n"
      ]
     },
     "metadata": {},
     "output_type": "display_data"
    },
    {
     "data": {
      "text/html": [
       "<pre style=\"white-space:pre;overflow-x:auto;line-height:normal;font-family:Menlo,'DejaVu Sans Mono',consolas,'Courier New',monospace\">fit parameter <span style=\"color: #008080; text-decoration-color: #008080; font-weight: bold\">2</span>:        <span style=\"color: #008080; text-decoration-color: #008080; font-weight: bold\">10.560132082666808</span>       +<span style=\"color: #800080; text-decoration-color: #800080\">/</span><span style=\"color: #ff00ff; text-decoration-color: #ff00ff\">-</span> <span style=\"color: #008080; text-decoration-color: #008080; font-weight: bold\">0.1012076113719289</span>\n",
       "</pre>\n"
      ],
      "text/plain": [
       "fit parameter \u001b[1;36m2\u001b[0m:        \u001b[1;36m10.560132082666808\u001b[0m       +\u001b[35m/\u001b[0m\u001b[95m-\u001b[0m \u001b[1;36m0.1012076113719289\u001b[0m\n"
      ]
     },
     "metadata": {},
     "output_type": "display_data"
    },
    {
     "data": {
      "text/html": [
       "<pre style=\"white-space:pre;overflow-x:auto;line-height:normal;font-family:Menlo,'DejaVu Sans Mono',consolas,'Courier New',monospace\">fit parameter <span style=\"color: #008080; text-decoration-color: #008080; font-weight: bold\">3</span>:        <span style=\"color: #008080; text-decoration-color: #008080; font-weight: bold\">86.99174906038719</span>        +<span style=\"color: #800080; text-decoration-color: #800080\">/</span><span style=\"color: #ff00ff; text-decoration-color: #ff00ff\">-</span> <span style=\"color: #008080; text-decoration-color: #008080; font-weight: bold\">5.133006967310845</span>\n",
       "</pre>\n"
      ],
      "text/plain": [
       "fit parameter \u001b[1;36m3\u001b[0m:        \u001b[1;36m86.99174906038719\u001b[0m        +\u001b[35m/\u001b[0m\u001b[95m-\u001b[0m \u001b[1;36m5.133006967310845\u001b[0m\n"
      ]
     },
     "metadata": {},
     "output_type": "display_data"
    },
    {
     "data": {
      "text/html": [
       "<pre style=\"white-space:pre;overflow-x:auto;line-height:normal;font-family:Menlo,'DejaVu Sans Mono',consolas,'Courier New',monospace\">fit parameter <span style=\"color: #008080; text-decoration-color: #008080; font-weight: bold\">4</span>:        <span style=\"color: #008080; text-decoration-color: #008080; font-weight: bold\">141.52885412420665</span>       +<span style=\"color: #800080; text-decoration-color: #800080\">/</span><span style=\"color: #ff00ff; text-decoration-color: #ff00ff\">-</span> <span style=\"color: #008080; text-decoration-color: #008080; font-weight: bold\">0.6247908429365927</span>\n",
       "</pre>\n"
      ],
      "text/plain": [
       "fit parameter \u001b[1;36m4\u001b[0m:        \u001b[1;36m141.52885412420665\u001b[0m       +\u001b[35m/\u001b[0m\u001b[95m-\u001b[0m \u001b[1;36m0.6247908429365927\u001b[0m\n"
      ]
     },
     "metadata": {},
     "output_type": "display_data"
    },
    {
     "data": {
      "text/html": [
       "<pre style=\"white-space:pre;overflow-x:auto;line-height:normal;font-family:Menlo,'DejaVu Sans Mono',consolas,'Courier New',monospace\">fit parameter <span style=\"color: #008080; text-decoration-color: #008080; font-weight: bold\">5</span>:        <span style=\"color: #008080; text-decoration-color: #008080; font-weight: bold\">7.786178933792858</span>        +<span style=\"color: #800080; text-decoration-color: #800080\">/</span><span style=\"color: #ff00ff; text-decoration-color: #ff00ff\">-</span> <span style=\"color: #008080; text-decoration-color: #008080; font-weight: bold\">0.6406371076026887</span>\n",
       "</pre>\n"
      ],
      "text/plain": [
       "fit parameter \u001b[1;36m5\u001b[0m:        \u001b[1;36m7.786178933792858\u001b[0m        +\u001b[35m/\u001b[0m\u001b[95m-\u001b[0m \u001b[1;36m0.6406371076026887\u001b[0m\n"
      ]
     },
     "metadata": {},
     "output_type": "display_data"
    }
   ],
   "source": [
    "dgauss_popt_sigs = []\n",
    "for i in range(len(dgauss_popt)):\n",
    "    dgauss_popt_sigs.append(np.sqrt(dgauss_pcov[i][i])) # grab the element from dgauss_pcov\n",
    "                      \n",
    "    print(\"fit parameter \" + str(i) + \":\\t\" + str(dgauss_popt[i]) + \"\\t +/- \"\n",
    "                                            + str(dgauss_popt_sigs[i]))"
   ]
  },
  {
   "cell_type": "markdown",
   "metadata": {},
   "source": [
    "So, we can now answer questions like: What is the mean height of the taller sub-population?  Well, it's \n",
    "\n",
    "$$\n",
    "  m_1 = (173.30 \\pm 0.09)\\textrm{ cm}\n",
    "$$  \n",
    "\n",
    "My fit says so!\n",
    "\n",
    "Now, not all of these digits are significant, but we could amend the code to only output two decimal places should we wish.\n",
    "\n",
    "****\n",
    "\n",
    "## Fitting data with uncertainties\n",
    "\n",
    "Let's return to fitting bivariate data.  This time, we'll consider the error bars on the data points.  The block of code below graphs the linear spring-stretching data that we used at the top of this notebook."
   ]
  },
  {
   "cell_type": "code",
   "execution_count": 17,
   "metadata": {},
   "outputs": [
    {
     "data": {
      "image/png": "[encoded data removed]",
      "text/plain": [
       "<Figure size 648x288 with 1 Axes>"
      ]
     },
     "metadata": {
      "needs_background": "light"
     },
     "output_type": "display_data"
    }
   ],
   "source": [
    "fil = open('data_files/spring_stretch.csv','r')\n",
    "xs, fs, xerrs, ferrs = [], [], [], []\n",
    "\n",
    "lin = fil.readline()\n",
    "lin = fil.readline()\n",
    "while len(lin) > 1:\n",
    "    lin_arr = lin.split(',')\n",
    "    xs.append(float(lin_arr[0]))\n",
    "    fs.append(float(lin_arr[1]))\n",
    "    xerrs.append(float(lin_arr[2]))\n",
    "    ferrs.append(float(lin_arr[3]))\n",
    "    lin = fil.readline()\n",
    "fil.close()\n",
    "\n",
    "fig = plt.figure(figsize=(9,4))\n",
    "plt.errorbar(xs, fs, xerr=xerrs, yerr=ferrs, fmt='.')\n",
    "plt.xlabel('stretch (cm)')\n",
    "plt.ylabel('spring force (N)')\n",
    "plt.title('stretching a spring')\n",
    "plt.show()"
   ]
  },
  {
   "cell_type": "markdown",
   "metadata": {},
   "source": [
    "We see now that the data points have varying uncertainties -- in particular that wonky-looking point at $x \\approx 7$ cm has a lerger error bar than the other points.  When we do a fit, our fit should try less hard to match this data point because its value is less certain!  This can be done by supplying the uncertainty values to `curve_fit`.  \n",
    "\n",
    "Note that we're only going to supply the uncertainties in the force, not the uncertainties in distance.  Doing both requires more sophisticated methods (which `scipy` has, but we'll ignore)."
   ]
  },
  {
   "cell_type": "code",
   "execution_count": null,
   "metadata": {},
   "outputs": [],
   "source": [
    "def linear_func_error(x, m, b):\n",
    "    return m * x + b\n",
    "\n",
    "\n",
    "spring_popt2, spring_pcov2 = curve_fit(linear_func_error, xs, fs, \n",
    "                                       sigma=ferrs, p0=[3.4, 0.0])\n",
    "\n",
    "print(spring_popt2)\n",
    "\n",
    "f2_model = linear_func_error(xrange, spring_popt2[0], spring_popt2[1])\n",
    "\n",
    "fig = plt.figure(figsize=(9, 4))\n",
    "plt.errorbar(xs, fs, xerr=xerrs, yerr=ferrs, fmt='.')\n",
    "plt.plot(xrange, f_model, '-m', label='fit function w/o errors')\n",
    "plt.plot(xrange, f2_model, '-g', label='fit function w/ errors')\n",
    "plt.xlabel('stretch (cm)')\n",
    "plt.ylabel('spring force (N)')\n",
    "plt.title('stretching a spring')\n",
    "plt.legend()\n",
    "plt.show()\n",
    "\n",
    "print(\"The optimal spring constant value is (\" \n",
    "      + str(round(spring_popt2[0],4)) \n",
    "      + \" +/- \" + str(round(np.sqrt(spring_pcov2[0][0]),4)) + \") N/cm\")"
   ]
  },
  {
   "cell_type": "markdown",
   "metadata": {},
   "source": [
    "Wow, very sophisticated.  I've plotted both the previous fit function (that ignored errors, magenta) and the new fit function (green).  Notice that they're not the same!!!  The new fit function is a bit higher because it doesn't try to match that wonky point at $x \\approx 7$ cm."
   ]
  },
  {
   "cell_type": "markdown",
   "metadata": {},
   "source": [
    "***\n",
    "\n",
    "## In summary\n",
    "\n",
    "There is a large amount of detail that we're skipping here, because it's outside the scope of the course course.  Most of this detail is related to how `scipy` judges whether a fit is \"good\" and how it knows how to vary the parameter values to improve the fit.  PhD theses have been written (and continue to be written) about this procedure.  Suffice to say that: \n",
    "- `curve_fit` doesn't just \"eyeball\" the fit -- it uses an algorithmic process for optimizing fit parameters.  The process relies on a quantification of the difference between the function and each datapoint, and `curve_fit` knows how to wiggle parameter values to make this quantity as small as possible.\n",
    "- the results for modest datasets and simple-ish functions are pretty robust.  You could vary the parameter initial values in the fits above and get the same optimal fit parameters (with negligibly small variations)\n",
    "\n",
    "***"
   ]
  },
  {
   "cell_type": "markdown",
   "metadata": {},
   "source": [
    "## Problems\n",
    "\n",
    "Your homework is to complete **two** (2) of the following problems.\n",
    "\n",
    "### Regulars \n",
    "\n",
    "#### Problem 5.0\n",
    "The file `parab_t_and_y_error.csv` contains vertical position and time measurements of a projectile.  Fit the data in this file with the kinematic equation model given in section III of this notebook.  From this fit, extract the vertical acceleration and its associated uncertainty.  Is this value consistent with $g = 9.80$ m/s$^2$?  Write a block of markdown to explain what you did and your results.\n",
    "#### Problem 5.1\n",
    "Return to the NBA data (again???) from a few lessons back.  Make a histogram of the half-time point differential (team2 - team1).  Configure the histogram to have 1-point-wide bins.  Fit a gaussian to this histogram to extract the mean point differential (and its uncertainty) and the standard deviation.  Does the gaussian function look like it adequately characterizes the data?  Now make a histogram of the final point differential.  Comment on whether a gaussian function would be a good description of the data.  If not, why not???  Write a block of markdown to explain your process and your results.  \n",
    "\n",
    "#### Problem 5.2\n",
    "The file `wash_pa_temps_only.csv` contains the temperature maxes and mins per day for the years 2000-2009 in Washington, PA.  Over 3500 data points!  Make a graph of the maximum temp versus day number.  Fit this data with a function of the following form: \n",
    "\n",
    "$$\n",
    "  T(t) = A\\cos\\left( \\omega t + \\phi\\right) + B\n",
    "$$\n",
    "\n",
    "This function has four fit parameters: $A$, $\\omega$, $\\phi$, and $B$.  Make sure you supply good initial guesses for these parameters.  Use your values of $\\omega$ and $B$ returned by the fit to estimate the length of the year.  Also estimate the average **annual** temperature from your fit parameters. (Note: It is likely that the biggest problem that you'll have is determining \"good\" initial parameter values.  Think very hard about what type of quantity $\\omega$ is and how it relates to the length of a year.)\n",
    "\n",
    "### Mega-Meanies, free-candy edition\n",
    "\n",
    "#### Problem 5.3\n",
    "You and a partner will be given a number of small (so-called \"fun size\" [*sic*]) bags of Skittles. Your job is to characterize the number **yellow** Skittles in an average fun-size bag (FSB).  Open **each** of the FSBs and count the total number of Skittles and the number of yellow Skittles in each.  Enter this data into a csv file, where each row represents a single FSB.  Then, write `python` code that plots separate histograms of the totals and the numbers of yellows.  Your histograms should be configured to have 1-unit-wide bins.  It is likely that this dataset will be described by the [Poisson distribution](https://en.wikipedia.org/wiki/Poisson_distribution).  In this application, the Poisson distribution tells us the that the probability of finding $k$ yellows in an FSB is given by \n",
    "$$\n",
    "  \\textrm{Pr}(k) = A\\frac{\\lambda^{-k}e^{\\lambda}}{k!}\n",
    "$$\n",
    "\n",
    "where $\\lambda$ is the \"expected value\" of the number of yellows in each FSB and $A$ is a scale factor that will make fitting easier.  Fit this function to the histogram for yellows to extract the expected number of yellows per FSB.  Write a block of markdown to explain your process and your results.  (Note: If you want to do this exercise, you need to tell me by Thursday evening so that I can acquire Skittles.)\n",
    "4. (BONUS) Now fit a Poisson PMF to the distribution of total Skittles in an FSB. Use your your results from this and the previous problem to estimate the probability that a bag will be all yellows.\n",
    "4. Get the file `cobe_cmb_data.txt` from Sakai.  This file contains the data represented in the CMB first item of Section II of this notebook.  The first column of data in this file represents the oscillations of light per cm; you will have to do a simple calculation to convert this to either a wavelength or a frequency.  Look online for a functional form of the black-body spectrum. Fit this functional form to the data and extract the temperature of... the Universe!"
   ]
  },
  {
   "cell_type": "code",
   "execution_count": null,
   "metadata": {},
   "outputs": [],
   "source": []
  }
 ],
 "metadata": {
  "kernelspec": {
   "display_name": "Python 3 (ipykernel)",
   "language": "python",
   "name": "python3"
  },
  "language_info": {
   "codemirror_mode": {
    "name": "ipython",
    "version": 3
   },
   "file_extension": ".py",
   "mimetype": "text/x-python",
   "name": "python",
   "nbconvert_exporter": "python",
   "pygments_lexer": "ipython3",
   "version": "3.8.8"
  }
 },
 "nbformat": 4,
 "nbformat_minor": 4
}
