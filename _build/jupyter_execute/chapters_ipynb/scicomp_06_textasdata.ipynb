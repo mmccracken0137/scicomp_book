{
 "cells": [
  {
   "cell_type": "markdown",
   "metadata": {},
   "source": [
    "# Text as data"
   ]
  },
  {
   "cell_type": "markdown",
   "metadata": {},
   "source": [
    "## Recap\n",
    "\n",
    "We're way past the point of no return in becoming meaningful users of computers!  Just check out this non-exhaustive list of basic skills that we've covered:\n",
    "- basic mathematical operations\n",
    "- iteration and recursion with loop control structures `for` and `while`\n",
    "- keeping track of variables outside of loops (i.e., counting and summing)\n",
    "- function definition and using functions *inside* of loops\n",
    "- conditionals with `if`, `else`, and `elif`\n",
    "- types: `int`, `float`, `string`\n",
    "- containers such as `list` and `dict`\n",
    "- randm number generation\n",
    "- accessing and iterating over elements in lists and dicts\n",
    "- file I/O\n",
    "- basic (and semi-advanced) data visualization: histograms, scatter plots, higher-dimensions in 2-d\n",
    "- fitting models to data and extracting results (with uncertainties)\n",
    "\n",
    "**Wow**, that's a LOT of stuff.  You're scaring me with that big brain of yours.\n",
    "\n",
    "***\n",
    "\n",
    "## This lesson: Something completely different\n",
    "\n",
    "In this lesson we're going to pause the accumulation of new skills to do some applications.  We have a lot of tools in our toolboxes!  Let's take some time to explore how these tools can help us answer questions outside of the physical sciences."
   ]
  },
  {
   "cell_type": "markdown",
   "metadata": {},
   "source": [
    "## Word analysis\n",
    "\n",
    "Let's turn our attention to the quantitative analysis of textual information.  In some of your other classes, you're learning to use the close reading or synthesis of texts to gain understanding of history, human experiences, emotions, *etc.*  This is awesome!  That's not what we're going to do today.\n",
    "\n",
    "Today we're going to treat texts as data!  We'll work with a dataset consisting of several texts that are in the public domain (*i.e.*, they're old and can be accessed without copyright issues).  What can we learn from quantitative analysis of text?  What kinds of questions can we ask about language and narrative structure?\n",
    "\n",
    "The exception, however, is `words_alpha.txt`; this file lists 370102 English-language words.  [[Source]](https://github.com/dwyl/english-words)  The question whether this is \"all\" of the words in the English language is perhaps not valid, but this file certainly contains a lot of them.  Let's do some warm-up with this file.  Get ready to flex those `string`-manipulation muscles, and remember that characters in a string can be accessed by index (like elements in a list)."
   ]
  },
  {
   "cell_type": "markdown",
   "metadata": {},
   "source": [
    "#### Warm-up 1\n",
    "\n",
    "Read in the file line by line, and determine how many words begin with the letter \"m\".  Are there any that begin with \"M\"?"
   ]
  },
  {
   "cell_type": "code",
   "execution_count": 1,
   "metadata": {},
   "outputs": [],
   "source": [
    "# here is some skeleton code that parses through the file...\n",
    "import numpy as np\n",
    "\n",
    "file = open('data_files/words_alpha.txt', 'r')\n",
    "line = file.readline()\n",
    "\n",
    "while len(line) > 0:\n",
    "    \n",
    "    line = file.readline()\n",
    "    \n",
    "file.close()"
   ]
  },
  {
   "cell_type": "markdown",
   "metadata": {},
   "source": [
    "#### Warm-up 2\n",
    "\n",
    "- How long is the longest word in the list?\n",
    "- What is the longest word in the list?\n",
    "- What word(s) have the most 'z's in them?"
   ]
  },
  {
   "cell_type": "code",
   "execution_count": 2,
   "metadata": {},
   "outputs": [],
   "source": [
    "# more code goes here :^O"
   ]
  },
  {
   "cell_type": "markdown",
   "metadata": {},
   "source": [
    "#### Warm-up 3\n",
    "\n",
    "How many five-letter words are there?  (How long before Wordle has to reuse a word?)  How many words have all five vowels in them?"
   ]
  },
  {
   "cell_type": "code",
   "execution_count": 3,
   "metadata": {},
   "outputs": [],
   "source": [
    "# yet more code goes here!  "
   ]
  },
  {
   "cell_type": "markdown",
   "metadata": {},
   "source": [
    "***\n",
    "\n",
    "Well, I'm certainly feeling warm now!  Those were some fun spot checks of English vocabulary.  What about high-level aggregate information?\n",
    "\n",
    "***\n",
    "\n",
    "#### Warm-up 4\n",
    "\n",
    "Make a histogram of word lengths."
   ]
  },
  {
   "cell_type": "code",
   "execution_count": 4,
   "metadata": {},
   "outputs": [],
   "source": [
    "# code goes here"
   ]
  },
  {
   "cell_type": "markdown",
   "metadata": {},
   "source": [
    "***\n",
    "\n",
    "The information contained in `words_alpha.txt` tells us about the structure of words in the English language.  This is interesting, but it can't really tell us about *how* these words are used or how a given person uses these words.  This seems dumb to point out, but  we can generalize to the universal lesson\n",
    "\n",
    "> Your analysis is only as good as your data.\n",
    "\n",
    "## Text analysis\n",
    "\n",
    "Let's move on to datasets containing words used in their natural habitat: sentences that convey ideas!  All of the texts used below can be found on [Project Gutenberg's website](https://www.gutenberg.org/).  Search for each novel, and download a txt/ascii version.  Enjoy!  I've also included a few of them in this repo.\n",
    "\n",
    "First, we have to figure out how to correctly deal with these files.  Each file contains a header and a footer that tell you about copyright information.  Obviously when we analyzed the text of the novel, we want to exclude the header and footer.  Look through the files to find the text signifying the header and footer.  I'll show you hor to work around this when reading in the file.  Let's work on Jane Austen's <u>Pride & Prejudice</u> first."
   ]
  },
  {
   "cell_type": "code",
   "execution_count": 5,
   "metadata": {},
   "outputs": [],
   "source": [
    "file = open('data_files/JaneAusten_PrideAndPrejudice_1813_ProjGutenberg.ascii', 'r')\n",
    "line = file.readline()\n",
    "\n",
    "# read off the lines in the header, don't do anything with them...\n",
    "while '*** START' not in line:\n",
    "    line = file.readline()\n",
    "    \n",
    "# read off the lines in the body of the novel, quit once we get to the footer\n",
    "while '*** END' not in line:\n",
    "    # do some calculations...\n",
    "    line = file.readline()\n",
    "    \n",
    "file.close()"
   ]
  },
  {
   "cell_type": "markdown",
   "metadata": {},
   "source": [
    "Now we just have to be creative!  What types of questions can we ask (should we ask) of the text of a novel?  What could we learn about the author or the characters?\n",
    "\n",
    "#### Warm-up 5\n",
    "\n",
    "The main character of <u>P+P</u> is Elizabeth Bennett.  Count how many times \"Elizabeth\"  and \"Bennett\" and appear in the text.  Don't forget to consider *e.g.* \"Elizabeth's\"."
   ]
  },
  {
   "cell_type": "code",
   "execution_count": 6,
   "metadata": {},
   "outputs": [],
   "source": [
    "# Pride!"
   ]
  },
  {
   "cell_type": "markdown",
   "metadata": {},
   "source": [
    "#### Warm-up 6\n",
    "\n",
    "Elizabeth Bennet's romantic interest in <u>P+P</u> is Mr. Fitzwilliam Darcy.  Let's investigate how Austen (or British people in Austen's time) used first names.  Find the numbers of appearances of \"Elizabeth\", \"Bennett\", \"Fitzwilliam\", and \"Darcy\" in the text.  Calculate the ratio of first-name to last-name appearances for each character.  Calculate the ratio of these ratios -- are they similar?  Do you have any theories about why the relative sizes of these ratios?\n"
   ]
  },
  {
   "cell_type": "code",
   "execution_count": 7,
   "metadata": {},
   "outputs": [],
   "source": [
    "# Prejudice!"
   ]
  },
  {
   "cell_type": "markdown",
   "metadata": {},
   "source": [
    "Now, these two calculations are somewhat trivial, but they give you some odea of the types of things that we can investigate when we treat a text as data.  Can you think of other interesting questions to ask with this approach?\n",
    "\n",
    "*** \n",
    "\n",
    "If this seems far removed from the sciences, you might consider the following text:\n",
    "\n",
    "`GCTCGGGTGACACGAATTGGATCACGGACATCAAGCACTG`<br>\n",
    "`GCTTTTATAGAGGACGGGGTGCCACTCACCCTGCCGGTGC...`\n",
    "\n",
    "What kinds of questions might you ask about a string of text like this?\n",
    "\n",
    "***\n",
    "\n",
    "## Machine cryptography and cryptanalysis\n",
    "\n",
    "We could do an entire semester on cryptography, the science of hidden writing!  It's a rich and fascinating (and useful and potentiall lucrative) subject.  For now, I'll mention that you have the basic skills to do some straight-forward cryptography (coding) and cryptanalysis (de-coding) of secret messages.  For example, say you're given the following cipher (encoded message):\n",
    "\n",
    "`MWFCK KEYFL ZLRLQ CKZZW`<br>\n",
    "`ALVVW VJLWZ ESNQA FKNXL`<br>\n",
    "`RLDZK XZLWU SKASL QPKQM`<br>\n",
    "`KVKZC FKNQS LWQAM YLLZW`<br>\n",
    "`USJZC YNAFK NQLAK KMSFA`<br>\n",
    "`KMWFJ AJZMJ ELXLY KASDZ`<br>\n",
    "`KXXSW AMYLL ZCKJZ CKZXL`<br>\n",
    "`DZKXA SLCWT LWZEX LQLCK`<br>\n",
    "`ZZWHV WFJAW ZEJPF KNWMD`<br>\n",
    "`TLSKX JTPLL VJZCE KZAAL`<br>\n",
    "`VVTLF KNQLA KKYVJ ZEAKM`<br>\n",
    "`LLZLR LQCKZ ZWCJR LFKNN`<br>\n",
    "`HZLRL QCKZZ WVLAF KNEKX`<br>\n",
    "\n",
    "What the what???  Look familiar?  Yeah, me neither.  We can begin the decryption process by doing some simple letter-frequency analysis and comparing to a known (and hopefully representative corpus (sample).  I'll include the cipher on Sakai as `cipher.txt`.\n",
    "\n",
    "#### Decryption warm-up\n",
    "\n",
    "Make a bar graph of the letter frequency in the cipher.  Make a bar graph of the frequency of letters in <u>P+P</u>.  Can you see any likely letter equivalences for a single-character substitution?  Bonus points if you can sort the bars from high to low frequency."
   ]
  },
  {
   "cell_type": "code",
   "execution_count": 8,
   "metadata": {},
   "outputs": [],
   "source": [
    "# decryption warm-up goes here"
   ]
  },
  {
   "cell_type": "markdown",
   "metadata": {},
   "source": [
    "#### Decryption warm-up\n",
    "\n",
    "Let's take the result of the previous warm-up as a good estimate of the frequency of letters in the English language.  The encoded text above was produced with a simple substitution key -- each letter in the cypher is a substitution for a letter in the original text.  For example (though this isn't acutally true), all `X`'s in the cypher represent `D`'s in the original text.  Make a letter frequency bar graph for the cypher text.  Compare it to the bar graph for <u>P+P</u> and identify some likely substitutions."
   ]
  },
  {
   "cell_type": "code",
   "execution_count": 9,
   "metadata": {},
   "outputs": [],
   "source": [
    "# I'll make the cypher a string for you to use:\n",
    "cyph = 'MWFCKKEYFLZLRLQCKZZWALVVWVJLWZESNQAFKNXL'\n",
    "cyph += 'RLDZKXZLWUSKASLQPKQMKVKZCFKNQSLWQAMYLLZW'\n",
    "cyph += 'USJZCYNAFKNQLAKKMSFAKMWFJAJZMJELXLYKASDZ'\n",
    "cyph += 'KXXSWAMYLLZCKJZCKZXLDZKXASLCWTLWZEXLQLCK'\n",
    "cyph += 'ZZWHVWFJAWZEJPFKNWMDTLSKXJTPLLVJZCEKZAAL'\n",
    "cyph += 'VVTLFKNQLAKKYVJZEAKMLLZLRLQCKZZWCJRLFKNN'\n",
    "cyph += 'HZLRLQCKZZWVLAFKNEKX'\n",
    "\n",
    "# unlock secrets here!!!"
   ]
  },
  {
   "cell_type": "markdown",
   "metadata": {
    "tags": []
   },
   "source": [
    "***\n",
    "\n",
    "## Problems\n",
    "\n",
    "Your homework is to complete three (3) of the following problems.\n",
    "\n",
    "### Regulars\n",
    "\n",
    "1. Use `words_alpha.txt` to make a histogram displaying the number of words beginning with each letter of the alphabet.\n",
    "1. Use `words_alpha.txt` to make a bar graph displaying the frequency of each letter of the alphabet.  Hint: Use a `dictionary`!\n",
    "1. Compute how many words in `words_alpha.txt` contain the following digraphs: \"ae\", \"aa\", \"eu\", \"ph\".\n",
    "1. Compute the average sentence length (in words) of **each** of the Jane Austen novels.  Hint: What would be an easier way to count the number of sentences in a text?\n",
    "1. Determine which of the 15 books is most likely about a dog by counting the relative number of times the word \"dog\" appears in each.  Write a block of explanatory markdown to explain your conclusions.\n",
    "\n",
    "### Meanies\n",
    "\n",
    "6. Make a bar graph of the average sentence length for each of the following authors: Austen, Hawthorne, London, Wells, Dostoevsky.  Use all of each author's texts to do so.\n",
    "6. Which of the five authors uses the biggest words (on average)?  Include a graph(s) or some text to convince me.\n",
    "\n",
    "### Mega-meanies\n",
    "\n",
    "8. Provide quantitative evidence that suggests that <u>Crime & Punishment</u> was not written by Jane Austen.  Write a block of explanatory markdown to accompany your code.\n",
    "8. How many different proper nouns appear in <u>The Brothers Karamazov</u>?\n",
    "8. I made it to the end of Part I, Book II, Chapter V of <u>The Brothers Karamazov</u>.  Tell me how it ends, please.   (No don't.)\n",
    "8. Continue decryption of `cipher.txt`.  Write a block of markdown that explains your process.\n"
   ]
  }
 ],
 "metadata": {
  "kernelspec": {
   "display_name": "Python 3 (ipykernel)",
   "language": "python",
   "name": "python3"
  },
  "language_info": {
   "codemirror_mode": {
    "name": "ipython",
    "version": 3
   },
   "file_extension": ".py",
   "mimetype": "text/x-python",
   "name": "python",
   "nbconvert_exporter": "python",
   "pygments_lexer": "ipython3",
   "version": "3.11.0"
  }
 },
 "nbformat": 4,
 "nbformat_minor": 4
}