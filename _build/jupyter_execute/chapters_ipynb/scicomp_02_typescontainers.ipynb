{
 "cells": [
  {
   "cell_type": "markdown",
   "metadata": {},
   "source": [
    "# Types, random numbers, lists, dictionaries"
   ]
  },
  {
   "cell_type": "markdown",
   "metadata": {},
   "source": [
    "### Recap\n",
    "\n",
    "Let's just take a moment to remind ourselves how far we've come.  Here are some of the many things that we know how to do already:\n",
    "- basic mathematical operations\n",
    "- function definition\n",
    "- iteration and recursion with loop control structures `for` and `while`\n",
    "- keeping track of variables outside of loops (i.e., counting and summing)\n",
    "- function definition and using function *inside* of loops\n",
    "- conditionals with `if`, `else`, and `elif`\n",
    "\n",
    "### Motivation\n",
    "\n",
    "I mentioned at the beginning of the class that one of the uses of computation in the physical sciences was for simulating experiments or apparatus that are prohibitively complicated.  It's important to note that studying a simulation is **not** the same as studying the \"real world\" -- the behavior of the simulation will depend on our current understanding of the laws that govern the real world, and these may not be correct!  Still, simulations are very useful for hypothesis testing.  To that end, check this out:\n",
    "- Cue evolution simulation code.  What hypotheses can we test? (Note: If you're not actually enrolled in the course, you won't get to see this!  The demo is similar-ish to David Randall Miller's work [here](https://www.youtube.com/watch?v=N3tRFayqVtk).  Very cool!"
   ]
  },
  {
   "cell_type": "markdown",
   "metadata": {},
   "source": [
    "### Types and casting\n",
    "\n",
    "When we use a computer to do a calculation, the quantities input and output quantities need to be stored/accessed by the computer.  **How** the computer does this depends on what **type** of quantity we're storing.  \"Type\" is an important concept in computer science.\n",
    "\n",
    "We have so far encountered a few different types of quantities that `python` know about:\n",
    "\n",
    "#### `int` --> Integers \n",
    "\n",
    "Integers can be signed (positive or negative (or 0))"
   ]
  },
  {
   "cell_type": "code",
   "execution_count": 1,
   "metadata": {},
   "outputs": [
    {
     "name": "stdout",
     "output_type": "stream",
     "text": [
      "4 -2 180753806735751753 -200000000000000000000000000000000000000000000000000000\n"
     ]
    }
   ],
   "source": [
    "a = 4\n",
    "b = -2\n",
    "c = 180753806735751753\n",
    "d = -200000000000000000000000000000000000000000000000000000\n",
    "print(a, b, c, d)"
   ]
  },
  {
   "cell_type": "markdown",
   "metadata": {},
   "source": [
    "#### `float` --> Floats \n",
    "\n",
    "Floats are real numbers.  They can be expressed in regular decimal form or in scientific notation."
   ]
  },
  {
   "cell_type": "code",
   "execution_count": 2,
   "metadata": {},
   "outputs": [
    {
     "name": "stdout",
     "output_type": "stream",
     "text": [
      "2.71828 -3.587353582636827e-05 -20000000000.0\n"
     ]
    }
   ],
   "source": [
    "e = 2.71828\n",
    "f = -358735.3582636827067923067236e-10\n",
    "g = -2.0e10\n",
    "print(e, f, g)"
   ]
  },
  {
   "cell_type": "markdown",
   "metadata": {},
   "source": [
    "#### `bool` --> Booleans \n",
    "\n",
    "Booleans are the outcomes of logical operations.  There are only two boolean values: `True` and `False`.  When we implement comparison operators, the outcomes are booleans."
   ]
  },
  {
   "cell_type": "code",
   "execution_count": 3,
   "metadata": {},
   "outputs": [
    {
     "name": "stdout",
     "output_type": "stream",
     "text": [
      "True False True\n"
     ]
    }
   ],
   "source": [
    "h = True\n",
    "i = False\n",
    "j = 1 == 1.00000000000000000001\n",
    "print(h, i, j)"
   ]
  },
  {
   "cell_type": "markdown",
   "metadata": {},
   "source": [
    "#### `string` --> Strings\n",
    "\n",
    "Strings are... um... strings of alphanumeric characters.  We've used strings a little bit in our `print` statements.  Strings are initialized with either quotes (`\"   \"`) or apostrophes (`'   '`)."
   ]
  },
  {
   "cell_type": "code",
   "execution_count": 4,
   "metadata": {},
   "outputs": [
    {
     "name": "stdout",
     "output_type": "stream",
     "text": [
      "Mikey likes bikes\n"
     ]
    }
   ],
   "source": [
    "k = \"Mikey\"\n",
    "m = 'likes'\n",
    "n = 'bikes'\n",
    "print(k, m, n)"
   ]
  },
  {
   "cell_type": "markdown",
   "metadata": {},
   "source": [
    "***\n",
    "\n",
    "There are several other data types in `python`, some of which we'll encounter later.\n",
    "\n",
    "You may wonder why this is necessary.  (Do you?)  There are two reasons why type is important:\n",
    "\n",
    "**First**, in order to make efficient use of memory, the computer stores/accesses different types of data differently.  For example, there is a maximum size real number that `python` can handle:"
   ]
  },
  {
   "cell_type": "code",
   "execution_count": 5,
   "metadata": {},
   "outputs": [
    {
     "name": "stdout",
     "output_type": "stream",
     "text": [
      "inf\n"
     ]
    }
   ],
   "source": [
    "a = 2.0e309\n",
    "print(a)"
   ]
  },
  {
   "cell_type": "markdown",
   "metadata": {},
   "source": [
    "Haha, oops.  This is less of an issue these days, as computer memory and speed are essentially infinitely larger than they were in the early days of computing.  \n",
    "\n",
    "**Second**, what types of operations can be done with a piece of data depend on what type of data it is!  Most programming languages have built-in rules that prevent you from doing something nonsensical.  For example, the following operations are allowed:"
   ]
  },
  {
   "cell_type": "code",
   "execution_count": 6,
   "metadata": {},
   "outputs": [
    {
     "name": "stdout",
     "output_type": "stream",
     "text": [
      "inf\n",
      "55751.40431320216\n",
      "Mikey bikes\n",
      "True\n"
     ]
    }
   ],
   "source": [
    "print(a + e)\n",
    "print(b / f)\n",
    "print(k + \" \" + n)\n",
    "print(h and j)"
   ]
  },
  {
   "cell_type": "markdown",
   "metadata": {},
   "source": [
    "The following is not.  Uncomment it, and give it a whirl!  Can you decypher what the error message?"
   ]
  },
  {
   "cell_type": "code",
   "execution_count": 7,
   "metadata": {},
   "outputs": [],
   "source": [
    "#a + k"
   ]
  },
  {
   "cell_type": "markdown",
   "metadata": {},
   "source": [
    "`python` handles all of this by treating each value as an instance of a *class*; we'll come to this much later on.\n",
    "\n",
    "***\n",
    "\n",
    "What about the following:"
   ]
  },
  {
   "cell_type": "code",
   "execution_count": 8,
   "metadata": {},
   "outputs": [
    {
     "name": "stdout",
     "output_type": "stream",
     "text": [
      "63\n"
     ]
    }
   ],
   "source": [
    "var1 = 62\n",
    "var2 = True\n",
    "print(var1 + var2)"
   ]
  },
  {
   "cell_type": "markdown",
   "metadata": {},
   "source": [
    "What the WHAT!?\n",
    "\n",
    "`python` is what's called a *dynamically typed* language, meaning that it/you can change the type of a variable on the fly.  So, when we ask `python` to add `var2` to an integer, `python` *interprets* `var2` in a way that seems reasonable to it.  In fact, most languages have this equivalence between the booleans and integers: `True` --> 1, `False` --> 0.\n",
    "\n",
    "Another consequence of dynamic typing is that if I initialize a variable as a certain type, the type can changed based on what I do with the variable.  Let's use the `type()` function to check the type of a variable:"
   ]
  },
  {
   "cell_type": "code",
   "execution_count": 9,
   "metadata": {},
   "outputs": [
    {
     "name": "stdout",
     "output_type": "stream",
     "text": [
      "2\n",
      "<class 'int'>\n",
      "2.1\n",
      "<class 'float'>\n"
     ]
    }
   ],
   "source": [
    "var3 = 2\n",
    "print(var3)\n",
    "print(type(var3))\n",
    "var3 = var3 + 0.1\n",
    "print(var3)\n",
    "print(type(var3))"
   ]
  },
  {
   "cell_type": "markdown",
   "metadata": {},
   "source": [
    "In most implementations, this feature of `python` allows us to be a bit careless/sloppy with quantities.  Yay!  But, there are instances where this sloppiness could cause problems.  Boo!\n",
    "\n",
    "One last feature having to do with types.  We can actively change the type of a quantity by *casting* it to another type.  We do this with functions named after the various types. There's a lot of interesting stuff that goes on behind the scenes when casting, but we'll ignore this for now.  Check these operations out:"
   ]
  },
  {
   "cell_type": "code",
   "execution_count": 10,
   "metadata": {},
   "outputs": [
    {
     "name": "stdout",
     "output_type": "stream",
     "text": [
      "432 432.0\n",
      "432 432\n",
      "432 True\n",
      "\n",
      "True 1\n",
      "True True\n",
      "True 1.0\n",
      "\n",
      "2.6835 2\n",
      "\n",
      "yowza\n"
     ]
    }
   ],
   "source": [
    "var4 = 432\n",
    "print(var4, float(var4))\n",
    "print(var4, str(var4))\n",
    "print(var4, bool(var4))\n",
    "print()\n",
    "\n",
    "var5 = True\n",
    "print(var5, int(var5))\n",
    "print(var5, str(var5))\n",
    "print(var5, float(var5))\n",
    "print()\n",
    "\n",
    "var6 = 2.6835\n",
    "print(var6, int(var6))\n",
    "print()\n",
    "\n",
    "var7 = \"yowza\"\n",
    "print(var7)\n",
    "#print(int(var7)) # this will fail... why???"
   ]
  },
  {
   "cell_type": "markdown",
   "metadata": {},
   "source": [
    "Note that casting a `float` to an `int` has a potentially useful behavior!\n",
    "\n",
    "### Random number generation\n",
    "\n",
    "Computing has allowed us to make amazing progress in the statistical sciences.  Generating large random or pseudo-random datasets to study is difficult.  In the old days, if I wanted to investigate the large-scale/statistical properties of something like a game of blackjack (you know, for cheating reasons), I had to actually *deal* many games of blackjack.  Ugh!  Gross.  That would take so much time!  With computers, I can generate millions of blackjack hands according to the deck properties and history with a bit of sly programming.  This hinges on a) the computer's ability to do loops and b) the computer's ability to generate random numbers.\n",
    "\n",
    "There are several Python libraries that provide random number generation.  We learned in Lesson 1 that a *library* is a bit of code that Python is able to use (almost like a book of extra knowledge), but that python doesn't pre-load.  In order to have access to the built-in stuff in the random number generation library, we need to tell Python to load it before we do any calculations.  \n",
    "\n",
    "This process is analogous to the way that humans work.  Pretend that you and I are going on a camping trip on which we'll need to defend ourselves from bears.  You'll need to learn the skills before we go.  You *are capable* of doing it, you just don't know *how* to do it yet.  SO!  Before we leave and start camping, I ask you to go to the library and read the book \"HOW TO DEFEND ONESELF FROM BEARS\" to load the knowledge into your brain/mind.  After you do that, I can call on you to execute many bear-defense strategies: run, jump, climb tree, bear headlock, play dead, *etc*.\n",
    "\n",
    "Okay enough goofing around.  Here's an example:"
   ]
  },
  {
   "cell_type": "code",
   "execution_count": 11,
   "metadata": {},
   "outputs": [
    {
     "name": "stdout",
     "output_type": "stream",
     "text": [
      "0.7347794958688973\n"
     ]
    }
   ],
   "source": [
    "import random as rand # this line adds the random \n",
    "                      # module and gives it a shorter handle \n",
    "\n",
    "a = rand.random()\n",
    "print(a)"
   ]
  },
  {
   "cell_type": "markdown",
   "metadata": {},
   "source": [
    "In the first line, I imported the `random` module and called it something shorter, `rand` (a nickname of sorts so that I don't have to type as much).  In the second line, I told python to access the `random()` function of `rand`.  This function evidently generates a random number.  Execute the above a few times to see how the random number varies.\n",
    "\n",
    "The random module has LOTS of features in addition to `random()`.  It's quite sophisticated.\n",
    "\n",
    "Let's put `random()` inside of a loop to generate a whole mess of numbers:"
   ]
  },
  {
   "cell_type": "code",
   "execution_count": 12,
   "metadata": {},
   "outputs": [
    {
     "name": "stdout",
     "output_type": "stream",
     "text": [
      "0.8008341198732816\n",
      "0.7616296710884463\n",
      "0.2737233110180086\n",
      "0.2514408664184251\n",
      "0.26008033573603473\n",
      "0.6626779718274357\n",
      "0.6958820885416171\n",
      "0.47467079173578386\n",
      "0.8330440586208252\n",
      "0.7292808607702453\n",
      "0.7026281033145565\n",
      "0.9507297189571919\n",
      "0.14968048483627305\n",
      "0.2056169941241096\n",
      "0.7587653042667134\n",
      "0.1212019049171621\n",
      "0.06298970283400529\n",
      "0.7039424863828166\n",
      "0.3250406030063876\n",
      "0.7649506868972354\n"
     ]
    }
   ],
   "source": [
    "for i in range(20):\n",
    "    num = rand.random()\n",
    "    print(num)"
   ]
  },
  {
   "cell_type": "markdown",
   "metadata": {},
   "source": [
    "It looks like every time we call `random()`, it generates a new number between 0 and 1.  Good to know.\n",
    "\n",
    "There are MANY ways to use this very simple tool.  One can transform the range of the numbers quite easily.  Here's a loop that prints 20 random numbers between -1 and 1:"
   ]
  },
  {
   "cell_type": "code",
   "execution_count": 13,
   "metadata": {},
   "outputs": [
    {
     "name": "stdout",
     "output_type": "stream",
     "text": [
      "-0.5594490041193914\n",
      "-0.1678696531167274\n",
      "0.2520576990815955\n",
      "0.6542546358521426\n",
      "0.07296137683843695\n",
      "-0.07883577086214277\n",
      "-0.20853773294659872\n",
      "0.5586380006357081\n",
      "-0.12256021091009206\n",
      "-0.15305187011790888\n",
      "0.23600751832177957\n",
      "-0.9928910292531583\n",
      "-0.3476136924051614\n",
      "0.3958832890149626\n",
      "-0.5906385402640939\n",
      "-0.46152642304637803\n",
      "-0.0760474107647311\n",
      "0.3120934086036551\n",
      "0.22568116011898542\n",
      "-0.4260901887591031\n"
     ]
    }
   ],
   "source": [
    "for i in range(20):\n",
    "    rnum = rand.random()\n",
    "    new_num = 2.0*rnum - 1.0\n",
    "    print(new_num)"
   ]
  },
  {
   "cell_type": "markdown",
   "metadata": {},
   "source": [
    "Here's a snippet that writes a bunch of random points in two-dimensional space:"
   ]
  },
  {
   "cell_type": "code",
   "execution_count": 14,
   "metadata": {},
   "outputs": [
    {
     "name": "stdout",
     "output_type": "stream",
     "text": [
      "(0.12822959290753055, 0.06452018517838454)\n",
      "(0.8945091818812934, 0.5127343265210521)\n",
      "(0.623181692990611, 0.1868026547340078)\n",
      "(0.4937365856947932, 0.08383142571845426)\n",
      "(0.3035223610327197, 0.19520682991361182)\n",
      "(0.7180129570572847, 0.7822007661120493)\n",
      "(0.3185707632603815, 0.031609878185854146)\n",
      "(0.1894212146625177, 0.09222850703535601)\n",
      "(0.01774306008351667, 0.40659852403149155)\n",
      "(0.8300205125988217, 0.10949677463379415)\n",
      "(0.04344573167927723, 0.7732952470736152)\n",
      "(0.2848255903006265, 0.5917420483139019)\n",
      "(0.8970920436169741, 0.7498166471685695)\n",
      "(0.9345145074428957, 0.5298305373284852)\n",
      "(0.049489133066254354, 0.272867151241051)\n",
      "(0.36955271213592755, 0.40211493253447583)\n",
      "(0.616023403525917, 0.9653484450323807)\n",
      "(0.13754448108527484, 0.48547814519983523)\n",
      "(0.5350531692111402, 0.9676232677335235)\n",
      "(0.01222410237743099, 0.45293074210196904)\n"
     ]
    }
   ],
   "source": [
    "for i in range(20):\n",
    "    x = rand.random()\n",
    "    y = rand.random()\n",
    "    print(\"(\" + str(x) + \", \" + str(y) + \")\")"
   ]
  },
  {
   "cell_type": "markdown",
   "metadata": {},
   "source": [
    "One can also input random numbers into a function:"
   ]
  },
  {
   "cell_type": "code",
   "execution_count": 15,
   "metadata": {},
   "outputs": [
    {
     "name": "stdout",
     "output_type": "stream",
     "text": [
      "0.9833160163477817\n",
      "2.0539395693450606\n",
      "0.4128442264268468\n",
      "0.9117189805320582\n",
      "2.6940429009705045\n",
      "0.6732595206013507\n",
      "1.6523697253930476\n",
      "0.1700663670974718\n",
      "1.5498533622255775\n",
      "2.9567535694778346\n",
      "1.8369139501344467\n",
      "2.043132708813976\n",
      "1.9675443929208845\n",
      "2.802764025178903\n",
      "1.7037975221339505\n",
      "1.902134260271228\n",
      "2.5797125394824807\n",
      "0.9317406990010406\n",
      "0.886331789444609\n",
      "0.21641544278934566\n"
     ]
    }
   ],
   "source": [
    "def parab(x):\n",
    "    return x**2 - 4*x + 3\n",
    "\n",
    "for i in range(20):\n",
    "    input_x = rand.random()\n",
    "    parab_value = parab(input_x)\n",
    "    print(parab_value)"
   ]
  },
  {
   "cell_type": "markdown",
   "metadata": {},
   "source": [
    "These tools may all seem pretty weak, but they are the foundations of powerful techniques.  Physicists use the same fundamental processes to do things like study the performance of nuclear reactors, model galaxies, and simulate protein folding.  Generating random numbers is quite useful in studying quantum mechanics, too!  You may know that quantum-mechanical processes are non-deterministic; the outcome of a measurement is randomly selected according to the probabilities of all of the possible outcomes.  Computing has arguably allowed us to learn much about QM than we would have otherwise.\n",
    "\n",
    "Random floats (remember what those are) are cool, but there are some systems that exhibit discrete behavior.  For example, if I wanted to write a random number generator to simulate you randomly choosing a card from a deck, I wouldn't want the outcome to be that you chose the 31.467459267th card.  That doesn't make sense.\n",
    "\n",
    "The random module has tools for generating random integers:"
   ]
  },
  {
   "cell_type": "code",
   "execution_count": 16,
   "metadata": {},
   "outputs": [
    {
     "data": {
      "text/plain": [
       "71"
      ]
     },
     "execution_count": 16,
     "metadata": {},
     "output_type": "execute_result"
    }
   ],
   "source": [
    "rand.randint(1,100)"
   ]
  },
  {
   "cell_type": "markdown",
   "metadata": {},
   "source": [
    "The above line generates a random integer between 1 and 100.  This is useful for many types of real-life decisions:\n",
    "\n",
    "Hey, python, how many kids whould I have:"
   ]
  },
  {
   "cell_type": "code",
   "execution_count": 17,
   "metadata": {},
   "outputs": [
    {
     "data": {
      "text/plain": [
       "77"
      ]
     },
     "execution_count": 17,
     "metadata": {},
     "output_type": "execute_result"
    }
   ],
   "source": [
    "rand.randint(1,100)"
   ]
  },
  {
   "cell_type": "markdown",
   "metadata": {},
   "source": [
    "Ummmmmmm, no.\n",
    "\n",
    "Hey, python, how many tacos should I eat tonight?"
   ]
  },
  {
   "cell_type": "code",
   "execution_count": 18,
   "metadata": {},
   "outputs": [
    {
     "data": {
      "text/plain": [
       "10"
      ]
     },
     "execution_count": 18,
     "metadata": {},
     "output_type": "execute_result"
    }
   ],
   "source": [
    "rand.randint(1,100)"
   ]
  },
  {
   "cell_type": "markdown",
   "metadata": {},
   "source": [
    "Sage advice.  Now you're talking.\n",
    "\n",
    "There are lots of other things that one can do with random numbers, but it's probably best to become acquainted with the simple code and then learn more once you have a need.  Let's do a warm-up problem to get the juices flowing.\n",
    "\n",
    "#### Warm-up problem\n",
    "Generate 100 random integers between 0 and 40 or 60 and 100 (i.e., omit any numbers between 41 and 59).  You'll probably need an if statement.  Make sure there are 100!\n"
   ]
  },
  {
   "cell_type": "code",
   "execution_count": 19,
   "metadata": {},
   "outputs": [],
   "source": [
    "# put your work in this cell!"
   ]
  },
  {
   "cell_type": "markdown",
   "metadata": {},
   "source": [
    "* * *\n",
    "\n",
    "### Lists\n",
    "\n",
    "Now that we've talked about **types** we can talk about **containers**.  Here's an analogy to motivate us:\n",
    "\n",
    "> An egg is a type of food.  There are many different containers that we can put eggs in: an egg carton, a box, your hand, a bookbag.  These containers could also be used for other types of food.  *E.g.* I could put raisins in an egg carton, a box, your hand, ...\n",
    "\n",
    "Most programming languages have containers for packaging collections of values.  \n",
    "\n",
    "Probably the most useful of these in `python` is the *list*.  A list is an ordered collection of objects.  In some ways, you can think about a list as a set (if you know about sets), or as a vector (if you know about vectors), with elements that are indexed by a number.\n",
    "\n",
    "NB: In many other languages, similar objects are called *arrays*.  You instructor may accidentally call pyhton lists \"arrays\".  We'll encounter python arrays soon, and you'll see the differences.\n",
    "\n",
    "The most basic way to initialize a list is the following:"
   ]
  },
  {
   "cell_type": "code",
   "execution_count": 20,
   "metadata": {},
   "outputs": [],
   "source": [
    "primes_lt20 = [2, 3, 5, 7, 11, 13, 17, 19]"
   ]
  },
  {
   "cell_type": "markdown",
   "metadata": {},
   "source": [
    "Lists are a big deal in python, and the language offers many ways to work with and manipulate them.  First, we can access an individual element of a list by specifying its index number:"
   ]
  },
  {
   "cell_type": "code",
   "execution_count": 21,
   "metadata": {},
   "outputs": [
    {
     "data": {
      "text/plain": [
       "11"
      ]
     },
     "execution_count": 21,
     "metadata": {},
     "output_type": "execute_result"
    }
   ],
   "source": [
    "primes_lt20[4]"
   ]
  },
  {
   "cell_type": "markdown",
   "metadata": {},
   "source": [
    "This might look a little weird... after all, the 4th element of the list is 7 (7 is the 4th prime number).\n",
    "\n",
    "The reason that this returns the fifth element in the list is that python is a \"zero-indexed language\", meaning that the indices of list elements begin with 0.  \n",
    "\n",
    "Check this out:"
   ]
  },
  {
   "cell_type": "code",
   "execution_count": 22,
   "metadata": {},
   "outputs": [
    {
     "data": {
      "text/plain": [
       "2"
      ]
     },
     "execution_count": 22,
     "metadata": {},
     "output_type": "execute_result"
    }
   ],
   "source": [
    "primes_lt20[0]"
   ]
  },
  {
   "cell_type": "markdown",
   "metadata": {},
   "source": [
    "OH *OKAY!*  This is one of those rules that is hard to internalize.  The indices just begin with 0 in python (and most other modern languages).\n",
    "\n",
    "We can check the length of the list:"
   ]
  },
  {
   "cell_type": "code",
   "execution_count": 23,
   "metadata": {},
   "outputs": [
    {
     "data": {
      "text/plain": [
       "8"
      ]
     },
     "execution_count": 23,
     "metadata": {},
     "output_type": "execute_result"
    }
   ],
   "source": [
    "len(primes_lt20)"
   ]
  },
  {
   "cell_type": "markdown",
   "metadata": {},
   "source": [
    "There are also a bunch of things that we can do with the index notation:"
   ]
  },
  {
   "cell_type": "code",
   "execution_count": 24,
   "metadata": {},
   "outputs": [
    {
     "data": {
      "text/plain": [
       "[2, 3, 5]"
      ]
     },
     "execution_count": 24,
     "metadata": {},
     "output_type": "execute_result"
    }
   ],
   "source": [
    "primes_lt20[0:3]"
   ]
  },
  {
   "cell_type": "markdown",
   "metadata": {},
   "source": [
    "The call above returns a new list that is a subset of the original list that takes the 3 elements beginning at element 0.\n",
    "\n",
    "You can also get the last element in the list by using the index -1:"
   ]
  },
  {
   "cell_type": "code",
   "execution_count": 25,
   "metadata": {},
   "outputs": [
    {
     "data": {
      "text/plain": [
       "19"
      ]
     },
     "execution_count": 25,
     "metadata": {},
     "output_type": "execute_result"
    }
   ],
   "source": [
    "primes_lt20[-1]"
   ]
  },
  {
   "cell_type": "markdown",
   "metadata": {},
   "source": [
    "From here, you can get creative."
   ]
  },
  {
   "cell_type": "code",
   "execution_count": 26,
   "metadata": {},
   "outputs": [
    {
     "data": {
      "text/plain": [
       "13"
      ]
     },
     "execution_count": 26,
     "metadata": {},
     "output_type": "execute_result"
    }
   ],
   "source": [
    "primes_lt20[-3]"
   ]
  },
  {
   "cell_type": "markdown",
   "metadata": {},
   "source": [
    "We can also add to (append, insert) or remove from (pop, remove) a list:"
   ]
  },
  {
   "cell_type": "code",
   "execution_count": 27,
   "metadata": {},
   "outputs": [
    {
     "name": "stdout",
     "output_type": "stream",
     "text": [
      "[2, 3, 5, 7, 11, 13, 17, 19]\n",
      "[2, 3, 5, 7, 11, 13, 17, 19, 23]\n"
     ]
    }
   ],
   "source": [
    "print(primes_lt20)\n",
    "primes_lt20.append(23)\n",
    "print(primes_lt20)"
   ]
  },
  {
   "cell_type": "code",
   "execution_count": 28,
   "metadata": {},
   "outputs": [
    {
     "name": "stdout",
     "output_type": "stream",
     "text": [
      "[2, 3, 5, 7, 11, 13, 17, 19, 23]\n",
      "[2, 3, 5, 301, 7, 11, 13, 17, 19, 23]\n"
     ]
    }
   ],
   "source": [
    "print(primes_lt20)\n",
    "primes_lt20.insert(3,301)\n",
    "print(primes_lt20)"
   ]
  },
  {
   "cell_type": "code",
   "execution_count": 29,
   "metadata": {},
   "outputs": [
    {
     "name": "stdout",
     "output_type": "stream",
     "text": [
      "[2, 3, 5, 301, 7, 11, 13, 17, 19, 23]\n",
      "[2, 3, 5, 7, 11, 13, 17, 19, 23]\n"
     ]
    }
   ],
   "source": [
    "print(primes_lt20)\n",
    "primes_lt20.pop(3)\n",
    "print(primes_lt20)"
   ]
  },
  {
   "cell_type": "code",
   "execution_count": 30,
   "metadata": {},
   "outputs": [
    {
     "name": "stdout",
     "output_type": "stream",
     "text": [
      "[2, 3, 5, 7, 11, 13, 17, 19, 23]\n",
      "[2, 3, 5, 7, 11, 13, 17, 19]\n"
     ]
    }
   ],
   "source": [
    "print(primes_lt20)\n",
    "primes_lt20.pop()\n",
    "print(primes_lt20)"
   ]
  },
  {
   "cell_type": "code",
   "execution_count": 31,
   "metadata": {},
   "outputs": [
    {
     "name": "stdout",
     "output_type": "stream",
     "text": [
      "[2, 3, 5, 7, 11, 13, 17, 19]\n",
      "[2, 3, 5, 7, 13, 17, 19]\n"
     ]
    }
   ],
   "source": [
    "print(primes_lt20)\n",
    "primes_lt20.remove(11)\n",
    "print(primes_lt20)"
   ]
  },
  {
   "cell_type": "markdown",
   "metadata": {},
   "source": [
    "That last one is a little funky.  `remove(n)` removes the first element in a list that matches `n`.\n",
    "\n",
    "***\n",
    "\n",
    "Lists have all kinds of cool methods -- functions or behviors that are inherent to lists.  For example, we can loop over the elements in a list using `for`:"
   ]
  },
  {
   "cell_type": "code",
   "execution_count": 32,
   "metadata": {},
   "outputs": [
    {
     "name": "stdout",
     "output_type": "stream",
     "text": [
      "2 False\n",
      "3 False\n",
      "5 False\n",
      "7 False\n",
      "13 True\n",
      "17 False\n",
      "19 False\n"
     ]
    }
   ],
   "source": [
    "for num in primes_lt20:\n",
    "    print(num, num == 13)"
   ]
  },
  {
   "cell_type": "markdown",
   "metadata": {},
   "source": [
    "We can ask `python` whether a value appears in a list:"
   ]
  },
  {
   "cell_type": "code",
   "execution_count": 33,
   "metadata": {},
   "outputs": [
    {
     "data": {
      "text/plain": [
       "True"
      ]
     },
     "execution_count": 33,
     "metadata": {},
     "output_type": "execute_result"
    }
   ],
   "source": [
    "13 in primes_lt20"
   ]
  },
  {
   "cell_type": "markdown",
   "metadata": {},
   "source": [
    "... or we can ask `python` *where* a value appears in a list:"
   ]
  },
  {
   "cell_type": "code",
   "execution_count": 34,
   "metadata": {},
   "outputs": [
    {
     "data": {
      "text/plain": [
       "4"
      ]
     },
     "execution_count": 34,
     "metadata": {},
     "output_type": "execute_result"
    }
   ],
   "source": [
    "primes_lt20.index(13)"
   ]
  },
  {
   "cell_type": "markdown",
   "metadata": {},
   "source": [
    "Here is a structure that I use all the time (and you will after our next lesson).  Let's say that I have a list of random numbers, I may not know how many, and want to loop over these numbers and square them.  Please try to understand each of the lines below. "
   ]
  },
  {
   "cell_type": "code",
   "execution_count": 35,
   "metadata": {},
   "outputs": [
    {
     "name": "stdout",
     "output_type": "stream",
     "text": [
      "We have 99 elements in our list.\n",
      "\n",
      "0 \t 0.14501959939132714 \t 0.02103068420762101\n",
      "1 \t 0.9051314688946693 \t 0.8192629759834218\n",
      "2 \t 0.34631739785804916 \t 0.1199357400591703\n",
      "3 \t 0.0978430944346671 \t 0.009573271128551183\n",
      "4 \t 0.5566464006178761 \t 0.309855215320837\n",
      "5 \t 0.43522131239404105 \t 0.18941759076199147\n",
      "6 \t 0.034718734868503964 \t 0.001205390550869473\n",
      "7 \t 0.2897986190077645 \t 0.08398323957880743\n",
      "8 \t 0.45384766331633253 \t 0.20597770149769512\n",
      "9 \t 0.872415456587369 \t 0.7611087288925474\n",
      "10 \t 0.8369533783252857 \t 0.7004909574901088\n",
      "11 \t 0.14228597318031933 \t 0.02024529816387055\n",
      "12 \t 0.25330222362367105 \t 0.06416201649269626\n",
      "13 \t 0.07575524803894162 \t 0.005738857605441569\n",
      "14 \t 0.6850578039265407 \t 0.46930419472065465\n",
      "15 \t 0.007915880965336353 \t 6.266117145737438e-05\n",
      "16 \t 0.4762043793210292 \t 0.22677061088452669\n",
      "17 \t 0.9332257907158543 \t 0.8709103764572316\n",
      "18 \t 0.6435876379840348 \t 0.4142050477658691\n",
      "19 \t 0.5214398551979544 \t 0.2718995225888637\n",
      "20 \t 0.15354490469143478 \t 0.02357603775670179\n",
      "21 \t 0.32436435150329257 \t 0.10521223252615154\n",
      "22 \t 0.29719379671161694 \t 0.0883241528038659\n",
      "23 \t 0.8389555976071508 \t 0.7038464947563715\n",
      "24 \t 0.06900512460914543 \t 0.0047617072223236885\n",
      "25 \t 0.31456530194623566 \t 0.09895132918852642\n",
      "26 \t 0.3536579336970048 \t 0.12507393406683506\n",
      "27 \t 0.0014903446182128466 \t 2.2211270810359956e-06\n",
      "28 \t 0.9536862391986707 \t 0.9095174428369042\n",
      "29 \t 0.6723552659408916 \t 0.452061603638447\n",
      "30 \t 0.4859607311627683 \t 0.23615783223225234\n",
      "31 \t 0.1437814444977935 \t 0.020673103781872076\n",
      "32 \t 0.8086664913468872 \t 0.6539414942272851\n",
      "33 \t 0.7839216168355745 \t 0.6145331013421013\n",
      "34 \t 0.1658189471731848 \t 0.02749592324162345\n",
      "35 \t 0.985185960725388 \t 0.9705913772104058\n",
      "36 \t 0.8896130799569189 \t 0.7914114320304353\n",
      "37 \t 0.07000400230505 \t 0.004900560338725445\n",
      "38 \t 0.8160055232791263 \t 0.6658650140220408\n",
      "39 \t 0.368683340850371 \t 0.13592740582059085\n",
      "40 \t 0.9943953789333838 \t 0.988822169644068\n",
      "41 \t 0.016309537741175606 \t 0.0002660010213308315\n",
      "42 \t 0.12883714599593832 \t 0.016599010188378727\n",
      "43 \t 0.7656576706149291 \t 0.5862316685714792\n",
      "44 \t 0.6956440232529616 \t 0.48392060708756696\n",
      "45 \t 0.1242117239684789 \t 0.015428552371221597\n",
      "46 \t 0.5526867786200041 \t 0.30546267526135745\n",
      "47 \t 0.5179444283996585 \t 0.26826643091024893\n",
      "48 \t 0.6044147673879766 \t 0.36531721103666187\n",
      "49 \t 0.17092293968791483 \t 0.029214651311558572\n",
      "50 \t 0.8804456545161227 \t 0.7751845505563236\n",
      "51 \t 0.09302861738800561 \t 0.008654323653123939\n",
      "52 \t 0.19158666908821664 \t 0.03670545177231783\n",
      "53 \t 0.49687427174380827 \t 0.24688404192093982\n",
      "54 \t 0.3274704944213974 \t 0.10723692471659448\n",
      "55 \t 0.9526990939143748 \t 0.9076355635452708\n",
      "56 \t 0.7800338709736695 \t 0.6084528398661673\n",
      "57 \t 0.7418387274218833 \t 0.5503246975029192\n",
      "58 \t 0.16007004869339325 \t 0.025622420488705288\n",
      "59 \t 0.28628940643784695 \t 0.08196162423853472\n",
      "60 \t 0.7208294265475537 \t 0.519595062176875\n",
      "61 \t 0.2723808552352721 \t 0.07419133029869826\n",
      "62 \t 0.31217876144285006 \t 0.09745557909599188\n",
      "63 \t 0.6552082020026234 \t 0.4292977879715106\n",
      "64 \t 0.42480355390725766 \t 0.18045805941223636\n",
      "65 \t 0.01333199819695996 \t 0.0001777421759237436\n",
      "66 \t 0.1546685583129741 \t 0.02392236293061387\n",
      "67 \t 0.5593458107803041 \t 0.31286773603747575\n",
      "68 \t 0.3323095294721281 \t 0.11042962337798717\n",
      "69 \t 0.2968574760463708 \t 0.08812436108462161\n",
      "70 \t 0.2122342986814333 \t 0.04504339753679983\n",
      "71 \t 0.5479344433112745 \t 0.3002321541668363\n",
      "72 \t 0.36079833715017606 \t 0.1301754400903321\n",
      "73 \t 0.6316390835226221 \t 0.398967931833298\n",
      "74 \t 0.4428056717225627 \t 0.19607686290966994\n",
      "75 \t 0.46936651009055963 \t 0.2203049207945914\n",
      "76 \t 0.2962614396032778 \t 0.0877708405958066\n",
      "77 \t 0.9289306967325518 \t 0.8629122393320241\n",
      "78 \t 0.6359130771640036 \t 0.40438544170819196\n",
      "79 \t 0.8411075582298513 \t 0.7074619245113827\n",
      "80 \t 0.21741002548789867 \t 0.047267119182648754\n",
      "81 \t 0.2306508932518937 \t 0.05319983455789646\n",
      "82 \t 0.0757632575217918 \t 0.005740071190313343\n",
      "83 \t 0.5928664286849236 \t 0.35149060226161555\n",
      "84 \t 0.6370703108256043 \t 0.40585858093543203\n",
      "85 \t 0.8461316001413456 \t 0.7159386847577539\n",
      "86 \t 0.6364149874338151 \t 0.405024036230383\n",
      "87 \t 0.420730443033031 \t 0.17701410569477052\n",
      "88 \t 0.8672430593484208 \t 0.7521105239880086\n",
      "89 \t 0.5350146327296464 \t 0.2862406572348385\n",
      "90 \t 0.6129957435473532 \t 0.3757637816071724\n",
      "91 \t 0.7811114295863008 \t 0.6101350654303545\n",
      "92 \t 0.1241701441415276 \t 0.015418224696127742\n",
      "93 \t 0.8317067709562279 \t 0.6917361528544353\n",
      "94 \t 0.18824434493377207 \t 0.035435933399544955\n",
      "95 \t 0.5027943615854159 \t 0.25280217004208594\n",
      "96 \t 0.4737823417599136 \t 0.2244697073635076\n",
      "97 \t 0.8245789258091759 \t 0.6799304048886144\n",
      "98 \t 0.7113383446185659 \t 0.5060022405246817\n"
     ]
    }
   ],
   "source": [
    "# let's first create the list\n",
    "list1 = []    \n",
    "for i in range(rand.randint(1,100)):\n",
    "    list1.append(rand.random())\n",
    "\n",
    "print(\"We have \" + str(len(list1)) + \" elements in our list.\\n\")\n",
    "\n",
    "# then we'll do a for loop\n",
    "for i in range(len(list1)): \n",
    "    num = list1[i]\n",
    "    print(i, '\\t', list1[i], '\\t', (list1[i])**2)"
   ]
  },
  {
   "cell_type": "markdown",
   "metadata": {},
   "source": [
    "The block above makes a list containing a random number of random numbers, and then \"runs over\" the elements in this list and applies the function squarep1 to each.\n",
    "\n",
    "For my last list trick, I'll show you that python knows how to do some simple operations with lists.  In some cases, the outcomes are obvious.  In other situations, python's interpretation of the syntax may be surprising:"
   ]
  },
  {
   "cell_type": "code",
   "execution_count": 36,
   "metadata": {},
   "outputs": [
    {
     "data": {
      "text/plain": [
       "[1, 6, 3, 7, 9, 2, 4, 6, 7, 7, 8, 9, 0]"
      ]
     },
     "execution_count": 36,
     "metadata": {},
     "output_type": "execute_result"
    }
   ],
   "source": [
    "aL = [1, 6, 3, 7, 9, 2, 4, 6, 7]\n",
    "bL = [7, 8, 9, 0]\n",
    "\n",
    "aL + bL"
   ]
  },
  {
   "cell_type": "code",
   "execution_count": 37,
   "metadata": {},
   "outputs": [
    {
     "name": "stdout",
     "output_type": "stream",
     "text": [
      "[1, 2, 3, 4, 6, 6, 7, 7, 9]\n"
     ]
    }
   ],
   "source": [
    "aL.sort()\n",
    "print(aL)"
   ]
  },
  {
   "cell_type": "markdown",
   "metadata": {},
   "source": [
    "It's also worth noting that `python` is perfectly happy with lists that contain different types of data.  For example, some programming languages would freak out about the following:"
   ]
  },
  {
   "cell_type": "code",
   "execution_count": 38,
   "metadata": {},
   "outputs": [
    {
     "name": "stdout",
     "output_type": "stream",
     "text": [
      "[1, 2, 4.5, -6.2, 'a phrase', 99, 'hey, another phrase']\n"
     ]
    }
   ],
   "source": [
    "mixed_list = [1, 2, 4.5, -6.2, 'a phrase', 99, \"hey, another phrase\"]\n",
    "print(mixed_list)"
   ]
  },
  {
   "cell_type": "markdown",
   "metadata": {},
   "source": [
    "* * *\n",
    "\n",
    "### Dictionaries\n",
    "\n",
    "Lists are ordered collections of data -- \"ordered\" means that the order of the elements is an important feature of the structure, and indexing these elements with an integer makes sense.  `python` also has a way of storing data for which ordering isn't that important (but still exists).  A **dictionary** is like a list, but the elements are indexed by strings.  In a `dict`, each **value** is associated with a **key**.  This might sound crazy, but works quite a bit like a simple 2-column data table.  Dictionaries are initialized in the following way:"
   ]
  },
  {
   "cell_type": "code",
   "execution_count": 39,
   "metadata": {},
   "outputs": [
    {
     "name": "stdout",
     "output_type": "stream",
     "text": [
      "<class 'dict'>\n"
     ]
    }
   ],
   "source": [
    "students_year = {'Abdoul': 2, 'Aiden': 2, 'Aimee': 2, 'Gannon': 2, \n",
    "                 'Gaurav': 2, 'Gia': 2, 'Maddy': 1, 'Alex': 4}\n",
    "\n",
    "print(type(students_year))"
   ]
  },
  {
   "cell_type": "markdown",
   "metadata": {},
   "source": [
    "We can access the elements in the dictionary in the same way as for a list, but now the \"indices\" are the key strings:"
   ]
  },
  {
   "cell_type": "code",
   "execution_count": 40,
   "metadata": {},
   "outputs": [
    {
     "data": {
      "text/plain": [
       "2"
      ]
     },
     "execution_count": 40,
     "metadata": {},
     "output_type": "execute_result"
    }
   ],
   "source": [
    "students_year['Abdoul']"
   ]
  },
  {
   "cell_type": "markdown",
   "metadata": {},
   "source": [
    "Note that there are **two** pieces of important information for each element in a dictionary: the key and the value.  Because order is less imporant for a dictionary, there are several ways of looping over the elements in it.  Check out these two implementations:"
   ]
  },
  {
   "cell_type": "code",
   "execution_count": 41,
   "metadata": {},
   "outputs": [
    {
     "name": "stdout",
     "output_type": "stream",
     "text": [
      "Abdoul is my favorite student in year 2 !\n",
      "Aiden is my favorite student in year 2 !\n",
      "Aimee is my favorite student in year 2 !\n",
      "Gannon is my favorite student in year 2 !\n",
      "Gaurav is my favorite student in year 2 !\n",
      "Gia is my favorite student in year 2 !\n",
      "Maddy is my favorite student in year 1 !\n",
      "Alex is my favorite student in year 4 !\n"
     ]
    }
   ],
   "source": [
    "# for k in students_year.keys():\n",
    "#     print(k)\n",
    "\n",
    "# for v in students_year.values():\n",
    "#     print(v)\n",
    "    \n",
    "for key, value in students_year.items():\n",
    "    print(key, 'is my favorite student in year', value, '!')"
   ]
  },
  {
   "cell_type": "markdown",
   "metadata": {},
   "source": [
    "Note that even though ordering is not important in a dictionary, there seems to be an assumed order, *viz.* the order in which we initialized it.  There are various other fancy ways to iterate over the dictionary.  Some of these impose an index on the dictionary.  Here's an example:"
   ]
  },
  {
   "cell_type": "code",
   "execution_count": 42,
   "metadata": {},
   "outputs": [
    {
     "name": "stdout",
     "output_type": "stream",
     "text": [
      "0 Abdoul 2\n",
      "1 Aiden 2\n",
      "2 Aimee 2\n",
      "3 Gannon 2\n",
      "4 Gaurav 2\n",
      "5 Gia 2\n",
      "6 Maddy 1\n",
      "7 Alex 4\n"
     ]
    }
   ],
   "source": [
    "for i, (k, v) in enumerate(students_year.items()):\n",
    "    print(i, k, v)"
   ]
  },
  {
   "cell_type": "markdown",
   "metadata": {},
   "source": [
    "* * *\n",
    "\n",
    "### Spyder\n",
    "\n",
    "Your instructor will introduce you to Spyder, a Python interactive development environment (IDE) that ships with Anaconda.  From now on, you may work in Spyder (or similar) and submit your homework as separte python scripts."
   ]
  },
  {
   "cell_type": "markdown",
   "metadata": {},
   "source": [
    "* * *\n",
    "## Problems\n",
    "\n",
    "Your homework is to complete 4 of the following problems.  \n",
    "\n",
    "### Regulars\n",
    "\n",
    "1. A function which determines whether a number is prime is given below.  Use this function to generate a list of the first 1000 prime numbers.  Check that you have 1000 using the `len()` function.\n",
    ">```python\n",
    "def is_prime(n):\n",
    "    fact = 2\n",
    "    prime = True\n",
    "    while fact <= n**(0.5):\n",
    "        if n % fact == 0:\n",
    "            prime = False\n",
    "        fact = fact + 1\n",
    "    return prime\n",
    "```\n",
    "1. A bag of M\\&M's contains only 88 reds and 12 browns.  Weird!  Simulate a process in which you pull 5 M\\&M's out of the bag and count the number of browns.  Perform this simulation 1000 times and compute count the number of times that you pulled 2 or more browns.\n",
    "1. Write a program that generates a list of 100 random integers between 0 and 100 (inclusive), and then finds the number of pairs in the list that add to 66.\n",
    "1. SORT!  Write a program that generates a list of 100 random integers between 0 and 100 (inclusive), and then sorts the list in descending order.  Do not use a built-in function like `sort`!\n",
    "\n",
    "### Meanies\n",
    "\n",
    "5. SORT!  Write a program that generates a list of 10000 random integers between 0 and 100 (inclusive), and then sorts the list in descending order.  Use Google to find a way to track how long your program takes to run.  A bonus point will be awarded to the fastest sort algorithm in the class.\n",
    "5. Do problem 1 from above, but modify the program to generate a list of the first 10000 prime numbers.  Then write a program that checks the list to see if there are any pairs of numbers that add up to another number in the list. \n",
    "5. Write a program that generates a list of 100 random integers between 0 and 10^6 (inclusive), and then finds the largest number in the list.  Your program should NOT use any built-in methods/functions like `max`.\n",
    "\n",
    "### Mega-meanies\n",
    "\n",
    "8. A bag of M\\&M's contains a total of 100 pieces, $n$ of which are red and $(100-n)$ of which are brown.  Let's say that you randomly draw 8 M\\&M's from the bag, yielding 2 red and 6 brown.  You want to use this sampling to predict the total number of browns in the bag. Obviously this one sample doesn't tell you exactly what's in the bag, but it can help you to update your *expectations* of what's in the bag.  For example, you now know that there's a 0\\% probability that the bag contains only 3 brown M\\&M's!  So, here's what you're going to do:\n",
    "- Choose a value for $n$ between 6 and 98.  Perform a simulation of 1000 draws of 8 M\\&M's from the bag.  Calculate the percentage of these draws that yields 4 browns and 4 reds.  Call this percentage $p(n)$.\n",
    "- Now calculate $p(n)$ for **each** value of $n$ between 6 and 98.\n",
    "- The owner of the M\\&M's opens the bag and counts the actual $n$ without showing you the results.  The owner offers to pay you \\$100 if you can correctly guess the *actual* $n$.  You get 10 guesses.  Which values do you guess?\n",
    "\n"
   ]
  },
  {
   "cell_type": "code",
   "execution_count": null,
   "metadata": {},
   "outputs": [],
   "source": []
  }
 ],
 "metadata": {
  "kernelspec": {
   "display_name": "Python 3 (ipykernel)",
   "language": "python",
   "name": "python3"
  },
  "language_info": {
   "codemirror_mode": {
    "name": "ipython",
    "version": 3
   },
   "file_extension": ".py",
   "mimetype": "text/x-python",
   "name": "python",
   "nbconvert_exporter": "python",
   "pygments_lexer": "ipython3",
   "version": "3.10.10"
  }
 },
 "nbformat": 4,
 "nbformat_minor": 4
}