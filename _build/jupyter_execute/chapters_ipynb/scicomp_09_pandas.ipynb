{
 "cells": [
  {
   "cell_type": "markdown",
   "metadata": {},
   "source": [
    "# Manipulating tabular data with `Pandas`"
   ]
  },
  {
   "cell_type": "markdown",
   "metadata": {},
   "source": [
    "## Recap\n",
    "\n",
    "Let's continue with our skills inventory with the foundations/applications dichotomy:\n",
    "- foundational programming skills\n",
    "    * basic mathematical operations, comparison operators\n",
    "    * iteration and recursion with loop control structures `for` and `while`\n",
    "    * keeping track of variables outside of loops (i.e., counting and summing)\n",
    "    * function definition and using functions *inside* of loops\n",
    "    * conditionals: `if`, `else`, and `elif`\n",
    "    * types: `int`, `float`, `string`, `bool`\n",
    "    * containers such as `list` and `dict`\n",
    "    * randm number generation\n",
    "    * accessing and iterating over elements in lists and dicts\n",
    "    * file I/O\n",
    "    * DEBUGGING!\n",
    "    * algorithmic thinking\n",
    "- applications\n",
    "    * basic (and semi-advanced) data visualization: histograms, scatter plots, higher-dimensions in 2-d\n",
    "    * fitting models to data and extracting results (with uncertainties)\n",
    "    * text analysis, asking questions with unstructured data\n",
    "    * simulating the solutions to ordinary differential equations, Euler Algorithm\n",
    "    * basic Monte Carlo techniques\n",
    "\n",
    "I am running out of congratulatory things to say about the length and diversity of this list, so I'll just summarize with: **Wowzerz**."
   ]
  },
  {
   "cell_type": "markdown",
   "metadata": {},
   "source": [
    "***\n",
    "\n",
    "## Motivation\n",
    "\n",
    "One motivations bit for you today!  After today's class, you will have all of the basic skills necessary to start learning about Machine Learning (if you wish to do so).  A Kaggle Competition is a great place to start!\n",
    "\n",
    "- Kaggle. [Titanic -- Machine Learning from Disaster](https://www.kaggle.com/competitions/titanic).  Skip forward to 2:00 in the explanatory video linked."
   ]
  },
  {
   "cell_type": "markdown",
   "metadata": {},
   "source": [
    "***\n",
    "\n",
    "## What is pandas?\n",
    "\n",
    "From [Wikipedia](https://en.wikipedia.org/wiki/Giant_panda)\n",
    "\n",
    "> The giant panda (Ailuropoda melanoleuca; Chinese: 大熊猫; pinyin: dàxióngmāo) also known as the panda bear (or simply the panda), is a bear species endemic to China. It is characterised by its bold black-and-white coat and rotund body. The name \"giant panda\" is sometimes used to distinguish it from the red panda, a neighboring musteloid.\n",
    "\n",
    "These pandas do not manage tabular data; rather, they eat bamboo.\n",
    "\n",
    "OK, thanks!  Homework is due in one week.\n",
    "\n",
    "## Ahem... What is `pandas`?\n",
    "\n",
    "`pandas` is a very popular `python` library that is built to manage tabular data.  By \"tabular data\" we mean something like a spreadsheet -- information that is arranged into separate instances (typically rows) and features (typically columns).\n",
    "\n",
    "Now, we have already worked with tabular data in this class.  We read data from a file (usually CSV formatted) using some basic file I/O procedures (`readline()`, `string.split()`, etc.).  When we introduced this, you may have thought to yourself \"There has **got** to be a better, more-efficient way of doing this!\"  If you thought this, you were correct!  `pandas` is the better, more-efficient way of working with tabular data in `python`.\n",
    "\n",
    "In this tutorial, we're going to cover the basics of `pandas` fucntionality, but it's important to state that `pandas` is *soooooo powerful* that it is a professional-grade tool, ubiquitous in the quantitative world!  Researchers in the physical sciences, social sciences, finance, medicine, and public health use `pandas` to work with large, complex, real-world data.  As a result, there is a great wealth of `pandas` information and help online!\n",
    "\n",
    "There are (at least) two ways to introduce `pandas`: from the basic `pandas` structures up to the tabular dataset level, or from the tabular dataset level down to the basic structures.  We'll take the first approach, but you might consider going through this notebook backwards to see how the concepts connect in the opposite way."
   ]
  },
  {
   "cell_type": "markdown",
   "metadata": {},
   "source": [
    "***\n",
    "\n",
    "## `pandas` `Series`\n",
    "\n",
    "`pandas` organizes data based on two structures: `Series` and `DataFrame`. `DataFrames` are composed of `Series`(es). \n",
    "\n",
    "The structure of `Series` [(documentation here, take a look at all of those attributes/methods!)](https://pandas.pydata.org/docs/reference/api/pandas.Series.html) will seem familiar to you -- it's basically an ordered list with a lot of other slick features built into it!  Let's take iport the module and initialize a `Series` to see what it can do.\n",
    "\n",
    "We'll start with some data stored as a basic `python` list and then convert convert it to a `Series`.  Ooh, let's do some role-playing, too: We are the managers of a restaurant, and we want to build a dataset that contains information about our menu."
   ]
  },
  {
   "cell_type": "code",
   "execution_count": 1,
   "metadata": {},
   "outputs": [
    {
     "data": {
      "text/html": [
       "<pre style=\"white-space:pre;overflow-x:auto;line-height:normal;font-family:Menlo,'DejaVu Sans Mono',consolas,'Courier New',monospace\"><span style=\"color: #008080; text-decoration-color: #008080; font-weight: bold\">0</span>              aloo chana\n",
       "<span style=\"color: #008080; text-decoration-color: #008080; font-weight: bold\">1</span>            cheeseburger\n",
       "<span style=\"color: #008080; text-decoration-color: #008080; font-weight: bold\">2</span>             jjajangmeon\n",
       "<span style=\"color: #008080; text-decoration-color: #008080; font-weight: bold\">3</span>            cacio e pepe\n",
       "<span style=\"color: #008080; text-decoration-color: #008080; font-weight: bold\">4</span>              bubble tea\n",
       "<span style=\"color: #008080; text-decoration-color: #008080; font-weight: bold\">5</span>                        \n",
       "<span style=\"color: #008080; text-decoration-color: #008080; font-weight: bold\">6</span>                  paleta\n",
       "<span style=\"color: #008080; text-decoration-color: #008080; font-weight: bold\">7</span>              enchiladas\n",
       "<span style=\"color: #008080; text-decoration-color: #008080; font-weight: bold\">8</span>    cauliflower shawarma\n",
       "<span style=\"color: #008080; text-decoration-color: #008080; font-weight: bold\">9</span>             tikil gomen\n",
       "dtype: object\n",
       "</pre>\n"
      ],
      "text/plain": [
       "\u001b[1;36m0\u001b[0m              aloo chana\n",
       "\u001b[1;36m1\u001b[0m            cheeseburger\n",
       "\u001b[1;36m2\u001b[0m             jjajangmeon\n",
       "\u001b[1;36m3\u001b[0m            cacio e pepe\n",
       "\u001b[1;36m4\u001b[0m              bubble tea\n",
       "\u001b[1;36m5\u001b[0m                        \n",
       "\u001b[1;36m6\u001b[0m                  paleta\n",
       "\u001b[1;36m7\u001b[0m              enchiladas\n",
       "\u001b[1;36m8\u001b[0m    cauliflower shawarma\n",
       "\u001b[1;36m9\u001b[0m             tikil gomen\n",
       "dtype: object\n"
      ]
     },
     "metadata": {},
     "output_type": "display_data"
    }
   ],
   "source": [
    "import numpy as np\n",
    "import pandas as pd\n",
    "from rich import print ## comment out if you don't have rich installed\n",
    "\n",
    "menu = ['aloo chana', 'cheeseburger', 'jjajangmeon', 'cacio e pepe', 'bubble tea', '', \n",
    "        'paleta', 'enchiladas', 'cauliflower shawarma', 'tikil gomen']\n",
    "\n",
    "menu_ser = pd.Series(menu)\n",
    "\n",
    "print(menu_ser)"
   ]
  },
  {
   "cell_type": "markdown",
   "metadata": {},
   "source": [
    "At this point, `Series` looks pretty boring.  It's basically a list with more-sophisticated `print` formatting. Notice that when the `Series` is printed, it happens in two dimensions -- the first column is the *index column* and the second column is the *value column*.\n",
    "\n",
    "Ok, so what can we do with this?  Well, `Series` has many nice features that align with the types of things that scientists like to do with data!  Let's blast through a few (of the many, many) of these below."
   ]
  },
  {
   "cell_type": "code",
   "execution_count": 2,
   "metadata": {},
   "outputs": [
    {
     "data": {
      "text/html": [
       "<pre style=\"white-space:pre;overflow-x:auto;line-height:normal;font-family:Menlo,'DejaVu Sans Mono',consolas,'Courier New',monospace\"><span style=\"color: #008080; text-decoration-color: #008080; font-weight: bold\">0</span>              aloo chana\n",
       "<span style=\"color: #008080; text-decoration-color: #008080; font-weight: bold\">1</span>            cheeseburger\n",
       "<span style=\"color: #008080; text-decoration-color: #008080; font-weight: bold\">2</span>             jjajangmeon\n",
       "<span style=\"color: #008080; text-decoration-color: #008080; font-weight: bold\">3</span>            cacio e pepe\n",
       "<span style=\"color: #008080; text-decoration-color: #008080; font-weight: bold\">4</span>              bubble tea\n",
       "<span style=\"color: #008080; text-decoration-color: #008080; font-weight: bold\">5</span>                        \n",
       "<span style=\"color: #008080; text-decoration-color: #008080; font-weight: bold\">6</span>                  paleta\n",
       "<span style=\"color: #008080; text-decoration-color: #008080; font-weight: bold\">7</span>              enchiladas\n",
       "<span style=\"color: #008080; text-decoration-color: #008080; font-weight: bold\">8</span>    cauliflower shawarma\n",
       "<span style=\"color: #008080; text-decoration-color: #008080; font-weight: bold\">9</span>             tikil gomen\n",
       "Name: dish, dtype: object\n",
       "</pre>\n"
      ],
      "text/plain": [
       "\u001b[1;36m0\u001b[0m              aloo chana\n",
       "\u001b[1;36m1\u001b[0m            cheeseburger\n",
       "\u001b[1;36m2\u001b[0m             jjajangmeon\n",
       "\u001b[1;36m3\u001b[0m            cacio e pepe\n",
       "\u001b[1;36m4\u001b[0m              bubble tea\n",
       "\u001b[1;36m5\u001b[0m                        \n",
       "\u001b[1;36m6\u001b[0m                  paleta\n",
       "\u001b[1;36m7\u001b[0m              enchiladas\n",
       "\u001b[1;36m8\u001b[0m    cauliflower shawarma\n",
       "\u001b[1;36m9\u001b[0m             tikil gomen\n",
       "Name: dish, dtype: object\n"
      ]
     },
     "metadata": {},
     "output_type": "display_data"
    }
   ],
   "source": [
    "menu_ser.name = 'dish'\n",
    "print(menu_ser)"
   ]
  },
  {
   "cell_type": "markdown",
   "metadata": {},
   "source": [
    "Appending to a `Series` is complicated!  We need to first create a `Series` of the stuff that we want to append, and then `append` the new series to the original."
   ]
  },
  {
   "cell_type": "code",
   "execution_count": 3,
   "metadata": {},
   "outputs": [
    {
     "data": {
      "text/html": [
       "<pre style=\"white-space:pre;overflow-x:auto;line-height:normal;font-family:Menlo,'DejaVu Sans Mono',consolas,'Courier New',monospace\"><span style=\"color: #008080; text-decoration-color: #008080; font-weight: bold\">0</span>               quesadilla\n",
       "<span style=\"color: #008080; text-decoration-color: #008080; font-weight: bold\">1</span>              jollof rice\n",
       "<span style=\"color: #008080; text-decoration-color: #008080; font-weight: bold\">2</span>    grilled chili peppers\n",
       "<span style=\"color: #008080; text-decoration-color: #008080; font-weight: bold\">3</span>               ma la fish\n",
       "<span style=\"color: #008080; text-decoration-color: #008080; font-weight: bold\">4</span>                schnitzel\n",
       "<span style=\"color: #008080; text-decoration-color: #008080; font-weight: bold\">5</span>                empanadas\n",
       "Name: dish, dtype: object\n",
       "</pre>\n"
      ],
      "text/plain": [
       "\u001b[1;36m0\u001b[0m               quesadilla\n",
       "\u001b[1;36m1\u001b[0m              jollof rice\n",
       "\u001b[1;36m2\u001b[0m    grilled chili peppers\n",
       "\u001b[1;36m3\u001b[0m               ma la fish\n",
       "\u001b[1;36m4\u001b[0m                schnitzel\n",
       "\u001b[1;36m5\u001b[0m                empanadas\n",
       "Name: dish, dtype: object\n"
      ]
     },
     "metadata": {},
     "output_type": "display_data"
    },
    {
     "data": {
      "text/html": [
       "<pre style=\"white-space:pre;overflow-x:auto;line-height:normal;font-family:Menlo,'DejaVu Sans Mono',consolas,'Courier New',monospace\"><span style=\"color: #008080; text-decoration-color: #008080; font-weight: bold\">0</span>               aloo chana\n",
       "<span style=\"color: #008080; text-decoration-color: #008080; font-weight: bold\">1</span>             cheeseburger\n",
       "<span style=\"color: #008080; text-decoration-color: #008080; font-weight: bold\">2</span>              jjajangmeon\n",
       "<span style=\"color: #008080; text-decoration-color: #008080; font-weight: bold\">3</span>             cacio e pepe\n",
       "<span style=\"color: #008080; text-decoration-color: #008080; font-weight: bold\">4</span>               bubble tea\n",
       "<span style=\"color: #008080; text-decoration-color: #008080; font-weight: bold\">5</span>                         \n",
       "<span style=\"color: #008080; text-decoration-color: #008080; font-weight: bold\">6</span>                   paleta\n",
       "<span style=\"color: #008080; text-decoration-color: #008080; font-weight: bold\">7</span>               enchiladas\n",
       "<span style=\"color: #008080; text-decoration-color: #008080; font-weight: bold\">8</span>     cauliflower shawarma\n",
       "<span style=\"color: #008080; text-decoration-color: #008080; font-weight: bold\">9</span>              tikil gomen\n",
       "<span style=\"color: #008080; text-decoration-color: #008080; font-weight: bold\">0</span>               quesadilla\n",
       "<span style=\"color: #008080; text-decoration-color: #008080; font-weight: bold\">1</span>              jollof rice\n",
       "<span style=\"color: #008080; text-decoration-color: #008080; font-weight: bold\">2</span>    grilled chili peppers\n",
       "<span style=\"color: #008080; text-decoration-color: #008080; font-weight: bold\">3</span>               ma la fish\n",
       "<span style=\"color: #008080; text-decoration-color: #008080; font-weight: bold\">4</span>                schnitzel\n",
       "<span style=\"color: #008080; text-decoration-color: #008080; font-weight: bold\">5</span>                empanadas\n",
       "Name: dish, dtype: object\n",
       "</pre>\n"
      ],
      "text/plain": [
       "\u001b[1;36m0\u001b[0m               aloo chana\n",
       "\u001b[1;36m1\u001b[0m             cheeseburger\n",
       "\u001b[1;36m2\u001b[0m              jjajangmeon\n",
       "\u001b[1;36m3\u001b[0m             cacio e pepe\n",
       "\u001b[1;36m4\u001b[0m               bubble tea\n",
       "\u001b[1;36m5\u001b[0m                         \n",
       "\u001b[1;36m6\u001b[0m                   paleta\n",
       "\u001b[1;36m7\u001b[0m               enchiladas\n",
       "\u001b[1;36m8\u001b[0m     cauliflower shawarma\n",
       "\u001b[1;36m9\u001b[0m              tikil gomen\n",
       "\u001b[1;36m0\u001b[0m               quesadilla\n",
       "\u001b[1;36m1\u001b[0m              jollof rice\n",
       "\u001b[1;36m2\u001b[0m    grilled chili peppers\n",
       "\u001b[1;36m3\u001b[0m               ma la fish\n",
       "\u001b[1;36m4\u001b[0m                schnitzel\n",
       "\u001b[1;36m5\u001b[0m                empanadas\n",
       "Name: dish, dtype: object\n"
      ]
     },
     "metadata": {},
     "output_type": "display_data"
    }
   ],
   "source": [
    "new_dishes = ['quesadilla', 'jollof rice', 'grilled chili peppers', 'ma la fish', 'schnitzel', 'empanadas']\n",
    "new_ser = pd.Series(new_dishes, name='dish')\n",
    "print(new_ser)\n",
    "\n",
    "print(menu_ser.append(new_ser))"
   ]
  },
  {
   "cell_type": "markdown",
   "metadata": {},
   "source": [
    "***It is VERY important to realize*** that the `append` call above does **NOT** change the original series by default.  That is, when we append the new `Series` to the old, the result that is created is **not stored** in either of the original variables!  This might seem annoying (and it *is* annoying), but `pandas` works this way so that it is very difficult to *accidentally* change your data in some catastrophic way.\n",
    "\n",
    "If we want to append and then replace the original `Series`, we have to replace the old one \"by hand\":"
   ]
  },
  {
   "cell_type": "code",
   "execution_count": 4,
   "metadata": {},
   "outputs": [
    {
     "data": {
      "text/html": [
       "<pre style=\"white-space:pre;overflow-x:auto;line-height:normal;font-family:Menlo,'DejaVu Sans Mono',consolas,'Courier New',monospace\"><span style=\"color: #008080; text-decoration-color: #008080; font-weight: bold\">0</span>               aloo chana\n",
       "<span style=\"color: #008080; text-decoration-color: #008080; font-weight: bold\">1</span>             cheeseburger\n",
       "<span style=\"color: #008080; text-decoration-color: #008080; font-weight: bold\">2</span>              jjajangmeon\n",
       "<span style=\"color: #008080; text-decoration-color: #008080; font-weight: bold\">3</span>             cacio e pepe\n",
       "<span style=\"color: #008080; text-decoration-color: #008080; font-weight: bold\">4</span>               bubble tea\n",
       "<span style=\"color: #008080; text-decoration-color: #008080; font-weight: bold\">5</span>                         \n",
       "<span style=\"color: #008080; text-decoration-color: #008080; font-weight: bold\">6</span>                   paleta\n",
       "<span style=\"color: #008080; text-decoration-color: #008080; font-weight: bold\">7</span>               enchiladas\n",
       "<span style=\"color: #008080; text-decoration-color: #008080; font-weight: bold\">8</span>     cauliflower shawarma\n",
       "<span style=\"color: #008080; text-decoration-color: #008080; font-weight: bold\">9</span>              tikil gomen\n",
       "<span style=\"color: #008080; text-decoration-color: #008080; font-weight: bold\">0</span>               quesadilla\n",
       "<span style=\"color: #008080; text-decoration-color: #008080; font-weight: bold\">1</span>              jollof rice\n",
       "<span style=\"color: #008080; text-decoration-color: #008080; font-weight: bold\">2</span>    grilled chili peppers\n",
       "<span style=\"color: #008080; text-decoration-color: #008080; font-weight: bold\">3</span>               ma la fish\n",
       "<span style=\"color: #008080; text-decoration-color: #008080; font-weight: bold\">4</span>                schnitzel\n",
       "<span style=\"color: #008080; text-decoration-color: #008080; font-weight: bold\">5</span>                empanadas\n",
       "Name: dish, dtype: object\n",
       "</pre>\n"
      ],
      "text/plain": [
       "\u001b[1;36m0\u001b[0m               aloo chana\n",
       "\u001b[1;36m1\u001b[0m             cheeseburger\n",
       "\u001b[1;36m2\u001b[0m              jjajangmeon\n",
       "\u001b[1;36m3\u001b[0m             cacio e pepe\n",
       "\u001b[1;36m4\u001b[0m               bubble tea\n",
       "\u001b[1;36m5\u001b[0m                         \n",
       "\u001b[1;36m6\u001b[0m                   paleta\n",
       "\u001b[1;36m7\u001b[0m               enchiladas\n",
       "\u001b[1;36m8\u001b[0m     cauliflower shawarma\n",
       "\u001b[1;36m9\u001b[0m              tikil gomen\n",
       "\u001b[1;36m0\u001b[0m               quesadilla\n",
       "\u001b[1;36m1\u001b[0m              jollof rice\n",
       "\u001b[1;36m2\u001b[0m    grilled chili peppers\n",
       "\u001b[1;36m3\u001b[0m               ma la fish\n",
       "\u001b[1;36m4\u001b[0m                schnitzel\n",
       "\u001b[1;36m5\u001b[0m                empanadas\n",
       "Name: dish, dtype: object\n"
      ]
     },
     "metadata": {},
     "output_type": "display_data"
    }
   ],
   "source": [
    "menu_ser = pd.Series(menu, name='dish')\n",
    "menu_ser = menu_ser.append(new_ser)\n",
    "print(menu_ser)"
   ]
  },
  {
   "cell_type": "markdown",
   "metadata": {},
   "source": [
    "You may notice that the indices are goofed up!  The `Series` that I appended had its own index system when I created it, and we now have *duplicate indices*.  We can solve this by including the `ignore_index=True` argument when we call `append`.  (Try it above!)\n",
    "\n",
    "Access of individual elements of the `Series` is a little bit more complicated (but more flexible) than it is with a basic `list`:"
   ]
  },
  {
   "cell_type": "code",
   "execution_count": 5,
   "metadata": {},
   "outputs": [
    {
     "data": {
      "text/html": [
       "<pre style=\"white-space:pre;overflow-x:auto;line-height:normal;font-family:Menlo,'DejaVu Sans Mono',consolas,'Courier New',monospace\"><span style=\"color: #008080; text-decoration-color: #008080; font-weight: bold\">0</span>                aloo chana\n",
       "<span style=\"color: #008080; text-decoration-color: #008080; font-weight: bold\">1</span>              cheeseburger\n",
       "<span style=\"color: #008080; text-decoration-color: #008080; font-weight: bold\">2</span>               jjajangmeon\n",
       "<span style=\"color: #008080; text-decoration-color: #008080; font-weight: bold\">3</span>              cacio e pepe\n",
       "<span style=\"color: #008080; text-decoration-color: #008080; font-weight: bold\">4</span>                bubble tea\n",
       "<span style=\"color: #008080; text-decoration-color: #008080; font-weight: bold\">5</span>                          \n",
       "<span style=\"color: #008080; text-decoration-color: #008080; font-weight: bold\">6</span>                    paleta\n",
       "<span style=\"color: #008080; text-decoration-color: #008080; font-weight: bold\">7</span>                enchiladas\n",
       "<span style=\"color: #008080; text-decoration-color: #008080; font-weight: bold\">8</span>      cauliflower shawarma\n",
       "<span style=\"color: #008080; text-decoration-color: #008080; font-weight: bold\">9</span>               tikil gomen\n",
       "<span style=\"color: #008080; text-decoration-color: #008080; font-weight: bold\">10</span>               quesadilla\n",
       "<span style=\"color: #008080; text-decoration-color: #008080; font-weight: bold\">11</span>              jollof rice\n",
       "<span style=\"color: #008080; text-decoration-color: #008080; font-weight: bold\">12</span>    grilled chili peppers\n",
       "<span style=\"color: #008080; text-decoration-color: #008080; font-weight: bold\">13</span>               ma la fish\n",
       "<span style=\"color: #008080; text-decoration-color: #008080; font-weight: bold\">14</span>                schnitzel\n",
       "<span style=\"color: #008080; text-decoration-color: #008080; font-weight: bold\">15</span>                empanadas\n",
       "Name: dish, dtype: object\n",
       "</pre>\n"
      ],
      "text/plain": [
       "\u001b[1;36m0\u001b[0m                aloo chana\n",
       "\u001b[1;36m1\u001b[0m              cheeseburger\n",
       "\u001b[1;36m2\u001b[0m               jjajangmeon\n",
       "\u001b[1;36m3\u001b[0m              cacio e pepe\n",
       "\u001b[1;36m4\u001b[0m                bubble tea\n",
       "\u001b[1;36m5\u001b[0m                          \n",
       "\u001b[1;36m6\u001b[0m                    paleta\n",
       "\u001b[1;36m7\u001b[0m                enchiladas\n",
       "\u001b[1;36m8\u001b[0m      cauliflower shawarma\n",
       "\u001b[1;36m9\u001b[0m               tikil gomen\n",
       "\u001b[1;36m10\u001b[0m               quesadilla\n",
       "\u001b[1;36m11\u001b[0m              jollof rice\n",
       "\u001b[1;36m12\u001b[0m    grilled chili peppers\n",
       "\u001b[1;36m13\u001b[0m               ma la fish\n",
       "\u001b[1;36m14\u001b[0m                schnitzel\n",
       "\u001b[1;36m15\u001b[0m                empanadas\n",
       "Name: dish, dtype: object\n"
      ]
     },
     "metadata": {},
     "output_type": "display_data"
    }
   ],
   "source": [
    "menu_ser.reset_index(drop=True, inplace=True)\n",
    "print(menu_ser)"
   ]
  },
  {
   "cell_type": "code",
   "execution_count": 6,
   "metadata": {},
   "outputs": [
    {
     "data": {
      "text/html": [
       "<pre style=\"white-space:pre;overflow-x:auto;line-height:normal;font-family:Menlo,'DejaVu Sans Mono',consolas,'Courier New',monospace\">cacio e pepe\n",
       "</pre>\n"
      ],
      "text/plain": [
       "cacio e pepe\n"
      ]
     },
     "metadata": {},
     "output_type": "display_data"
    },
    {
     "data": {
      "text/html": [
       "<pre style=\"white-space:pre;overflow-x:auto;line-height:normal;font-family:Menlo,'DejaVu Sans Mono',consolas,'Courier New',monospace\">\n",
       "</pre>\n"
      ],
      "text/plain": [
       "\n"
      ]
     },
     "metadata": {},
     "output_type": "display_data"
    },
    {
     "data": {
      "text/html": [
       "<pre style=\"white-space:pre;overflow-x:auto;line-height:normal;font-family:Menlo,'DejaVu Sans Mono',consolas,'Courier New',monospace\"><span style=\"color: #008080; text-decoration-color: #008080; font-weight: bold\">2</span>     jjajangmeon\n",
       "<span style=\"color: #008080; text-decoration-color: #008080; font-weight: bold\">3</span>    cacio e pepe\n",
       "<span style=\"color: #008080; text-decoration-color: #008080; font-weight: bold\">4</span>      bubble tea\n",
       "<span style=\"color: #008080; text-decoration-color: #008080; font-weight: bold\">5</span>                \n",
       "Name: dish, dtype: object\n",
       "</pre>\n"
      ],
      "text/plain": [
       "\u001b[1;36m2\u001b[0m     jjajangmeon\n",
       "\u001b[1;36m3\u001b[0m    cacio e pepe\n",
       "\u001b[1;36m4\u001b[0m      bubble tea\n",
       "\u001b[1;36m5\u001b[0m                \n",
       "Name: dish, dtype: object\n"
      ]
     },
     "metadata": {},
     "output_type": "display_data"
    },
    {
     "data": {
      "text/html": [
       "<pre style=\"white-space:pre;overflow-x:auto;line-height:normal;font-family:Menlo,'DejaVu Sans Mono',consolas,'Courier New',monospace\">\n",
       "</pre>\n"
      ],
      "text/plain": [
       "\n"
      ]
     },
     "metadata": {},
     "output_type": "display_data"
    },
    {
     "data": {
      "text/html": [
       "<pre style=\"white-space:pre;overflow-x:auto;line-height:normal;font-family:Menlo,'DejaVu Sans Mono',consolas,'Courier New',monospace\">empanadas\n",
       "</pre>\n"
      ],
      "text/plain": [
       "empanadas\n"
      ]
     },
     "metadata": {},
     "output_type": "display_data"
    }
   ],
   "source": [
    "print(menu_ser.iloc[3])\n",
    "print()\n",
    "print(menu_ser.iloc[2:6])\n",
    "print()\n",
    "print(menu_ser.iloc[-1])"
   ]
  },
  {
   "cell_type": "markdown",
   "metadata": {},
   "source": [
    "We can also access elements of the `Series` by value!  The syntax below looks really odd at first, but it is in some ways similar the way that we access elements of a `dictionary`."
   ]
  },
  {
   "cell_type": "code",
   "execution_count": 7,
   "metadata": {},
   "outputs": [
    {
     "data": {
      "text/html": [
       "<pre style=\"white-space:pre;overflow-x:auto;line-height:normal;font-family:Menlo,'DejaVu Sans Mono',consolas,'Courier New',monospace\"><span style=\"color: #008080; text-decoration-color: #008080; font-weight: bold\">10</span>    quesadilla\n",
       "Name: dish, dtype: object\n",
       "</pre>\n"
      ],
      "text/plain": [
       "\u001b[1;36m10\u001b[0m    quesadilla\n",
       "Name: dish, dtype: object\n"
      ]
     },
     "metadata": {},
     "output_type": "display_data"
    },
    {
     "data": {
      "text/html": [
       "<pre style=\"white-space:pre;overflow-x:auto;line-height:normal;font-family:Menlo,'DejaVu Sans Mono',consolas,'Courier New',monospace\">\n",
       "</pre>\n"
      ],
      "text/plain": [
       "\n"
      ]
     },
     "metadata": {},
     "output_type": "display_data"
    },
    {
     "data": {
      "text/html": [
       "<pre style=\"white-space:pre;overflow-x:auto;line-height:normal;font-family:Menlo,'DejaVu Sans Mono',consolas,'Courier New',monospace\"><span style=\"color: #008080; text-decoration-color: #008080; font-weight: bold\">10</span>\n",
       "</pre>\n"
      ],
      "text/plain": [
       "\u001b[1;36m10\u001b[0m\n"
      ]
     },
     "metadata": {},
     "output_type": "display_data"
    }
   ],
   "source": [
    "print(menu_ser[menu_ser == 'quesadilla'])\n",
    "print()\n",
    "print(menu_ser[menu_ser == 'quesadilla'].index[0])"
   ]
  },
  {
   "cell_type": "markdown",
   "metadata": {},
   "source": [
    "Some other handy features:"
   ]
  },
  {
   "cell_type": "code",
   "execution_count": 8,
   "metadata": {},
   "outputs": [
    {
     "data": {
      "text/html": [
       "<pre style=\"white-space:pre;overflow-x:auto;line-height:normal;font-family:Menlo,'DejaVu Sans Mono',consolas,'Courier New',monospace\"><span style=\"color: #008080; text-decoration-color: #008080; font-weight: bold\">16</span>\n",
       "</pre>\n"
      ],
      "text/plain": [
       "\u001b[1;36m16\u001b[0m\n"
      ]
     },
     "metadata": {},
     "output_type": "display_data"
    },
    {
     "data": {
      "text/html": [
       "<pre style=\"white-space:pre;overflow-x:auto;line-height:normal;font-family:Menlo,'DejaVu Sans Mono',consolas,'Courier New',monospace\">- - - - - - - - -\n",
       "</pre>\n"
      ],
      "text/plain": [
       "- - - - - - - - -\n"
      ]
     },
     "metadata": {},
     "output_type": "display_data"
    },
    {
     "data": {
      "text/html": [
       "<pre style=\"white-space:pre;overflow-x:auto;line-height:normal;font-family:Menlo,'DejaVu Sans Mono',consolas,'Courier New',monospace\">\n",
       "</pre>\n"
      ],
      "text/plain": [
       "\n"
      ]
     },
     "metadata": {},
     "output_type": "display_data"
    },
    {
     "data": {
      "text/html": [
       "<pre style=\"white-space:pre;overflow-x:auto;line-height:normal;font-family:Menlo,'DejaVu Sans Mono',consolas,'Courier New',monospace\"><span style=\"color: #008080; text-decoration-color: #008080; font-weight: bold\">5</span>                          \n",
       "<span style=\"color: #008080; text-decoration-color: #008080; font-weight: bold\">0</span>                aloo chana\n",
       "<span style=\"color: #008080; text-decoration-color: #008080; font-weight: bold\">4</span>                bubble tea\n",
       "<span style=\"color: #008080; text-decoration-color: #008080; font-weight: bold\">3</span>              cacio e pepe\n",
       "<span style=\"color: #008080; text-decoration-color: #008080; font-weight: bold\">8</span>      cauliflower shawarma\n",
       "<span style=\"color: #008080; text-decoration-color: #008080; font-weight: bold\">1</span>              cheeseburger\n",
       "<span style=\"color: #008080; text-decoration-color: #008080; font-weight: bold\">15</span>                empanadas\n",
       "<span style=\"color: #008080; text-decoration-color: #008080; font-weight: bold\">7</span>                enchiladas\n",
       "<span style=\"color: #008080; text-decoration-color: #008080; font-weight: bold\">12</span>    grilled chili peppers\n",
       "<span style=\"color: #008080; text-decoration-color: #008080; font-weight: bold\">2</span>               jjajangmeon\n",
       "<span style=\"color: #008080; text-decoration-color: #008080; font-weight: bold\">11</span>              jollof rice\n",
       "<span style=\"color: #008080; text-decoration-color: #008080; font-weight: bold\">13</span>               ma la fish\n",
       "<span style=\"color: #008080; text-decoration-color: #008080; font-weight: bold\">6</span>                    paleta\n",
       "<span style=\"color: #008080; text-decoration-color: #008080; font-weight: bold\">10</span>               quesadilla\n",
       "<span style=\"color: #008080; text-decoration-color: #008080; font-weight: bold\">14</span>                schnitzel\n",
       "<span style=\"color: #008080; text-decoration-color: #008080; font-weight: bold\">9</span>               tikil gomen\n",
       "Name: dish, dtype: object\n",
       "</pre>\n"
      ],
      "text/plain": [
       "\u001b[1;36m5\u001b[0m                          \n",
       "\u001b[1;36m0\u001b[0m                aloo chana\n",
       "\u001b[1;36m4\u001b[0m                bubble tea\n",
       "\u001b[1;36m3\u001b[0m              cacio e pepe\n",
       "\u001b[1;36m8\u001b[0m      cauliflower shawarma\n",
       "\u001b[1;36m1\u001b[0m              cheeseburger\n",
       "\u001b[1;36m15\u001b[0m                empanadas\n",
       "\u001b[1;36m7\u001b[0m                enchiladas\n",
       "\u001b[1;36m12\u001b[0m    grilled chili peppers\n",
       "\u001b[1;36m2\u001b[0m               jjajangmeon\n",
       "\u001b[1;36m11\u001b[0m              jollof rice\n",
       "\u001b[1;36m13\u001b[0m               ma la fish\n",
       "\u001b[1;36m6\u001b[0m                    paleta\n",
       "\u001b[1;36m10\u001b[0m               quesadilla\n",
       "\u001b[1;36m14\u001b[0m                schnitzel\n",
       "\u001b[1;36m9\u001b[0m               tikil gomen\n",
       "Name: dish, dtype: object\n"
      ]
     },
     "metadata": {},
     "output_type": "display_data"
    },
    {
     "data": {
      "text/html": [
       "<pre style=\"white-space:pre;overflow-x:auto;line-height:normal;font-family:Menlo,'DejaVu Sans Mono',consolas,'Courier New',monospace\">- - - - - - - - -\n",
       "</pre>\n"
      ],
      "text/plain": [
       "- - - - - - - - -\n"
      ]
     },
     "metadata": {},
     "output_type": "display_data"
    },
    {
     "data": {
      "text/html": [
       "<pre style=\"white-space:pre;overflow-x:auto;line-height:normal;font-family:Menlo,'DejaVu Sans Mono',consolas,'Courier New',monospace\">\n",
       "</pre>\n"
      ],
      "text/plain": [
       "\n"
      ]
     },
     "metadata": {},
     "output_type": "display_data"
    },
    {
     "data": {
      "text/html": [
       "<pre style=\"white-space:pre;overflow-x:auto;line-height:normal;font-family:Menlo,'DejaVu Sans Mono',consolas,'Courier New',monospace\"><span style=\"color: #008080; text-decoration-color: #008080; font-weight: bold\">0</span>                aloo chana\n",
       "<span style=\"color: #008080; text-decoration-color: #008080; font-weight: bold\">1</span>              cheeseburger\n",
       "<span style=\"color: #008080; text-decoration-color: #008080; font-weight: bold\">2</span>               jjajangmeon\n",
       "<span style=\"color: #008080; text-decoration-color: #008080; font-weight: bold\">3</span>              cacio e pepe\n",
       "<span style=\"color: #008080; text-decoration-color: #008080; font-weight: bold\">4</span>                bubble tea\n",
       "<span style=\"color: #008080; text-decoration-color: #008080; font-weight: bold\">5</span>                    paleta\n",
       "<span style=\"color: #008080; text-decoration-color: #008080; font-weight: bold\">6</span>                enchiladas\n",
       "<span style=\"color: #008080; text-decoration-color: #008080; font-weight: bold\">7</span>      cauliflower shawarma\n",
       "<span style=\"color: #008080; text-decoration-color: #008080; font-weight: bold\">8</span>               tikil gomen\n",
       "<span style=\"color: #008080; text-decoration-color: #008080; font-weight: bold\">9</span>                quesadilla\n",
       "<span style=\"color: #008080; text-decoration-color: #008080; font-weight: bold\">10</span>              jollof rice\n",
       "<span style=\"color: #008080; text-decoration-color: #008080; font-weight: bold\">11</span>    grilled chili peppers\n",
       "<span style=\"color: #008080; text-decoration-color: #008080; font-weight: bold\">12</span>               ma la fish\n",
       "<span style=\"color: #008080; text-decoration-color: #008080; font-weight: bold\">13</span>                schnitzel\n",
       "<span style=\"color: #008080; text-decoration-color: #008080; font-weight: bold\">14</span>                empanadas\n",
       "Name: dish, dtype: object\n",
       "</pre>\n"
      ],
      "text/plain": [
       "\u001b[1;36m0\u001b[0m                aloo chana\n",
       "\u001b[1;36m1\u001b[0m              cheeseburger\n",
       "\u001b[1;36m2\u001b[0m               jjajangmeon\n",
       "\u001b[1;36m3\u001b[0m              cacio e pepe\n",
       "\u001b[1;36m4\u001b[0m                bubble tea\n",
       "\u001b[1;36m5\u001b[0m                    paleta\n",
       "\u001b[1;36m6\u001b[0m                enchiladas\n",
       "\u001b[1;36m7\u001b[0m      cauliflower shawarma\n",
       "\u001b[1;36m8\u001b[0m               tikil gomen\n",
       "\u001b[1;36m9\u001b[0m                quesadilla\n",
       "\u001b[1;36m10\u001b[0m              jollof rice\n",
       "\u001b[1;36m11\u001b[0m    grilled chili peppers\n",
       "\u001b[1;36m12\u001b[0m               ma la fish\n",
       "\u001b[1;36m13\u001b[0m                schnitzel\n",
       "\u001b[1;36m14\u001b[0m                empanadas\n",
       "Name: dish, dtype: object\n"
      ]
     },
     "metadata": {},
     "output_type": "display_data"
    },
    {
     "data": {
      "text/html": [
       "<pre style=\"white-space:pre;overflow-x:auto;line-height:normal;font-family:Menlo,'DejaVu Sans Mono',consolas,'Courier New',monospace\"><span style=\"color: #008080; text-decoration-color: #008080; font-weight: bold\">15</span>\n",
       "</pre>\n"
      ],
      "text/plain": [
       "\u001b[1;36m15\u001b[0m\n"
      ]
     },
     "metadata": {},
     "output_type": "display_data"
    },
    {
     "data": {
      "text/html": [
       "<pre style=\"white-space:pre;overflow-x:auto;line-height:normal;font-family:Menlo,'DejaVu Sans Mono',consolas,'Courier New',monospace\">- - - - - - - - -\n",
       "</pre>\n"
      ],
      "text/plain": [
       "- - - - - - - - -\n"
      ]
     },
     "metadata": {},
     "output_type": "display_data"
    },
    {
     "data": {
      "text/html": [
       "<pre style=\"white-space:pre;overflow-x:auto;line-height:normal;font-family:Menlo,'DejaVu Sans Mono',consolas,'Courier New',monospace\">\n",
       "</pre>\n"
      ],
      "text/plain": [
       "\n"
      ]
     },
     "metadata": {},
     "output_type": "display_data"
    },
    {
     "data": {
      "text/html": [
       "<pre style=\"white-space:pre;overflow-x:auto;line-height:normal;font-family:Menlo,'DejaVu Sans Mono',consolas,'Courier New',monospace\"><span style=\"font-weight: bold\">[</span><span style=\"color: #008000; text-decoration-color: #008000\">'aloo chana'</span> <span style=\"color: #008000; text-decoration-color: #008000\">'cheeseburger'</span> <span style=\"color: #008000; text-decoration-color: #008000\">'jjajangmeon'</span> <span style=\"color: #008000; text-decoration-color: #008000\">'cacio e pepe'</span> <span style=\"color: #008000; text-decoration-color: #008000\">'bubble tea'</span>\n",
       " <span style=\"color: #008000; text-decoration-color: #008000\">'paleta'</span> <span style=\"color: #008000; text-decoration-color: #008000\">'enchiladas'</span> <span style=\"color: #008000; text-decoration-color: #008000\">'cauliflower shawarma'</span> <span style=\"color: #008000; text-decoration-color: #008000\">'tikil gomen'</span> <span style=\"color: #008000; text-decoration-color: #008000\">'quesadilla'</span>\n",
       " <span style=\"color: #008000; text-decoration-color: #008000\">'jollof rice'</span> <span style=\"color: #008000; text-decoration-color: #008000\">'grilled chili peppers'</span> <span style=\"color: #008000; text-decoration-color: #008000\">'ma la fish'</span> <span style=\"color: #008000; text-decoration-color: #008000\">'schnitzel'</span>\n",
       " <span style=\"color: #008000; text-decoration-color: #008000\">'empanadas'</span><span style=\"font-weight: bold\">]</span>\n",
       "</pre>\n"
      ],
      "text/plain": [
       "\u001b[1m[\u001b[0m\u001b[32m'aloo chana'\u001b[0m \u001b[32m'cheeseburger'\u001b[0m \u001b[32m'jjajangmeon'\u001b[0m \u001b[32m'cacio e pepe'\u001b[0m \u001b[32m'bubble tea'\u001b[0m\n",
       " \u001b[32m'paleta'\u001b[0m \u001b[32m'enchiladas'\u001b[0m \u001b[32m'cauliflower shawarma'\u001b[0m \u001b[32m'tikil gomen'\u001b[0m \u001b[32m'quesadilla'\u001b[0m\n",
       " \u001b[32m'jollof rice'\u001b[0m \u001b[32m'grilled chili peppers'\u001b[0m \u001b[32m'ma la fish'\u001b[0m \u001b[32m'schnitzel'\u001b[0m\n",
       " \u001b[32m'empanadas'\u001b[0m\u001b[1m]\u001b[0m\n"
      ]
     },
     "metadata": {},
     "output_type": "display_data"
    }
   ],
   "source": [
    "print(menu_ser.size)\n",
    "print('- - - - - - - - -')\n",
    "print()\n",
    "\n",
    "print(menu_ser.sort_values())\n",
    "print('- - - - - - - - -')\n",
    "print()\n",
    "\n",
    "# let's see if we can get rid of that empty entry\n",
    "menu_ser = menu_ser[menu_ser != '']\n",
    "menu_ser.name = 'dish'\n",
    "menu_ser.reset_index(drop=True, inplace=True)\n",
    "print(menu_ser)\n",
    "print(menu_ser.size)\n",
    "print('- - - - - - - - -')\n",
    "print()\n",
    "\n",
    "print(menu_ser.values)\n"
   ]
  },
  {
   "cell_type": "markdown",
   "metadata": {},
   "source": [
    "***\n",
    "\n",
    "While we're at it let's create a couple more `Series` that contain other information about these items from our imaginary restaurant:"
   ]
  },
  {
   "cell_type": "code",
   "execution_count": 9,
   "metadata": {},
   "outputs": [
    {
     "data": {
      "text/html": [
       "<pre style=\"white-space:pre;overflow-x:auto;line-height:normal;font-family:Menlo,'DejaVu Sans Mono',consolas,'Courier New',monospace\"><span style=\"color: #008080; text-decoration-color: #008080; font-weight: bold\">0</span>     <span style=\"color: #008080; text-decoration-color: #008080; font-weight: bold\">10.0</span>\n",
       "<span style=\"color: #008080; text-decoration-color: #008080; font-weight: bold\">1</span>      <span style=\"color: #008080; text-decoration-color: #008080; font-weight: bold\">8.0</span>\n",
       "<span style=\"color: #008080; text-decoration-color: #008080; font-weight: bold\">2</span>     <span style=\"color: #008080; text-decoration-color: #008080; font-weight: bold\">12.0</span>\n",
       "<span style=\"color: #008080; text-decoration-color: #008080; font-weight: bold\">3</span>     <span style=\"color: #008080; text-decoration-color: #008080; font-weight: bold\">12.0</span>\n",
       "<span style=\"color: #008080; text-decoration-color: #008080; font-weight: bold\">4</span>      <span style=\"color: #008080; text-decoration-color: #008080; font-weight: bold\">4.0</span>\n",
       "<span style=\"color: #008080; text-decoration-color: #008080; font-weight: bold\">5</span>      <span style=\"color: #008080; text-decoration-color: #008080; font-weight: bold\">2.5</span>\n",
       "<span style=\"color: #008080; text-decoration-color: #008080; font-weight: bold\">6</span>     <span style=\"color: #008080; text-decoration-color: #008080; font-weight: bold\">11.0</span>\n",
       "<span style=\"color: #008080; text-decoration-color: #008080; font-weight: bold\">7</span>      <span style=\"color: #008080; text-decoration-color: #008080; font-weight: bold\">9.0</span>\n",
       "<span style=\"color: #008080; text-decoration-color: #008080; font-weight: bold\">8</span>     <span style=\"color: #008080; text-decoration-color: #008080; font-weight: bold\">10.0</span>\n",
       "<span style=\"color: #008080; text-decoration-color: #008080; font-weight: bold\">9</span>      <span style=\"color: #008080; text-decoration-color: #008080; font-weight: bold\">6.0</span>\n",
       "<span style=\"color: #008080; text-decoration-color: #008080; font-weight: bold\">10</span>     <span style=\"color: #008080; text-decoration-color: #008080; font-weight: bold\">9.0</span>\n",
       "<span style=\"color: #008080; text-decoration-color: #008080; font-weight: bold\">11</span>     <span style=\"color: #008080; text-decoration-color: #008080; font-weight: bold\">2.0</span>\n",
       "<span style=\"color: #008080; text-decoration-color: #008080; font-weight: bold\">12</span>    <span style=\"color: #008080; text-decoration-color: #008080; font-weight: bold\">16.0</span>\n",
       "<span style=\"color: #008080; text-decoration-color: #008080; font-weight: bold\">13</span>    <span style=\"color: #008080; text-decoration-color: #008080; font-weight: bold\">16.0</span>\n",
       "<span style=\"color: #008080; text-decoration-color: #008080; font-weight: bold\">14</span>     <span style=\"color: #008080; text-decoration-color: #008080; font-weight: bold\">8.0</span>\n",
       "Name: price, dtype: float64\n",
       "</pre>\n"
      ],
      "text/plain": [
       "\u001b[1;36m0\u001b[0m     \u001b[1;36m10.0\u001b[0m\n",
       "\u001b[1;36m1\u001b[0m      \u001b[1;36m8.0\u001b[0m\n",
       "\u001b[1;36m2\u001b[0m     \u001b[1;36m12.0\u001b[0m\n",
       "\u001b[1;36m3\u001b[0m     \u001b[1;36m12.0\u001b[0m\n",
       "\u001b[1;36m4\u001b[0m      \u001b[1;36m4.0\u001b[0m\n",
       "\u001b[1;36m5\u001b[0m      \u001b[1;36m2.5\u001b[0m\n",
       "\u001b[1;36m6\u001b[0m     \u001b[1;36m11.0\u001b[0m\n",
       "\u001b[1;36m7\u001b[0m      \u001b[1;36m9.0\u001b[0m\n",
       "\u001b[1;36m8\u001b[0m     \u001b[1;36m10.0\u001b[0m\n",
       "\u001b[1;36m9\u001b[0m      \u001b[1;36m6.0\u001b[0m\n",
       "\u001b[1;36m10\u001b[0m     \u001b[1;36m9.0\u001b[0m\n",
       "\u001b[1;36m11\u001b[0m     \u001b[1;36m2.0\u001b[0m\n",
       "\u001b[1;36m12\u001b[0m    \u001b[1;36m16.0\u001b[0m\n",
       "\u001b[1;36m13\u001b[0m    \u001b[1;36m16.0\u001b[0m\n",
       "\u001b[1;36m14\u001b[0m     \u001b[1;36m8.0\u001b[0m\n",
       "Name: price, dtype: float64\n"
      ]
     },
     "metadata": {},
     "output_type": "display_data"
    },
    {
     "data": {
      "text/html": [
       "<pre style=\"white-space:pre;overflow-x:auto;line-height:normal;font-family:Menlo,'DejaVu Sans Mono',consolas,'Courier New',monospace\">- - - - - - - - -\n",
       "</pre>\n"
      ],
      "text/plain": [
       "- - - - - - - - -\n"
      ]
     },
     "metadata": {},
     "output_type": "display_data"
    },
    {
     "data": {
      "text/html": [
       "<pre style=\"white-space:pre;overflow-x:auto;line-height:normal;font-family:Menlo,'DejaVu Sans Mono',consolas,'Courier New',monospace\">\n",
       "</pre>\n"
      ],
      "text/plain": [
       "\n"
      ]
     },
     "metadata": {},
     "output_type": "display_data"
    },
    {
     "data": {
      "text/html": [
       "<pre style=\"white-space:pre;overflow-x:auto;line-height:normal;font-family:Menlo,'DejaVu Sans Mono',consolas,'Courier New',monospace\"><span style=\"color: #008080; text-decoration-color: #008080; font-weight: bold\">0</span>     <span style=\"color: #008080; text-decoration-color: #008080; font-weight: bold\">450</span>\n",
       "<span style=\"color: #008080; text-decoration-color: #008080; font-weight: bold\">1</span>     <span style=\"color: #008080; text-decoration-color: #008080; font-weight: bold\">280</span>\n",
       "<span style=\"color: #008080; text-decoration-color: #008080; font-weight: bold\">2</span>     <span style=\"color: #008080; text-decoration-color: #008080; font-weight: bold\">400</span>\n",
       "<span style=\"color: #008080; text-decoration-color: #008080; font-weight: bold\">3</span>     <span style=\"color: #008080; text-decoration-color: #008080; font-weight: bold\">500</span>\n",
       "<span style=\"color: #008080; text-decoration-color: #008080; font-weight: bold\">4</span>     <span style=\"color: #008080; text-decoration-color: #008080; font-weight: bold\">300</span>\n",
       "<span style=\"color: #008080; text-decoration-color: #008080; font-weight: bold\">5</span>     <span style=\"color: #008080; text-decoration-color: #008080; font-weight: bold\">220</span>\n",
       "<span style=\"color: #008080; text-decoration-color: #008080; font-weight: bold\">6</span>     <span style=\"color: #008080; text-decoration-color: #008080; font-weight: bold\">475</span>\n",
       "<span style=\"color: #008080; text-decoration-color: #008080; font-weight: bold\">7</span>     <span style=\"color: #008080; text-decoration-color: #008080; font-weight: bold\">250</span>\n",
       "<span style=\"color: #008080; text-decoration-color: #008080; font-weight: bold\">8</span>     <span style=\"color: #008080; text-decoration-color: #008080; font-weight: bold\">300</span>\n",
       "<span style=\"color: #008080; text-decoration-color: #008080; font-weight: bold\">9</span>     <span style=\"color: #008080; text-decoration-color: #008080; font-weight: bold\">450</span>\n",
       "<span style=\"color: #008080; text-decoration-color: #008080; font-weight: bold\">10</span>    <span style=\"color: #008080; text-decoration-color: #008080; font-weight: bold\">400</span>\n",
       "<span style=\"color: #008080; text-decoration-color: #008080; font-weight: bold\">11</span>    <span style=\"color: #008080; text-decoration-color: #008080; font-weight: bold\">100</span>\n",
       "<span style=\"color: #008080; text-decoration-color: #008080; font-weight: bold\">12</span>    <span style=\"color: #008080; text-decoration-color: #008080; font-weight: bold\">480</span>\n",
       "<span style=\"color: #008080; text-decoration-color: #008080; font-weight: bold\">13</span>    <span style=\"color: #008080; text-decoration-color: #008080; font-weight: bold\">500</span>\n",
       "<span style=\"color: #008080; text-decoration-color: #008080; font-weight: bold\">14</span>    <span style=\"color: #008080; text-decoration-color: #008080; font-weight: bold\">400</span>\n",
       "Name: mass, dtype: int64\n",
       "</pre>\n"
      ],
      "text/plain": [
       "\u001b[1;36m0\u001b[0m     \u001b[1;36m450\u001b[0m\n",
       "\u001b[1;36m1\u001b[0m     \u001b[1;36m280\u001b[0m\n",
       "\u001b[1;36m2\u001b[0m     \u001b[1;36m400\u001b[0m\n",
       "\u001b[1;36m3\u001b[0m     \u001b[1;36m500\u001b[0m\n",
       "\u001b[1;36m4\u001b[0m     \u001b[1;36m300\u001b[0m\n",
       "\u001b[1;36m5\u001b[0m     \u001b[1;36m220\u001b[0m\n",
       "\u001b[1;36m6\u001b[0m     \u001b[1;36m475\u001b[0m\n",
       "\u001b[1;36m7\u001b[0m     \u001b[1;36m250\u001b[0m\n",
       "\u001b[1;36m8\u001b[0m     \u001b[1;36m300\u001b[0m\n",
       "\u001b[1;36m9\u001b[0m     \u001b[1;36m450\u001b[0m\n",
       "\u001b[1;36m10\u001b[0m    \u001b[1;36m400\u001b[0m\n",
       "\u001b[1;36m11\u001b[0m    \u001b[1;36m100\u001b[0m\n",
       "\u001b[1;36m12\u001b[0m    \u001b[1;36m480\u001b[0m\n",
       "\u001b[1;36m13\u001b[0m    \u001b[1;36m500\u001b[0m\n",
       "\u001b[1;36m14\u001b[0m    \u001b[1;36m400\u001b[0m\n",
       "Name: mass, dtype: int64\n"
      ]
     },
     "metadata": {},
     "output_type": "display_data"
    },
    {
     "data": {
      "text/html": [
       "<pre style=\"white-space:pre;overflow-x:auto;line-height:normal;font-family:Menlo,'DejaVu Sans Mono',consolas,'Courier New',monospace\">- - - - - - - - -\n",
       "</pre>\n"
      ],
      "text/plain": [
       "- - - - - - - - -\n"
      ]
     },
     "metadata": {},
     "output_type": "display_data"
    },
    {
     "data": {
      "text/html": [
       "<pre style=\"white-space:pre;overflow-x:auto;line-height:normal;font-family:Menlo,'DejaVu Sans Mono',consolas,'Courier New',monospace\">\n",
       "</pre>\n"
      ],
      "text/plain": [
       "\n"
      ]
     },
     "metadata": {},
     "output_type": "display_data"
    },
    {
     "data": {
      "text/html": [
       "<pre style=\"white-space:pre;overflow-x:auto;line-height:normal;font-family:Menlo,'DejaVu Sans Mono',consolas,'Courier New',monospace\"><span style=\"color: #008080; text-decoration-color: #008080; font-weight: bold\">0</span>      <span style=\"color: #008080; text-decoration-color: #008080; font-weight: bold\">9</span>\n",
       "<span style=\"color: #008080; text-decoration-color: #008080; font-weight: bold\">1</span>      <span style=\"color: #008080; text-decoration-color: #008080; font-weight: bold\">2</span>\n",
       "<span style=\"color: #008080; text-decoration-color: #008080; font-weight: bold\">2</span>      <span style=\"color: #008080; text-decoration-color: #008080; font-weight: bold\">6</span>\n",
       "<span style=\"color: #008080; text-decoration-color: #008080; font-weight: bold\">3</span>      <span style=\"color: #008080; text-decoration-color: #008080; font-weight: bold\">2</span>\n",
       "<span style=\"color: #008080; text-decoration-color: #008080; font-weight: bold\">4</span>      <span style=\"color: #008080; text-decoration-color: #008080; font-weight: bold\">0</span>\n",
       "<span style=\"color: #008080; text-decoration-color: #008080; font-weight: bold\">5</span>      <span style=\"color: #008080; text-decoration-color: #008080; font-weight: bold\">0</span>\n",
       "<span style=\"color: #008080; text-decoration-color: #008080; font-weight: bold\">6</span>      <span style=\"color: #008080; text-decoration-color: #008080; font-weight: bold\">7</span>\n",
       "<span style=\"color: #008080; text-decoration-color: #008080; font-weight: bold\">7</span>      <span style=\"color: #008080; text-decoration-color: #008080; font-weight: bold\">7</span>\n",
       "<span style=\"color: #008080; text-decoration-color: #008080; font-weight: bold\">8</span>      <span style=\"color: #008080; text-decoration-color: #008080; font-weight: bold\">4</span>\n",
       "<span style=\"color: #008080; text-decoration-color: #008080; font-weight: bold\">9</span>      <span style=\"color: #008080; text-decoration-color: #008080; font-weight: bold\">7</span>\n",
       "<span style=\"color: #008080; text-decoration-color: #008080; font-weight: bold\">10</span>     <span style=\"color: #008080; text-decoration-color: #008080; font-weight: bold\">4</span>\n",
       "<span style=\"color: #008080; text-decoration-color: #008080; font-weight: bold\">11</span>    <span style=\"color: #008080; text-decoration-color: #008080; font-weight: bold\">10</span>\n",
       "<span style=\"color: #008080; text-decoration-color: #008080; font-weight: bold\">12</span>    <span style=\"color: #008080; text-decoration-color: #008080; font-weight: bold\">10</span>\n",
       "<span style=\"color: #008080; text-decoration-color: #008080; font-weight: bold\">13</span>     <span style=\"color: #008080; text-decoration-color: #008080; font-weight: bold\">2</span>\n",
       "<span style=\"color: #008080; text-decoration-color: #008080; font-weight: bold\">14</span>     <span style=\"color: #008080; text-decoration-color: #008080; font-weight: bold\">6</span>\n",
       "Name: spiciness, dtype: int64\n",
       "</pre>\n"
      ],
      "text/plain": [
       "\u001b[1;36m0\u001b[0m      \u001b[1;36m9\u001b[0m\n",
       "\u001b[1;36m1\u001b[0m      \u001b[1;36m2\u001b[0m\n",
       "\u001b[1;36m2\u001b[0m      \u001b[1;36m6\u001b[0m\n",
       "\u001b[1;36m3\u001b[0m      \u001b[1;36m2\u001b[0m\n",
       "\u001b[1;36m4\u001b[0m      \u001b[1;36m0\u001b[0m\n",
       "\u001b[1;36m5\u001b[0m      \u001b[1;36m0\u001b[0m\n",
       "\u001b[1;36m6\u001b[0m      \u001b[1;36m7\u001b[0m\n",
       "\u001b[1;36m7\u001b[0m      \u001b[1;36m7\u001b[0m\n",
       "\u001b[1;36m8\u001b[0m      \u001b[1;36m4\u001b[0m\n",
       "\u001b[1;36m9\u001b[0m      \u001b[1;36m7\u001b[0m\n",
       "\u001b[1;36m10\u001b[0m     \u001b[1;36m4\u001b[0m\n",
       "\u001b[1;36m11\u001b[0m    \u001b[1;36m10\u001b[0m\n",
       "\u001b[1;36m12\u001b[0m    \u001b[1;36m10\u001b[0m\n",
       "\u001b[1;36m13\u001b[0m     \u001b[1;36m2\u001b[0m\n",
       "\u001b[1;36m14\u001b[0m     \u001b[1;36m6\u001b[0m\n",
       "Name: spiciness, dtype: int64\n"
      ]
     },
     "metadata": {},
     "output_type": "display_data"
    },
    {
     "data": {
      "text/html": [
       "<pre style=\"white-space:pre;overflow-x:auto;line-height:normal;font-family:Menlo,'DejaVu Sans Mono',consolas,'Courier New',monospace\">- - - - - - - - -\n",
       "</pre>\n"
      ],
      "text/plain": [
       "- - - - - - - - -\n"
      ]
     },
     "metadata": {},
     "output_type": "display_data"
    },
    {
     "data": {
      "text/html": [
       "<pre style=\"white-space:pre;overflow-x:auto;line-height:normal;font-family:Menlo,'DejaVu Sans Mono',consolas,'Courier New',monospace\">\n",
       "</pre>\n"
      ],
      "text/plain": [
       "\n"
      ]
     },
     "metadata": {},
     "output_type": "display_data"
    },
    {
     "data": {
      "image/png": "[encoded data removed]",
      "text/plain": [
       "<Figure size 432x288 with 1 Axes>"
      ]
     },
     "metadata": {
      "filenames": {
       "image/png": "/Users/mmccracken/office_comp/sci_comp_book/scicomp_book/_build/jupyter_execute/chapters_ipynb/scicomp_09_pandas_20_9.png"
      },
      "needs_background": "light"
     },
     "output_type": "display_data"
    }
   ],
   "source": [
    "prices = [10.00, 8.00, 12.00, 12.00, 4.00, 2.50, 11.00, 9.00, 10.00, 6.00, 9.00, 2.00, 16.00, 16.00, 8.00]\n",
    "prices_ser = pd.Series(prices, name='price')\n",
    "print(prices_ser)\n",
    "print('- - - - - - - - -')\n",
    "print()\n",
    "\n",
    "masses = [450, 280, 400, 500, 300, 220, 475, 250, 300, 450, 400, 100, 480, 500, 400]\n",
    "masses_ser = pd.Series(masses, name='mass')\n",
    "print(masses_ser)\n",
    "print('- - - - - - - - -')\n",
    "print()\n",
    "\n",
    "spicy = [9, 2, 6, 2, 0, 0, 7, 7, 4, 7, 4, 10, 10, 2, 6]\n",
    "spicy_ser = pd.Series(spicy, name='spiciness')\n",
    "print(spicy_ser)\n",
    "spicy_ser.plot.hist(range=(-0.5,10.5), bins=10)\n",
    "print('- - - - - - - - -')\n",
    "print()"
   ]
  },
  {
   "cell_type": "markdown",
   "metadata": {},
   "source": [
    "Note the built-in plot functionality of `Series`!\n",
    "\n",
    "OK!  We now have three **separate** series that contain information about the **same set of entities**.  \n",
    "\n",
    "**Let's pause**.  This is basically where were were in our previous tabular data manipulations.  We would read lines of information from a file, split the line into individual features, and then append these individual features to separate lists for later computation, visualization, *etc.*  Using `Series` to store this information makes it very clear how inefficient/stupid this approach is.  Notice that the indices in our three separate series all point to the same instances -- that is, index 1 refers to features of the cheeseburger in `names_ser`, `prices_ser`, and `masses_ser`.  Having three copies of the same set of indices is a big waste of data!\n",
    "\n",
    "In addition, if we want to perform some manipulation of one of the series, say sorting the items by price, sorting the `Series` that stores price information will not automatically sort the other two series.  Everything I've just said is true of storing this information in three separate lists.\n",
    "\n",
    "Both of these shortcoming arise from the fact that we are (and were) storing tabular, multidimensional data in several different, unconnected containers.  Hmmmmm, if only there were some way to combine all of these series into a single coherent thingy..."
   ]
  },
  {
   "cell_type": "markdown",
   "metadata": {},
   "source": [
    "***\n",
    "\n",
    "## `pandas` `DataFrame`\n",
    "\n",
    "In the examples above, we were using `Series` to store and manipulate what are essentially columns in a tabular dataset.  Picture a spreadsheet in which each row is an item on a restaurant menu, and each column represents features like the item's name, price, mass, and spiciness.  Manipulating these columns separately from one another is possible, but opens the door wide for mistakes, errors, goof-ups, oopsies, oversights, negligencies, blunders, fumbles, ...\n",
    "\n",
    "A `pandas` `DataFrame` is a structure that stores this tabular all at once, manipulating rows and columns in concert.  The `DataFrame` object has many built-in operations that are useful for data science, AND has lots of built-in protections to prevent us from doing things that we might not wish to do.\n",
    "\n",
    "We can create a `DataFrame` from the individual series that we created in the previous section:"
   ]
  },
  {
   "cell_type": "code",
   "execution_count": 10,
   "metadata": {},
   "outputs": [
    {
     "data": {
      "text/html": [
       "<pre style=\"white-space:pre;overflow-x:auto;line-height:normal;font-family:Menlo,'DejaVu Sans Mono',consolas,'Courier New',monospace\">                     dish  price  mass  spiciness\n",
       "<span style=\"color: #008080; text-decoration-color: #008080; font-weight: bold\">0</span>              aloo chana   <span style=\"color: #008080; text-decoration-color: #008080; font-weight: bold\">10.0</span>   <span style=\"color: #008080; text-decoration-color: #008080; font-weight: bold\">450</span>          <span style=\"color: #008080; text-decoration-color: #008080; font-weight: bold\">9</span>\n",
       "<span style=\"color: #008080; text-decoration-color: #008080; font-weight: bold\">1</span>            cheeseburger    <span style=\"color: #008080; text-decoration-color: #008080; font-weight: bold\">8.0</span>   <span style=\"color: #008080; text-decoration-color: #008080; font-weight: bold\">280</span>          <span style=\"color: #008080; text-decoration-color: #008080; font-weight: bold\">2</span>\n",
       "<span style=\"color: #008080; text-decoration-color: #008080; font-weight: bold\">2</span>             jjajangmeon   <span style=\"color: #008080; text-decoration-color: #008080; font-weight: bold\">12.0</span>   <span style=\"color: #008080; text-decoration-color: #008080; font-weight: bold\">400</span>          <span style=\"color: #008080; text-decoration-color: #008080; font-weight: bold\">6</span>\n",
       "<span style=\"color: #008080; text-decoration-color: #008080; font-weight: bold\">3</span>            cacio e pepe   <span style=\"color: #008080; text-decoration-color: #008080; font-weight: bold\">12.0</span>   <span style=\"color: #008080; text-decoration-color: #008080; font-weight: bold\">500</span>          <span style=\"color: #008080; text-decoration-color: #008080; font-weight: bold\">2</span>\n",
       "<span style=\"color: #008080; text-decoration-color: #008080; font-weight: bold\">4</span>              bubble tea    <span style=\"color: #008080; text-decoration-color: #008080; font-weight: bold\">4.0</span>   <span style=\"color: #008080; text-decoration-color: #008080; font-weight: bold\">300</span>          <span style=\"color: #008080; text-decoration-color: #008080; font-weight: bold\">0</span>\n",
       "<span style=\"color: #008080; text-decoration-color: #008080; font-weight: bold\">5</span>                  paleta    <span style=\"color: #008080; text-decoration-color: #008080; font-weight: bold\">2.5</span>   <span style=\"color: #008080; text-decoration-color: #008080; font-weight: bold\">220</span>          <span style=\"color: #008080; text-decoration-color: #008080; font-weight: bold\">0</span>\n",
       "<span style=\"color: #008080; text-decoration-color: #008080; font-weight: bold\">6</span>              enchiladas   <span style=\"color: #008080; text-decoration-color: #008080; font-weight: bold\">11.0</span>   <span style=\"color: #008080; text-decoration-color: #008080; font-weight: bold\">475</span>          <span style=\"color: #008080; text-decoration-color: #008080; font-weight: bold\">7</span>\n",
       "<span style=\"color: #008080; text-decoration-color: #008080; font-weight: bold\">7</span>    cauliflower shawarma    <span style=\"color: #008080; text-decoration-color: #008080; font-weight: bold\">9.0</span>   <span style=\"color: #008080; text-decoration-color: #008080; font-weight: bold\">250</span>          <span style=\"color: #008080; text-decoration-color: #008080; font-weight: bold\">7</span>\n",
       "<span style=\"color: #008080; text-decoration-color: #008080; font-weight: bold\">8</span>             tikil gomen   <span style=\"color: #008080; text-decoration-color: #008080; font-weight: bold\">10.0</span>   <span style=\"color: #008080; text-decoration-color: #008080; font-weight: bold\">300</span>          <span style=\"color: #008080; text-decoration-color: #008080; font-weight: bold\">4</span>\n",
       "<span style=\"color: #008080; text-decoration-color: #008080; font-weight: bold\">9</span>              quesadilla    <span style=\"color: #008080; text-decoration-color: #008080; font-weight: bold\">6.0</span>   <span style=\"color: #008080; text-decoration-color: #008080; font-weight: bold\">450</span>          <span style=\"color: #008080; text-decoration-color: #008080; font-weight: bold\">7</span>\n",
       "<span style=\"color: #008080; text-decoration-color: #008080; font-weight: bold\">10</span>            jollof rice    <span style=\"color: #008080; text-decoration-color: #008080; font-weight: bold\">9.0</span>   <span style=\"color: #008080; text-decoration-color: #008080; font-weight: bold\">400</span>          <span style=\"color: #008080; text-decoration-color: #008080; font-weight: bold\">4</span>\n",
       "<span style=\"color: #008080; text-decoration-color: #008080; font-weight: bold\">11</span>  grilled chili peppers    <span style=\"color: #008080; text-decoration-color: #008080; font-weight: bold\">2.0</span>   <span style=\"color: #008080; text-decoration-color: #008080; font-weight: bold\">100</span>         <span style=\"color: #008080; text-decoration-color: #008080; font-weight: bold\">10</span>\n",
       "<span style=\"color: #008080; text-decoration-color: #008080; font-weight: bold\">12</span>             ma la fish   <span style=\"color: #008080; text-decoration-color: #008080; font-weight: bold\">16.0</span>   <span style=\"color: #008080; text-decoration-color: #008080; font-weight: bold\">480</span>         <span style=\"color: #008080; text-decoration-color: #008080; font-weight: bold\">10</span>\n",
       "<span style=\"color: #008080; text-decoration-color: #008080; font-weight: bold\">13</span>              schnitzel   <span style=\"color: #008080; text-decoration-color: #008080; font-weight: bold\">16.0</span>   <span style=\"color: #008080; text-decoration-color: #008080; font-weight: bold\">500</span>          <span style=\"color: #008080; text-decoration-color: #008080; font-weight: bold\">2</span>\n",
       "<span style=\"color: #008080; text-decoration-color: #008080; font-weight: bold\">14</span>              empanadas    <span style=\"color: #008080; text-decoration-color: #008080; font-weight: bold\">8.0</span>   <span style=\"color: #008080; text-decoration-color: #008080; font-weight: bold\">400</span>          <span style=\"color: #008080; text-decoration-color: #008080; font-weight: bold\">6</span>\n",
       "</pre>\n"
      ],
      "text/plain": [
       "                     dish  price  mass  spiciness\n",
       "\u001b[1;36m0\u001b[0m              aloo chana   \u001b[1;36m10.0\u001b[0m   \u001b[1;36m450\u001b[0m          \u001b[1;36m9\u001b[0m\n",
       "\u001b[1;36m1\u001b[0m            cheeseburger    \u001b[1;36m8.0\u001b[0m   \u001b[1;36m280\u001b[0m          \u001b[1;36m2\u001b[0m\n",
       "\u001b[1;36m2\u001b[0m             jjajangmeon   \u001b[1;36m12.0\u001b[0m   \u001b[1;36m400\u001b[0m          \u001b[1;36m6\u001b[0m\n",
       "\u001b[1;36m3\u001b[0m            cacio e pepe   \u001b[1;36m12.0\u001b[0m   \u001b[1;36m500\u001b[0m          \u001b[1;36m2\u001b[0m\n",
       "\u001b[1;36m4\u001b[0m              bubble tea    \u001b[1;36m4.0\u001b[0m   \u001b[1;36m300\u001b[0m          \u001b[1;36m0\u001b[0m\n",
       "\u001b[1;36m5\u001b[0m                  paleta    \u001b[1;36m2.5\u001b[0m   \u001b[1;36m220\u001b[0m          \u001b[1;36m0\u001b[0m\n",
       "\u001b[1;36m6\u001b[0m              enchiladas   \u001b[1;36m11.0\u001b[0m   \u001b[1;36m475\u001b[0m          \u001b[1;36m7\u001b[0m\n",
       "\u001b[1;36m7\u001b[0m    cauliflower shawarma    \u001b[1;36m9.0\u001b[0m   \u001b[1;36m250\u001b[0m          \u001b[1;36m7\u001b[0m\n",
       "\u001b[1;36m8\u001b[0m             tikil gomen   \u001b[1;36m10.0\u001b[0m   \u001b[1;36m300\u001b[0m          \u001b[1;36m4\u001b[0m\n",
       "\u001b[1;36m9\u001b[0m              quesadilla    \u001b[1;36m6.0\u001b[0m   \u001b[1;36m450\u001b[0m          \u001b[1;36m7\u001b[0m\n",
       "\u001b[1;36m10\u001b[0m            jollof rice    \u001b[1;36m9.0\u001b[0m   \u001b[1;36m400\u001b[0m          \u001b[1;36m4\u001b[0m\n",
       "\u001b[1;36m11\u001b[0m  grilled chili peppers    \u001b[1;36m2.0\u001b[0m   \u001b[1;36m100\u001b[0m         \u001b[1;36m10\u001b[0m\n",
       "\u001b[1;36m12\u001b[0m             ma la fish   \u001b[1;36m16.0\u001b[0m   \u001b[1;36m480\u001b[0m         \u001b[1;36m10\u001b[0m\n",
       "\u001b[1;36m13\u001b[0m              schnitzel   \u001b[1;36m16.0\u001b[0m   \u001b[1;36m500\u001b[0m          \u001b[1;36m2\u001b[0m\n",
       "\u001b[1;36m14\u001b[0m              empanadas    \u001b[1;36m8.0\u001b[0m   \u001b[1;36m400\u001b[0m          \u001b[1;36m6\u001b[0m\n"
      ]
     },
     "metadata": {},
     "output_type": "display_data"
    },
    {
     "data": {
      "text/html": [
       "<pre style=\"white-space:pre;overflow-x:auto;line-height:normal;font-family:Menlo,'DejaVu Sans Mono',consolas,'Courier New',monospace\"><span style=\"font-weight: bold\">&lt;</span><span style=\"color: #ff00ff; text-decoration-color: #ff00ff; font-weight: bold\">class</span><span style=\"color: #000000; text-decoration-color: #000000\"> </span><span style=\"color: #008000; text-decoration-color: #008000\">'pandas.core.frame.DataFrame'</span><span style=\"font-weight: bold\">&gt;</span>\n",
       "</pre>\n"
      ],
      "text/plain": [
       "\u001b[1m<\u001b[0m\u001b[1;95mclass\u001b[0m\u001b[39m \u001b[0m\u001b[32m'pandas.core.frame.DataFrame'\u001b[0m\u001b[1m>\u001b[0m\n"
      ]
     },
     "metadata": {},
     "output_type": "display_data"
    }
   ],
   "source": [
    "series = [menu_ser, prices_ser, masses_ser, spicy_ser]\n",
    "menu_df = pd.concat(series, axis=1)\n",
    "print(menu_df)\n",
    "print(type(menu_df))"
   ]
  },
  {
   "cell_type": "markdown",
   "metadata": {},
   "source": [
    "Wow!  Now that probably looks familiar!  Our tabular data is organized as a table, in which it's clear which feature values are associated with which items.  Each of our feature columns is nicely labeled with the `name` property of the `Series` that we used to create it!\n",
    "\n",
    "There are lots of great ways to manipulate a `DataFrame`!  (Notice that Jupyter knows how to nicely typeset a dataframe, too!)  We can sort:"
   ]
  },
  {
   "cell_type": "code",
   "execution_count": 11,
   "metadata": {},
   "outputs": [
    {
     "data": {
      "text/html": [
       "<div>\n",
       "<style scoped>\n",
       "    .dataframe tbody tr th:only-of-type {\n",
       "        vertical-align: middle;\n",
       "    }\n",
       "\n",
       "    .dataframe tbody tr th {\n",
       "        vertical-align: top;\n",
       "    }\n",
       "\n",
       "    .dataframe thead th {\n",
       "        text-align: right;\n",
       "    }\n",
       "</style>\n",
       "<table border=\"1\" class=\"dataframe\">\n",
       "  <thead>\n",
       "    <tr style=\"text-align: right;\">\n",
       "      <th></th>\n",
       "      <th>dish</th>\n",
       "      <th>price</th>\n",
       "      <th>mass</th>\n",
       "      <th>spiciness</th>\n",
       "    </tr>\n",
       "  </thead>\n",
       "  <tbody>\n",
       "    <tr>\n",
       "      <th>11</th>\n",
       "      <td>grilled chili peppers</td>\n",
       "      <td>2.0</td>\n",
       "      <td>100</td>\n",
       "      <td>10</td>\n",
       "    </tr>\n",
       "    <tr>\n",
       "      <th>5</th>\n",
       "      <td>paleta</td>\n",
       "      <td>2.5</td>\n",
       "      <td>220</td>\n",
       "      <td>0</td>\n",
       "    </tr>\n",
       "    <tr>\n",
       "      <th>4</th>\n",
       "      <td>bubble tea</td>\n",
       "      <td>4.0</td>\n",
       "      <td>300</td>\n",
       "      <td>0</td>\n",
       "    </tr>\n",
       "    <tr>\n",
       "      <th>9</th>\n",
       "      <td>quesadilla</td>\n",
       "      <td>6.0</td>\n",
       "      <td>450</td>\n",
       "      <td>7</td>\n",
       "    </tr>\n",
       "    <tr>\n",
       "      <th>1</th>\n",
       "      <td>cheeseburger</td>\n",
       "      <td>8.0</td>\n",
       "      <td>280</td>\n",
       "      <td>2</td>\n",
       "    </tr>\n",
       "    <tr>\n",
       "      <th>14</th>\n",
       "      <td>empanadas</td>\n",
       "      <td>8.0</td>\n",
       "      <td>400</td>\n",
       "      <td>6</td>\n",
       "    </tr>\n",
       "    <tr>\n",
       "      <th>7</th>\n",
       "      <td>cauliflower shawarma</td>\n",
       "      <td>9.0</td>\n",
       "      <td>250</td>\n",
       "      <td>7</td>\n",
       "    </tr>\n",
       "    <tr>\n",
       "      <th>10</th>\n",
       "      <td>jollof rice</td>\n",
       "      <td>9.0</td>\n",
       "      <td>400</td>\n",
       "      <td>4</td>\n",
       "    </tr>\n",
       "    <tr>\n",
       "      <th>0</th>\n",
       "      <td>aloo chana</td>\n",
       "      <td>10.0</td>\n",
       "      <td>450</td>\n",
       "      <td>9</td>\n",
       "    </tr>\n",
       "    <tr>\n",
       "      <th>8</th>\n",
       "      <td>tikil gomen</td>\n",
       "      <td>10.0</td>\n",
       "      <td>300</td>\n",
       "      <td>4</td>\n",
       "    </tr>\n",
       "    <tr>\n",
       "      <th>6</th>\n",
       "      <td>enchiladas</td>\n",
       "      <td>11.0</td>\n",
       "      <td>475</td>\n",
       "      <td>7</td>\n",
       "    </tr>\n",
       "    <tr>\n",
       "      <th>2</th>\n",
       "      <td>jjajangmeon</td>\n",
       "      <td>12.0</td>\n",
       "      <td>400</td>\n",
       "      <td>6</td>\n",
       "    </tr>\n",
       "    <tr>\n",
       "      <th>3</th>\n",
       "      <td>cacio e pepe</td>\n",
       "      <td>12.0</td>\n",
       "      <td>500</td>\n",
       "      <td>2</td>\n",
       "    </tr>\n",
       "    <tr>\n",
       "      <th>12</th>\n",
       "      <td>ma la fish</td>\n",
       "      <td>16.0</td>\n",
       "      <td>480</td>\n",
       "      <td>10</td>\n",
       "    </tr>\n",
       "    <tr>\n",
       "      <th>13</th>\n",
       "      <td>schnitzel</td>\n",
       "      <td>16.0</td>\n",
       "      <td>500</td>\n",
       "      <td>2</td>\n",
       "    </tr>\n",
       "  </tbody>\n",
       "</table>\n",
       "</div>"
      ],
      "text/plain": [
       "                     dish  price  mass  spiciness\n",
       "11  grilled chili peppers    2.0   100         10\n",
       "5                  paleta    2.5   220          0\n",
       "4              bubble tea    4.0   300          0\n",
       "9              quesadilla    6.0   450          7\n",
       "1            cheeseburger    8.0   280          2\n",
       "14              empanadas    8.0   400          6\n",
       "7    cauliflower shawarma    9.0   250          7\n",
       "10            jollof rice    9.0   400          4\n",
       "0              aloo chana   10.0   450          9\n",
       "8             tikil gomen   10.0   300          4\n",
       "6              enchiladas   11.0   475          7\n",
       "2             jjajangmeon   12.0   400          6\n",
       "3            cacio e pepe   12.0   500          2\n",
       "12             ma la fish   16.0   480         10\n",
       "13              schnitzel   16.0   500          2"
      ]
     },
     "execution_count": 11,
     "metadata": {},
     "output_type": "execute_result"
    }
   ],
   "source": [
    "menu_df.sort_values(by=['price'])"
   ]
  },
  {
   "cell_type": "code",
   "execution_count": 12,
   "metadata": {},
   "outputs": [
    {
     "data": {
      "text/html": [
       "<div>\n",
       "<style scoped>\n",
       "    .dataframe tbody tr th:only-of-type {\n",
       "        vertical-align: middle;\n",
       "    }\n",
       "\n",
       "    .dataframe tbody tr th {\n",
       "        vertical-align: top;\n",
       "    }\n",
       "\n",
       "    .dataframe thead th {\n",
       "        text-align: right;\n",
       "    }\n",
       "</style>\n",
       "<table border=\"1\" class=\"dataframe\">\n",
       "  <thead>\n",
       "    <tr style=\"text-align: right;\">\n",
       "      <th></th>\n",
       "      <th>dish</th>\n",
       "      <th>price</th>\n",
       "      <th>mass</th>\n",
       "      <th>spiciness</th>\n",
       "    </tr>\n",
       "  </thead>\n",
       "  <tbody>\n",
       "    <tr>\n",
       "      <th>13</th>\n",
       "      <td>schnitzel</td>\n",
       "      <td>16.0</td>\n",
       "      <td>500</td>\n",
       "      <td>2</td>\n",
       "    </tr>\n",
       "    <tr>\n",
       "      <th>12</th>\n",
       "      <td>ma la fish</td>\n",
       "      <td>16.0</td>\n",
       "      <td>480</td>\n",
       "      <td>10</td>\n",
       "    </tr>\n",
       "    <tr>\n",
       "      <th>2</th>\n",
       "      <td>jjajangmeon</td>\n",
       "      <td>12.0</td>\n",
       "      <td>400</td>\n",
       "      <td>6</td>\n",
       "    </tr>\n",
       "    <tr>\n",
       "      <th>3</th>\n",
       "      <td>cacio e pepe</td>\n",
       "      <td>12.0</td>\n",
       "      <td>500</td>\n",
       "      <td>2</td>\n",
       "    </tr>\n",
       "    <tr>\n",
       "      <th>6</th>\n",
       "      <td>enchiladas</td>\n",
       "      <td>11.0</td>\n",
       "      <td>475</td>\n",
       "      <td>7</td>\n",
       "    </tr>\n",
       "    <tr>\n",
       "      <th>8</th>\n",
       "      <td>tikil gomen</td>\n",
       "      <td>10.0</td>\n",
       "      <td>300</td>\n",
       "      <td>4</td>\n",
       "    </tr>\n",
       "    <tr>\n",
       "      <th>0</th>\n",
       "      <td>aloo chana</td>\n",
       "      <td>10.0</td>\n",
       "      <td>450</td>\n",
       "      <td>9</td>\n",
       "    </tr>\n",
       "    <tr>\n",
       "      <th>10</th>\n",
       "      <td>jollof rice</td>\n",
       "      <td>9.0</td>\n",
       "      <td>400</td>\n",
       "      <td>4</td>\n",
       "    </tr>\n",
       "    <tr>\n",
       "      <th>7</th>\n",
       "      <td>cauliflower shawarma</td>\n",
       "      <td>9.0</td>\n",
       "      <td>250</td>\n",
       "      <td>7</td>\n",
       "    </tr>\n",
       "    <tr>\n",
       "      <th>14</th>\n",
       "      <td>empanadas</td>\n",
       "      <td>8.0</td>\n",
       "      <td>400</td>\n",
       "      <td>6</td>\n",
       "    </tr>\n",
       "    <tr>\n",
       "      <th>1</th>\n",
       "      <td>cheeseburger</td>\n",
       "      <td>8.0</td>\n",
       "      <td>280</td>\n",
       "      <td>2</td>\n",
       "    </tr>\n",
       "    <tr>\n",
       "      <th>9</th>\n",
       "      <td>quesadilla</td>\n",
       "      <td>6.0</td>\n",
       "      <td>450</td>\n",
       "      <td>7</td>\n",
       "    </tr>\n",
       "    <tr>\n",
       "      <th>4</th>\n",
       "      <td>bubble tea</td>\n",
       "      <td>4.0</td>\n",
       "      <td>300</td>\n",
       "      <td>0</td>\n",
       "    </tr>\n",
       "    <tr>\n",
       "      <th>5</th>\n",
       "      <td>paleta</td>\n",
       "      <td>2.5</td>\n",
       "      <td>220</td>\n",
       "      <td>0</td>\n",
       "    </tr>\n",
       "    <tr>\n",
       "      <th>11</th>\n",
       "      <td>grilled chili peppers</td>\n",
       "      <td>2.0</td>\n",
       "      <td>100</td>\n",
       "      <td>10</td>\n",
       "    </tr>\n",
       "  </tbody>\n",
       "</table>\n",
       "</div>"
      ],
      "text/plain": [
       "                     dish  price  mass  spiciness\n",
       "13              schnitzel   16.0   500          2\n",
       "12             ma la fish   16.0   480         10\n",
       "2             jjajangmeon   12.0   400          6\n",
       "3            cacio e pepe   12.0   500          2\n",
       "6              enchiladas   11.0   475          7\n",
       "8             tikil gomen   10.0   300          4\n",
       "0              aloo chana   10.0   450          9\n",
       "10            jollof rice    9.0   400          4\n",
       "7    cauliflower shawarma    9.0   250          7\n",
       "14              empanadas    8.0   400          6\n",
       "1            cheeseburger    8.0   280          2\n",
       "9              quesadilla    6.0   450          7\n",
       "4              bubble tea    4.0   300          0\n",
       "5                  paleta    2.5   220          0\n",
       "11  grilled chili peppers    2.0   100         10"
      ]
     },
     "execution_count": 12,
     "metadata": {},
     "output_type": "execute_result"
    }
   ],
   "source": [
    "menu_df.sort_values(by=['price', 'dish'], ascending=False)"
   ]
  },
  {
   "cell_type": "markdown",
   "metadata": {},
   "source": [
    "We can add new features (columns), as long as we're careful to order the new feature values relative to the dataframe index:"
   ]
  },
  {
   "cell_type": "code",
   "execution_count": 13,
   "metadata": {},
   "outputs": [
    {
     "data": {
      "text/html": [
       "<pre style=\"white-space:pre;overflow-x:auto;line-height:normal;font-family:Menlo,'DejaVu Sans Mono',consolas,'Courier New',monospace\">                     dish  price  mass  spiciness\n",
       "<span style=\"color: #008080; text-decoration-color: #008080; font-weight: bold\">0</span>              aloo chana   <span style=\"color: #008080; text-decoration-color: #008080; font-weight: bold\">10.0</span>   <span style=\"color: #008080; text-decoration-color: #008080; font-weight: bold\">450</span>          <span style=\"color: #008080; text-decoration-color: #008080; font-weight: bold\">9</span>\n",
       "<span style=\"color: #008080; text-decoration-color: #008080; font-weight: bold\">1</span>            cheeseburger    <span style=\"color: #008080; text-decoration-color: #008080; font-weight: bold\">8.0</span>   <span style=\"color: #008080; text-decoration-color: #008080; font-weight: bold\">280</span>          <span style=\"color: #008080; text-decoration-color: #008080; font-weight: bold\">2</span>\n",
       "<span style=\"color: #008080; text-decoration-color: #008080; font-weight: bold\">2</span>             jjajangmeon   <span style=\"color: #008080; text-decoration-color: #008080; font-weight: bold\">12.0</span>   <span style=\"color: #008080; text-decoration-color: #008080; font-weight: bold\">400</span>          <span style=\"color: #008080; text-decoration-color: #008080; font-weight: bold\">6</span>\n",
       "<span style=\"color: #008080; text-decoration-color: #008080; font-weight: bold\">3</span>            cacio e pepe   <span style=\"color: #008080; text-decoration-color: #008080; font-weight: bold\">12.0</span>   <span style=\"color: #008080; text-decoration-color: #008080; font-weight: bold\">500</span>          <span style=\"color: #008080; text-decoration-color: #008080; font-weight: bold\">2</span>\n",
       "<span style=\"color: #008080; text-decoration-color: #008080; font-weight: bold\">4</span>              bubble tea    <span style=\"color: #008080; text-decoration-color: #008080; font-weight: bold\">4.0</span>   <span style=\"color: #008080; text-decoration-color: #008080; font-weight: bold\">300</span>          <span style=\"color: #008080; text-decoration-color: #008080; font-weight: bold\">0</span>\n",
       "<span style=\"color: #008080; text-decoration-color: #008080; font-weight: bold\">5</span>                  paleta    <span style=\"color: #008080; text-decoration-color: #008080; font-weight: bold\">2.5</span>   <span style=\"color: #008080; text-decoration-color: #008080; font-weight: bold\">220</span>          <span style=\"color: #008080; text-decoration-color: #008080; font-weight: bold\">0</span>\n",
       "<span style=\"color: #008080; text-decoration-color: #008080; font-weight: bold\">6</span>              enchiladas   <span style=\"color: #008080; text-decoration-color: #008080; font-weight: bold\">11.0</span>   <span style=\"color: #008080; text-decoration-color: #008080; font-weight: bold\">475</span>          <span style=\"color: #008080; text-decoration-color: #008080; font-weight: bold\">7</span>\n",
       "<span style=\"color: #008080; text-decoration-color: #008080; font-weight: bold\">7</span>    cauliflower shawarma    <span style=\"color: #008080; text-decoration-color: #008080; font-weight: bold\">9.0</span>   <span style=\"color: #008080; text-decoration-color: #008080; font-weight: bold\">250</span>          <span style=\"color: #008080; text-decoration-color: #008080; font-weight: bold\">7</span>\n",
       "<span style=\"color: #008080; text-decoration-color: #008080; font-weight: bold\">8</span>             tikil gomen   <span style=\"color: #008080; text-decoration-color: #008080; font-weight: bold\">10.0</span>   <span style=\"color: #008080; text-decoration-color: #008080; font-weight: bold\">300</span>          <span style=\"color: #008080; text-decoration-color: #008080; font-weight: bold\">4</span>\n",
       "<span style=\"color: #008080; text-decoration-color: #008080; font-weight: bold\">9</span>              quesadilla    <span style=\"color: #008080; text-decoration-color: #008080; font-weight: bold\">6.0</span>   <span style=\"color: #008080; text-decoration-color: #008080; font-weight: bold\">450</span>          <span style=\"color: #008080; text-decoration-color: #008080; font-weight: bold\">7</span>\n",
       "<span style=\"color: #008080; text-decoration-color: #008080; font-weight: bold\">10</span>            jollof rice    <span style=\"color: #008080; text-decoration-color: #008080; font-weight: bold\">9.0</span>   <span style=\"color: #008080; text-decoration-color: #008080; font-weight: bold\">400</span>          <span style=\"color: #008080; text-decoration-color: #008080; font-weight: bold\">4</span>\n",
       "<span style=\"color: #008080; text-decoration-color: #008080; font-weight: bold\">11</span>  grilled chili peppers    <span style=\"color: #008080; text-decoration-color: #008080; font-weight: bold\">2.0</span>   <span style=\"color: #008080; text-decoration-color: #008080; font-weight: bold\">100</span>         <span style=\"color: #008080; text-decoration-color: #008080; font-weight: bold\">10</span>\n",
       "<span style=\"color: #008080; text-decoration-color: #008080; font-weight: bold\">12</span>             ma la fish   <span style=\"color: #008080; text-decoration-color: #008080; font-weight: bold\">16.0</span>   <span style=\"color: #008080; text-decoration-color: #008080; font-weight: bold\">480</span>         <span style=\"color: #008080; text-decoration-color: #008080; font-weight: bold\">10</span>\n",
       "<span style=\"color: #008080; text-decoration-color: #008080; font-weight: bold\">13</span>              schnitzel   <span style=\"color: #008080; text-decoration-color: #008080; font-weight: bold\">16.0</span>   <span style=\"color: #008080; text-decoration-color: #008080; font-weight: bold\">500</span>          <span style=\"color: #008080; text-decoration-color: #008080; font-weight: bold\">2</span>\n",
       "<span style=\"color: #008080; text-decoration-color: #008080; font-weight: bold\">14</span>              empanadas    <span style=\"color: #008080; text-decoration-color: #008080; font-weight: bold\">8.0</span>   <span style=\"color: #008080; text-decoration-color: #008080; font-weight: bold\">400</span>          <span style=\"color: #008080; text-decoration-color: #008080; font-weight: bold\">6</span>\n",
       "</pre>\n"
      ],
      "text/plain": [
       "                     dish  price  mass  spiciness\n",
       "\u001b[1;36m0\u001b[0m              aloo chana   \u001b[1;36m10.0\u001b[0m   \u001b[1;36m450\u001b[0m          \u001b[1;36m9\u001b[0m\n",
       "\u001b[1;36m1\u001b[0m            cheeseburger    \u001b[1;36m8.0\u001b[0m   \u001b[1;36m280\u001b[0m          \u001b[1;36m2\u001b[0m\n",
       "\u001b[1;36m2\u001b[0m             jjajangmeon   \u001b[1;36m12.0\u001b[0m   \u001b[1;36m400\u001b[0m          \u001b[1;36m6\u001b[0m\n",
       "\u001b[1;36m3\u001b[0m            cacio e pepe   \u001b[1;36m12.0\u001b[0m   \u001b[1;36m500\u001b[0m          \u001b[1;36m2\u001b[0m\n",
       "\u001b[1;36m4\u001b[0m              bubble tea    \u001b[1;36m4.0\u001b[0m   \u001b[1;36m300\u001b[0m          \u001b[1;36m0\u001b[0m\n",
       "\u001b[1;36m5\u001b[0m                  paleta    \u001b[1;36m2.5\u001b[0m   \u001b[1;36m220\u001b[0m          \u001b[1;36m0\u001b[0m\n",
       "\u001b[1;36m6\u001b[0m              enchiladas   \u001b[1;36m11.0\u001b[0m   \u001b[1;36m475\u001b[0m          \u001b[1;36m7\u001b[0m\n",
       "\u001b[1;36m7\u001b[0m    cauliflower shawarma    \u001b[1;36m9.0\u001b[0m   \u001b[1;36m250\u001b[0m          \u001b[1;36m7\u001b[0m\n",
       "\u001b[1;36m8\u001b[0m             tikil gomen   \u001b[1;36m10.0\u001b[0m   \u001b[1;36m300\u001b[0m          \u001b[1;36m4\u001b[0m\n",
       "\u001b[1;36m9\u001b[0m              quesadilla    \u001b[1;36m6.0\u001b[0m   \u001b[1;36m450\u001b[0m          \u001b[1;36m7\u001b[0m\n",
       "\u001b[1;36m10\u001b[0m            jollof rice    \u001b[1;36m9.0\u001b[0m   \u001b[1;36m400\u001b[0m          \u001b[1;36m4\u001b[0m\n",
       "\u001b[1;36m11\u001b[0m  grilled chili peppers    \u001b[1;36m2.0\u001b[0m   \u001b[1;36m100\u001b[0m         \u001b[1;36m10\u001b[0m\n",
       "\u001b[1;36m12\u001b[0m             ma la fish   \u001b[1;36m16.0\u001b[0m   \u001b[1;36m480\u001b[0m         \u001b[1;36m10\u001b[0m\n",
       "\u001b[1;36m13\u001b[0m              schnitzel   \u001b[1;36m16.0\u001b[0m   \u001b[1;36m500\u001b[0m          \u001b[1;36m2\u001b[0m\n",
       "\u001b[1;36m14\u001b[0m              empanadas    \u001b[1;36m8.0\u001b[0m   \u001b[1;36m400\u001b[0m          \u001b[1;36m6\u001b[0m\n"
      ]
     },
     "metadata": {},
     "output_type": "display_data"
    },
    {
     "data": {
      "text/html": [
       "<div>\n",
       "<style scoped>\n",
       "    .dataframe tbody tr th:only-of-type {\n",
       "        vertical-align: middle;\n",
       "    }\n",
       "\n",
       "    .dataframe tbody tr th {\n",
       "        vertical-align: top;\n",
       "    }\n",
       "\n",
       "    .dataframe thead th {\n",
       "        text-align: right;\n",
       "    }\n",
       "</style>\n",
       "<table border=\"1\" class=\"dataframe\">\n",
       "  <thead>\n",
       "    <tr style=\"text-align: right;\">\n",
       "      <th></th>\n",
       "      <th>dish</th>\n",
       "      <th>price</th>\n",
       "      <th>mass</th>\n",
       "      <th>spiciness</th>\n",
       "      <th>vegan</th>\n",
       "      <th>cuisine</th>\n",
       "      <th>cost</th>\n",
       "    </tr>\n",
       "  </thead>\n",
       "  <tbody>\n",
       "    <tr>\n",
       "      <th>0</th>\n",
       "      <td>aloo chana</td>\n",
       "      <td>10.0</td>\n",
       "      <td>450</td>\n",
       "      <td>9</td>\n",
       "      <td>True</td>\n",
       "      <td>Indian</td>\n",
       "      <td>7.00</td>\n",
       "    </tr>\n",
       "    <tr>\n",
       "      <th>1</th>\n",
       "      <td>cheeseburger</td>\n",
       "      <td>8.0</td>\n",
       "      <td>280</td>\n",
       "      <td>2</td>\n",
       "      <td>False</td>\n",
       "      <td>American</td>\n",
       "      <td>4.00</td>\n",
       "    </tr>\n",
       "    <tr>\n",
       "      <th>2</th>\n",
       "      <td>jjajangmeon</td>\n",
       "      <td>12.0</td>\n",
       "      <td>400</td>\n",
       "      <td>6</td>\n",
       "      <td>False</td>\n",
       "      <td>Korean</td>\n",
       "      <td>4.00</td>\n",
       "    </tr>\n",
       "    <tr>\n",
       "      <th>3</th>\n",
       "      <td>cacio e pepe</td>\n",
       "      <td>12.0</td>\n",
       "      <td>500</td>\n",
       "      <td>2</td>\n",
       "      <td>True</td>\n",
       "      <td>Italian</td>\n",
       "      <td>4.50</td>\n",
       "    </tr>\n",
       "    <tr>\n",
       "      <th>4</th>\n",
       "      <td>bubble tea</td>\n",
       "      <td>4.0</td>\n",
       "      <td>300</td>\n",
       "      <td>0</td>\n",
       "      <td>True</td>\n",
       "      <td>Taiwanese</td>\n",
       "      <td>2.00</td>\n",
       "    </tr>\n",
       "    <tr>\n",
       "      <th>5</th>\n",
       "      <td>paleta</td>\n",
       "      <td>2.5</td>\n",
       "      <td>220</td>\n",
       "      <td>0</td>\n",
       "      <td>True</td>\n",
       "      <td>Central American</td>\n",
       "      <td>0.50</td>\n",
       "    </tr>\n",
       "    <tr>\n",
       "      <th>6</th>\n",
       "      <td>enchiladas</td>\n",
       "      <td>11.0</td>\n",
       "      <td>475</td>\n",
       "      <td>7</td>\n",
       "      <td>False</td>\n",
       "      <td>Tex-Mex</td>\n",
       "      <td>3.00</td>\n",
       "    </tr>\n",
       "    <tr>\n",
       "      <th>7</th>\n",
       "      <td>cauliflower shawarma</td>\n",
       "      <td>9.0</td>\n",
       "      <td>250</td>\n",
       "      <td>7</td>\n",
       "      <td>False</td>\n",
       "      <td>Middle-Eastern</td>\n",
       "      <td>7.00</td>\n",
       "    </tr>\n",
       "    <tr>\n",
       "      <th>8</th>\n",
       "      <td>tikil gomen</td>\n",
       "      <td>10.0</td>\n",
       "      <td>300</td>\n",
       "      <td>4</td>\n",
       "      <td>True</td>\n",
       "      <td>Ethiopian</td>\n",
       "      <td>4.00</td>\n",
       "    </tr>\n",
       "    <tr>\n",
       "      <th>9</th>\n",
       "      <td>quesadilla</td>\n",
       "      <td>6.0</td>\n",
       "      <td>450</td>\n",
       "      <td>7</td>\n",
       "      <td>True</td>\n",
       "      <td>Tex-Mex</td>\n",
       "      <td>2.00</td>\n",
       "    </tr>\n",
       "    <tr>\n",
       "      <th>10</th>\n",
       "      <td>jollof rice</td>\n",
       "      <td>9.0</td>\n",
       "      <td>400</td>\n",
       "      <td>4</td>\n",
       "      <td>False</td>\n",
       "      <td>West African</td>\n",
       "      <td>7.00</td>\n",
       "    </tr>\n",
       "    <tr>\n",
       "      <th>11</th>\n",
       "      <td>grilled chili peppers</td>\n",
       "      <td>2.0</td>\n",
       "      <td>100</td>\n",
       "      <td>10</td>\n",
       "      <td>True</td>\n",
       "      <td></td>\n",
       "      <td>0.25</td>\n",
       "    </tr>\n",
       "    <tr>\n",
       "      <th>12</th>\n",
       "      <td>ma la fish</td>\n",
       "      <td>16.0</td>\n",
       "      <td>480</td>\n",
       "      <td>10</td>\n",
       "      <td>False</td>\n",
       "      <td>Sichuan</td>\n",
       "      <td>13.50</td>\n",
       "    </tr>\n",
       "    <tr>\n",
       "      <th>13</th>\n",
       "      <td>schnitzel</td>\n",
       "      <td>16.0</td>\n",
       "      <td>500</td>\n",
       "      <td>2</td>\n",
       "      <td>False</td>\n",
       "      <td>German</td>\n",
       "      <td>9.00</td>\n",
       "    </tr>\n",
       "    <tr>\n",
       "      <th>14</th>\n",
       "      <td>empanadas</td>\n",
       "      <td>8.0</td>\n",
       "      <td>400</td>\n",
       "      <td>6</td>\n",
       "      <td>False</td>\n",
       "      <td>Argentinian</td>\n",
       "      <td>3.50</td>\n",
       "    </tr>\n",
       "  </tbody>\n",
       "</table>\n",
       "</div>"
      ],
      "text/plain": [
       "                     dish  price  mass  spiciness  vegan           cuisine  \\\n",
       "0              aloo chana   10.0   450          9   True            Indian   \n",
       "1            cheeseburger    8.0   280          2  False          American   \n",
       "2             jjajangmeon   12.0   400          6  False            Korean   \n",
       "3            cacio e pepe   12.0   500          2   True           Italian   \n",
       "4              bubble tea    4.0   300          0   True         Taiwanese   \n",
       "5                  paleta    2.5   220          0   True  Central American   \n",
       "6              enchiladas   11.0   475          7  False           Tex-Mex   \n",
       "7    cauliflower shawarma    9.0   250          7  False    Middle-Eastern   \n",
       "8             tikil gomen   10.0   300          4   True         Ethiopian   \n",
       "9              quesadilla    6.0   450          7   True           Tex-Mex   \n",
       "10            jollof rice    9.0   400          4  False      West African   \n",
       "11  grilled chili peppers    2.0   100         10   True                     \n",
       "12             ma la fish   16.0   480         10  False           Sichuan   \n",
       "13              schnitzel   16.0   500          2  False            German   \n",
       "14              empanadas    8.0   400          6  False       Argentinian   \n",
       "\n",
       "     cost  \n",
       "0    7.00  \n",
       "1    4.00  \n",
       "2    4.00  \n",
       "3    4.50  \n",
       "4    2.00  \n",
       "5    0.50  \n",
       "6    3.00  \n",
       "7    7.00  \n",
       "8    4.00  \n",
       "9    2.00  \n",
       "10   7.00  \n",
       "11   0.25  \n",
       "12  13.50  \n",
       "13   9.00  \n",
       "14   3.50  "
      ]
     },
     "execution_count": 13,
     "metadata": {},
     "output_type": "execute_result"
    }
   ],
   "source": [
    "print(menu_df)\n",
    "vegan_list = [True, False, False, True, True, True, False, False, True, True, False, True, False, False, False]\n",
    "menu_df['vegan'] = vegan_list\n",
    "cuisines_list = ['Indian', 'American', 'Korean', 'Italian', 'Taiwanese', \n",
    "                 'Central American', 'Tex-Mex', 'Middle-Eastern', 'Ethiopian', 'Tex-Mex', \n",
    "                 'West African', '', 'Sichuan', 'German', 'Argentinian']\n",
    "menu_df['cuisine'] = cuisines_list\n",
    "costs_list = [7.00, 4.00, 4.00, 4.50, 2.00, 0.50, 3.00, 7.00, 4.00, 2.00, 7.00, 0.25, 13.50, 9.00, 3.50]\n",
    "menu_df['cost'] = costs_list\n",
    "menu_df"
   ]
  },
  {
   "cell_type": "markdown",
   "metadata": {},
   "source": [
    "We can also grab a subset of the dataframe based on values!  What if a customer asks about vegan options?"
   ]
  },
  {
   "cell_type": "code",
   "execution_count": 14,
   "metadata": {},
   "outputs": [
    {
     "data": {
      "text/html": [
       "<div>\n",
       "<style scoped>\n",
       "    .dataframe tbody tr th:only-of-type {\n",
       "        vertical-align: middle;\n",
       "    }\n",
       "\n",
       "    .dataframe tbody tr th {\n",
       "        vertical-align: top;\n",
       "    }\n",
       "\n",
       "    .dataframe thead th {\n",
       "        text-align: right;\n",
       "    }\n",
       "</style>\n",
       "<table border=\"1\" class=\"dataframe\">\n",
       "  <thead>\n",
       "    <tr style=\"text-align: right;\">\n",
       "      <th></th>\n",
       "      <th>dish</th>\n",
       "      <th>price</th>\n",
       "      <th>mass</th>\n",
       "      <th>spiciness</th>\n",
       "      <th>vegan</th>\n",
       "      <th>cuisine</th>\n",
       "      <th>cost</th>\n",
       "    </tr>\n",
       "  </thead>\n",
       "  <tbody>\n",
       "    <tr>\n",
       "      <th>0</th>\n",
       "      <td>aloo chana</td>\n",
       "      <td>10.0</td>\n",
       "      <td>450</td>\n",
       "      <td>9</td>\n",
       "      <td>True</td>\n",
       "      <td>Indian</td>\n",
       "      <td>7.00</td>\n",
       "    </tr>\n",
       "    <tr>\n",
       "      <th>3</th>\n",
       "      <td>cacio e pepe</td>\n",
       "      <td>12.0</td>\n",
       "      <td>500</td>\n",
       "      <td>2</td>\n",
       "      <td>True</td>\n",
       "      <td>Italian</td>\n",
       "      <td>4.50</td>\n",
       "    </tr>\n",
       "    <tr>\n",
       "      <th>4</th>\n",
       "      <td>bubble tea</td>\n",
       "      <td>4.0</td>\n",
       "      <td>300</td>\n",
       "      <td>0</td>\n",
       "      <td>True</td>\n",
       "      <td>Taiwanese</td>\n",
       "      <td>2.00</td>\n",
       "    </tr>\n",
       "    <tr>\n",
       "      <th>5</th>\n",
       "      <td>paleta</td>\n",
       "      <td>2.5</td>\n",
       "      <td>220</td>\n",
       "      <td>0</td>\n",
       "      <td>True</td>\n",
       "      <td>Central American</td>\n",
       "      <td>0.50</td>\n",
       "    </tr>\n",
       "    <tr>\n",
       "      <th>8</th>\n",
       "      <td>tikil gomen</td>\n",
       "      <td>10.0</td>\n",
       "      <td>300</td>\n",
       "      <td>4</td>\n",
       "      <td>True</td>\n",
       "      <td>Ethiopian</td>\n",
       "      <td>4.00</td>\n",
       "    </tr>\n",
       "    <tr>\n",
       "      <th>9</th>\n",
       "      <td>quesadilla</td>\n",
       "      <td>6.0</td>\n",
       "      <td>450</td>\n",
       "      <td>7</td>\n",
       "      <td>True</td>\n",
       "      <td>Tex-Mex</td>\n",
       "      <td>2.00</td>\n",
       "    </tr>\n",
       "    <tr>\n",
       "      <th>11</th>\n",
       "      <td>grilled chili peppers</td>\n",
       "      <td>2.0</td>\n",
       "      <td>100</td>\n",
       "      <td>10</td>\n",
       "      <td>True</td>\n",
       "      <td></td>\n",
       "      <td>0.25</td>\n",
       "    </tr>\n",
       "  </tbody>\n",
       "</table>\n",
       "</div>"
      ],
      "text/plain": [
       "                     dish  price  mass  spiciness  vegan           cuisine  \\\n",
       "0              aloo chana   10.0   450          9   True            Indian   \n",
       "3            cacio e pepe   12.0   500          2   True           Italian   \n",
       "4              bubble tea    4.0   300          0   True         Taiwanese   \n",
       "5                  paleta    2.5   220          0   True  Central American   \n",
       "8             tikil gomen   10.0   300          4   True         Ethiopian   \n",
       "9              quesadilla    6.0   450          7   True           Tex-Mex   \n",
       "11  grilled chili peppers    2.0   100         10   True                     \n",
       "\n",
       "    cost  \n",
       "0   7.00  \n",
       "3   4.50  \n",
       "4   2.00  \n",
       "5   0.50  \n",
       "8   4.00  \n",
       "9   2.00  \n",
       "11  0.25  "
      ]
     },
     "execution_count": 14,
     "metadata": {},
     "output_type": "execute_result"
    }
   ],
   "source": [
    "menu_df[menu_df['vegan'] == True]"
   ]
  },
  {
   "cell_type": "markdown",
   "metadata": {},
   "source": [
    "Where possible, `DataFrame` can use the names of the features/columns as attributes of the dataframe.  What the heck does this mean?  It means that the block below does the same as the block above."
   ]
  },
  {
   "cell_type": "code",
   "execution_count": 15,
   "metadata": {},
   "outputs": [
    {
     "data": {
      "text/html": [
       "<div>\n",
       "<style scoped>\n",
       "    .dataframe tbody tr th:only-of-type {\n",
       "        vertical-align: middle;\n",
       "    }\n",
       "\n",
       "    .dataframe tbody tr th {\n",
       "        vertical-align: top;\n",
       "    }\n",
       "\n",
       "    .dataframe thead th {\n",
       "        text-align: right;\n",
       "    }\n",
       "</style>\n",
       "<table border=\"1\" class=\"dataframe\">\n",
       "  <thead>\n",
       "    <tr style=\"text-align: right;\">\n",
       "      <th></th>\n",
       "      <th>dish</th>\n",
       "      <th>price</th>\n",
       "      <th>mass</th>\n",
       "      <th>spiciness</th>\n",
       "      <th>vegan</th>\n",
       "      <th>cuisine</th>\n",
       "      <th>cost</th>\n",
       "    </tr>\n",
       "  </thead>\n",
       "  <tbody>\n",
       "    <tr>\n",
       "      <th>0</th>\n",
       "      <td>aloo chana</td>\n",
       "      <td>10.0</td>\n",
       "      <td>450</td>\n",
       "      <td>9</td>\n",
       "      <td>True</td>\n",
       "      <td>Indian</td>\n",
       "      <td>7.00</td>\n",
       "    </tr>\n",
       "    <tr>\n",
       "      <th>3</th>\n",
       "      <td>cacio e pepe</td>\n",
       "      <td>12.0</td>\n",
       "      <td>500</td>\n",
       "      <td>2</td>\n",
       "      <td>True</td>\n",
       "      <td>Italian</td>\n",
       "      <td>4.50</td>\n",
       "    </tr>\n",
       "    <tr>\n",
       "      <th>4</th>\n",
       "      <td>bubble tea</td>\n",
       "      <td>4.0</td>\n",
       "      <td>300</td>\n",
       "      <td>0</td>\n",
       "      <td>True</td>\n",
       "      <td>Taiwanese</td>\n",
       "      <td>2.00</td>\n",
       "    </tr>\n",
       "    <tr>\n",
       "      <th>5</th>\n",
       "      <td>paleta</td>\n",
       "      <td>2.5</td>\n",
       "      <td>220</td>\n",
       "      <td>0</td>\n",
       "      <td>True</td>\n",
       "      <td>Central American</td>\n",
       "      <td>0.50</td>\n",
       "    </tr>\n",
       "    <tr>\n",
       "      <th>8</th>\n",
       "      <td>tikil gomen</td>\n",
       "      <td>10.0</td>\n",
       "      <td>300</td>\n",
       "      <td>4</td>\n",
       "      <td>True</td>\n",
       "      <td>Ethiopian</td>\n",
       "      <td>4.00</td>\n",
       "    </tr>\n",
       "    <tr>\n",
       "      <th>9</th>\n",
       "      <td>quesadilla</td>\n",
       "      <td>6.0</td>\n",
       "      <td>450</td>\n",
       "      <td>7</td>\n",
       "      <td>True</td>\n",
       "      <td>Tex-Mex</td>\n",
       "      <td>2.00</td>\n",
       "    </tr>\n",
       "    <tr>\n",
       "      <th>11</th>\n",
       "      <td>grilled chili peppers</td>\n",
       "      <td>2.0</td>\n",
       "      <td>100</td>\n",
       "      <td>10</td>\n",
       "      <td>True</td>\n",
       "      <td></td>\n",
       "      <td>0.25</td>\n",
       "    </tr>\n",
       "  </tbody>\n",
       "</table>\n",
       "</div>"
      ],
      "text/plain": [
       "                     dish  price  mass  spiciness  vegan           cuisine  \\\n",
       "0              aloo chana   10.0   450          9   True            Indian   \n",
       "3            cacio e pepe   12.0   500          2   True           Italian   \n",
       "4              bubble tea    4.0   300          0   True         Taiwanese   \n",
       "5                  paleta    2.5   220          0   True  Central American   \n",
       "8             tikil gomen   10.0   300          4   True         Ethiopian   \n",
       "9              quesadilla    6.0   450          7   True           Tex-Mex   \n",
       "11  grilled chili peppers    2.0   100         10   True                     \n",
       "\n",
       "    cost  \n",
       "0   7.00  \n",
       "3   4.50  \n",
       "4   2.00  \n",
       "5   0.50  \n",
       "8   4.00  \n",
       "9   2.00  \n",
       "11  0.25  "
      ]
     },
     "execution_count": 15,
     "metadata": {},
     "output_type": "execute_result"
    }
   ],
   "source": [
    "menu_df[menu_df.vegan == True]"
   ]
  },
  {
   "cell_type": "markdown",
   "metadata": {},
   "source": [
    "What if a customer asks about vegan options and is very hungry?"
   ]
  },
  {
   "cell_type": "code",
   "execution_count": 16,
   "metadata": {},
   "outputs": [
    {
     "name": "stderr",
     "output_type": "stream",
     "text": [
      "/var/folders/gf/hlznghl533773bhf4bgw_89dxt2gyn/T/ipykernel_88456/3334794991.py:1: UserWarning: Boolean Series key will be reindexed to match DataFrame index.\n",
      "  menu_df[menu_df.vegan == True][menu_df.mass >= 400].sort_values(by=['mass'], ascending=False)\n"
     ]
    },
    {
     "data": {
      "text/html": [
       "<div>\n",
       "<style scoped>\n",
       "    .dataframe tbody tr th:only-of-type {\n",
       "        vertical-align: middle;\n",
       "    }\n",
       "\n",
       "    .dataframe tbody tr th {\n",
       "        vertical-align: top;\n",
       "    }\n",
       "\n",
       "    .dataframe thead th {\n",
       "        text-align: right;\n",
       "    }\n",
       "</style>\n",
       "<table border=\"1\" class=\"dataframe\">\n",
       "  <thead>\n",
       "    <tr style=\"text-align: right;\">\n",
       "      <th></th>\n",
       "      <th>dish</th>\n",
       "      <th>price</th>\n",
       "      <th>mass</th>\n",
       "      <th>spiciness</th>\n",
       "      <th>vegan</th>\n",
       "      <th>cuisine</th>\n",
       "      <th>cost</th>\n",
       "    </tr>\n",
       "  </thead>\n",
       "  <tbody>\n",
       "    <tr>\n",
       "      <th>3</th>\n",
       "      <td>cacio e pepe</td>\n",
       "      <td>12.0</td>\n",
       "      <td>500</td>\n",
       "      <td>2</td>\n",
       "      <td>True</td>\n",
       "      <td>Italian</td>\n",
       "      <td>4.5</td>\n",
       "    </tr>\n",
       "    <tr>\n",
       "      <th>0</th>\n",
       "      <td>aloo chana</td>\n",
       "      <td>10.0</td>\n",
       "      <td>450</td>\n",
       "      <td>9</td>\n",
       "      <td>True</td>\n",
       "      <td>Indian</td>\n",
       "      <td>7.0</td>\n",
       "    </tr>\n",
       "    <tr>\n",
       "      <th>9</th>\n",
       "      <td>quesadilla</td>\n",
       "      <td>6.0</td>\n",
       "      <td>450</td>\n",
       "      <td>7</td>\n",
       "      <td>True</td>\n",
       "      <td>Tex-Mex</td>\n",
       "      <td>2.0</td>\n",
       "    </tr>\n",
       "  </tbody>\n",
       "</table>\n",
       "</div>"
      ],
      "text/plain": [
       "           dish  price  mass  spiciness  vegan  cuisine  cost\n",
       "3  cacio e pepe   12.0   500          2   True  Italian   4.5\n",
       "0    aloo chana   10.0   450          9   True   Indian   7.0\n",
       "9    quesadilla    6.0   450          7   True  Tex-Mex   2.0"
      ]
     },
     "execution_count": 16,
     "metadata": {},
     "output_type": "execute_result"
    }
   ],
   "source": [
    "menu_df[menu_df.vegan == True][menu_df.mass >= 400].sort_values(by=['mass'], ascending=False)"
   ]
  },
  {
   "cell_type": "markdown",
   "metadata": {},
   "source": [
    "Yum, lots of great options!\n",
    "\n",
    "#### Warm-up problem\n",
    "\n",
    "Add a new item to the menu using a dictionary (Google it!).  Make up values for the relevant features!"
   ]
  },
  {
   "cell_type": "code",
   "execution_count": 17,
   "metadata": {},
   "outputs": [],
   "source": [
    "## hot dog code goes here!"
   ]
  },
  {
   "cell_type": "markdown",
   "metadata": {},
   "source": [
    "***\n",
    "\n",
    "The real utility of a `DataFrame` for our purposes is the ability to do calculations with data in the dataframe simultaneously for all rows.  Let's say we want to add a reasonable tip (20%) to each item's price:"
   ]
  },
  {
   "cell_type": "code",
   "execution_count": 18,
   "metadata": {},
   "outputs": [
    {
     "data": {
      "text/html": [
       "<div>\n",
       "<style scoped>\n",
       "    .dataframe tbody tr th:only-of-type {\n",
       "        vertical-align: middle;\n",
       "    }\n",
       "\n",
       "    .dataframe tbody tr th {\n",
       "        vertical-align: top;\n",
       "    }\n",
       "\n",
       "    .dataframe thead th {\n",
       "        text-align: right;\n",
       "    }\n",
       "</style>\n",
       "<table border=\"1\" class=\"dataframe\">\n",
       "  <thead>\n",
       "    <tr style=\"text-align: right;\">\n",
       "      <th></th>\n",
       "      <th>dish</th>\n",
       "      <th>price</th>\n",
       "      <th>mass</th>\n",
       "      <th>spiciness</th>\n",
       "      <th>vegan</th>\n",
       "      <th>cuisine</th>\n",
       "      <th>cost</th>\n",
       "      <th>price_w_tip</th>\n",
       "    </tr>\n",
       "  </thead>\n",
       "  <tbody>\n",
       "    <tr>\n",
       "      <th>0</th>\n",
       "      <td>aloo chana</td>\n",
       "      <td>10.0</td>\n",
       "      <td>450</td>\n",
       "      <td>9</td>\n",
       "      <td>True</td>\n",
       "      <td>Indian</td>\n",
       "      <td>7.00</td>\n",
       "      <td>12.0</td>\n",
       "    </tr>\n",
       "    <tr>\n",
       "      <th>1</th>\n",
       "      <td>cheeseburger</td>\n",
       "      <td>8.0</td>\n",
       "      <td>280</td>\n",
       "      <td>2</td>\n",
       "      <td>False</td>\n",
       "      <td>American</td>\n",
       "      <td>4.00</td>\n",
       "      <td>9.6</td>\n",
       "    </tr>\n",
       "    <tr>\n",
       "      <th>2</th>\n",
       "      <td>jjajangmeon</td>\n",
       "      <td>12.0</td>\n",
       "      <td>400</td>\n",
       "      <td>6</td>\n",
       "      <td>False</td>\n",
       "      <td>Korean</td>\n",
       "      <td>4.00</td>\n",
       "      <td>14.4</td>\n",
       "    </tr>\n",
       "    <tr>\n",
       "      <th>3</th>\n",
       "      <td>cacio e pepe</td>\n",
       "      <td>12.0</td>\n",
       "      <td>500</td>\n",
       "      <td>2</td>\n",
       "      <td>True</td>\n",
       "      <td>Italian</td>\n",
       "      <td>4.50</td>\n",
       "      <td>14.4</td>\n",
       "    </tr>\n",
       "    <tr>\n",
       "      <th>4</th>\n",
       "      <td>bubble tea</td>\n",
       "      <td>4.0</td>\n",
       "      <td>300</td>\n",
       "      <td>0</td>\n",
       "      <td>True</td>\n",
       "      <td>Taiwanese</td>\n",
       "      <td>2.00</td>\n",
       "      <td>4.8</td>\n",
       "    </tr>\n",
       "    <tr>\n",
       "      <th>5</th>\n",
       "      <td>paleta</td>\n",
       "      <td>2.5</td>\n",
       "      <td>220</td>\n",
       "      <td>0</td>\n",
       "      <td>True</td>\n",
       "      <td>Central American</td>\n",
       "      <td>0.50</td>\n",
       "      <td>3.0</td>\n",
       "    </tr>\n",
       "    <tr>\n",
       "      <th>6</th>\n",
       "      <td>enchiladas</td>\n",
       "      <td>11.0</td>\n",
       "      <td>475</td>\n",
       "      <td>7</td>\n",
       "      <td>False</td>\n",
       "      <td>Tex-Mex</td>\n",
       "      <td>3.00</td>\n",
       "      <td>13.2</td>\n",
       "    </tr>\n",
       "    <tr>\n",
       "      <th>7</th>\n",
       "      <td>cauliflower shawarma</td>\n",
       "      <td>9.0</td>\n",
       "      <td>250</td>\n",
       "      <td>7</td>\n",
       "      <td>False</td>\n",
       "      <td>Middle-Eastern</td>\n",
       "      <td>7.00</td>\n",
       "      <td>10.8</td>\n",
       "    </tr>\n",
       "    <tr>\n",
       "      <th>8</th>\n",
       "      <td>tikil gomen</td>\n",
       "      <td>10.0</td>\n",
       "      <td>300</td>\n",
       "      <td>4</td>\n",
       "      <td>True</td>\n",
       "      <td>Ethiopian</td>\n",
       "      <td>4.00</td>\n",
       "      <td>12.0</td>\n",
       "    </tr>\n",
       "    <tr>\n",
       "      <th>9</th>\n",
       "      <td>quesadilla</td>\n",
       "      <td>6.0</td>\n",
       "      <td>450</td>\n",
       "      <td>7</td>\n",
       "      <td>True</td>\n",
       "      <td>Tex-Mex</td>\n",
       "      <td>2.00</td>\n",
       "      <td>7.2</td>\n",
       "    </tr>\n",
       "    <tr>\n",
       "      <th>10</th>\n",
       "      <td>jollof rice</td>\n",
       "      <td>9.0</td>\n",
       "      <td>400</td>\n",
       "      <td>4</td>\n",
       "      <td>False</td>\n",
       "      <td>West African</td>\n",
       "      <td>7.00</td>\n",
       "      <td>10.8</td>\n",
       "    </tr>\n",
       "    <tr>\n",
       "      <th>11</th>\n",
       "      <td>grilled chili peppers</td>\n",
       "      <td>2.0</td>\n",
       "      <td>100</td>\n",
       "      <td>10</td>\n",
       "      <td>True</td>\n",
       "      <td></td>\n",
       "      <td>0.25</td>\n",
       "      <td>2.4</td>\n",
       "    </tr>\n",
       "    <tr>\n",
       "      <th>12</th>\n",
       "      <td>ma la fish</td>\n",
       "      <td>16.0</td>\n",
       "      <td>480</td>\n",
       "      <td>10</td>\n",
       "      <td>False</td>\n",
       "      <td>Sichuan</td>\n",
       "      <td>13.50</td>\n",
       "      <td>19.2</td>\n",
       "    </tr>\n",
       "    <tr>\n",
       "      <th>13</th>\n",
       "      <td>schnitzel</td>\n",
       "      <td>16.0</td>\n",
       "      <td>500</td>\n",
       "      <td>2</td>\n",
       "      <td>False</td>\n",
       "      <td>German</td>\n",
       "      <td>9.00</td>\n",
       "      <td>19.2</td>\n",
       "    </tr>\n",
       "    <tr>\n",
       "      <th>14</th>\n",
       "      <td>empanadas</td>\n",
       "      <td>8.0</td>\n",
       "      <td>400</td>\n",
       "      <td>6</td>\n",
       "      <td>False</td>\n",
       "      <td>Argentinian</td>\n",
       "      <td>3.50</td>\n",
       "      <td>9.6</td>\n",
       "    </tr>\n",
       "  </tbody>\n",
       "</table>\n",
       "</div>"
      ],
      "text/plain": [
       "                     dish  price  mass  spiciness  vegan           cuisine  \\\n",
       "0              aloo chana   10.0   450          9   True            Indian   \n",
       "1            cheeseburger    8.0   280          2  False          American   \n",
       "2             jjajangmeon   12.0   400          6  False            Korean   \n",
       "3            cacio e pepe   12.0   500          2   True           Italian   \n",
       "4              bubble tea    4.0   300          0   True         Taiwanese   \n",
       "5                  paleta    2.5   220          0   True  Central American   \n",
       "6              enchiladas   11.0   475          7  False           Tex-Mex   \n",
       "7    cauliflower shawarma    9.0   250          7  False    Middle-Eastern   \n",
       "8             tikil gomen   10.0   300          4   True         Ethiopian   \n",
       "9              quesadilla    6.0   450          7   True           Tex-Mex   \n",
       "10            jollof rice    9.0   400          4  False      West African   \n",
       "11  grilled chili peppers    2.0   100         10   True                     \n",
       "12             ma la fish   16.0   480         10  False           Sichuan   \n",
       "13              schnitzel   16.0   500          2  False            German   \n",
       "14              empanadas    8.0   400          6  False       Argentinian   \n",
       "\n",
       "     cost  price_w_tip  \n",
       "0    7.00         12.0  \n",
       "1    4.00          9.6  \n",
       "2    4.00         14.4  \n",
       "3    4.50         14.4  \n",
       "4    2.00          4.8  \n",
       "5    0.50          3.0  \n",
       "6    3.00         13.2  \n",
       "7    7.00         10.8  \n",
       "8    4.00         12.0  \n",
       "9    2.00          7.2  \n",
       "10   7.00         10.8  \n",
       "11   0.25          2.4  \n",
       "12  13.50         19.2  \n",
       "13   9.00         19.2  \n",
       "14   3.50          9.6  "
      ]
     },
     "execution_count": 18,
     "metadata": {},
     "output_type": "execute_result"
    }
   ],
   "source": [
    "menu_df['price_w_tip'] = menu_df['price'] + menu_df['price'] * 0.20\n",
    "menu_df"
   ]
  },
  {
   "cell_type": "markdown",
   "metadata": {},
   "source": [
    "Now that we know the total cost of each item, we may want to determine something like the \"best value\" dish on the menu (assuming that all of the flavors are equally enjoyable).  We could do the following:"
   ]
  },
  {
   "cell_type": "code",
   "execution_count": 19,
   "metadata": {},
   "outputs": [
    {
     "data": {
      "text/html": [
       "<pre style=\"white-space:pre;overflow-x:auto;line-height:normal;font-family:Menlo,'DejaVu Sans Mono',consolas,'Courier New',monospace\">Median mass per dollar of items on our menu:     <span style=\"color: #008080; text-decoration-color: #008080; font-weight: bold\">35.9848</span> g/USD\n",
       "</pre>\n"
      ],
      "text/plain": [
       "Median mass per dollar of items on our menu:     \u001b[1;36m35.9848\u001b[0m g/USD\n"
      ]
     },
     "metadata": {},
     "output_type": "display_data"
    },
    {
     "data": {
      "text/html": [
       "<pre style=\"white-space:pre;overflow-x:auto;line-height:normal;font-family:Menlo,'DejaVu Sans Mono',consolas,'Courier New',monospace\">Average mass per dollar of items on our menu:    <span style=\"color: #008080; text-decoration-color: #008080; font-weight: bold\">38.86966666666667</span> g/USD\n",
       "</pre>\n"
      ],
      "text/plain": [
       "Average mass per dollar of items on our menu:    \u001b[1;36m38.86966666666667\u001b[0m g/USD\n"
      ]
     },
     "metadata": {},
     "output_type": "display_data"
    },
    {
     "data": {
      "text/html": [
       "<pre style=\"white-space:pre;overflow-x:auto;line-height:normal;font-family:Menlo,'DejaVu Sans Mono',consolas,'Courier New',monospace\">Std dev mass per dollar of items on our menu:    <span style=\"color: #008080; text-decoration-color: #008080; font-weight: bold\">15.502464025606963</span> g/USD\n",
       "</pre>\n"
      ],
      "text/plain": [
       "Std dev mass per dollar of items on our menu:    \u001b[1;36m15.502464025606963\u001b[0m g/USD\n"
      ]
     },
     "metadata": {},
     "output_type": "display_data"
    },
    {
     "data": {
      "text/html": [
       "<pre style=\"white-space:pre;overflow-x:auto;line-height:normal;font-family:Menlo,'DejaVu Sans Mono',consolas,'Courier New',monospace\">- - - - - - - -\n",
       "</pre>\n"
      ],
      "text/plain": [
       "- - - - - - - -\n"
      ]
     },
     "metadata": {},
     "output_type": "display_data"
    },
    {
     "data": {
      "text/html": [
       "<div>\n",
       "<style scoped>\n",
       "    .dataframe tbody tr th:only-of-type {\n",
       "        vertical-align: middle;\n",
       "    }\n",
       "\n",
       "    .dataframe tbody tr th {\n",
       "        vertical-align: top;\n",
       "    }\n",
       "\n",
       "    .dataframe thead th {\n",
       "        text-align: right;\n",
       "    }\n",
       "</style>\n",
       "<table border=\"1\" class=\"dataframe\">\n",
       "  <thead>\n",
       "    <tr style=\"text-align: right;\">\n",
       "      <th></th>\n",
       "      <th>dish</th>\n",
       "      <th>price</th>\n",
       "      <th>mass</th>\n",
       "      <th>spiciness</th>\n",
       "      <th>vegan</th>\n",
       "      <th>cuisine</th>\n",
       "      <th>cost</th>\n",
       "      <th>price_w_tip</th>\n",
       "      <th>mass_per_dollar</th>\n",
       "    </tr>\n",
       "  </thead>\n",
       "  <tbody>\n",
       "    <tr>\n",
       "      <th>5</th>\n",
       "      <td>paleta</td>\n",
       "      <td>2.5</td>\n",
       "      <td>220</td>\n",
       "      <td>0</td>\n",
       "      <td>True</td>\n",
       "      <td>Central American</td>\n",
       "      <td>0.5</td>\n",
       "      <td>3.0</td>\n",
       "      <td>73.3333</td>\n",
       "    </tr>\n",
       "  </tbody>\n",
       "</table>\n",
       "</div>"
      ],
      "text/plain": [
       "     dish  price  mass  spiciness  vegan           cuisine  cost  price_w_tip  \\\n",
       "5  paleta    2.5   220          0   True  Central American   0.5          3.0   \n",
       "\n",
       "   mass_per_dollar  \n",
       "5          73.3333  "
      ]
     },
     "execution_count": 19,
     "metadata": {},
     "output_type": "execute_result"
    }
   ],
   "source": [
    "menu_df['mass_per_dollar'] = np.round(menu_df['mass'] / menu_df['price_w_tip'], 4)\n",
    "\n",
    "print('Median mass per dollar of items on our menu:', '\\t', menu_df['mass_per_dollar'].median(), 'g/USD')\n",
    "print('Average mass per dollar of items on our menu:', '\\t', menu_df['mass_per_dollar'].mean(), 'g/USD')\n",
    "print('Std dev mass per dollar of items on our menu:', '\\t', menu_df['mass_per_dollar'].std(), 'g/USD')\n",
    "\n",
    "print('- - - - - - - -')\n",
    "menu_df[menu_df.mass_per_dollar == menu_df.mass_per_dollar.max()]"
   ]
  },
  {
   "cell_type": "markdown",
   "metadata": {},
   "source": [
    "So maybe we just buy \\\\$15 worth of paletas?\n",
    "\n",
    "Our dataframe now combines raw data and interesting calculated quantities.  Let's look at some visualizations of this information."
   ]
  },
  {
   "cell_type": "code",
   "execution_count": 20,
   "metadata": {},
   "outputs": [
    {
     "data": {
      "image/png": "[encoded data removed]",
      "text/plain": [
       "<Figure size 648x288 with 1 Axes>"
      ]
     },
     "metadata": {
      "filenames": {
       "image/png": "/Users/mmccracken/office_comp/sci_comp_book/scicomp_book/_build/jupyter_execute/chapters_ipynb/scicomp_09_pandas_42_0.png"
      }
     },
     "output_type": "display_data"
    }
   ],
   "source": [
    "import matplotlib.pyplot as plt\n",
    "plt.style.use('ggplot')\n",
    "\n",
    "fig = plt.figure(figsize=(9,4))\n",
    "menu_df.mass_per_dollar.hist(range=(0,80), bins=16)\n",
    "plt.xlabel('mass per dollar (g/USD)')\n",
    "plt.show()"
   ]
  },
  {
   "cell_type": "code",
   "execution_count": 21,
   "metadata": {},
   "outputs": [
    {
     "name": "stderr",
     "output_type": "stream",
     "text": [
      "/var/folders/gf/hlznghl533773bhf4bgw_89dxt2gyn/T/ipykernel_88456/1031126710.py:7: MatplotlibDeprecationWarning: Auto-removal of grids by pcolor() and pcolormesh() is deprecated since 3.5 and will be removed two minor releases later; please call grid(False) first.\n",
      "  cbar = plt.colorbar()\n"
     ]
    },
    {
     "data": {
      "image/png": "[encoded data removed]",
      "text/plain": [
       "<Figure size 648x360 with 2 Axes>"
      ]
     },
     "metadata": {
      "filenames": {
       "image/png": "/Users/mmccracken/office_comp/sci_comp_book/scicomp_book/_build/jupyter_execute/chapters_ipynb/scicomp_09_pandas_43_1.png"
      }
     },
     "output_type": "display_data"
    }
   ],
   "source": [
    "fig = plt.figure(figsize=(9,5))\n",
    "plt.scatter(menu_df.price_w_tip, menu_df.mass, c=menu_df.spiciness, s=55, cmap='autumn_r')\n",
    "plt.xlabel('price w/ tip (USD)')\n",
    "plt.ylabel('mass')\n",
    "plt.xlim((0, menu_df.price_w_tip.max() * 1.1))\n",
    "plt.ylim((0, menu_df.mass.max() * 1.1))\n",
    "cbar = plt.colorbar()\n",
    "cbar.set_label('spiciness')\n",
    "plt.show()"
   ]
  },
  {
   "cell_type": "markdown",
   "metadata": {},
   "source": [
    "#### Warm-up problem\n",
    "\n",
    "Modify the code above to make a scatter plot of price vs cost, color-coded by mass."
   ]
  },
  {
   "cell_type": "code",
   "execution_count": 22,
   "metadata": {},
   "outputs": [],
   "source": [
    "## warm-up code goes here"
   ]
  },
  {
   "cell_type": "markdown",
   "metadata": {},
   "source": [
    "***\n",
    "\n",
    "### Copying a `DataFrame`\n",
    "\n",
    "One thing that we haven't addressed up to this point is how to copy some common `python` objects.  For example, let's say we have a list of values that we need to update -- perhaps it's the list of balances in several back accounts.  We might wish to create a copy of the list that can serve as a record of the original values that were stored in the list.  You might guess that we can just initiatlize a new variable in the following way:"
   ]
  },
  {
   "cell_type": "code",
   "execution_count": 23,
   "metadata": {},
   "outputs": [
    {
     "data": {
      "text/html": [
       "<pre style=\"white-space:pre;overflow-x:auto;line-height:normal;font-family:Menlo,'DejaVu Sans Mono',consolas,'Courier New',monospace\"><span style=\"font-weight: bold\">[</span><span style=\"color: #008080; text-decoration-color: #008080; font-weight: bold\">60</span>, <span style=\"color: #008080; text-decoration-color: #008080; font-weight: bold\">210</span>, <span style=\"color: #008080; text-decoration-color: #008080; font-weight: bold\">25</span>, <span style=\"color: #008080; text-decoration-color: #008080; font-weight: bold\">263</span>, <span style=\"color: #008080; text-decoration-color: #008080; font-weight: bold\">764</span>, <span style=\"color: #008080; text-decoration-color: #008080; font-weight: bold\">23442</span>, <span style=\"color: #008080; text-decoration-color: #008080; font-weight: bold\">70</span><span style=\"font-weight: bold\">]</span>\n",
       "</pre>\n"
      ],
      "text/plain": [
       "\u001b[1m[\u001b[0m\u001b[1;36m60\u001b[0m, \u001b[1;36m210\u001b[0m, \u001b[1;36m25\u001b[0m, \u001b[1;36m263\u001b[0m, \u001b[1;36m764\u001b[0m, \u001b[1;36m23442\u001b[0m, \u001b[1;36m70\u001b[0m\u001b[1m]\u001b[0m\n"
      ]
     },
     "metadata": {},
     "output_type": "display_data"
    }
   ],
   "source": [
    "balances = [50, 200, 15, 253, 754, 23432, 60]\n",
    "updated_balances = balances\n",
    "\n",
    "for i in range(len(updated_balances)):\n",
    "    updated_balances[i] += 10\n",
    "    \n",
    "print(updated_balances)"
   ]
  },
  {
   "cell_type": "markdown",
   "metadata": {},
   "source": [
    "Great!  But what about our original list?"
   ]
  },
  {
   "cell_type": "code",
   "execution_count": 24,
   "metadata": {},
   "outputs": [
    {
     "data": {
      "text/html": [
       "<pre style=\"white-space:pre;overflow-x:auto;line-height:normal;font-family:Menlo,'DejaVu Sans Mono',consolas,'Courier New',monospace\"><span style=\"font-weight: bold\">[</span><span style=\"color: #008080; text-decoration-color: #008080; font-weight: bold\">60</span>, <span style=\"color: #008080; text-decoration-color: #008080; font-weight: bold\">210</span>, <span style=\"color: #008080; text-decoration-color: #008080; font-weight: bold\">25</span>, <span style=\"color: #008080; text-decoration-color: #008080; font-weight: bold\">263</span>, <span style=\"color: #008080; text-decoration-color: #008080; font-weight: bold\">764</span>, <span style=\"color: #008080; text-decoration-color: #008080; font-weight: bold\">23442</span>, <span style=\"color: #008080; text-decoration-color: #008080; font-weight: bold\">70</span><span style=\"font-weight: bold\">]</span>\n",
       "</pre>\n"
      ],
      "text/plain": [
       "\u001b[1m[\u001b[0m\u001b[1;36m60\u001b[0m, \u001b[1;36m210\u001b[0m, \u001b[1;36m25\u001b[0m, \u001b[1;36m263\u001b[0m, \u001b[1;36m764\u001b[0m, \u001b[1;36m23442\u001b[0m, \u001b[1;36m70\u001b[0m\u001b[1m]\u001b[0m\n"
      ]
     },
     "metadata": {},
     "output_type": "display_data"
    }
   ],
   "source": [
    "print(balances)"
   ]
  },
  {
   "cell_type": "markdown",
   "metadata": {},
   "source": [
    "Wait, WUT?  That's no good.\n",
    "\n",
    "The problem here is that when we set the value of the object `updated_balances` equal to the object `balances`, `python` doesn't *copy* the values in the latter to the former.  Rather, it makes the new variable a **reference** to the latter!  So, `updated_balances` isn't it's own object -- it's just another way of accessing `balances`.\n",
    "\n",
    "If we want to copy the list (or many other objects), we need to use the `copy()` method that is built into `list`.  Let's try again."
   ]
  },
  {
   "cell_type": "code",
   "execution_count": 25,
   "metadata": {},
   "outputs": [
    {
     "data": {
      "text/html": [
       "<pre style=\"white-space:pre;overflow-x:auto;line-height:normal;font-family:Menlo,'DejaVu Sans Mono',consolas,'Courier New',monospace\"><span style=\"font-weight: bold\">[</span><span style=\"color: #008080; text-decoration-color: #008080; font-weight: bold\">60</span>, <span style=\"color: #008080; text-decoration-color: #008080; font-weight: bold\">210</span>, <span style=\"color: #008080; text-decoration-color: #008080; font-weight: bold\">25</span>, <span style=\"color: #008080; text-decoration-color: #008080; font-weight: bold\">263</span>, <span style=\"color: #008080; text-decoration-color: #008080; font-weight: bold\">764</span>, <span style=\"color: #008080; text-decoration-color: #008080; font-weight: bold\">23442</span>, <span style=\"color: #008080; text-decoration-color: #008080; font-weight: bold\">70</span><span style=\"font-weight: bold\">]</span>\n",
       "</pre>\n"
      ],
      "text/plain": [
       "\u001b[1m[\u001b[0m\u001b[1;36m60\u001b[0m, \u001b[1;36m210\u001b[0m, \u001b[1;36m25\u001b[0m, \u001b[1;36m263\u001b[0m, \u001b[1;36m764\u001b[0m, \u001b[1;36m23442\u001b[0m, \u001b[1;36m70\u001b[0m\u001b[1m]\u001b[0m\n"
      ]
     },
     "metadata": {},
     "output_type": "display_data"
    },
    {
     "data": {
      "text/html": [
       "<pre style=\"white-space:pre;overflow-x:auto;line-height:normal;font-family:Menlo,'DejaVu Sans Mono',consolas,'Courier New',monospace\"><span style=\"font-weight: bold\">[</span><span style=\"color: #008080; text-decoration-color: #008080; font-weight: bold\">50</span>, <span style=\"color: #008080; text-decoration-color: #008080; font-weight: bold\">200</span>, <span style=\"color: #008080; text-decoration-color: #008080; font-weight: bold\">15</span>, <span style=\"color: #008080; text-decoration-color: #008080; font-weight: bold\">253</span>, <span style=\"color: #008080; text-decoration-color: #008080; font-weight: bold\">754</span>, <span style=\"color: #008080; text-decoration-color: #008080; font-weight: bold\">23432</span>, <span style=\"color: #008080; text-decoration-color: #008080; font-weight: bold\">60</span><span style=\"font-weight: bold\">]</span>\n",
       "</pre>\n"
      ],
      "text/plain": [
       "\u001b[1m[\u001b[0m\u001b[1;36m50\u001b[0m, \u001b[1;36m200\u001b[0m, \u001b[1;36m15\u001b[0m, \u001b[1;36m253\u001b[0m, \u001b[1;36m754\u001b[0m, \u001b[1;36m23432\u001b[0m, \u001b[1;36m60\u001b[0m\u001b[1m]\u001b[0m\n"
      ]
     },
     "metadata": {},
     "output_type": "display_data"
    }
   ],
   "source": [
    "balances = [50, 200, 15, 253, 754, 23432, 60]\n",
    "updated_balances = balances.copy()\n",
    "\n",
    "for i in range(len(updated_balances)):\n",
    "    updated_balances[i] += 10\n",
    "    \n",
    "print(updated_balances)\n",
    "print(balances)"
   ]
  },
  {
   "cell_type": "markdown",
   "metadata": {},
   "source": [
    "Whew, that looks better!  This is one of those times where not being aware of one strange behavior of a language can cause HUGE and hard to debug problems for your future software.  You have been warned!\n",
    "\n",
    "***\n",
    "\n",
    "Copying/referencing a `DataFrame` works the same way.  Let's say we want to copy the `menu_df` that we worked with earlier for use at a new vegan-only restaurant location we're opening across town.  The new location will be *fancy*, so we'll jack up all of the prices by \\\\$1.00."
   ]
  },
  {
   "cell_type": "code",
   "execution_count": 26,
   "metadata": {},
   "outputs": [
    {
     "data": {
      "text/html": [
       "<div>\n",
       "<style scoped>\n",
       "    .dataframe tbody tr th:only-of-type {\n",
       "        vertical-align: middle;\n",
       "    }\n",
       "\n",
       "    .dataframe tbody tr th {\n",
       "        vertical-align: top;\n",
       "    }\n",
       "\n",
       "    .dataframe thead th {\n",
       "        text-align: right;\n",
       "    }\n",
       "</style>\n",
       "<table border=\"1\" class=\"dataframe\">\n",
       "  <thead>\n",
       "    <tr style=\"text-align: right;\">\n",
       "      <th></th>\n",
       "      <th>dish</th>\n",
       "      <th>price</th>\n",
       "      <th>mass</th>\n",
       "      <th>spiciness</th>\n",
       "      <th>vegan</th>\n",
       "      <th>cuisine</th>\n",
       "      <th>cost</th>\n",
       "      <th>price_w_tip</th>\n",
       "      <th>mass_per_dollar</th>\n",
       "    </tr>\n",
       "  </thead>\n",
       "  <tbody>\n",
       "    <tr>\n",
       "      <th>0</th>\n",
       "      <td>aloo chana</td>\n",
       "      <td>11.0</td>\n",
       "      <td>450</td>\n",
       "      <td>9</td>\n",
       "      <td>True</td>\n",
       "      <td>Indian</td>\n",
       "      <td>7.00</td>\n",
       "      <td>13.2</td>\n",
       "      <td>37.5000</td>\n",
       "    </tr>\n",
       "    <tr>\n",
       "      <th>3</th>\n",
       "      <td>cacio e pepe</td>\n",
       "      <td>13.0</td>\n",
       "      <td>500</td>\n",
       "      <td>2</td>\n",
       "      <td>True</td>\n",
       "      <td>Italian</td>\n",
       "      <td>4.50</td>\n",
       "      <td>15.6</td>\n",
       "      <td>34.7222</td>\n",
       "    </tr>\n",
       "    <tr>\n",
       "      <th>4</th>\n",
       "      <td>bubble tea</td>\n",
       "      <td>5.0</td>\n",
       "      <td>300</td>\n",
       "      <td>0</td>\n",
       "      <td>True</td>\n",
       "      <td>Taiwanese</td>\n",
       "      <td>2.00</td>\n",
       "      <td>6.0</td>\n",
       "      <td>62.5000</td>\n",
       "    </tr>\n",
       "    <tr>\n",
       "      <th>5</th>\n",
       "      <td>paleta</td>\n",
       "      <td>3.5</td>\n",
       "      <td>220</td>\n",
       "      <td>0</td>\n",
       "      <td>True</td>\n",
       "      <td>Central American</td>\n",
       "      <td>0.50</td>\n",
       "      <td>4.2</td>\n",
       "      <td>73.3333</td>\n",
       "    </tr>\n",
       "    <tr>\n",
       "      <th>8</th>\n",
       "      <td>tikil gomen</td>\n",
       "      <td>11.0</td>\n",
       "      <td>300</td>\n",
       "      <td>4</td>\n",
       "      <td>True</td>\n",
       "      <td>Ethiopian</td>\n",
       "      <td>4.00</td>\n",
       "      <td>13.2</td>\n",
       "      <td>25.0000</td>\n",
       "    </tr>\n",
       "    <tr>\n",
       "      <th>9</th>\n",
       "      <td>quesadilla</td>\n",
       "      <td>7.0</td>\n",
       "      <td>450</td>\n",
       "      <td>7</td>\n",
       "      <td>True</td>\n",
       "      <td>Tex-Mex</td>\n",
       "      <td>2.00</td>\n",
       "      <td>8.4</td>\n",
       "      <td>62.5000</td>\n",
       "    </tr>\n",
       "    <tr>\n",
       "      <th>11</th>\n",
       "      <td>grilled chili peppers</td>\n",
       "      <td>3.0</td>\n",
       "      <td>100</td>\n",
       "      <td>10</td>\n",
       "      <td>True</td>\n",
       "      <td></td>\n",
       "      <td>0.25</td>\n",
       "      <td>3.6</td>\n",
       "      <td>41.6667</td>\n",
       "    </tr>\n",
       "  </tbody>\n",
       "</table>\n",
       "</div>"
      ],
      "text/plain": [
       "                     dish  price  mass  spiciness  vegan           cuisine  \\\n",
       "0              aloo chana   11.0   450          9   True            Indian   \n",
       "3            cacio e pepe   13.0   500          2   True           Italian   \n",
       "4              bubble tea    5.0   300          0   True         Taiwanese   \n",
       "5                  paleta    3.5   220          0   True  Central American   \n",
       "8             tikil gomen   11.0   300          4   True         Ethiopian   \n",
       "9              quesadilla    7.0   450          7   True           Tex-Mex   \n",
       "11  grilled chili peppers    3.0   100         10   True                     \n",
       "\n",
       "    cost  price_w_tip  mass_per_dollar  \n",
       "0   7.00         13.2          37.5000  \n",
       "3   4.50         15.6          34.7222  \n",
       "4   2.00          6.0          62.5000  \n",
       "5   0.50          4.2          73.3333  \n",
       "8   4.00         13.2          25.0000  \n",
       "9   2.00          8.4          62.5000  \n",
       "11  0.25          3.6          41.6667  "
      ]
     },
     "execution_count": 26,
     "metadata": {},
     "output_type": "execute_result"
    }
   ],
   "source": [
    "new_location_menu_df = menu_df.copy()\n",
    "new_location_menu_df = new_location_menu_df[new_location_menu_df.vegan == True]\n",
    "new_location_menu_df.price = new_location_menu_df.price + 1.00\n",
    "new_location_menu_df.price_w_tip = new_location_menu_df.price * 1.2\n",
    "new_location_menu_df"
   ]
  },
  {
   "cell_type": "markdown",
   "metadata": {},
   "source": [
    "And we can check to make sure that we haven't goofed up our original dataframe:"
   ]
  },
  {
   "cell_type": "code",
   "execution_count": 27,
   "metadata": {},
   "outputs": [
    {
     "data": {
      "text/html": [
       "<div>\n",
       "<style scoped>\n",
       "    .dataframe tbody tr th:only-of-type {\n",
       "        vertical-align: middle;\n",
       "    }\n",
       "\n",
       "    .dataframe tbody tr th {\n",
       "        vertical-align: top;\n",
       "    }\n",
       "\n",
       "    .dataframe thead th {\n",
       "        text-align: right;\n",
       "    }\n",
       "</style>\n",
       "<table border=\"1\" class=\"dataframe\">\n",
       "  <thead>\n",
       "    <tr style=\"text-align: right;\">\n",
       "      <th></th>\n",
       "      <th>dish</th>\n",
       "      <th>price</th>\n",
       "      <th>mass</th>\n",
       "      <th>spiciness</th>\n",
       "      <th>vegan</th>\n",
       "      <th>cuisine</th>\n",
       "      <th>cost</th>\n",
       "      <th>price_w_tip</th>\n",
       "      <th>mass_per_dollar</th>\n",
       "    </tr>\n",
       "  </thead>\n",
       "  <tbody>\n",
       "    <tr>\n",
       "      <th>0</th>\n",
       "      <td>aloo chana</td>\n",
       "      <td>10.0</td>\n",
       "      <td>450</td>\n",
       "      <td>9</td>\n",
       "      <td>True</td>\n",
       "      <td>Indian</td>\n",
       "      <td>7.00</td>\n",
       "      <td>12.0</td>\n",
       "      <td>37.5000</td>\n",
       "    </tr>\n",
       "    <tr>\n",
       "      <th>1</th>\n",
       "      <td>cheeseburger</td>\n",
       "      <td>8.0</td>\n",
       "      <td>280</td>\n",
       "      <td>2</td>\n",
       "      <td>False</td>\n",
       "      <td>American</td>\n",
       "      <td>4.00</td>\n",
       "      <td>9.6</td>\n",
       "      <td>29.1667</td>\n",
       "    </tr>\n",
       "    <tr>\n",
       "      <th>2</th>\n",
       "      <td>jjajangmeon</td>\n",
       "      <td>12.0</td>\n",
       "      <td>400</td>\n",
       "      <td>6</td>\n",
       "      <td>False</td>\n",
       "      <td>Korean</td>\n",
       "      <td>4.00</td>\n",
       "      <td>14.4</td>\n",
       "      <td>27.7778</td>\n",
       "    </tr>\n",
       "    <tr>\n",
       "      <th>3</th>\n",
       "      <td>cacio e pepe</td>\n",
       "      <td>12.0</td>\n",
       "      <td>500</td>\n",
       "      <td>2</td>\n",
       "      <td>True</td>\n",
       "      <td>Italian</td>\n",
       "      <td>4.50</td>\n",
       "      <td>14.4</td>\n",
       "      <td>34.7222</td>\n",
       "    </tr>\n",
       "    <tr>\n",
       "      <th>4</th>\n",
       "      <td>bubble tea</td>\n",
       "      <td>4.0</td>\n",
       "      <td>300</td>\n",
       "      <td>0</td>\n",
       "      <td>True</td>\n",
       "      <td>Taiwanese</td>\n",
       "      <td>2.00</td>\n",
       "      <td>4.8</td>\n",
       "      <td>62.5000</td>\n",
       "    </tr>\n",
       "    <tr>\n",
       "      <th>5</th>\n",
       "      <td>paleta</td>\n",
       "      <td>2.5</td>\n",
       "      <td>220</td>\n",
       "      <td>0</td>\n",
       "      <td>True</td>\n",
       "      <td>Central American</td>\n",
       "      <td>0.50</td>\n",
       "      <td>3.0</td>\n",
       "      <td>73.3333</td>\n",
       "    </tr>\n",
       "    <tr>\n",
       "      <th>6</th>\n",
       "      <td>enchiladas</td>\n",
       "      <td>11.0</td>\n",
       "      <td>475</td>\n",
       "      <td>7</td>\n",
       "      <td>False</td>\n",
       "      <td>Tex-Mex</td>\n",
       "      <td>3.00</td>\n",
       "      <td>13.2</td>\n",
       "      <td>35.9848</td>\n",
       "    </tr>\n",
       "    <tr>\n",
       "      <th>7</th>\n",
       "      <td>cauliflower shawarma</td>\n",
       "      <td>9.0</td>\n",
       "      <td>250</td>\n",
       "      <td>7</td>\n",
       "      <td>False</td>\n",
       "      <td>Middle-Eastern</td>\n",
       "      <td>7.00</td>\n",
       "      <td>10.8</td>\n",
       "      <td>23.1481</td>\n",
       "    </tr>\n",
       "    <tr>\n",
       "      <th>8</th>\n",
       "      <td>tikil gomen</td>\n",
       "      <td>10.0</td>\n",
       "      <td>300</td>\n",
       "      <td>4</td>\n",
       "      <td>True</td>\n",
       "      <td>Ethiopian</td>\n",
       "      <td>4.00</td>\n",
       "      <td>12.0</td>\n",
       "      <td>25.0000</td>\n",
       "    </tr>\n",
       "    <tr>\n",
       "      <th>9</th>\n",
       "      <td>quesadilla</td>\n",
       "      <td>6.0</td>\n",
       "      <td>450</td>\n",
       "      <td>7</td>\n",
       "      <td>True</td>\n",
       "      <td>Tex-Mex</td>\n",
       "      <td>2.00</td>\n",
       "      <td>7.2</td>\n",
       "      <td>62.5000</td>\n",
       "    </tr>\n",
       "    <tr>\n",
       "      <th>10</th>\n",
       "      <td>jollof rice</td>\n",
       "      <td>9.0</td>\n",
       "      <td>400</td>\n",
       "      <td>4</td>\n",
       "      <td>False</td>\n",
       "      <td>West African</td>\n",
       "      <td>7.00</td>\n",
       "      <td>10.8</td>\n",
       "      <td>37.0370</td>\n",
       "    </tr>\n",
       "    <tr>\n",
       "      <th>11</th>\n",
       "      <td>grilled chili peppers</td>\n",
       "      <td>2.0</td>\n",
       "      <td>100</td>\n",
       "      <td>10</td>\n",
       "      <td>True</td>\n",
       "      <td></td>\n",
       "      <td>0.25</td>\n",
       "      <td>2.4</td>\n",
       "      <td>41.6667</td>\n",
       "    </tr>\n",
       "    <tr>\n",
       "      <th>12</th>\n",
       "      <td>ma la fish</td>\n",
       "      <td>16.0</td>\n",
       "      <td>480</td>\n",
       "      <td>10</td>\n",
       "      <td>False</td>\n",
       "      <td>Sichuan</td>\n",
       "      <td>13.50</td>\n",
       "      <td>19.2</td>\n",
       "      <td>25.0000</td>\n",
       "    </tr>\n",
       "    <tr>\n",
       "      <th>13</th>\n",
       "      <td>schnitzel</td>\n",
       "      <td>16.0</td>\n",
       "      <td>500</td>\n",
       "      <td>2</td>\n",
       "      <td>False</td>\n",
       "      <td>German</td>\n",
       "      <td>9.00</td>\n",
       "      <td>19.2</td>\n",
       "      <td>26.0417</td>\n",
       "    </tr>\n",
       "    <tr>\n",
       "      <th>14</th>\n",
       "      <td>empanadas</td>\n",
       "      <td>8.0</td>\n",
       "      <td>400</td>\n",
       "      <td>6</td>\n",
       "      <td>False</td>\n",
       "      <td>Argentinian</td>\n",
       "      <td>3.50</td>\n",
       "      <td>9.6</td>\n",
       "      <td>41.6667</td>\n",
       "    </tr>\n",
       "  </tbody>\n",
       "</table>\n",
       "</div>"
      ],
      "text/plain": [
       "                     dish  price  mass  spiciness  vegan           cuisine  \\\n",
       "0              aloo chana   10.0   450          9   True            Indian   \n",
       "1            cheeseburger    8.0   280          2  False          American   \n",
       "2             jjajangmeon   12.0   400          6  False            Korean   \n",
       "3            cacio e pepe   12.0   500          2   True           Italian   \n",
       "4              bubble tea    4.0   300          0   True         Taiwanese   \n",
       "5                  paleta    2.5   220          0   True  Central American   \n",
       "6              enchiladas   11.0   475          7  False           Tex-Mex   \n",
       "7    cauliflower shawarma    9.0   250          7  False    Middle-Eastern   \n",
       "8             tikil gomen   10.0   300          4   True         Ethiopian   \n",
       "9              quesadilla    6.0   450          7   True           Tex-Mex   \n",
       "10            jollof rice    9.0   400          4  False      West African   \n",
       "11  grilled chili peppers    2.0   100         10   True                     \n",
       "12             ma la fish   16.0   480         10  False           Sichuan   \n",
       "13              schnitzel   16.0   500          2  False            German   \n",
       "14              empanadas    8.0   400          6  False       Argentinian   \n",
       "\n",
       "     cost  price_w_tip  mass_per_dollar  \n",
       "0    7.00         12.0          37.5000  \n",
       "1    4.00          9.6          29.1667  \n",
       "2    4.00         14.4          27.7778  \n",
       "3    4.50         14.4          34.7222  \n",
       "4    2.00          4.8          62.5000  \n",
       "5    0.50          3.0          73.3333  \n",
       "6    3.00         13.2          35.9848  \n",
       "7    7.00         10.8          23.1481  \n",
       "8    4.00         12.0          25.0000  \n",
       "9    2.00          7.2          62.5000  \n",
       "10   7.00         10.8          37.0370  \n",
       "11   0.25          2.4          41.6667  \n",
       "12  13.50         19.2          25.0000  \n",
       "13   9.00         19.2          26.0417  \n",
       "14   3.50          9.6          41.6667  "
      ]
     },
     "execution_count": 27,
     "metadata": {},
     "output_type": "execute_result"
    }
   ],
   "source": [
    "menu_df"
   ]
  },
  {
   "cell_type": "markdown",
   "metadata": {},
   "source": [
    "***\n",
    "\n",
    "## Importing data as a `DataFrame`\n",
    "\n",
    "I think you'll agree with me that this looks incredible and very fun.  There's only one problem: If I want to work with a (possibly very large) dataset (with many instances and features), I don't want to build up a dataframe column by column.  That would be **terrible**.\n",
    "\n",
    "The `pandas` people have thought of this!  There is a straight-forward way to read in data stored in some tabular-ish format (csv, tsv, Excel[!]) directly into a `DataFrame`.\n",
    "\n",
    "Let's take a look at how this is done [you're gonna love this] with the `movies.csv` dataset that is maintained by [Mine Çetinkaya-Rundel](https://mine-cr.com/).  This is a medium-size dataset (651 movies), so we don't want to print the whole thing to screen.  We'll use `head` to look at the first 20 rows."
   ]
  },
  {
   "cell_type": "code",
   "execution_count": 28,
   "metadata": {},
   "outputs": [
    {
     "data": {
      "text/html": [
       "<div>\n",
       "<style scoped>\n",
       "    .dataframe tbody tr th:only-of-type {\n",
       "        vertical-align: middle;\n",
       "    }\n",
       "\n",
       "    .dataframe tbody tr th {\n",
       "        vertical-align: top;\n",
       "    }\n",
       "\n",
       "    .dataframe thead th {\n",
       "        text-align: right;\n",
       "    }\n",
       "</style>\n",
       "<table border=\"1\" class=\"dataframe\">\n",
       "  <thead>\n",
       "    <tr style=\"text-align: right;\">\n",
       "      <th></th>\n",
       "      <th>title</th>\n",
       "      <th>title_type</th>\n",
       "      <th>genre</th>\n",
       "      <th>runtime</th>\n",
       "      <th>mpaa_rating</th>\n",
       "      <th>studio</th>\n",
       "      <th>thtr_rel_year</th>\n",
       "      <th>thtr_rel_month</th>\n",
       "      <th>thtr_rel_day</th>\n",
       "      <th>dvd_rel_year</th>\n",
       "      <th>...</th>\n",
       "      <th>best_dir_win</th>\n",
       "      <th>top200_box</th>\n",
       "      <th>director</th>\n",
       "      <th>actor1</th>\n",
       "      <th>actor2</th>\n",
       "      <th>actor3</th>\n",
       "      <th>actor4</th>\n",
       "      <th>actor5</th>\n",
       "      <th>imdb_url</th>\n",
       "      <th>rt_url</th>\n",
       "    </tr>\n",
       "  </thead>\n",
       "  <tbody>\n",
       "    <tr>\n",
       "      <th>0</th>\n",
       "      <td>Filly Brown</td>\n",
       "      <td>Feature Film</td>\n",
       "      <td>Drama</td>\n",
       "      <td>80.0</td>\n",
       "      <td>R</td>\n",
       "      <td>Indomina Media Inc.</td>\n",
       "      <td>2013.0</td>\n",
       "      <td>4.0</td>\n",
       "      <td>19.0</td>\n",
       "      <td>2013.0</td>\n",
       "      <td>...</td>\n",
       "      <td>no</td>\n",
       "      <td>no</td>\n",
       "      <td>Michael D. Olmos</td>\n",
       "      <td>Gina Rodriguez</td>\n",
       "      <td>Jenni Rivera</td>\n",
       "      <td>Lou Diamond Phillips</td>\n",
       "      <td>Emilio Rivera</td>\n",
       "      <td>Joseph Julian Soria</td>\n",
       "      <td>http://www.imdb.com/title/tt1869425/</td>\n",
       "      <td>//www.rottentomatoes.com/m/filly_brown_2012/</td>\n",
       "    </tr>\n",
       "    <tr>\n",
       "      <th>1</th>\n",
       "      <td>The Dish</td>\n",
       "      <td>Feature Film</td>\n",
       "      <td>Drama</td>\n",
       "      <td>101.0</td>\n",
       "      <td>PG-13</td>\n",
       "      <td>Warner Bros. Pictures</td>\n",
       "      <td>2001.0</td>\n",
       "      <td>3.0</td>\n",
       "      <td>14.0</td>\n",
       "      <td>2001.0</td>\n",
       "      <td>...</td>\n",
       "      <td>no</td>\n",
       "      <td>no</td>\n",
       "      <td>Rob Sitch</td>\n",
       "      <td>Sam Neill</td>\n",
       "      <td>Kevin Harrington</td>\n",
       "      <td>Patrick Warburton</td>\n",
       "      <td>Tom Long</td>\n",
       "      <td>Genevieve Mooy</td>\n",
       "      <td>http://www.imdb.com/title/tt0205873/</td>\n",
       "      <td>//www.rottentomatoes.com/m/dish/</td>\n",
       "    </tr>\n",
       "    <tr>\n",
       "      <th>2</th>\n",
       "      <td>Waiting for Guffman</td>\n",
       "      <td>Feature Film</td>\n",
       "      <td>Comedy</td>\n",
       "      <td>84.0</td>\n",
       "      <td>R</td>\n",
       "      <td>Sony Pictures Classics</td>\n",
       "      <td>1996.0</td>\n",
       "      <td>8.0</td>\n",
       "      <td>21.0</td>\n",
       "      <td>2001.0</td>\n",
       "      <td>...</td>\n",
       "      <td>no</td>\n",
       "      <td>no</td>\n",
       "      <td>Christopher Guest</td>\n",
       "      <td>Christopher Guest</td>\n",
       "      <td>Catherine O'Hara</td>\n",
       "      <td>Parker Posey</td>\n",
       "      <td>Eugene Levy</td>\n",
       "      <td>Bob Balaban</td>\n",
       "      <td>http://www.imdb.com/title/tt0118111/</td>\n",
       "      <td>//www.rottentomatoes.com/m/waiting_for_guffman/</td>\n",
       "    </tr>\n",
       "    <tr>\n",
       "      <th>3</th>\n",
       "      <td>The Age of Innocence</td>\n",
       "      <td>Feature Film</td>\n",
       "      <td>Drama</td>\n",
       "      <td>139.0</td>\n",
       "      <td>PG</td>\n",
       "      <td>Columbia Pictures</td>\n",
       "      <td>1993.0</td>\n",
       "      <td>10.0</td>\n",
       "      <td>1.0</td>\n",
       "      <td>2001.0</td>\n",
       "      <td>...</td>\n",
       "      <td>yes</td>\n",
       "      <td>no</td>\n",
       "      <td>Martin Scorsese</td>\n",
       "      <td>Daniel Day-Lewis</td>\n",
       "      <td>Michelle Pfeiffer</td>\n",
       "      <td>Winona Ryder</td>\n",
       "      <td>Richard E. Grant</td>\n",
       "      <td>Alec McCowen</td>\n",
       "      <td>http://www.imdb.com/title/tt0106226/</td>\n",
       "      <td>//www.rottentomatoes.com/m/age_of_innocence/</td>\n",
       "    </tr>\n",
       "    <tr>\n",
       "      <th>4</th>\n",
       "      <td>Malevolence</td>\n",
       "      <td>Feature Film</td>\n",
       "      <td>Horror</td>\n",
       "      <td>90.0</td>\n",
       "      <td>R</td>\n",
       "      <td>Anchor Bay Entertainment</td>\n",
       "      <td>2004.0</td>\n",
       "      <td>9.0</td>\n",
       "      <td>10.0</td>\n",
       "      <td>2005.0</td>\n",
       "      <td>...</td>\n",
       "      <td>no</td>\n",
       "      <td>no</td>\n",
       "      <td>Stevan Mena</td>\n",
       "      <td>Samantha Dark</td>\n",
       "      <td>R. Brandon Johnson</td>\n",
       "      <td>Brandon Johnson</td>\n",
       "      <td>Heather Magee</td>\n",
       "      <td>Richard Glover</td>\n",
       "      <td>http://www.imdb.com/title/tt0388230/</td>\n",
       "      <td>//www.rottentomatoes.com/m/10004684-malevolence/</td>\n",
       "    </tr>\n",
       "    <tr>\n",
       "      <th>5</th>\n",
       "      <td>Old Partner</td>\n",
       "      <td>Documentary</td>\n",
       "      <td>Documentary</td>\n",
       "      <td>78.0</td>\n",
       "      <td>Unrated</td>\n",
       "      <td>Shcalo Media Group</td>\n",
       "      <td>2009.0</td>\n",
       "      <td>1.0</td>\n",
       "      <td>15.0</td>\n",
       "      <td>2010.0</td>\n",
       "      <td>...</td>\n",
       "      <td>no</td>\n",
       "      <td>no</td>\n",
       "      <td>Chung-ryoul Lee</td>\n",
       "      <td>Choi Won-kyun</td>\n",
       "      <td>Lee Sam-soon</td>\n",
       "      <td>Moo</td>\n",
       "      <td>NaN</td>\n",
       "      <td>NaN</td>\n",
       "      <td>http://www.imdb.com/title/tt1334549/</td>\n",
       "      <td>//www.rottentomatoes.com/m/old-partner/</td>\n",
       "    </tr>\n",
       "    <tr>\n",
       "      <th>6</th>\n",
       "      <td>Lady Jane</td>\n",
       "      <td>Feature Film</td>\n",
       "      <td>Drama</td>\n",
       "      <td>142.0</td>\n",
       "      <td>PG-13</td>\n",
       "      <td>Paramount Home Video</td>\n",
       "      <td>1986.0</td>\n",
       "      <td>1.0</td>\n",
       "      <td>1.0</td>\n",
       "      <td>2003.0</td>\n",
       "      <td>...</td>\n",
       "      <td>no</td>\n",
       "      <td>no</td>\n",
       "      <td>Trevor Nunn</td>\n",
       "      <td>Cary Elwes</td>\n",
       "      <td>John Wood</td>\n",
       "      <td>Michael Hordern</td>\n",
       "      <td>Jill Bennett II</td>\n",
       "      <td>Helena Bonham Carter</td>\n",
       "      <td>http://www.imdb.com/title/tt0091374/</td>\n",
       "      <td>//www.rottentomatoes.com/m/lady_jane/</td>\n",
       "    </tr>\n",
       "    <tr>\n",
       "      <th>7</th>\n",
       "      <td>Mad Dog Time</td>\n",
       "      <td>Feature Film</td>\n",
       "      <td>Drama</td>\n",
       "      <td>93.0</td>\n",
       "      <td>R</td>\n",
       "      <td>MGM/United Artists</td>\n",
       "      <td>1996.0</td>\n",
       "      <td>11.0</td>\n",
       "      <td>8.0</td>\n",
       "      <td>2004.0</td>\n",
       "      <td>...</td>\n",
       "      <td>no</td>\n",
       "      <td>no</td>\n",
       "      <td>Larry Bishop</td>\n",
       "      <td>Richard Dreyfuss</td>\n",
       "      <td>Jeff Goldblum</td>\n",
       "      <td>Gabriel Byrne</td>\n",
       "      <td>Ellen Barkin</td>\n",
       "      <td>Diane Lane</td>\n",
       "      <td>http://www.imdb.com/title/tt0116953/</td>\n",
       "      <td>//www.rottentomatoes.com/m/mad_dog_time/</td>\n",
       "    </tr>\n",
       "    <tr>\n",
       "      <th>8</th>\n",
       "      <td>Beauty Is Embarrassing</td>\n",
       "      <td>Documentary</td>\n",
       "      <td>Documentary</td>\n",
       "      <td>88.0</td>\n",
       "      <td>Unrated</td>\n",
       "      <td>Independent Pictures</td>\n",
       "      <td>2012.0</td>\n",
       "      <td>9.0</td>\n",
       "      <td>7.0</td>\n",
       "      <td>2013.0</td>\n",
       "      <td>...</td>\n",
       "      <td>no</td>\n",
       "      <td>no</td>\n",
       "      <td>Neil Berkeley</td>\n",
       "      <td>Paul Reubens</td>\n",
       "      <td>Matt Groening</td>\n",
       "      <td>Todd Oldham</td>\n",
       "      <td>Jonathan Dayton</td>\n",
       "      <td>Cliff Benjamin</td>\n",
       "      <td>http://www.imdb.com/title/tt2040281/</td>\n",
       "      <td>//www.rottentomatoes.com/m/beauty_is_embarrass...</td>\n",
       "    </tr>\n",
       "    <tr>\n",
       "      <th>9</th>\n",
       "      <td>The Snowtown Murders</td>\n",
       "      <td>Feature Film</td>\n",
       "      <td>Drama</td>\n",
       "      <td>119.0</td>\n",
       "      <td>Unrated</td>\n",
       "      <td>IFC Films</td>\n",
       "      <td>2012.0</td>\n",
       "      <td>3.0</td>\n",
       "      <td>2.0</td>\n",
       "      <td>2012.0</td>\n",
       "      <td>...</td>\n",
       "      <td>no</td>\n",
       "      <td>no</td>\n",
       "      <td>Justin Kurzel</td>\n",
       "      <td>Lucas Pittaway</td>\n",
       "      <td>Daniel Henshall</td>\n",
       "      <td>Louise Harris</td>\n",
       "      <td>Craig Coyne</td>\n",
       "      <td>Richard Green</td>\n",
       "      <td>http://www.imdb.com/title/tt1680114/</td>\n",
       "      <td>//www.rottentomatoes.com/m/the_snowtown_murders/</td>\n",
       "    </tr>\n",
       "    <tr>\n",
       "      <th>10</th>\n",
       "      <td>Superman II</td>\n",
       "      <td>Feature Film</td>\n",
       "      <td>Action &amp; Adventure</td>\n",
       "      <td>127.0</td>\n",
       "      <td>PG</td>\n",
       "      <td>Warner Bros. Pictures</td>\n",
       "      <td>1981.0</td>\n",
       "      <td>6.0</td>\n",
       "      <td>19.0</td>\n",
       "      <td>2001.0</td>\n",
       "      <td>...</td>\n",
       "      <td>no</td>\n",
       "      <td>yes</td>\n",
       "      <td>Richard Lester</td>\n",
       "      <td>Christopher Reeve</td>\n",
       "      <td>Gene Hackman</td>\n",
       "      <td>Margot Kidder</td>\n",
       "      <td>Ned Beatty</td>\n",
       "      <td>Jackie Cooper</td>\n",
       "      <td>http://www.imdb.com/title/tt0081573/</td>\n",
       "      <td>//www.rottentomatoes.com/m/superman_ii/</td>\n",
       "    </tr>\n",
       "    <tr>\n",
       "      <th>11</th>\n",
       "      <td>Leap of Faith</td>\n",
       "      <td>Feature Film</td>\n",
       "      <td>Drama</td>\n",
       "      <td>108.0</td>\n",
       "      <td>PG-13</td>\n",
       "      <td>Paramount Home Video</td>\n",
       "      <td>1992.0</td>\n",
       "      <td>12.0</td>\n",
       "      <td>18.0</td>\n",
       "      <td>2003.0</td>\n",
       "      <td>...</td>\n",
       "      <td>no</td>\n",
       "      <td>no</td>\n",
       "      <td>Richard Pearce</td>\n",
       "      <td>Steve Martin</td>\n",
       "      <td>Debra Winger</td>\n",
       "      <td>Lolita Davidovich</td>\n",
       "      <td>Liam Neeson</td>\n",
       "      <td>Lukas Haas</td>\n",
       "      <td>http://www.imdb.com/title/tt0104695/</td>\n",
       "      <td>//www.rottentomatoes.com/m/1042059-leap_of_faith/</td>\n",
       "    </tr>\n",
       "    <tr>\n",
       "      <th>12</th>\n",
       "      <td>The Royal Tenenbaums</td>\n",
       "      <td>Feature Film</td>\n",
       "      <td>Comedy</td>\n",
       "      <td>110.0</td>\n",
       "      <td>R</td>\n",
       "      <td>Buena Vista Distribution Compa</td>\n",
       "      <td>2002.0</td>\n",
       "      <td>1.0</td>\n",
       "      <td>4.0</td>\n",
       "      <td>2002.0</td>\n",
       "      <td>...</td>\n",
       "      <td>no</td>\n",
       "      <td>no</td>\n",
       "      <td>Wes Anderson</td>\n",
       "      <td>Gene Hackman</td>\n",
       "      <td>Anjelica Huston</td>\n",
       "      <td>Gwyneth Paltrow</td>\n",
       "      <td>Ben Stiller</td>\n",
       "      <td>Luke Wilson</td>\n",
       "      <td>http://www.imdb.com/title/tt0265666/</td>\n",
       "      <td>//www.rottentomatoes.com/m/the_royal_tenenbaums/</td>\n",
       "    </tr>\n",
       "    <tr>\n",
       "      <th>13</th>\n",
       "      <td>School for Scoundrels</td>\n",
       "      <td>Feature Film</td>\n",
       "      <td>Comedy</td>\n",
       "      <td>100.0</td>\n",
       "      <td>PG-13</td>\n",
       "      <td>MGM</td>\n",
       "      <td>2006.0</td>\n",
       "      <td>9.0</td>\n",
       "      <td>23.0</td>\n",
       "      <td>2007.0</td>\n",
       "      <td>...</td>\n",
       "      <td>no</td>\n",
       "      <td>no</td>\n",
       "      <td>Todd Phillips</td>\n",
       "      <td>Billy Bob Thornton</td>\n",
       "      <td>Jon Heder</td>\n",
       "      <td>Jacinda Barrett</td>\n",
       "      <td>Michael Clarke Duncan</td>\n",
       "      <td>Horatio Sanz</td>\n",
       "      <td>http://www.imdb.com/title/tt0462519/</td>\n",
       "      <td>//www.rottentomatoes.com/m/school_for_scoundrels/</td>\n",
       "    </tr>\n",
       "    <tr>\n",
       "      <th>14</th>\n",
       "      <td>Rhinestone</td>\n",
       "      <td>Feature Film</td>\n",
       "      <td>Comedy</td>\n",
       "      <td>111.0</td>\n",
       "      <td>PG</td>\n",
       "      <td>20th Century Fox</td>\n",
       "      <td>1984.0</td>\n",
       "      <td>6.0</td>\n",
       "      <td>20.0</td>\n",
       "      <td>2005.0</td>\n",
       "      <td>...</td>\n",
       "      <td>no</td>\n",
       "      <td>no</td>\n",
       "      <td>Bob Clark (III)</td>\n",
       "      <td>Dolly Parton</td>\n",
       "      <td>Sylvester Stallone</td>\n",
       "      <td>Richard Farnsworth</td>\n",
       "      <td>Ron Leibman</td>\n",
       "      <td>Tim Thomerson</td>\n",
       "      <td>http://www.imdb.com/title/tt0088001/</td>\n",
       "      <td>//www.rottentomatoes.com/m/rhinestone/</td>\n",
       "    </tr>\n",
       "    <tr>\n",
       "      <th>15</th>\n",
       "      <td>Burn After Reading</td>\n",
       "      <td>Feature Film</td>\n",
       "      <td>Drama</td>\n",
       "      <td>96.0</td>\n",
       "      <td>R</td>\n",
       "      <td>Focus Features</td>\n",
       "      <td>2008.0</td>\n",
       "      <td>8.0</td>\n",
       "      <td>27.0</td>\n",
       "      <td>2008.0</td>\n",
       "      <td>...</td>\n",
       "      <td>yes</td>\n",
       "      <td>no</td>\n",
       "      <td>Joel Coen</td>\n",
       "      <td>George Clooney</td>\n",
       "      <td>Frances McDormand</td>\n",
       "      <td>John Malkovich</td>\n",
       "      <td>Brad Pitt</td>\n",
       "      <td>Tilda Swinton</td>\n",
       "      <td>http://www.imdb.com/title/tt0887883/</td>\n",
       "      <td>//www.rottentomatoes.com/m/burn_after_reading/</td>\n",
       "    </tr>\n",
       "    <tr>\n",
       "      <th>16</th>\n",
       "      <td>The Doors</td>\n",
       "      <td>Feature Film</td>\n",
       "      <td>Drama</td>\n",
       "      <td>140.0</td>\n",
       "      <td>R</td>\n",
       "      <td>Sony Pictures Home Entertainment</td>\n",
       "      <td>1991.0</td>\n",
       "      <td>3.0</td>\n",
       "      <td>1.0</td>\n",
       "      <td>1997.0</td>\n",
       "      <td>...</td>\n",
       "      <td>yes</td>\n",
       "      <td>no</td>\n",
       "      <td>Oliver Stone</td>\n",
       "      <td>Val Kilmer</td>\n",
       "      <td>Meg Ryan</td>\n",
       "      <td>Kevin Dillon</td>\n",
       "      <td>Kyle MacLachlan</td>\n",
       "      <td>Frank Whaley</td>\n",
       "      <td>http://www.imdb.com/title/tt0101761/</td>\n",
       "      <td>//www.rottentomatoes.com/m/doors/</td>\n",
       "    </tr>\n",
       "    <tr>\n",
       "      <th>17</th>\n",
       "      <td>The Wood</td>\n",
       "      <td>Feature Film</td>\n",
       "      <td>Drama</td>\n",
       "      <td>106.0</td>\n",
       "      <td>R</td>\n",
       "      <td>Paramount Pictures</td>\n",
       "      <td>1999.0</td>\n",
       "      <td>7.0</td>\n",
       "      <td>16.0</td>\n",
       "      <td>2000.0</td>\n",
       "      <td>...</td>\n",
       "      <td>no</td>\n",
       "      <td>no</td>\n",
       "      <td>Rick Famuyiwa</td>\n",
       "      <td>Omar Epps</td>\n",
       "      <td>Sean Nelson</td>\n",
       "      <td>Taye Diggs</td>\n",
       "      <td>Trent Cameron</td>\n",
       "      <td>Richard T. Jones</td>\n",
       "      <td>http://www.imdb.com/title/tt0161100/</td>\n",
       "      <td>//www.rottentomatoes.com/m/wood/</td>\n",
       "    </tr>\n",
       "    <tr>\n",
       "      <th>18</th>\n",
       "      <td>Jason X</td>\n",
       "      <td>Feature Film</td>\n",
       "      <td>Horror</td>\n",
       "      <td>91.0</td>\n",
       "      <td>R</td>\n",
       "      <td>New Line Cinema</td>\n",
       "      <td>2002.0</td>\n",
       "      <td>4.0</td>\n",
       "      <td>26.0</td>\n",
       "      <td>2004.0</td>\n",
       "      <td>...</td>\n",
       "      <td>no</td>\n",
       "      <td>no</td>\n",
       "      <td>James Isaac</td>\n",
       "      <td>Kane Hodder</td>\n",
       "      <td>Lexa Doig</td>\n",
       "      <td>Lisa Ryder</td>\n",
       "      <td>Chuck Campbell</td>\n",
       "      <td>Jonathan Potts</td>\n",
       "      <td>http://www.imdb.com/title/tt0211443/</td>\n",
       "      <td>//www.rottentomatoes.com/m/jason_x/</td>\n",
       "    </tr>\n",
       "    <tr>\n",
       "      <th>19</th>\n",
       "      <td>Dragon Wars</td>\n",
       "      <td>Feature Film</td>\n",
       "      <td>Drama</td>\n",
       "      <td>90.0</td>\n",
       "      <td>PG-13</td>\n",
       "      <td>Sony Pictures Home Entertainment</td>\n",
       "      <td>2007.0</td>\n",
       "      <td>9.0</td>\n",
       "      <td>13.0</td>\n",
       "      <td>2008.0</td>\n",
       "      <td>...</td>\n",
       "      <td>no</td>\n",
       "      <td>no</td>\n",
       "      <td>Hyung-rae Shim</td>\n",
       "      <td>Jason Behr</td>\n",
       "      <td>Amanda Brooks</td>\n",
       "      <td>Robert Forster</td>\n",
       "      <td>Aimee Garcia</td>\n",
       "      <td>Craig Robinson</td>\n",
       "      <td>http://www.imdb.com/title/tt0372873/</td>\n",
       "      <td>//www.rottentomatoes.com/m/dragon_wars/</td>\n",
       "    </tr>\n",
       "  </tbody>\n",
       "</table>\n",
       "<p>20 rows × 32 columns</p>\n",
       "</div>"
      ],
      "text/plain": [
       "                     title    title_type               genre  runtime  \\\n",
       "0              Filly Brown  Feature Film               Drama     80.0   \n",
       "1                 The Dish  Feature Film               Drama    101.0   \n",
       "2      Waiting for Guffman  Feature Film              Comedy     84.0   \n",
       "3     The Age of Innocence  Feature Film               Drama    139.0   \n",
       "4              Malevolence  Feature Film              Horror     90.0   \n",
       "5              Old Partner   Documentary         Documentary     78.0   \n",
       "6                Lady Jane  Feature Film               Drama    142.0   \n",
       "7             Mad Dog Time  Feature Film               Drama     93.0   \n",
       "8   Beauty Is Embarrassing   Documentary         Documentary     88.0   \n",
       "9     The Snowtown Murders  Feature Film               Drama    119.0   \n",
       "10             Superman II  Feature Film  Action & Adventure    127.0   \n",
       "11           Leap of Faith  Feature Film               Drama    108.0   \n",
       "12    The Royal Tenenbaums  Feature Film              Comedy    110.0   \n",
       "13   School for Scoundrels  Feature Film              Comedy    100.0   \n",
       "14              Rhinestone  Feature Film              Comedy    111.0   \n",
       "15      Burn After Reading  Feature Film               Drama     96.0   \n",
       "16               The Doors  Feature Film               Drama    140.0   \n",
       "17                The Wood  Feature Film               Drama    106.0   \n",
       "18                 Jason X  Feature Film              Horror     91.0   \n",
       "19             Dragon Wars  Feature Film               Drama     90.0   \n",
       "\n",
       "   mpaa_rating                            studio  thtr_rel_year  \\\n",
       "0            R               Indomina Media Inc.         2013.0   \n",
       "1        PG-13             Warner Bros. Pictures         2001.0   \n",
       "2            R            Sony Pictures Classics         1996.0   \n",
       "3           PG                 Columbia Pictures         1993.0   \n",
       "4            R          Anchor Bay Entertainment         2004.0   \n",
       "5      Unrated                Shcalo Media Group         2009.0   \n",
       "6        PG-13              Paramount Home Video         1986.0   \n",
       "7            R                MGM/United Artists         1996.0   \n",
       "8      Unrated              Independent Pictures         2012.0   \n",
       "9      Unrated                         IFC Films         2012.0   \n",
       "10          PG             Warner Bros. Pictures         1981.0   \n",
       "11       PG-13              Paramount Home Video         1992.0   \n",
       "12           R    Buena Vista Distribution Compa         2002.0   \n",
       "13       PG-13                               MGM         2006.0   \n",
       "14          PG                  20th Century Fox         1984.0   \n",
       "15           R                    Focus Features         2008.0   \n",
       "16           R  Sony Pictures Home Entertainment         1991.0   \n",
       "17           R                Paramount Pictures         1999.0   \n",
       "18           R                   New Line Cinema         2002.0   \n",
       "19       PG-13  Sony Pictures Home Entertainment         2007.0   \n",
       "\n",
       "    thtr_rel_month  thtr_rel_day  dvd_rel_year  ...  best_dir_win  top200_box  \\\n",
       "0              4.0          19.0        2013.0  ...            no          no   \n",
       "1              3.0          14.0        2001.0  ...            no          no   \n",
       "2              8.0          21.0        2001.0  ...            no          no   \n",
       "3             10.0           1.0        2001.0  ...           yes          no   \n",
       "4              9.0          10.0        2005.0  ...            no          no   \n",
       "5              1.0          15.0        2010.0  ...            no          no   \n",
       "6              1.0           1.0        2003.0  ...            no          no   \n",
       "7             11.0           8.0        2004.0  ...            no          no   \n",
       "8              9.0           7.0        2013.0  ...            no          no   \n",
       "9              3.0           2.0        2012.0  ...            no          no   \n",
       "10             6.0          19.0        2001.0  ...            no         yes   \n",
       "11            12.0          18.0        2003.0  ...            no          no   \n",
       "12             1.0           4.0        2002.0  ...            no          no   \n",
       "13             9.0          23.0        2007.0  ...            no          no   \n",
       "14             6.0          20.0        2005.0  ...            no          no   \n",
       "15             8.0          27.0        2008.0  ...           yes          no   \n",
       "16             3.0           1.0        1997.0  ...           yes          no   \n",
       "17             7.0          16.0        2000.0  ...            no          no   \n",
       "18             4.0          26.0        2004.0  ...            no          no   \n",
       "19             9.0          13.0        2008.0  ...            no          no   \n",
       "\n",
       "             director              actor1              actor2  \\\n",
       "0    Michael D. Olmos      Gina Rodriguez        Jenni Rivera   \n",
       "1           Rob Sitch           Sam Neill    Kevin Harrington   \n",
       "2   Christopher Guest   Christopher Guest    Catherine O'Hara   \n",
       "3     Martin Scorsese    Daniel Day-Lewis   Michelle Pfeiffer   \n",
       "4         Stevan Mena       Samantha Dark  R. Brandon Johnson   \n",
       "5     Chung-ryoul Lee       Choi Won-kyun        Lee Sam-soon   \n",
       "6         Trevor Nunn          Cary Elwes           John Wood   \n",
       "7        Larry Bishop    Richard Dreyfuss       Jeff Goldblum   \n",
       "8       Neil Berkeley        Paul Reubens       Matt Groening   \n",
       "9       Justin Kurzel      Lucas Pittaway     Daniel Henshall   \n",
       "10     Richard Lester   Christopher Reeve        Gene Hackman   \n",
       "11     Richard Pearce        Steve Martin        Debra Winger   \n",
       "12       Wes Anderson        Gene Hackman     Anjelica Huston   \n",
       "13      Todd Phillips  Billy Bob Thornton           Jon Heder   \n",
       "14    Bob Clark (III)        Dolly Parton  Sylvester Stallone   \n",
       "15          Joel Coen      George Clooney   Frances McDormand   \n",
       "16       Oliver Stone          Val Kilmer            Meg Ryan   \n",
       "17      Rick Famuyiwa           Omar Epps         Sean Nelson   \n",
       "18        James Isaac         Kane Hodder           Lexa Doig   \n",
       "19     Hyung-rae Shim          Jason Behr       Amanda Brooks   \n",
       "\n",
       "                  actor3                 actor4                actor5  \\\n",
       "0   Lou Diamond Phillips          Emilio Rivera   Joseph Julian Soria   \n",
       "1      Patrick Warburton               Tom Long        Genevieve Mooy   \n",
       "2           Parker Posey            Eugene Levy           Bob Balaban   \n",
       "3           Winona Ryder       Richard E. Grant          Alec McCowen   \n",
       "4        Brandon Johnson          Heather Magee        Richard Glover   \n",
       "5                    Moo                    NaN                   NaN   \n",
       "6        Michael Hordern        Jill Bennett II  Helena Bonham Carter   \n",
       "7          Gabriel Byrne           Ellen Barkin            Diane Lane   \n",
       "8            Todd Oldham        Jonathan Dayton        Cliff Benjamin   \n",
       "9          Louise Harris            Craig Coyne         Richard Green   \n",
       "10         Margot Kidder             Ned Beatty         Jackie Cooper   \n",
       "11     Lolita Davidovich            Liam Neeson            Lukas Haas   \n",
       "12       Gwyneth Paltrow            Ben Stiller           Luke Wilson   \n",
       "13       Jacinda Barrett  Michael Clarke Duncan          Horatio Sanz   \n",
       "14    Richard Farnsworth            Ron Leibman         Tim Thomerson   \n",
       "15        John Malkovich              Brad Pitt         Tilda Swinton   \n",
       "16          Kevin Dillon        Kyle MacLachlan          Frank Whaley   \n",
       "17            Taye Diggs          Trent Cameron      Richard T. Jones   \n",
       "18            Lisa Ryder         Chuck Campbell        Jonathan Potts   \n",
       "19        Robert Forster           Aimee Garcia        Craig Robinson   \n",
       "\n",
       "                                imdb_url  \\\n",
       "0   http://www.imdb.com/title/tt1869425/   \n",
       "1   http://www.imdb.com/title/tt0205873/   \n",
       "2   http://www.imdb.com/title/tt0118111/   \n",
       "3   http://www.imdb.com/title/tt0106226/   \n",
       "4   http://www.imdb.com/title/tt0388230/   \n",
       "5   http://www.imdb.com/title/tt1334549/   \n",
       "6   http://www.imdb.com/title/tt0091374/   \n",
       "7   http://www.imdb.com/title/tt0116953/   \n",
       "8   http://www.imdb.com/title/tt2040281/   \n",
       "9   http://www.imdb.com/title/tt1680114/   \n",
       "10  http://www.imdb.com/title/tt0081573/   \n",
       "11  http://www.imdb.com/title/tt0104695/   \n",
       "12  http://www.imdb.com/title/tt0265666/   \n",
       "13  http://www.imdb.com/title/tt0462519/   \n",
       "14  http://www.imdb.com/title/tt0088001/   \n",
       "15  http://www.imdb.com/title/tt0887883/   \n",
       "16  http://www.imdb.com/title/tt0101761/   \n",
       "17  http://www.imdb.com/title/tt0161100/   \n",
       "18  http://www.imdb.com/title/tt0211443/   \n",
       "19  http://www.imdb.com/title/tt0372873/   \n",
       "\n",
       "                                               rt_url  \n",
       "0        //www.rottentomatoes.com/m/filly_brown_2012/  \n",
       "1                    //www.rottentomatoes.com/m/dish/  \n",
       "2     //www.rottentomatoes.com/m/waiting_for_guffman/  \n",
       "3        //www.rottentomatoes.com/m/age_of_innocence/  \n",
       "4    //www.rottentomatoes.com/m/10004684-malevolence/  \n",
       "5             //www.rottentomatoes.com/m/old-partner/  \n",
       "6               //www.rottentomatoes.com/m/lady_jane/  \n",
       "7            //www.rottentomatoes.com/m/mad_dog_time/  \n",
       "8   //www.rottentomatoes.com/m/beauty_is_embarrass...  \n",
       "9    //www.rottentomatoes.com/m/the_snowtown_murders/  \n",
       "10            //www.rottentomatoes.com/m/superman_ii/  \n",
       "11  //www.rottentomatoes.com/m/1042059-leap_of_faith/  \n",
       "12   //www.rottentomatoes.com/m/the_royal_tenenbaums/  \n",
       "13  //www.rottentomatoes.com/m/school_for_scoundrels/  \n",
       "14             //www.rottentomatoes.com/m/rhinestone/  \n",
       "15     //www.rottentomatoes.com/m/burn_after_reading/  \n",
       "16                  //www.rottentomatoes.com/m/doors/  \n",
       "17                   //www.rottentomatoes.com/m/wood/  \n",
       "18                //www.rottentomatoes.com/m/jason_x/  \n",
       "19            //www.rottentomatoes.com/m/dragon_wars/  \n",
       "\n",
       "[20 rows x 32 columns]"
      ]
     },
     "execution_count": 28,
     "metadata": {},
     "output_type": "execute_result"
    }
   ],
   "source": [
    "movies_df = pd.read_csv('data_files/movies.csv')\n",
    "movies_df.head(20)"
   ]
  },
  {
   "cell_type": "code",
   "execution_count": 29,
   "metadata": {},
   "outputs": [
    {
     "data": {
      "text/html": [
       "<pre style=\"white-space:pre;overflow-x:auto;line-height:normal;font-family:Menlo,'DejaVu Sans Mono',consolas,'Courier New',monospace\"><span style=\"color: #800080; text-decoration-color: #800080; font-weight: bold\">Index</span><span style=\"font-weight: bold\">([</span><span style=\"color: #008000; text-decoration-color: #008000\">'title'</span>, <span style=\"color: #008000; text-decoration-color: #008000\">'title_type'</span>, <span style=\"color: #008000; text-decoration-color: #008000\">'genre'</span>, <span style=\"color: #008000; text-decoration-color: #008000\">'runtime'</span>, <span style=\"color: #008000; text-decoration-color: #008000\">'mpaa_rating'</span>, <span style=\"color: #008000; text-decoration-color: #008000\">'studio'</span>,\n",
       "       <span style=\"color: #008000; text-decoration-color: #008000\">'thtr_rel_year'</span>, <span style=\"color: #008000; text-decoration-color: #008000\">'thtr_rel_month'</span>, <span style=\"color: #008000; text-decoration-color: #008000\">'thtr_rel_day'</span>, <span style=\"color: #008000; text-decoration-color: #008000\">'dvd_rel_year'</span>,\n",
       "       <span style=\"color: #008000; text-decoration-color: #008000\">'dvd_rel_month'</span>, <span style=\"color: #008000; text-decoration-color: #008000\">'dvd_rel_day'</span>, <span style=\"color: #008000; text-decoration-color: #008000\">'imdb_rating'</span>, <span style=\"color: #008000; text-decoration-color: #008000\">'imdb_num_votes'</span>,\n",
       "       <span style=\"color: #008000; text-decoration-color: #008000\">'critics_rating'</span>, <span style=\"color: #008000; text-decoration-color: #008000\">'critics_score'</span>, <span style=\"color: #008000; text-decoration-color: #008000\">'audience_rating'</span>, <span style=\"color: #008000; text-decoration-color: #008000\">'audience_score'</span>,\n",
       "       <span style=\"color: #008000; text-decoration-color: #008000\">'best_pic_nom'</span>, <span style=\"color: #008000; text-decoration-color: #008000\">'best_pic_win'</span>, <span style=\"color: #008000; text-decoration-color: #008000\">'best_actor_win'</span>, <span style=\"color: #008000; text-decoration-color: #008000\">'best_actress_win'</span>,\n",
       "       <span style=\"color: #008000; text-decoration-color: #008000\">'best_dir_win'</span>, <span style=\"color: #008000; text-decoration-color: #008000\">'top200_box'</span>, <span style=\"color: #008000; text-decoration-color: #008000\">'director'</span>, <span style=\"color: #008000; text-decoration-color: #008000\">'actor1'</span>, <span style=\"color: #008000; text-decoration-color: #008000\">'actor2'</span>, <span style=\"color: #008000; text-decoration-color: #008000\">'actor3'</span>,\n",
       "       <span style=\"color: #008000; text-decoration-color: #008000\">'actor4'</span>, <span style=\"color: #008000; text-decoration-color: #008000\">'actor5'</span>, <span style=\"color: #008000; text-decoration-color: #008000\">'imdb_url'</span>, <span style=\"color: #008000; text-decoration-color: #008000\">'rt_url'</span><span style=\"font-weight: bold\">]</span>,\n",
       "      <span style=\"color: #808000; text-decoration-color: #808000\">dtype</span>=<span style=\"color: #008000; text-decoration-color: #008000\">'object'</span><span style=\"font-weight: bold\">)</span>\n",
       "</pre>\n"
      ],
      "text/plain": [
       "\u001b[1;35mIndex\u001b[0m\u001b[1m(\u001b[0m\u001b[1m[\u001b[0m\u001b[32m'title'\u001b[0m, \u001b[32m'title_type'\u001b[0m, \u001b[32m'genre'\u001b[0m, \u001b[32m'runtime'\u001b[0m, \u001b[32m'mpaa_rating'\u001b[0m, \u001b[32m'studio'\u001b[0m,\n",
       "       \u001b[32m'thtr_rel_year'\u001b[0m, \u001b[32m'thtr_rel_month'\u001b[0m, \u001b[32m'thtr_rel_day'\u001b[0m, \u001b[32m'dvd_rel_year'\u001b[0m,\n",
       "       \u001b[32m'dvd_rel_month'\u001b[0m, \u001b[32m'dvd_rel_day'\u001b[0m, \u001b[32m'imdb_rating'\u001b[0m, \u001b[32m'imdb_num_votes'\u001b[0m,\n",
       "       \u001b[32m'critics_rating'\u001b[0m, \u001b[32m'critics_score'\u001b[0m, \u001b[32m'audience_rating'\u001b[0m, \u001b[32m'audience_score'\u001b[0m,\n",
       "       \u001b[32m'best_pic_nom'\u001b[0m, \u001b[32m'best_pic_win'\u001b[0m, \u001b[32m'best_actor_win'\u001b[0m, \u001b[32m'best_actress_win'\u001b[0m,\n",
       "       \u001b[32m'best_dir_win'\u001b[0m, \u001b[32m'top200_box'\u001b[0m, \u001b[32m'director'\u001b[0m, \u001b[32m'actor1'\u001b[0m, \u001b[32m'actor2'\u001b[0m, \u001b[32m'actor3'\u001b[0m,\n",
       "       \u001b[32m'actor4'\u001b[0m, \u001b[32m'actor5'\u001b[0m, \u001b[32m'imdb_url'\u001b[0m, \u001b[32m'rt_url'\u001b[0m\u001b[1m]\u001b[0m,\n",
       "      \u001b[33mdtype\u001b[0m=\u001b[32m'object'\u001b[0m\u001b[1m)\u001b[0m\n"
      ]
     },
     "metadata": {},
     "output_type": "display_data"
    },
    {
     "data": {
      "text/html": [
       "<pre style=\"white-space:pre;overflow-x:auto;line-height:normal;font-family:Menlo,'DejaVu Sans Mono',consolas,'Courier New',monospace\"><span style=\"color: #008080; text-decoration-color: #008080; font-weight: bold\">32</span>\n",
       "</pre>\n"
      ],
      "text/plain": [
       "\u001b[1;36m32\u001b[0m\n"
      ]
     },
     "metadata": {},
     "output_type": "display_data"
    }
   ],
   "source": [
    "print(movies_df.columns)\n",
    "print(len(movies_df.columns))"
   ]
  },
  {
   "cell_type": "code",
   "execution_count": 30,
   "metadata": {},
   "outputs": [
    {
     "data": {
      "text/html": [
       "<pre style=\"white-space:pre;overflow-x:auto;line-height:normal;font-family:Menlo,'DejaVu Sans Mono',consolas,'Courier New',monospace\">The movies in this dataset were released between <span style=\"color: #008080; text-decoration-color: #008080; font-weight: bold\">1970.0</span> and <span style=\"color: #008080; text-decoration-color: #008080; font-weight: bold\">2014.0</span>\n",
       "</pre>\n"
      ],
      "text/plain": [
       "The movies in this dataset were released between \u001b[1;36m1970.0\u001b[0m and \u001b[1;36m2014.0\u001b[0m\n"
      ]
     },
     "metadata": {},
     "output_type": "display_data"
    }
   ],
   "source": [
    "print('The movies in this dataset were released between', movies_df.thtr_rel_year.min(), \n",
    "      'and', movies_df.thtr_rel_year.max())"
   ]
  },
  {
   "cell_type": "markdown",
   "metadata": {},
   "source": [
    "How many top-200 box office films are on this list?"
   ]
  },
  {
   "cell_type": "code",
   "execution_count": 31,
   "metadata": {},
   "outputs": [
    {
     "data": {
      "text/plain": [
       "480"
      ]
     },
     "execution_count": 31,
     "metadata": {},
     "output_type": "execute_result"
    }
   ],
   "source": [
    "movies_df[movies_df.top200_box == 'yes'].size"
   ]
  },
  {
   "cell_type": "markdown",
   "metadata": {},
   "source": [
    "What are the different film ratings represented in the dataset?"
   ]
  },
  {
   "cell_type": "code",
   "execution_count": 32,
   "metadata": {},
   "outputs": [
    {
     "data": {
      "text/plain": [
       "array(['R', 'PG-13', 'PG', 'Unrated', 'G', 'NC-17'], dtype=object)"
      ]
     },
     "execution_count": 32,
     "metadata": {},
     "output_type": "execute_result"
    }
   ],
   "source": [
    "movies_df.mpaa_rating.unique()"
   ]
  },
  {
   "cell_type": "markdown",
   "metadata": {},
   "source": [
    "Oooh, interesting!  What NC-17 movies are on the list? (Asking for a friend...)"
   ]
  },
  {
   "cell_type": "code",
   "execution_count": 33,
   "metadata": {},
   "outputs": [
    {
     "data": {
      "text/plain": [
       "287    Henry: Portrait of a Serial Killer\n",
       "401                               Inserts\n",
       "Name: title, dtype: object"
      ]
     },
     "execution_count": 33,
     "metadata": {},
     "output_type": "execute_result"
    }
   ],
   "source": [
    "movies_df[movies_df.mpaa_rating == 'NC-17'].title"
   ]
  },
  {
   "cell_type": "markdown",
   "metadata": {},
   "source": [
    "Wait, what about Unrated films?  What the heck is an Unrated film?  When were these things released?"
   ]
  },
  {
   "cell_type": "code",
   "execution_count": 34,
   "metadata": {},
   "outputs": [
    {
     "data": {
      "image/png": "[encoded data removed]",
      "text/plain": [
       "<Figure size 432x288 with 1 Axes>"
      ]
     },
     "metadata": {
      "filenames": {
       "image/png": "/Users/mmccracken/office_comp/sci_comp_book/scicomp_book/_build/jupyter_execute/chapters_ipynb/scicomp_09_pandas_67_0.png"
      }
     },
     "output_type": "display_data"
    }
   ],
   "source": [
    "unrated_df = movies_df[movies_df.mpaa_rating == 'Unrated']\n",
    "unrated_df.title.head(20)\n",
    "plt.hist(unrated_df.thtr_rel_year, bins=44, range=(1970, 2014))\n",
    "plt.show()"
   ]
  },
  {
   "cell_type": "markdown",
   "metadata": {},
   "source": [
    "Hmmmmm, weird!\n",
    "\n",
    "#### Warm-up problem\n",
    "\n",
    "Make a bar graph that shows the numbers of films with each rating?"
   ]
  },
  {
   "cell_type": "code",
   "execution_count": 35,
   "metadata": {},
   "outputs": [],
   "source": [
    "## warm-up code goes here"
   ]
  },
  {
   "cell_type": "markdown",
   "metadata": {},
   "source": [
    "***\n",
    "\n",
    "## Exporting to csv\n",
    "\n",
    "Note that we can also export a dataframe to several common filetypes.  Let's export our `menu_df` to csv:"
   ]
  },
  {
   "cell_type": "code",
   "execution_count": 36,
   "metadata": {},
   "outputs": [],
   "source": [
    "from datetime import date\n",
    "today = date.today()\n",
    "menu_df.to_csv('menu_dataframe_' + str(today) + '.csv')"
   ]
  },
  {
   "cell_type": "markdown",
   "metadata": {},
   "source": [
    "Take a peek to see if `python` created this file in your current working directory.\n",
    "\n",
    "The `pandas` river is wide AND DEEEEEEEEP.  There's a lot of useful functionality that we're not covering here.  If you're working on a data project and you think \"Ya know, it would be great if `pandas` could do XYZ\", chances are very good that `pandas` *does* do XYZ and documentation is just a Google away."
   ]
  },
  {
   "cell_type": "markdown",
   "metadata": {},
   "source": [
    "***\n",
    "\n",
    "## In summary\n",
    "\n",
    "What happened above was a somewhat involved intro to how Pandas structures `DataFrames` -- it's probably way more information than you will need for 95\\% of your work with tabular data.  Usually, we simply import a dataset as a `dataframe` and start calculating or plotting.  The problems below will give you an idea of the types of manipulations that we most often perform when doing data analysis.  Enjoy!\n",
    "\n",
    "***\n",
    "\n",
    "## Problems \n",
    "\n",
    "Your homework is to complete two (2) of the following problems.\n",
    "\n",
    "### Regulars\n",
    "\n",
    "1. Obtain the [TED Talks dataset from Kaggle](https://www.kaggle.com/datasets/ashishjangra27/ted-talks).  Make histograms of watches, likes, and likes per watch.  Find the title of the most 'under-appreciated' Talk.  (You determine what is meant by this.  What would be a good metric for under-appreciatedness?)\n",
    "1. Obtain the [Taxi trip data NYC](https://www.kaggle.com/datasets/anandaramg/taxi-trip-data-nyc) dataset.  Make histograms of trip duration (in minutes), trip distance (in miles), and average trip speed (in mph).  Make a scatter plot or 2-d histogram of trip duration vs trip distance.  Note that you'll have to do some significant parsing (processing of alphanumeric strings) of the information in the time columns to calculate the ride duration!\n",
    "\n",
    "### Meanies\n",
    "\n",
    "3. Obtain the [London bike sharing dataset](https://www.kaggle.com/datasets/hmavrodiev/london-bike-sharing-dataset).  Make a graph that shows number of shares (aggregated over all days in the dataset) *vs* hour of the day.  What is the peak bikeshare hour?  Make a graph that shows aggregate number of bikeshares *vs* temperature.  Are Londoners cold-weather wimps?"
   ]
  }
 ],
 "metadata": {
  "kernelspec": {
   "display_name": "Python 3 (ipykernel)",
   "language": "python",
   "name": "python3"
  },
  "language_info": {
   "codemirror_mode": {
    "name": "ipython",
    "version": 3
   },
   "file_extension": ".py",
   "mimetype": "text/x-python",
   "name": "python",
   "nbconvert_exporter": "python",
   "pygments_lexer": "ipython3",
   "version": "3.8.8"
  }
 },
 "nbformat": 4,
 "nbformat_minor": 4
}