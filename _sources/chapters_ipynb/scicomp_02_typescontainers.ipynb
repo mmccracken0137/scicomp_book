{
 "cells": [
  {
   "cell_type": "markdown",
   "metadata": {},
   "source": [
    "# Types, random numbers, lists, dictionaries"
   ]
  },
  {
   "cell_type": "markdown",
   "metadata": {},
   "source": [
    "### Recap\n",
    "\n",
    "Let's just take a moment to remind ourselves how far we've come.  Here are some of the many things that we know how to do already:\n",
    "- basic mathematical operations\n",
    "- function definition\n",
    "- iteration and recursion with loop control structures `for` and `while`\n",
    "- keeping track of variables outside of loops (i.e., counting and summing)\n",
    "- function definition and using function *inside* of loops\n",
    "- conditionals with `if`, `else`, and `elif`\n",
    "\n",
    "### Motivation\n",
    "\n",
    "I mentioned at the beginning of the class that one of the uses of computation in the physical sciences was for simulating experiments or apparatus that are prohibitively complicated.  It's important to note that studying a simulation is **not** the same as studying the \"real world\" -- the behavior of the simulation will depend on our current understanding of the laws that govern the real world, and these may not be correct!  Still, simulations are very useful for hypothesis testing.  To that end, check this out:\n",
    "- Cue evolution simulation code.  What hypotheses can we test? (Note: If you're not actually enrolled in the course, you won't get to see this!  The demo is similar-ish to David Randall Miller's work [here](https://www.youtube.com/watch?v=N3tRFayqVtk).  Very cool!"
   ]
  },
  {
   "cell_type": "markdown",
   "metadata": {},
   "source": [
    "### Types and casting\n",
    "\n",
    "When we use a computer to do a calculation, the quantities input and output quantities need to be stored/accessed by the computer.  **How** the computer does this depends on what **type** of quantity we're storing.  \"Type\" is an important concept in computer science.\n",
    "\n",
    "We have so far encountered a few different types of quantities that `python` know about:\n",
    "\n",
    "#### `int` --> Integers \n",
    "\n",
    "Integers can be signed (positive or negative (or 0))"
   ]
  },
  {
   "cell_type": "code",
   "execution_count": 1,
   "metadata": {},
   "outputs": [
    {
     "name": "stdout",
     "output_type": "stream",
     "text": [
      "4 -2 180753806735751753 -200000000000000000000000000000000000000000000000000000\n"
     ]
    }
   ],
   "source": [
    "a = 4\n",
    "b = -2\n",
    "c = 180753806735751753\n",
    "d = -200000000000000000000000000000000000000000000000000000\n",
    "print(a, b, c, d)"
   ]
  },
  {
   "cell_type": "markdown",
   "metadata": {},
   "source": [
    "#### `float` --> Floats \n",
    "\n",
    "Floats are real numbers.  They can be expressed in regular decimal form or in scientific notation."
   ]
  },
  {
   "cell_type": "code",
   "execution_count": 2,
   "metadata": {},
   "outputs": [
    {
     "name": "stdout",
     "output_type": "stream",
     "text": [
      "2.71828 -3.587353582636827e-05 -20000000000.0\n"
     ]
    }
   ],
   "source": [
    "e = 2.71828\n",
    "f = -358735.3582636827067923067236e-10\n",
    "g = -2.0e10\n",
    "print(e, f, g)"
   ]
  },
  {
   "cell_type": "markdown",
   "metadata": {},
   "source": [
    "#### `bool` --> Booleans \n",
    "\n",
    "Booleans are the outcomes of logical operations.  There are only two boolean values: `True` and `False`.  When we implement comparison operators, the outcomes are booleans."
   ]
  },
  {
   "cell_type": "code",
   "execution_count": 3,
   "metadata": {},
   "outputs": [
    {
     "name": "stdout",
     "output_type": "stream",
     "text": [
      "True False True\n"
     ]
    }
   ],
   "source": [
    "h = True\n",
    "i = False\n",
    "j = 1 == 1.00000000000000000001\n",
    "print(h, i, j)"
   ]
  },
  {
   "cell_type": "markdown",
   "metadata": {},
   "source": [
    "#### `string` --> Strings\n",
    "\n",
    "Strings are... um... strings of alphanumeric characters.  We've used strings a little bit in our `print` statements.  Strings are initialized with either quotes (`\"   \"`) or apostrophes (`'   '`)."
   ]
  },
  {
   "cell_type": "code",
   "execution_count": 4,
   "metadata": {},
   "outputs": [
    {
     "name": "stdout",
     "output_type": "stream",
     "text": [
      "Mikey likes bikes\n"
     ]
    }
   ],
   "source": [
    "k = \"Mikey\"\n",
    "m = 'likes'\n",
    "n = 'bikes'\n",
    "print(k, m, n)"
   ]
  },
  {
   "cell_type": "markdown",
   "metadata": {},
   "source": [
    "***\n",
    "\n",
    "There are several other data types in `python`, some of which we'll encounter later.\n",
    "\n",
    "You may wonder why this is necessary.  (Do you?)  There are two reasons why type is important:\n",
    "\n",
    "**First**, in order to make efficient use of memory, the computer stores/accesses different types of data differently.  For example, there is a maximum size real number that `python` can handle:"
   ]
  },
  {
   "cell_type": "code",
   "execution_count": 5,
   "metadata": {},
   "outputs": [
    {
     "name": "stdout",
     "output_type": "stream",
     "text": [
      "inf\n"
     ]
    }
   ],
   "source": [
    "a = 2.0e309\n",
    "print(a)"
   ]
  },
  {
   "cell_type": "markdown",
   "metadata": {},
   "source": [
    "Haha, oops.  This is less of an issue these days, as computer memory and speed are essentially infinitely larger than they were in the early days of computing.  \n",
    "\n",
    "**Second**, what types of operations can be done with a piece of data depend on what type of data it is!  Most programming languages have built-in rules that prevent you from doing something nonsensical.  For example, the following operations are allowed:"
   ]
  },
  {
   "cell_type": "code",
   "execution_count": 6,
   "metadata": {},
   "outputs": [
    {
     "name": "stdout",
     "output_type": "stream",
     "text": [
      "inf\n",
      "55751.40431320216\n",
      "Mikey bikes\n",
      "True\n"
     ]
    }
   ],
   "source": [
    "print(a + e)\n",
    "print(b / f)\n",
    "print(k + \" \" + n)\n",
    "print(h and j)"
   ]
  },
  {
   "cell_type": "markdown",
   "metadata": {},
   "source": [
    "The following is not.  Uncomment it, and give it a whirl!  Can you decypher what the error message?"
   ]
  },
  {
   "cell_type": "code",
   "execution_count": 7,
   "metadata": {},
   "outputs": [],
   "source": [
    "#a + k"
   ]
  },
  {
   "cell_type": "markdown",
   "metadata": {},
   "source": [
    "`python` handles all of this by treating each value as an instance of a *class*; we'll come to this much later on.\n",
    "\n",
    "***\n",
    "\n",
    "What about the following:"
   ]
  },
  {
   "cell_type": "code",
   "execution_count": 8,
   "metadata": {},
   "outputs": [
    {
     "name": "stdout",
     "output_type": "stream",
     "text": [
      "63\n"
     ]
    }
   ],
   "source": [
    "var1 = 62\n",
    "var2 = True\n",
    "print(var1 + var2)"
   ]
  },
  {
   "cell_type": "markdown",
   "metadata": {},
   "source": [
    "What the WHAT!?\n",
    "\n",
    "`python` is what's called a *dynamically typed* language, meaning that it/you can change the type of a variable on the fly.  So, when we ask `python` to add `var2` to an integer, `python` *interprets* `var2` in a way that seems reasonable to it.  In fact, most languages have this equivalence between the booleans and integers: `True` --> 1, `False` --> 0.\n",
    "\n",
    "Another consequence of dynamic typing is that if I initialize a variable as a certain type, the type can changed based on what I do with the variable.  Let's use the `type()` function to check the type of a variable:"
   ]
  },
  {
   "cell_type": "code",
   "execution_count": 9,
   "metadata": {},
   "outputs": [
    {
     "name": "stdout",
     "output_type": "stream",
     "text": [
      "2\n",
      "<class 'int'>\n",
      "2.1\n",
      "<class 'float'>\n"
     ]
    }
   ],
   "source": [
    "var3 = 2\n",
    "print(var3)\n",
    "print(type(var3))\n",
    "var3 = var3 + 0.1\n",
    "print(var3)\n",
    "print(type(var3))"
   ]
  },
  {
   "cell_type": "markdown",
   "metadata": {},
   "source": [
    "In most implementations, this feature of `python` allows us to be a bit careless/sloppy with quantities.  Yay!  But, there are instances where this sloppiness could cause problems.  Boo!\n",
    "\n",
    "One last feature having to do with types.  We can actively change the type of a quantity by *casting* it to another type.  We do this with functions named after the various types. There's a lot of interesting stuff that goes on behind the scenes when casting, but we'll ignore this for now.  Check these operations out:"
   ]
  },
  {
   "cell_type": "code",
   "execution_count": 10,
   "metadata": {},
   "outputs": [
    {
     "name": "stdout",
     "output_type": "stream",
     "text": [
      "432 432.0\n",
      "432 432\n",
      "432 True\n",
      "\n",
      "True 1\n",
      "True True\n",
      "True 1.0\n",
      "\n",
      "2.6835 2\n",
      "\n",
      "yowza\n"
     ]
    }
   ],
   "source": [
    "var4 = 432\n",
    "print(var4, float(var4))\n",
    "print(var4, str(var4))\n",
    "print(var4, bool(var4))\n",
    "print()\n",
    "\n",
    "var5 = True\n",
    "print(var5, int(var5))\n",
    "print(var5, str(var5))\n",
    "print(var5, float(var5))\n",
    "print()\n",
    "\n",
    "var6 = 2.6835\n",
    "print(var6, int(var6))\n",
    "print()\n",
    "\n",
    "var7 = \"yowza\"\n",
    "print(var7)\n",
    "#print(int(var7)) # this will fail... why???"
   ]
  },
  {
   "cell_type": "markdown",
   "metadata": {},
   "source": [
    "Note that casting a `float` to an `int` has a potentially useful behavior!\n",
    "\n",
    "### Random number generation\n",
    "\n",
    "Computing has allowed us to make amazing progress in the statistical sciences.  Generating large random or pseudo-random datasets to study is difficult.  In the old days, if I wanted to investigate the large-scale/statistical properties of something like a game of blackjack (you know, for cheating reasons), I had to actually *deal* many games of blackjack.  Ugh!  Gross.  That would take so much time!  With computers, I can generate millions of blackjack hands according to the deck properties and history with a bit of sly programming.  This hinges on a) the computer's ability to do loops and b) the computer's ability to generate random numbers.\n",
    "\n",
    "There are several Python libraries that provide random number generation.  We learned in Lesson 1 that a *library* is a bit of code that Python is able to use (almost like a book of extra knowledge), but that python doesn't pre-load.  In order to have access to the built-in stuff in the random number generation library, we need to tell Python to load it before we do any calculations.  \n",
    "\n",
    "This process is analogous to the way that humans work.  Pretend that you and I are going on a camping trip on which we'll need to defend ourselves from bears.  You'll need to learn the skills before we go.  You *are capable* of doing it, you just don't know *how* to do it yet.  SO!  Before we leave and start camping, I ask you to go to the library and read the book \"HOW TO DEFEND ONESELF FROM BEARS\" to load the knowledge into your brain/mind.  After you do that, I can call on you to execute many bear-defense strategies: run, jump, climb tree, bear headlock, play dead, *etc*.\n",
    "\n",
    "Okay enough goofing around.  Here's an example:"
   ]
  },
  {
   "cell_type": "code",
   "execution_count": 11,
   "metadata": {},
   "outputs": [
    {
     "name": "stdout",
     "output_type": "stream",
     "text": [
      "0.8659834743248962\n"
     ]
    }
   ],
   "source": [
    "import random as rand # this line adds the random \n",
    "                      # module and gives it a shorter handle \n",
    "\n",
    "a = rand.random()\n",
    "print(a)"
   ]
  },
  {
   "cell_type": "markdown",
   "metadata": {},
   "source": [
    "In the first line, I imported the `random` module and called it something shorter, `rand` (a nickname of sorts so that I don't have to type as much).  In the second line, I told python to access the `random()` function of `rand`.  This function evidently generates a random number.  Execute the above a few times to see how the random number varies.\n",
    "\n",
    "The random module has LOTS of features in addition to `random()`.  It's quite sophisticated.\n",
    "\n",
    "Let's put `random()` inside of a loop to generate a whole mess of numbers:"
   ]
  },
  {
   "cell_type": "code",
   "execution_count": 12,
   "metadata": {},
   "outputs": [
    {
     "name": "stdout",
     "output_type": "stream",
     "text": [
      "0.634240749126071\n",
      "0.061247462228035565\n",
      "0.7443723793261439\n",
      "0.27801746042887343\n",
      "0.041785968970077025\n",
      "0.9991598933548302\n",
      "0.6871797207462095\n",
      "0.558707510659925\n",
      "0.086542901981015\n",
      "0.4585731300031979\n",
      "0.13053893383001824\n",
      "0.618468882243851\n",
      "0.6732603692152126\n",
      "0.9470618520290862\n",
      "0.7093601281626571\n",
      "0.2277286257242035\n",
      "0.9185402801613305\n",
      "0.6682527513155068\n",
      "0.2154851316105869\n",
      "0.8497179672947667\n"
     ]
    }
   ],
   "source": [
    "for i in range(20):\n",
    "    num = rand.random()\n",
    "    print(num)"
   ]
  },
  {
   "cell_type": "markdown",
   "metadata": {},
   "source": [
    "It looks like every time we call `random()`, it generates a new number between 0 and 1.  Good to know.\n",
    "\n",
    "There are MANY ways to use this very simple tool.  One can transform the range of the numbers quite easily.  Here's a loop that prints 20 random numbers between -1 and 1:"
   ]
  },
  {
   "cell_type": "code",
   "execution_count": 13,
   "metadata": {},
   "outputs": [
    {
     "name": "stdout",
     "output_type": "stream",
     "text": [
      "-0.9474210543639228\n",
      "-0.3097080851608214\n",
      "-0.38930615980622196\n",
      "-0.07996850112863862\n",
      "0.2749037003659749\n",
      "-0.06348927457434805\n",
      "-0.6177135136984135\n",
      "0.40316984634493624\n",
      "0.7220070748591214\n",
      "-0.6643783901717253\n",
      "0.12288866640598584\n",
      "0.810855323954502\n",
      "0.18640764516612895\n",
      "0.29466168632828804\n",
      "0.14708436047896667\n",
      "0.062040207641528955\n",
      "0.7014982072940164\n",
      "0.10989517177269792\n",
      "-0.6840650448738452\n",
      "0.9133681211192923\n"
     ]
    }
   ],
   "source": [
    "for i in range(20):\n",
    "    rnum = rand.random()\n",
    "    new_num = 2.0*rnum - 1.0\n",
    "    print(new_num)"
   ]
  },
  {
   "cell_type": "markdown",
   "metadata": {},
   "source": [
    "Here's a snippet that writes a bunch of random points in two-dimensional space:"
   ]
  },
  {
   "cell_type": "code",
   "execution_count": 14,
   "metadata": {},
   "outputs": [
    {
     "name": "stdout",
     "output_type": "stream",
     "text": [
      "(0.2833079507152326, 0.7054188618030085)\n",
      "(0.4448580320855796, 0.42935323783616086)\n",
      "(0.7941812872816003, 0.09094426517369658)\n",
      "(0.057394759504439286, 0.2991717218681037)\n",
      "(0.7604048231860135, 0.9890858687255253)\n",
      "(0.31182156767504665, 0.7091352678470346)\n",
      "(0.8472099802270833, 0.14553674299877728)\n",
      "(0.6876703194665716, 0.0850999125368942)\n",
      "(0.4539271821602562, 0.9457000426176505)\n",
      "(0.17279681886747633, 0.5866668980620064)\n",
      "(0.9319691047056714, 0.8003406489542517)\n",
      "(0.8453246493950402, 0.6440337634160793)\n",
      "(0.4225423360848345, 0.6990392718416513)\n",
      "(0.18383677109343977, 0.976812685939119)\n",
      "(0.1588373035334859, 0.9105559917126209)\n",
      "(0.3868526107071454, 0.8330414252156031)\n",
      "(0.8560329410162282, 0.0922548493681763)\n",
      "(0.7422988140221766, 0.735276130640993)\n",
      "(0.710600959434762, 0.8602461739394961)\n",
      "(0.3419697234336835, 0.6450821373243122)\n"
     ]
    }
   ],
   "source": [
    "for i in range(20):\n",
    "    x = rand.random()\n",
    "    y = rand.random()\n",
    "    print(\"(\" + str(x) + \", \" + str(y) + \")\")"
   ]
  },
  {
   "cell_type": "markdown",
   "metadata": {},
   "source": [
    "One can also input random numbers into a function:"
   ]
  },
  {
   "cell_type": "code",
   "execution_count": 15,
   "metadata": {},
   "outputs": [
    {
     "name": "stdout",
     "output_type": "stream",
     "text": [
      "1.2513532595083117\n",
      "0.07942098737228509\n",
      "1.0830681067961647\n",
      "2.851493472927544\n",
      "0.8471786625670616\n",
      "2.595282544510427\n",
      "2.5672269151015095\n",
      "1.7388438214656183\n",
      "1.2521244503322846\n",
      "2.4171768266053\n",
      "2.5222369270654905\n",
      "0.6043899991899919\n",
      "2.4506451935356317\n",
      "1.9616363956724867\n",
      "0.1689605432754897\n",
      "0.7192521539679735\n",
      "1.3612902098693973\n",
      "0.12261567257061934\n",
      "0.5935084112640894\n",
      "0.7179090174468477\n"
     ]
    }
   ],
   "source": [
    "def parab(x):\n",
    "    return x**2 - 4*x + 3\n",
    "\n",
    "for i in range(20):\n",
    "    input_x = rand.random()\n",
    "    parab_value = parab(input_x)\n",
    "    print(parab_value)"
   ]
  },
  {
   "cell_type": "markdown",
   "metadata": {},
   "source": [
    "These tools may all seem pretty weak, but they are the foundations of powerful techniques.  Physicists use the same fundamental processes to do things like study the performance of nuclear reactors, model galaxies, and simulate protein folding.  Generating random numbers is quite useful in studying quantum mechanics, too!  You may know that quantum-mechanical processes are non-deterministic; the outcome of a measurement is randomly selected according to the probabilities of all of the possible outcomes.  Computing has arguably allowed us to learn much about QM than we would have otherwise.\n",
    "\n",
    "Random floats (remember what those are) are cool, but there are some systems that exhibit discrete behavior.  For example, if I wanted to write a random number generator to simulate you randomly choosing a card from a deck, I wouldn't want the outcome to be that you chose the 31.467459267th card.  That doesn't make sense.\n",
    "\n",
    "The random module has tools for generating random integers:"
   ]
  },
  {
   "cell_type": "code",
   "execution_count": 16,
   "metadata": {},
   "outputs": [
    {
     "data": {
      "text/plain": [
       "16"
      ]
     },
     "execution_count": 16,
     "metadata": {},
     "output_type": "execute_result"
    }
   ],
   "source": [
    "rand.randint(1,100)"
   ]
  },
  {
   "cell_type": "markdown",
   "metadata": {},
   "source": [
    "The above line generates a random integer between 1 and 100.  This is useful for many types of real-life decisions:\n",
    "\n",
    "Hey, python, how many kids whould I have:"
   ]
  },
  {
   "cell_type": "code",
   "execution_count": 17,
   "metadata": {},
   "outputs": [
    {
     "data": {
      "text/plain": [
       "93"
      ]
     },
     "execution_count": 17,
     "metadata": {},
     "output_type": "execute_result"
    }
   ],
   "source": [
    "rand.randint(1,100)"
   ]
  },
  {
   "cell_type": "markdown",
   "metadata": {},
   "source": [
    "Ummmmmmm, no.\n",
    "\n",
    "Hey, python, how many tacos should I eat tonight?"
   ]
  },
  {
   "cell_type": "code",
   "execution_count": 18,
   "metadata": {},
   "outputs": [
    {
     "data": {
      "text/plain": [
       "32"
      ]
     },
     "execution_count": 18,
     "metadata": {},
     "output_type": "execute_result"
    }
   ],
   "source": [
    "rand.randint(1,100)"
   ]
  },
  {
   "cell_type": "markdown",
   "metadata": {},
   "source": [
    "Sage advice.  Now you're talking.\n",
    "\n",
    "There are lots of other things that one can do with random numbers, but it's probably best to become acquainted with the simple code and then learn more once you have a need.  Let's do a warm-up problem to get the juices flowing.\n",
    "\n",
    "#### Warm-up problem\n",
    "Generate 100 random integers between 0 and 40 or 60 and 100 (i.e., omit any numbers between 41 and 59).  You'll probably need an if statement.  Make sure there are 100!\n"
   ]
  },
  {
   "cell_type": "code",
   "execution_count": 19,
   "metadata": {},
   "outputs": [],
   "source": [
    "# put your work in this cell!"
   ]
  },
  {
   "cell_type": "markdown",
   "metadata": {},
   "source": [
    "* * *\n",
    "\n",
    "### Lists\n",
    "\n",
    "Now that we've talked about **types** we can talk about **containers**.  Here's an analogy to motivate us:\n",
    "\n",
    "> An egg is a type of food.  There are many different containers that we can put eggs in: an egg carton, a box, your hand, a bookbag.  These containers could also be used for other types of food.  *E.g.* I could put raisins in an egg carton, a box, your hand, ...\n",
    "\n",
    "Most programming languages have containers for packaging collections of values.  \n",
    "\n",
    "Probably the most useful of these in `python` is the *list*.  A list is an ordered collection of objects.  In some ways, you can think about a list as a set (if you know about sets), or as a vector (if you know about vectors), with elements that are indexed by a number.\n",
    "\n",
    "NB: In many other languages, similar objects are called *arrays*.  You instructor may accidentally call pyhton lists \"arrays\".  We'll encounter python arrays soon, and you'll see the differences.\n",
    "\n",
    "The most basic way to initialize a list is the following:"
   ]
  },
  {
   "cell_type": "code",
   "execution_count": 20,
   "metadata": {},
   "outputs": [],
   "source": [
    "primes_lt20 = [2, 3, 5, 7, 11, 13, 17, 19]"
   ]
  },
  {
   "cell_type": "markdown",
   "metadata": {},
   "source": [
    "Lists are a big deal in python, and the language offers many ways to work with and manipulate them.  First, we can access an individual element of a list by specifying its index number:"
   ]
  },
  {
   "cell_type": "code",
   "execution_count": 21,
   "metadata": {},
   "outputs": [
    {
     "data": {
      "text/plain": [
       "11"
      ]
     },
     "execution_count": 21,
     "metadata": {},
     "output_type": "execute_result"
    }
   ],
   "source": [
    "primes_lt20[4]"
   ]
  },
  {
   "cell_type": "markdown",
   "metadata": {},
   "source": [
    "This might look a little weird... after all, the 4th element of the list is 7 (7 is the 4th prime number).\n",
    "\n",
    "The reason that this returns the fifth element in the list is that python is a \"zero-indexed language\", meaning that the indices of list elements begin with 0.  \n",
    "\n",
    "Check this out:"
   ]
  },
  {
   "cell_type": "code",
   "execution_count": 22,
   "metadata": {},
   "outputs": [
    {
     "data": {
      "text/plain": [
       "2"
      ]
     },
     "execution_count": 22,
     "metadata": {},
     "output_type": "execute_result"
    }
   ],
   "source": [
    "primes_lt20[0]"
   ]
  },
  {
   "cell_type": "markdown",
   "metadata": {},
   "source": [
    "OH *OKAY!*  This is one of those rules that is hard to internalize.  The indices just begin with 0 in python (and most other modern languages).\n",
    "\n",
    "We can check the length of the list:"
   ]
  },
  {
   "cell_type": "code",
   "execution_count": 23,
   "metadata": {},
   "outputs": [
    {
     "data": {
      "text/plain": [
       "8"
      ]
     },
     "execution_count": 23,
     "metadata": {},
     "output_type": "execute_result"
    }
   ],
   "source": [
    "len(primes_lt20)"
   ]
  },
  {
   "cell_type": "markdown",
   "metadata": {},
   "source": [
    "There are also a bunch of things that we can do with the index notation:"
   ]
  },
  {
   "cell_type": "code",
   "execution_count": 24,
   "metadata": {},
   "outputs": [
    {
     "data": {
      "text/plain": [
       "[2, 3, 5]"
      ]
     },
     "execution_count": 24,
     "metadata": {},
     "output_type": "execute_result"
    }
   ],
   "source": [
    "primes_lt20[0:3]"
   ]
  },
  {
   "cell_type": "markdown",
   "metadata": {},
   "source": [
    "The call above returns a new list that is a subset of the original list that takes the 3 elements beginning at element 0.\n",
    "\n",
    "You can also get the last element in the list by using the index -1:"
   ]
  },
  {
   "cell_type": "code",
   "execution_count": 25,
   "metadata": {},
   "outputs": [
    {
     "data": {
      "text/plain": [
       "19"
      ]
     },
     "execution_count": 25,
     "metadata": {},
     "output_type": "execute_result"
    }
   ],
   "source": [
    "primes_lt20[-1]"
   ]
  },
  {
   "cell_type": "markdown",
   "metadata": {},
   "source": [
    "From here, you can get creative."
   ]
  },
  {
   "cell_type": "code",
   "execution_count": 26,
   "metadata": {},
   "outputs": [
    {
     "data": {
      "text/plain": [
       "13"
      ]
     },
     "execution_count": 26,
     "metadata": {},
     "output_type": "execute_result"
    }
   ],
   "source": [
    "primes_lt20[-3]"
   ]
  },
  {
   "cell_type": "markdown",
   "metadata": {},
   "source": [
    "We can also add to (append, insert) or remove from (pop, remove) a list:"
   ]
  },
  {
   "cell_type": "code",
   "execution_count": 27,
   "metadata": {},
   "outputs": [
    {
     "name": "stdout",
     "output_type": "stream",
     "text": [
      "[2, 3, 5, 7, 11, 13, 17, 19]\n",
      "[2, 3, 5, 7, 11, 13, 17, 19, 23]\n"
     ]
    }
   ],
   "source": [
    "print(primes_lt20)\n",
    "primes_lt20.append(23)\n",
    "print(primes_lt20)"
   ]
  },
  {
   "cell_type": "code",
   "execution_count": 28,
   "metadata": {},
   "outputs": [
    {
     "name": "stdout",
     "output_type": "stream",
     "text": [
      "[2, 3, 5, 7, 11, 13, 17, 19, 23]\n",
      "[2, 3, 5, 301, 7, 11, 13, 17, 19, 23]\n"
     ]
    }
   ],
   "source": [
    "print(primes_lt20)\n",
    "primes_lt20.insert(3,301)\n",
    "print(primes_lt20)"
   ]
  },
  {
   "cell_type": "code",
   "execution_count": 29,
   "metadata": {},
   "outputs": [
    {
     "name": "stdout",
     "output_type": "stream",
     "text": [
      "[2, 3, 5, 301, 7, 11, 13, 17, 19, 23]\n",
      "[2, 3, 5, 7, 11, 13, 17, 19, 23]\n"
     ]
    }
   ],
   "source": [
    "print(primes_lt20)\n",
    "primes_lt20.pop(3)\n",
    "print(primes_lt20)"
   ]
  },
  {
   "cell_type": "code",
   "execution_count": 30,
   "metadata": {},
   "outputs": [
    {
     "name": "stdout",
     "output_type": "stream",
     "text": [
      "[2, 3, 5, 7, 11, 13, 17, 19, 23]\n",
      "[2, 3, 5, 7, 11, 13, 17, 19]\n"
     ]
    }
   ],
   "source": [
    "print(primes_lt20)\n",
    "primes_lt20.pop()\n",
    "print(primes_lt20)"
   ]
  },
  {
   "cell_type": "code",
   "execution_count": 31,
   "metadata": {},
   "outputs": [
    {
     "name": "stdout",
     "output_type": "stream",
     "text": [
      "[2, 3, 5, 7, 11, 13, 17, 19]\n",
      "[2, 3, 5, 7, 13, 17, 19]\n"
     ]
    }
   ],
   "source": [
    "print(primes_lt20)\n",
    "primes_lt20.remove(11)\n",
    "print(primes_lt20)"
   ]
  },
  {
   "cell_type": "markdown",
   "metadata": {},
   "source": [
    "That last one is a little funky.  `remove(n)` removes the first element in a list that matches `n`.\n",
    "\n",
    "***\n",
    "\n",
    "Lists have all kinds of cool methods -- functions or behviors that are inherent to lists.  For example, we can loop over the elements in a list using `for`:"
   ]
  },
  {
   "cell_type": "code",
   "execution_count": 32,
   "metadata": {},
   "outputs": [
    {
     "name": "stdout",
     "output_type": "stream",
     "text": [
      "2 False\n",
      "3 False\n",
      "5 False\n",
      "7 False\n",
      "13 True\n",
      "17 False\n",
      "19 False\n"
     ]
    }
   ],
   "source": [
    "for num in primes_lt20:\n",
    "    print(num, num == 13)"
   ]
  },
  {
   "cell_type": "markdown",
   "metadata": {},
   "source": [
    "We can ask `python` whether a value appears in a list:"
   ]
  },
  {
   "cell_type": "code",
   "execution_count": 33,
   "metadata": {},
   "outputs": [
    {
     "data": {
      "text/plain": [
       "True"
      ]
     },
     "execution_count": 33,
     "metadata": {},
     "output_type": "execute_result"
    }
   ],
   "source": [
    "13 in primes_lt20"
   ]
  },
  {
   "cell_type": "markdown",
   "metadata": {},
   "source": [
    "... or we can ask `python` *where* a value appears in a list:"
   ]
  },
  {
   "cell_type": "code",
   "execution_count": 34,
   "metadata": {},
   "outputs": [
    {
     "data": {
      "text/plain": [
       "4"
      ]
     },
     "execution_count": 34,
     "metadata": {},
     "output_type": "execute_result"
    }
   ],
   "source": [
    "primes_lt20.index(13)"
   ]
  },
  {
   "cell_type": "markdown",
   "metadata": {},
   "source": [
    "Here is a structure that I use all the time (and you will after our next lesson).  Let's say that I have a list of random numbers, I may not know how many, and want to loop over these numbers and square them.  Please try to understand each of the lines below. "
   ]
  },
  {
   "cell_type": "code",
   "execution_count": 35,
   "metadata": {},
   "outputs": [
    {
     "name": "stdout",
     "output_type": "stream",
     "text": [
      "We have 80 elements in our list.\n",
      "\n",
      "0 \t 0.5345655160525796 \t 0.2857602909525608\n",
      "1 \t 0.07556522636077012 \t 0.005710103434954428\n",
      "2 \t 0.902666797884611 \t 0.8148073480032572\n",
      "3 \t 0.1332782340416765 \t 0.017763087669267895\n",
      "4 \t 0.7743431713011794 \t 0.5996073469407676\n",
      "5 \t 0.6356126480686681 \t 0.4040034383848646\n",
      "6 \t 0.21198575043977919 \t 0.04493795838951634\n",
      "7 \t 0.20193401593948324 \t 0.040777346793447466\n",
      "8 \t 0.20048140442409246 \t 0.040192793519856516\n",
      "9 \t 0.9627031620606569 \t 0.9267973782415874\n",
      "10 \t 0.39418398195193893 \t 0.15538101162748652\n",
      "11 \t 0.9876734440063032 \t 0.9754988319952721\n",
      "12 \t 0.9053881285875882 \t 0.8197276633873352\n",
      "13 \t 0.5379347483732667 \t 0.28937379350740977\n",
      "14 \t 0.3248673564312936 \t 0.10553879927465716\n",
      "15 \t 0.8875532699551504 \t 0.7877508070080801\n",
      "16 \t 0.006676050312178328 \t 4.456964777073635e-05\n",
      "17 \t 0.21527493174208034 \t 0.04634329623655735\n",
      "18 \t 0.34620434860282356 \t 0.11985745099150538\n",
      "19 \t 0.3539857360249934 \t 0.1253059013091563\n",
      "20 \t 0.07112595187424231 \t 0.005058901030017033\n",
      "21 \t 0.4159450495402439 \t 0.17301028423703596\n",
      "22 \t 0.12913906761379323 \t 0.01667689878415986\n",
      "23 \t 0.5284541108963456 \t 0.27926374732324716\n",
      "24 \t 0.10615934937234717 \t 0.011269807459160067\n",
      "25 \t 0.9803002734160372 \t 0.9609886260595573\n",
      "26 \t 0.755171568732853 \t 0.5702840982224381\n",
      "27 \t 0.461136912391105 \t 0.21264725196960163\n",
      "28 \t 0.3280722348893401 \t 0.10763139130528636\n",
      "29 \t 0.27736609130201373 \t 0.07693194860415702\n",
      "30 \t 0.5487672005197692 \t 0.30114544036630464\n",
      "31 \t 0.5987538554688786 \t 0.3585061794388468\n",
      "32 \t 0.5770746335393863 \t 0.33301513267461696\n",
      "33 \t 0.31844206261925 \t 0.10140534724520235\n",
      "34 \t 0.4187555208009962 \t 0.17535618620131357\n",
      "35 \t 0.21250090395000387 \t 0.04515663417956877\n",
      "36 \t 0.5416929621173742 \t 0.29343126520749496\n",
      "37 \t 0.20954444578896037 \t 0.043908874761002546\n",
      "38 \t 0.5974681662076637 \t 0.3569682096315485\n",
      "39 \t 0.12439818400752978 \t 0.015474908184371238\n",
      "40 \t 0.035553677058883904 \t 0.0012640639524074077\n",
      "41 \t 0.7450173247880512 \t 0.5550508142343445\n",
      "42 \t 0.7370566158283038 \t 0.5432524549362718\n",
      "43 \t 0.09880514229043091 \t 0.009762456143032299\n",
      "44 \t 0.4774563662693925 \t 0.22796458169117226\n",
      "45 \t 0.9914807438285792 \t 0.9830340653828727\n",
      "46 \t 0.025738019351788433 \t 0.0006624456401530358\n",
      "47 \t 0.2277331911756476 \t 0.05186240636304406\n",
      "48 \t 0.6174319295498554 \t 0.3812221876276576\n",
      "49 \t 0.34310596682513306 \t 0.11772170447100931\n",
      "50 \t 0.34793827686701495 \t 0.12106104450918755\n",
      "51 \t 0.5284822935881089 \t 0.2792935346361482\n",
      "52 \t 0.9136979335940956 \t 0.8348439138541203\n",
      "53 \t 0.20325066397953195 \t 0.041310832408120605\n",
      "54 \t 0.44660161275392185 \t 0.19945300051440398\n",
      "55 \t 0.7241826330920484 \t 0.5244404860721325\n",
      "56 \t 0.9857063609047116 \t 0.9716170299280097\n",
      "57 \t 0.8924847601539808 \t 0.7965290471071087\n",
      "58 \t 0.1408443609955352 \t 0.01983713402424064\n",
      "59 \t 0.5652770976280804 \t 0.3195381971028264\n",
      "60 \t 0.12539789349303898 \t 0.01572463169249155\n",
      "61 \t 0.5588141198004007 \t 0.31227322048829664\n",
      "62 \t 0.45473380931291085 \t 0.20678283733223077\n",
      "63 \t 0.434123930404104 \t 0.18846358694950735\n",
      "64 \t 0.13867024182121668 \t 0.01922943596675471\n",
      "65 \t 0.2674525335157859 \t 0.07153085768401259\n",
      "66 \t 0.6920857358908572 \t 0.47898266582358934\n",
      "67 \t 0.8036377609237023 \t 0.6458336507824617\n",
      "68 \t 0.22786220333228013 \t 0.05192118370744137\n",
      "69 \t 0.7499895293785525 \t 0.5624842941774626\n",
      "70 \t 0.8955941109919432 \t 0.802088811643449\n",
      "71 \t 0.8742589717207683 \t 0.7643287496342551\n",
      "72 \t 0.5547753391405633 \t 0.30777567691852703\n",
      "73 \t 0.645620967239556 \t 0.41682643333933983\n",
      "74 \t 0.7017452735849863 \t 0.49244642899886726\n",
      "75 \t 0.9580640383893052 \t 0.9178867016548241\n",
      "76 \t 0.26434693922732355 \t 0.06987930427885429\n",
      "77 \t 0.924588898784518 \t 0.8548646317555677\n",
      "78 \t 0.7807531353968652 \t 0.6095754584320358\n",
      "79 \t 0.32615870884343023 \t 0.1063795033544135\n"
     ]
    }
   ],
   "source": [
    "# let's first create the list\n",
    "list1 = []    \n",
    "for i in range(rand.randint(1,100)):\n",
    "    list1.append(rand.random())\n",
    "\n",
    "print(\"We have \" + str(len(list1)) + \" elements in our list.\\n\")\n",
    "\n",
    "# then we'll do a for loop\n",
    "for i in range(len(list1)): \n",
    "    num = list1[i]\n",
    "    print(i, '\\t', list1[i], '\\t', (list1[i])**2)"
   ]
  },
  {
   "cell_type": "markdown",
   "metadata": {},
   "source": [
    "The block above makes a list containing a random number of random numbers, and then \"runs over\" the elements in this list and applies the function squarep1 to each.\n",
    "\n",
    "For my last list trick, I'll show you that python knows how to do some simple operations with lists.  In some cases, the outcomes are obvious.  In other situations, python's interpretation of the syntax may be surprising:"
   ]
  },
  {
   "cell_type": "code",
   "execution_count": 36,
   "metadata": {},
   "outputs": [
    {
     "data": {
      "text/plain": [
       "[1, 6, 3, 7, 9, 2, 4, 6, 7, 7, 8, 9, 0]"
      ]
     },
     "execution_count": 36,
     "metadata": {},
     "output_type": "execute_result"
    }
   ],
   "source": [
    "aL = [1, 6, 3, 7, 9, 2, 4, 6, 7]\n",
    "bL = [7, 8, 9, 0]\n",
    "\n",
    "aL + bL"
   ]
  },
  {
   "cell_type": "code",
   "execution_count": 37,
   "metadata": {},
   "outputs": [
    {
     "name": "stdout",
     "output_type": "stream",
     "text": [
      "[1, 2, 3, 4, 6, 6, 7, 7, 9]\n"
     ]
    }
   ],
   "source": [
    "aL.sort()\n",
    "print(aL)"
   ]
  },
  {
   "cell_type": "markdown",
   "metadata": {},
   "source": [
    "It's also worth noting that `python` is perfectly happy with lists that contain different types of data.  For example, some programming languages would freak out about the following:"
   ]
  },
  {
   "cell_type": "code",
   "execution_count": 38,
   "metadata": {},
   "outputs": [
    {
     "name": "stdout",
     "output_type": "stream",
     "text": [
      "[1, 2, 4.5, -6.2, 'a phrase', 99, 'hey, another phrase']\n"
     ]
    }
   ],
   "source": [
    "mixed_list = [1, 2, 4.5, -6.2, 'a phrase', 99, \"hey, another phrase\"]\n",
    "print(mixed_list)"
   ]
  },
  {
   "cell_type": "markdown",
   "metadata": {},
   "source": [
    "* * *\n",
    "\n",
    "### Dictionaries\n",
    "\n",
    "Lists are ordered collections of data -- \"ordered\" means that the order of the elements is an important feature of the structure, and indexing these elements with an integer makes sense.  `python` also has a way of storing data for which ordering isn't that important (but still exists).  A **dictionary** is like a list, but the elements are indexed by strings.  In a `dict`, each **value** is associated with a **key**.  This might sound crazy, but works quite a bit like a simple 2-column data table.  Dictionaries are initialized in the following way:"
   ]
  },
  {
   "cell_type": "code",
   "execution_count": 39,
   "metadata": {},
   "outputs": [
    {
     "name": "stdout",
     "output_type": "stream",
     "text": [
      "<class 'dict'>\n"
     ]
    }
   ],
   "source": [
    "students_year = {'Abdoul': 2, 'Aiden': 2, 'Aimee': 2, 'Gannon': 2, \n",
    "                 'Gaurav': 2, 'Gia': 2, 'Maddy': 1, 'Alex': 4}\n",
    "\n",
    "print(type(students_year))"
   ]
  },
  {
   "cell_type": "markdown",
   "metadata": {},
   "source": [
    "We can access the elements in the dictionary in the same way as for a list, but now the \"indices\" are the key strings:"
   ]
  },
  {
   "cell_type": "code",
   "execution_count": 40,
   "metadata": {},
   "outputs": [
    {
     "data": {
      "text/plain": [
       "2"
      ]
     },
     "execution_count": 40,
     "metadata": {},
     "output_type": "execute_result"
    }
   ],
   "source": [
    "students_year['Abdoul']"
   ]
  },
  {
   "cell_type": "markdown",
   "metadata": {},
   "source": [
    "Note that there are **two** pieces of important information for each element in a dictionary: the key and the value.  Because order is less imporant for a dictionary, there are several ways of looping over the elements in it.  Check out these two implementations:"
   ]
  },
  {
   "cell_type": "code",
   "execution_count": 41,
   "metadata": {},
   "outputs": [
    {
     "name": "stdout",
     "output_type": "stream",
     "text": [
      "Abdoul is my favorite student in year 2 !\n",
      "Aiden is my favorite student in year 2 !\n",
      "Aimee is my favorite student in year 2 !\n",
      "Gannon is my favorite student in year 2 !\n",
      "Gaurav is my favorite student in year 2 !\n",
      "Gia is my favorite student in year 2 !\n",
      "Maddy is my favorite student in year 1 !\n",
      "Alex is my favorite student in year 4 !\n"
     ]
    }
   ],
   "source": [
    "# for k in students_year.keys():\n",
    "#     print(k)\n",
    "\n",
    "# for v in students_year.values():\n",
    "#     print(v)\n",
    "    \n",
    "for key, value in students_year.items():\n",
    "    print(key, 'is my favorite student in year', value, '!')"
   ]
  },
  {
   "cell_type": "markdown",
   "metadata": {},
   "source": [
    "Note that even though ordering is not important in a dictionary, there seems to be an assumed order, *viz.* the order in which we initialized it.  There are various other fancy ways to iterate over the dictionary.  Some of these impose an index on the dictionary.  Here's an example:"
   ]
  },
  {
   "cell_type": "code",
   "execution_count": 42,
   "metadata": {},
   "outputs": [
    {
     "name": "stdout",
     "output_type": "stream",
     "text": [
      "0 Abdoul 2\n",
      "1 Aiden 2\n",
      "2 Aimee 2\n",
      "3 Gannon 2\n",
      "4 Gaurav 2\n",
      "5 Gia 2\n",
      "6 Maddy 1\n",
      "7 Alex 4\n"
     ]
    }
   ],
   "source": [
    "for i, (k, v) in enumerate(students_year.items()):\n",
    "    print(i, k, v)"
   ]
  },
  {
   "cell_type": "markdown",
   "metadata": {},
   "source": [
    "* * *\n",
    "\n",
    "### Spyder\n",
    "\n",
    "Your instructor will introduce you to Spyder, a Python interactive development environment (IDE) that ships with Anaconda.  From now on, you may work in Spyder (or similar) and submit your homework as separte python scripts."
   ]
  },
  {
   "cell_type": "markdown",
   "metadata": {},
   "source": [
    "* * *\n",
    "## Problems\n",
    "\n",
    "Your homework is to complete 4 of the following problems.  \n",
    "\n",
    "### Regulars\n",
    "\n",
    "#### Problem 2.0\n",
    "A function which determines whether a number is prime is given below.  Use this function to generate a list of the first 1000 prime numbers.  Check that you have 1000 using the `len()` function.\n",
    "\n",
    "```\n",
    "def is_prime(n):\n",
    "    fact = 2\n",
    "    prime = True\n",
    "    while fact <= n**(0.5):\n",
    "        if n % fact == 0:\n",
    "            prime = False\n",
    "        fact = fact + 1\n",
    "    return prime\n",
    "```\n",
    "\n",
    "#### Problem 2.1\n",
    "A bag of M\\&M's contains only 88 reds and 12 browns.  Weird!  Simulate a process in which you pull 5 M\\&M's out of the bag and count the number of browns.  Perform this simulation 1000 times and compute count the number of times that you pulled 2 or more browns.\n",
    "\n",
    "#### Problem 2.2\n",
    "Write a program that generates a list of 100 random integers between 0 and 100 (inclusive), and then finds the number of pairs in the list that add to 66.\n",
    "\n",
    "#### Problem 2.3\n",
    "SORT!  Write a program that generates a list of 100 random integers between 0 and 100 (inclusive), and then sorts the list in descending order.\n",
    "\n",
    "### Meanies\n",
    "\n",
    "#### Problem 2.4 \n",
    "SORT!  Write a program that generates a list of 10000 random integers between 0 and 100 (inclusive), and then sorts the list in descending order.  Use Google to find a way to track how long your program takes to run.  A bonus point will be awarded to the fastest sort algorithm in the class.\n",
    "\n",
    "#### Problem 2.5 \n",
    "Do problem 1 from above, but modify the program to generate a list of the first 10000 prime numbers.  Then write a program that checks the list to see if there are any pairs of numbers that add up to another number in the list. \n",
    "\n",
    "#### Problem 2.6 \n",
    "Write a program that generates a list of 100 random integers between 0 and 10^6 (inclusive), and then finds the largest number in the list.  Your program should NOT use any built-in methods/functions like `max`.\n",
    "\n",
    "### Mega-meanies\n",
    "\n",
    "#### Problem 2.7 \n",
    "A bag of M\\&M's contains a total of 100 pieces, $n$ of which are red and $(100-n)$ of which are brown.  Let's say that you randomly draw 8 M\\&M's from the bag, yielding 2 red and 6 brown.  You want to use this sampling to predict the total number of browns in the bag. Obviously this one sample doesn't tell you exactly what's in the bag, but it can help you to update your *expectations* of what's in the bag.  For example, you now know that there's a 0\\% probability that the bag contains only 3 brown M\\&M's!  So, here's what you're going to do:\n",
    "- Choose a value for $n$ between 6 and 98.  Perform a simulation of 1000 draws of 8 M\\&M's from the bag.  Calculate the percentage of these draws that yields 4 browns and 4 reds.  Call this percentage $p(n)$.\n",
    "- Now calculate $p(n)$ for **each** value of $n$ between 6 and 98.\n",
    "- The owner of the M\\&M's opens the bag and counts the actual $n$ without showing you the results.  The owner offers to pay you \\$100 if you can correctly guess the *actual* $n$.  You get 10 guesses.  Which values do you guess?\n",
    "\n"
   ]
  }
 ],
 "metadata": {
  "kernelspec": {
   "display_name": "Python 3 (ipykernel)",
   "language": "python",
   "name": "python3"
  },
  "language_info": {
   "codemirror_mode": {
    "name": "ipython",
    "version": 3
   },
   "file_extension": ".py",
   "mimetype": "text/x-python",
   "name": "python",
   "nbconvert_exporter": "python",
   "pygments_lexer": "ipython3",
   "version": "3.8.8"
  }
 },
 "nbformat": 4,
 "nbformat_minor": 4
}
